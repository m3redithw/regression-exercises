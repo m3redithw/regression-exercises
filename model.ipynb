{
 "cells": [
  {
   "cell_type": "code",
   "execution_count": 1,
   "id": "235377f1",
   "metadata": {},
   "outputs": [],
   "source": [
    "# Ignore warnings\n",
    "import warnings\n",
    "warnings.filterwarnings(\"ignore\")\n",
    "\n",
    "import numpy as np\n",
    "import pandas as pd\n",
    "\n",
    "import matplotlib.pyplot as plt\n",
    "from sklearn.feature_selection import RFE\n",
    "from sklearn.metrics import mean_squared_error\n",
    "from sklearn.preprocessing import MinMaxScaler\n",
    "from sklearn.model_selection import train_test_split\n",
    "import sklearn.preprocessing\n",
    "import acquire\n",
    "import prepare"
   ]
  },
  {
   "cell_type": "code",
   "execution_count": 2,
   "id": "eeeecd21",
   "metadata": {},
   "outputs": [],
   "source": [
    "pd.options.display.float_format = '{:,.2f}'.format"
   ]
  },
  {
   "cell_type": "code",
   "execution_count": 3,
   "id": "cfa095e3",
   "metadata": {},
   "outputs": [],
   "source": [
    "rawdf = acquire.get_zillow_data()"
   ]
  },
  {
   "cell_type": "code",
   "execution_count": 4,
   "id": "50b8848e",
   "metadata": {},
   "outputs": [
    {
     "data": {
      "text/plain": [
       "(52441, 11)"
      ]
     },
     "execution_count": 4,
     "metadata": {},
     "output_type": "execute_result"
    }
   ],
   "source": [
    "rawdf.shape"
   ]
  },
  {
   "cell_type": "code",
   "execution_count": 5,
   "id": "adfd03a1",
   "metadata": {},
   "outputs": [
    {
     "data": {
      "text/html": [
       "<div>\n",
       "<style scoped>\n",
       "    .dataframe tbody tr th:only-of-type {\n",
       "        vertical-align: middle;\n",
       "    }\n",
       "\n",
       "    .dataframe tbody tr th {\n",
       "        vertical-align: top;\n",
       "    }\n",
       "\n",
       "    .dataframe thead th {\n",
       "        text-align: right;\n",
       "    }\n",
       "</style>\n",
       "<table border=\"1\" class=\"dataframe\">\n",
       "  <thead>\n",
       "    <tr style=\"text-align: right;\">\n",
       "      <th></th>\n",
       "      <th>longitude</th>\n",
       "      <th>latitude</th>\n",
       "      <th>bedrooms</th>\n",
       "      <th>bathrooms</th>\n",
       "      <th>square_feet</th>\n",
       "      <th>lot_size</th>\n",
       "      <th>has_pool</th>\n",
       "      <th>fips_code</th>\n",
       "      <th>age</th>\n",
       "      <th>assessed_value</th>\n",
       "      <th>tax_amount</th>\n",
       "    </tr>\n",
       "  </thead>\n",
       "  <tbody>\n",
       "    <tr>\n",
       "      <th>0</th>\n",
       "      <td>-118,740133</td>\n",
       "      <td>34,251502</td>\n",
       "      <td>4.00</td>\n",
       "      <td>2.00</td>\n",
       "      <td>1,323.00</td>\n",
       "      <td>6,825.00</td>\n",
       "      <td>NaN</td>\n",
       "      <td>06111</td>\n",
       "      <td>53.00</td>\n",
       "      <td>453,000.00</td>\n",
       "      <td>5,235.32</td>\n",
       "    </tr>\n",
       "    <tr>\n",
       "      <th>1</th>\n",
       "      <td>-118,217048</td>\n",
       "      <td>33,798657</td>\n",
       "      <td>4.00</td>\n",
       "      <td>2.00</td>\n",
       "      <td>1,339.00</td>\n",
       "      <td>6,107.00</td>\n",
       "      <td>NaN</td>\n",
       "      <td>06037</td>\n",
       "      <td>40.00</td>\n",
       "      <td>298,371.00</td>\n",
       "      <td>3,714.58</td>\n",
       "    </tr>\n",
       "    <tr>\n",
       "      <th>2</th>\n",
       "      <td>-118,531253</td>\n",
       "      <td>34,039467</td>\n",
       "      <td>2.00</td>\n",
       "      <td>2.00</td>\n",
       "      <td>1,231.00</td>\n",
       "      <td>11,837.00</td>\n",
       "      <td>NaN</td>\n",
       "      <td>06037</td>\n",
       "      <td>67.00</td>\n",
       "      <td>161,897.00</td>\n",
       "      <td>2,031.39</td>\n",
       "    </tr>\n",
       "    <tr>\n",
       "      <th>3</th>\n",
       "      <td>-117,613897</td>\n",
       "      <td>33,663005</td>\n",
       "      <td>5.00</td>\n",
       "      <td>3.00</td>\n",
       "      <td>3,008.00</td>\n",
       "      <td>6,760.00</td>\n",
       "      <td>1.00</td>\n",
       "      <td>06059</td>\n",
       "      <td>22.00</td>\n",
       "      <td>472,384.00</td>\n",
       "      <td>7,234.74</td>\n",
       "    </tr>\n",
       "    <tr>\n",
       "      <th>4</th>\n",
       "      <td>-118,393309</td>\n",
       "      <td>34,227422</td>\n",
       "      <td>2.00</td>\n",
       "      <td>1.00</td>\n",
       "      <td>996.00</td>\n",
       "      <td>7,518.00</td>\n",
       "      <td>NaN</td>\n",
       "      <td>06037</td>\n",
       "      <td>77.00</td>\n",
       "      <td>58,693.00</td>\n",
       "      <td>751.66</td>\n",
       "    </tr>\n",
       "  </tbody>\n",
       "</table>\n",
       "</div>"
      ],
      "text/plain": [
       "     longitude   latitude  bedrooms  bathrooms  square_feet  lot_size  \\\n",
       "0  -118,740133  34,251502      4.00       2.00     1,323.00  6,825.00   \n",
       "1  -118,217048  33,798657      4.00       2.00     1,339.00  6,107.00   \n",
       "2  -118,531253  34,039467      2.00       2.00     1,231.00 11,837.00   \n",
       "3  -117,613897  33,663005      5.00       3.00     3,008.00  6,760.00   \n",
       "4  -118,393309  34,227422      2.00       1.00       996.00  7,518.00   \n",
       "\n",
       "   has_pool fips_code   age  assessed_value  tax_amount  \n",
       "0       NaN     06111 53.00      453,000.00    5,235.32  \n",
       "1       NaN     06037 40.00      298,371.00    3,714.58  \n",
       "2       NaN     06037 67.00      161,897.00    2,031.39  \n",
       "3      1.00     06059 22.00      472,384.00    7,234.74  \n",
       "4       NaN     06037 77.00       58,693.00      751.66  "
      ]
     },
     "execution_count": 5,
     "metadata": {},
     "output_type": "execute_result"
    }
   ],
   "source": [
    "rawdf.head()"
   ]
  },
  {
   "cell_type": "code",
   "execution_count": 6,
   "id": "881dc10c",
   "metadata": {},
   "outputs": [],
   "source": [
    "df = prepare.prep_zillow(rawdf)"
   ]
  },
  {
   "cell_type": "code",
   "execution_count": 7,
   "id": "725b6880",
   "metadata": {},
   "outputs": [
    {
     "data": {
      "text/plain": [
       "(45603, 23)"
      ]
     },
     "execution_count": 7,
     "metadata": {},
     "output_type": "execute_result"
    }
   ],
   "source": [
    "df.shape"
   ]
  },
  {
   "cell_type": "code",
   "execution_count": 8,
   "id": "8e581531",
   "metadata": {},
   "outputs": [
    {
     "data": {
      "text/html": [
       "<div>\n",
       "<style scoped>\n",
       "    .dataframe tbody tr th:only-of-type {\n",
       "        vertical-align: middle;\n",
       "    }\n",
       "\n",
       "    .dataframe tbody tr th {\n",
       "        vertical-align: top;\n",
       "    }\n",
       "\n",
       "    .dataframe thead th {\n",
       "        text-align: right;\n",
       "    }\n",
       "</style>\n",
       "<table border=\"1\" class=\"dataframe\">\n",
       "  <thead>\n",
       "    <tr style=\"text-align: right;\">\n",
       "      <th></th>\n",
       "      <th>longitude</th>\n",
       "      <th>latitude</th>\n",
       "      <th>bedrooms</th>\n",
       "      <th>bathrooms</th>\n",
       "      <th>square_feet</th>\n",
       "      <th>lot_size</th>\n",
       "      <th>has_pool</th>\n",
       "      <th>fips_code</th>\n",
       "      <th>age</th>\n",
       "      <th>assessed_value</th>\n",
       "      <th>...</th>\n",
       "      <th>bathrooms_size</th>\n",
       "      <th>county_Los Angeles</th>\n",
       "      <th>county_Orange</th>\n",
       "      <th>county_Ventura</th>\n",
       "      <th>bedrooms_size_small</th>\n",
       "      <th>bedrooms_size_medium</th>\n",
       "      <th>bedrooms_size_large</th>\n",
       "      <th>bathrooms_size_small</th>\n",
       "      <th>bathrooms_size_medium</th>\n",
       "      <th>bathrooms_size_large</th>\n",
       "    </tr>\n",
       "  </thead>\n",
       "  <tbody>\n",
       "    <tr>\n",
       "      <th>0</th>\n",
       "      <td>-118,740133</td>\n",
       "      <td>34,251502</td>\n",
       "      <td>4.00</td>\n",
       "      <td>2.00</td>\n",
       "      <td>1,323.00</td>\n",
       "      <td>6,825.00</td>\n",
       "      <td>0.00</td>\n",
       "      <td>06111</td>\n",
       "      <td>53</td>\n",
       "      <td>453,000.00</td>\n",
       "      <td>...</td>\n",
       "      <td>small</td>\n",
       "      <td>0</td>\n",
       "      <td>0</td>\n",
       "      <td>1</td>\n",
       "      <td>0</td>\n",
       "      <td>1</td>\n",
       "      <td>0</td>\n",
       "      <td>1</td>\n",
       "      <td>0</td>\n",
       "      <td>0</td>\n",
       "    </tr>\n",
       "    <tr>\n",
       "      <th>1</th>\n",
       "      <td>-118,217048</td>\n",
       "      <td>33,798657</td>\n",
       "      <td>4.00</td>\n",
       "      <td>2.00</td>\n",
       "      <td>1,339.00</td>\n",
       "      <td>6,107.00</td>\n",
       "      <td>0.00</td>\n",
       "      <td>06037</td>\n",
       "      <td>40</td>\n",
       "      <td>298,371.00</td>\n",
       "      <td>...</td>\n",
       "      <td>small</td>\n",
       "      <td>1</td>\n",
       "      <td>0</td>\n",
       "      <td>0</td>\n",
       "      <td>0</td>\n",
       "      <td>1</td>\n",
       "      <td>0</td>\n",
       "      <td>1</td>\n",
       "      <td>0</td>\n",
       "      <td>0</td>\n",
       "    </tr>\n",
       "    <tr>\n",
       "      <th>2</th>\n",
       "      <td>-118,531253</td>\n",
       "      <td>34,039467</td>\n",
       "      <td>2.00</td>\n",
       "      <td>2.00</td>\n",
       "      <td>1,231.00</td>\n",
       "      <td>11,837.00</td>\n",
       "      <td>0.00</td>\n",
       "      <td>06037</td>\n",
       "      <td>67</td>\n",
       "      <td>161,897.00</td>\n",
       "      <td>...</td>\n",
       "      <td>small</td>\n",
       "      <td>1</td>\n",
       "      <td>0</td>\n",
       "      <td>0</td>\n",
       "      <td>1</td>\n",
       "      <td>0</td>\n",
       "      <td>0</td>\n",
       "      <td>1</td>\n",
       "      <td>0</td>\n",
       "      <td>0</td>\n",
       "    </tr>\n",
       "    <tr>\n",
       "      <th>3</th>\n",
       "      <td>-117,613897</td>\n",
       "      <td>33,663005</td>\n",
       "      <td>5.00</td>\n",
       "      <td>3.00</td>\n",
       "      <td>3,008.00</td>\n",
       "      <td>6,760.00</td>\n",
       "      <td>1.00</td>\n",
       "      <td>06059</td>\n",
       "      <td>22</td>\n",
       "      <td>472,384.00</td>\n",
       "      <td>...</td>\n",
       "      <td>medium</td>\n",
       "      <td>0</td>\n",
       "      <td>1</td>\n",
       "      <td>0</td>\n",
       "      <td>0</td>\n",
       "      <td>0</td>\n",
       "      <td>1</td>\n",
       "      <td>0</td>\n",
       "      <td>1</td>\n",
       "      <td>0</td>\n",
       "    </tr>\n",
       "    <tr>\n",
       "      <th>4</th>\n",
       "      <td>-118,393309</td>\n",
       "      <td>34,227422</td>\n",
       "      <td>2.00</td>\n",
       "      <td>1.00</td>\n",
       "      <td>996.00</td>\n",
       "      <td>7,518.00</td>\n",
       "      <td>0.00</td>\n",
       "      <td>06037</td>\n",
       "      <td>77</td>\n",
       "      <td>58,693.00</td>\n",
       "      <td>...</td>\n",
       "      <td>small</td>\n",
       "      <td>1</td>\n",
       "      <td>0</td>\n",
       "      <td>0</td>\n",
       "      <td>1</td>\n",
       "      <td>0</td>\n",
       "      <td>0</td>\n",
       "      <td>1</td>\n",
       "      <td>0</td>\n",
       "      <td>0</td>\n",
       "    </tr>\n",
       "  </tbody>\n",
       "</table>\n",
       "<p>5 rows × 23 columns</p>\n",
       "</div>"
      ],
      "text/plain": [
       "     longitude   latitude  bedrooms  bathrooms  square_feet  lot_size  \\\n",
       "0  -118,740133  34,251502      4.00       2.00     1,323.00  6,825.00   \n",
       "1  -118,217048  33,798657      4.00       2.00     1,339.00  6,107.00   \n",
       "2  -118,531253  34,039467      2.00       2.00     1,231.00 11,837.00   \n",
       "3  -117,613897  33,663005      5.00       3.00     3,008.00  6,760.00   \n",
       "4  -118,393309  34,227422      2.00       1.00       996.00  7,518.00   \n",
       "\n",
       "   has_pool fips_code  age  assessed_value  ...  bathrooms_size  \\\n",
       "0      0.00     06111   53      453,000.00  ...           small   \n",
       "1      0.00     06037   40      298,371.00  ...           small   \n",
       "2      0.00     06037   67      161,897.00  ...           small   \n",
       "3      1.00     06059   22      472,384.00  ...          medium   \n",
       "4      0.00     06037   77       58,693.00  ...           small   \n",
       "\n",
       "  county_Los Angeles county_Orange county_Ventura  bedrooms_size_small  \\\n",
       "0                  0             0              1                    0   \n",
       "1                  1             0              0                    0   \n",
       "2                  1             0              0                    1   \n",
       "3                  0             1              0                    0   \n",
       "4                  1             0              0                    1   \n",
       "\n",
       "   bedrooms_size_medium  bedrooms_size_large  bathrooms_size_small  \\\n",
       "0                     1                    0                     1   \n",
       "1                     1                    0                     1   \n",
       "2                     0                    0                     1   \n",
       "3                     0                    1                     0   \n",
       "4                     0                    0                     1   \n",
       "\n",
       "   bathrooms_size_medium  bathrooms_size_large  \n",
       "0                      0                     0  \n",
       "1                      0                     0  \n",
       "2                      0                     0  \n",
       "3                      1                     0  \n",
       "4                      0                     0  \n",
       "\n",
       "[5 rows x 23 columns]"
      ]
     },
     "execution_count": 8,
     "metadata": {},
     "output_type": "execute_result"
    }
   ],
   "source": [
    "df.head()"
   ]
  },
  {
   "cell_type": "markdown",
   "id": "ab5d5c83",
   "metadata": {},
   "source": [
    "## Simple Model\n",
    "$$ y = mx + b $$\n",
    "\n",
    "$$y = f(x)$$"
   ]
  },
  {
   "cell_type": "markdown",
   "id": "b6630acf",
   "metadata": {},
   "source": [
    "Tested out all scalers, and MinMaxScaler performs the best"
   ]
  },
  {
   "cell_type": "code",
   "execution_count": 9,
   "id": "3bfab78e",
   "metadata": {},
   "outputs": [],
   "source": [
    "scaled_df = df.copy()"
   ]
  },
  {
   "cell_type": "code",
   "execution_count": 10,
   "id": "e30dc33d",
   "metadata": {},
   "outputs": [],
   "source": [
    "scaler = MinMaxScaler()"
   ]
  },
  {
   "cell_type": "code",
   "execution_count": 9,
   "id": "239d61f2",
   "metadata": {},
   "outputs": [],
   "source": [
    "# scaler = sklearn.preprocessing.RobustScaler()"
   ]
  },
  {
   "cell_type": "code",
   "execution_count": 9,
   "id": "5f6c86ac",
   "metadata": {},
   "outputs": [],
   "source": [
    "# # Quantile scaler\n",
    "# qt = sklearn.preprocessing.QuantileTransformer(n_quantiles=10, output_distribution='normal', random_state=0)"
   ]
  },
  {
   "cell_type": "code",
   "execution_count": 10,
   "id": "767c8e48",
   "metadata": {},
   "outputs": [
    {
     "data": {
      "text/plain": [
       "QuantileTransformer(n_quantiles=10, output_distribution='normal',\n",
       "                    random_state=0)"
      ]
     },
     "execution_count": 10,
     "metadata": {},
     "output_type": "execute_result"
    }
   ],
   "source": [
    "# qt.fit(scaled_df[['square_feet', 'lot_size', 'age', 'bedrooms', 'bathrooms']])"
   ]
  },
  {
   "cell_type": "code",
   "execution_count": 11,
   "id": "78d94f7e",
   "metadata": {},
   "outputs": [],
   "source": [
    "# scaled_df[['square_feet', 'lot_size', 'age', 'bedrooms', 'bathrooms']] = qt.transform(scaled_df[['square_feet', 'lot_size', 'age', 'bedrooms', 'bathrooms']])"
   ]
  },
  {
   "cell_type": "code",
   "execution_count": 11,
   "id": "289f7046",
   "metadata": {},
   "outputs": [
    {
     "data": {
      "text/plain": [
       "MinMaxScaler()"
      ]
     },
     "execution_count": 11,
     "metadata": {},
     "output_type": "execute_result"
    }
   ],
   "source": [
    "scaler.fit(scaled_df[['square_feet', 'lot_size', 'age', 'bedrooms', 'bathrooms']])"
   ]
  },
  {
   "cell_type": "code",
   "execution_count": 12,
   "id": "44ae37ee",
   "metadata": {},
   "outputs": [],
   "source": [
    "scaled_df[['square_feet', 'lot_size', 'age', 'bedrooms', 'bathrooms']] = scaler.transform(scaled_df[['square_feet', 'lot_size', 'age', 'bedrooms', 'bathrooms']])"
   ]
  },
  {
   "cell_type": "code",
   "execution_count": 13,
   "id": "57310f5a",
   "metadata": {},
   "outputs": [
    {
     "data": {
      "text/html": [
       "<div>\n",
       "<style scoped>\n",
       "    .dataframe tbody tr th:only-of-type {\n",
       "        vertical-align: middle;\n",
       "    }\n",
       "\n",
       "    .dataframe tbody tr th {\n",
       "        vertical-align: top;\n",
       "    }\n",
       "\n",
       "    .dataframe thead th {\n",
       "        text-align: right;\n",
       "    }\n",
       "</style>\n",
       "<table border=\"1\" class=\"dataframe\">\n",
       "  <thead>\n",
       "    <tr style=\"text-align: right;\">\n",
       "      <th></th>\n",
       "      <th>longitude</th>\n",
       "      <th>latitude</th>\n",
       "      <th>bedrooms</th>\n",
       "      <th>bathrooms</th>\n",
       "      <th>square_feet</th>\n",
       "      <th>lot_size</th>\n",
       "      <th>has_pool</th>\n",
       "      <th>fips_code</th>\n",
       "      <th>age</th>\n",
       "      <th>assessed_value</th>\n",
       "      <th>...</th>\n",
       "      <th>bathrooms_size</th>\n",
       "      <th>county_Los Angeles</th>\n",
       "      <th>county_Orange</th>\n",
       "      <th>county_Ventura</th>\n",
       "      <th>bedrooms_size_small</th>\n",
       "      <th>bedrooms_size_medium</th>\n",
       "      <th>bedrooms_size_large</th>\n",
       "      <th>bathrooms_size_small</th>\n",
       "      <th>bathrooms_size_medium</th>\n",
       "      <th>bathrooms_size_large</th>\n",
       "    </tr>\n",
       "  </thead>\n",
       "  <tbody>\n",
       "    <tr>\n",
       "      <th>0</th>\n",
       "      <td>-118,740133</td>\n",
       "      <td>34,251502</td>\n",
       "      <td>0.60</td>\n",
       "      <td>0.18</td>\n",
       "      <td>0.13</td>\n",
       "      <td>0.06</td>\n",
       "      <td>0.00</td>\n",
       "      <td>06111</td>\n",
       "      <td>0.38</td>\n",
       "      <td>453,000.00</td>\n",
       "      <td>...</td>\n",
       "      <td>small</td>\n",
       "      <td>0</td>\n",
       "      <td>0</td>\n",
       "      <td>1</td>\n",
       "      <td>0</td>\n",
       "      <td>1</td>\n",
       "      <td>0</td>\n",
       "      <td>1</td>\n",
       "      <td>0</td>\n",
       "      <td>0</td>\n",
       "    </tr>\n",
       "    <tr>\n",
       "      <th>1</th>\n",
       "      <td>-118,217048</td>\n",
       "      <td>33,798657</td>\n",
       "      <td>0.60</td>\n",
       "      <td>0.18</td>\n",
       "      <td>0.13</td>\n",
       "      <td>0.05</td>\n",
       "      <td>0.00</td>\n",
       "      <td>06037</td>\n",
       "      <td>0.28</td>\n",
       "      <td>298,371.00</td>\n",
       "      <td>...</td>\n",
       "      <td>small</td>\n",
       "      <td>1</td>\n",
       "      <td>0</td>\n",
       "      <td>0</td>\n",
       "      <td>0</td>\n",
       "      <td>1</td>\n",
       "      <td>0</td>\n",
       "      <td>1</td>\n",
       "      <td>0</td>\n",
       "      <td>0</td>\n",
       "    </tr>\n",
       "    <tr>\n",
       "      <th>2</th>\n",
       "      <td>-118,531253</td>\n",
       "      <td>34,039467</td>\n",
       "      <td>0.20</td>\n",
       "      <td>0.18</td>\n",
       "      <td>0.12</td>\n",
       "      <td>0.11</td>\n",
       "      <td>0.00</td>\n",
       "      <td>06037</td>\n",
       "      <td>0.48</td>\n",
       "      <td>161,897.00</td>\n",
       "      <td>...</td>\n",
       "      <td>small</td>\n",
       "      <td>1</td>\n",
       "      <td>0</td>\n",
       "      <td>0</td>\n",
       "      <td>1</td>\n",
       "      <td>0</td>\n",
       "      <td>0</td>\n",
       "      <td>1</td>\n",
       "      <td>0</td>\n",
       "      <td>0</td>\n",
       "    </tr>\n",
       "    <tr>\n",
       "      <th>3</th>\n",
       "      <td>-117,613897</td>\n",
       "      <td>33,663005</td>\n",
       "      <td>0.80</td>\n",
       "      <td>0.36</td>\n",
       "      <td>0.40</td>\n",
       "      <td>0.06</td>\n",
       "      <td>1.00</td>\n",
       "      <td>06059</td>\n",
       "      <td>0.15</td>\n",
       "      <td>472,384.00</td>\n",
       "      <td>...</td>\n",
       "      <td>medium</td>\n",
       "      <td>0</td>\n",
       "      <td>1</td>\n",
       "      <td>0</td>\n",
       "      <td>0</td>\n",
       "      <td>0</td>\n",
       "      <td>1</td>\n",
       "      <td>0</td>\n",
       "      <td>1</td>\n",
       "      <td>0</td>\n",
       "    </tr>\n",
       "    <tr>\n",
       "      <th>4</th>\n",
       "      <td>-118,393309</td>\n",
       "      <td>34,227422</td>\n",
       "      <td>0.20</td>\n",
       "      <td>0.00</td>\n",
       "      <td>0.08</td>\n",
       "      <td>0.07</td>\n",
       "      <td>0.00</td>\n",
       "      <td>06037</td>\n",
       "      <td>0.55</td>\n",
       "      <td>58,693.00</td>\n",
       "      <td>...</td>\n",
       "      <td>small</td>\n",
       "      <td>1</td>\n",
       "      <td>0</td>\n",
       "      <td>0</td>\n",
       "      <td>1</td>\n",
       "      <td>0</td>\n",
       "      <td>0</td>\n",
       "      <td>1</td>\n",
       "      <td>0</td>\n",
       "      <td>0</td>\n",
       "    </tr>\n",
       "  </tbody>\n",
       "</table>\n",
       "<p>5 rows × 23 columns</p>\n",
       "</div>"
      ],
      "text/plain": [
       "     longitude   latitude  bedrooms  bathrooms  square_feet  lot_size  \\\n",
       "0  -118,740133  34,251502      0.60       0.18         0.13      0.06   \n",
       "1  -118,217048  33,798657      0.60       0.18         0.13      0.05   \n",
       "2  -118,531253  34,039467      0.20       0.18         0.12      0.11   \n",
       "3  -117,613897  33,663005      0.80       0.36         0.40      0.06   \n",
       "4  -118,393309  34,227422      0.20       0.00         0.08      0.07   \n",
       "\n",
       "   has_pool fips_code  age  assessed_value  ...  bathrooms_size  \\\n",
       "0      0.00     06111 0.38      453,000.00  ...           small   \n",
       "1      0.00     06037 0.28      298,371.00  ...           small   \n",
       "2      0.00     06037 0.48      161,897.00  ...           small   \n",
       "3      1.00     06059 0.15      472,384.00  ...          medium   \n",
       "4      0.00     06037 0.55       58,693.00  ...           small   \n",
       "\n",
       "  county_Los Angeles county_Orange county_Ventura  bedrooms_size_small  \\\n",
       "0                  0             0              1                    0   \n",
       "1                  1             0              0                    0   \n",
       "2                  1             0              0                    1   \n",
       "3                  0             1              0                    0   \n",
       "4                  1             0              0                    1   \n",
       "\n",
       "   bedrooms_size_medium  bedrooms_size_large  bathrooms_size_small  \\\n",
       "0                     1                    0                     1   \n",
       "1                     1                    0                     1   \n",
       "2                     0                    0                     1   \n",
       "3                     0                    1                     0   \n",
       "4                     0                    0                     1   \n",
       "\n",
       "   bathrooms_size_medium  bathrooms_size_large  \n",
       "0                      0                     0  \n",
       "1                      0                     0  \n",
       "2                      0                     0  \n",
       "3                      1                     0  \n",
       "4                      0                     0  \n",
       "\n",
       "[5 rows x 23 columns]"
      ]
     },
     "execution_count": 13,
     "metadata": {},
     "output_type": "execute_result"
    }
   ],
   "source": [
    "scaled_df.head()"
   ]
  },
  {
   "cell_type": "code",
   "execution_count": 14,
   "id": "c6f67617",
   "metadata": {},
   "outputs": [],
   "source": [
    "s_train, s_validate, s_test = prepare.split(scaled_df)"
   ]
  },
  {
   "cell_type": "code",
   "execution_count": 15,
   "id": "a7a33664",
   "metadata": {},
   "outputs": [],
   "source": [
    "pd.set_option('display.max_columns', None)"
   ]
  },
  {
   "cell_type": "code",
   "execution_count": 16,
   "id": "bf8c0297",
   "metadata": {},
   "outputs": [],
   "source": [
    "cols = ['square_feet', 'lot_size', 'has_pool', 'age', 'county_Los Angeles', 'county_Orange', 'bedrooms', 'bathrooms']\n",
    "\n",
    "X_train = s_train[cols]\n",
    "y_train = s_train.assessed_value\n",
    "\n",
    "X_validate = s_validate[cols]\n",
    "y_validate = s_validate.assessed_value\n",
    "\n",
    "X_test = s_test[cols]\n",
    "y_test = s_test.assessed_value"
   ]
  },
  {
   "cell_type": "code",
   "execution_count": 17,
   "id": "91d23502",
   "metadata": {},
   "outputs": [],
   "source": [
    "train_predictions = pd.DataFrame({\n",
    "    'actual': s_train.assessed_value\n",
    "}) \n",
    "validate_predictions = pd.DataFrame({\n",
    "    'actual': s_validate.assessed_value\n",
    "}) "
   ]
  },
  {
   "cell_type": "code",
   "execution_count": 84,
   "id": "46ec73c4",
   "metadata": {},
   "outputs": [],
   "source": [
    "final_train_predictions = pd.DataFrame({\n",
    "    'actual': s_train.assessed_value\n",
    "}) \n",
    "final_validate_predictions = pd.DataFrame({\n",
    "    'actual': s_validate.assessed_value\n",
    "}) \n",
    "final_test_predictions = pd.DataFrame({\n",
    "    'actual': s_test.assessed_value\n",
    "})"
   ]
  },
  {
   "cell_type": "markdown",
   "id": "a2c7db5b",
   "metadata": {},
   "source": [
    "## Multiple  Regression + RFE"
   ]
  },
  {
   "cell_type": "code",
   "execution_count": 47,
   "id": "22fd81f9",
   "metadata": {},
   "outputs": [
    {
     "name": "stdout",
     "output_type": "stream",
     "text": [
      "selected top 8 features: Index(['square_feet', 'lot_size', 'has_pool', 'county_Los Angeles', 'bedrooms',\n",
      "       'bathrooms'],\n",
      "      dtype='object')\n"
     ]
    }
   ],
   "source": [
    "from sklearn.linear_model import LinearRegression\n",
    "lm = LinearRegression()\n",
    "k = 6\n",
    "\n",
    "# 1. Transform our X\n",
    "rfe = RFE(lm, n_features_to_select=6)\n",
    "rfe.fit(X_train, y_train)\n",
    "print('selected top 8 features:', X_train.columns[rfe.support_])\n",
    "X_train_rfe = rfe.transform(X_train)"
   ]
  },
  {
   "cell_type": "markdown",
   "id": "03f7e15d",
   "metadata": {},
   "source": [
    "### Looping through k"
   ]
  },
  {
   "cell_type": "code",
   "execution_count": 19,
   "id": "515533aa",
   "metadata": {},
   "outputs": [],
   "source": [
    "for k in range(2,8):\n",
    "    lm = LinearRegression()\n",
    "    # 1. Transform our X\n",
    "    rfe = RFE(lm, n_features_to_select=k)\n",
    "    rfe.fit(X_train, y_train)\n",
    "    # 2. Use the transformed x in our model\n",
    "    X_train_rfe = rfe.transform(X_train)\n",
    "    X_validate_rfe = rfe.transform(X_validate)\n",
    "    lm.fit(X_train_rfe, y_train)\n",
    "    \n",
    "    # Make predictions\n",
    "    train_predictions['multiple_rfe_k=', k] = lm.predict(X_train_rfe)\n",
    "    validate_predictions['multiple_rfe_k=', k] = lm.predict(X_validate_rfe)\n",
    "    k+=1"
   ]
  },
  {
   "cell_type": "code",
   "execution_count": 20,
   "id": "bbbaf0fa",
   "metadata": {},
   "outputs": [
    {
     "data": {
      "text/html": [
       "<div>\n",
       "<style scoped>\n",
       "    .dataframe tbody tr th:only-of-type {\n",
       "        vertical-align: middle;\n",
       "    }\n",
       "\n",
       "    .dataframe tbody tr th {\n",
       "        vertical-align: top;\n",
       "    }\n",
       "\n",
       "    .dataframe thead th {\n",
       "        text-align: right;\n",
       "    }\n",
       "</style>\n",
       "<table border=\"1\" class=\"dataframe\">\n",
       "  <thead>\n",
       "    <tr style=\"text-align: right;\">\n",
       "      <th></th>\n",
       "      <th>actual</th>\n",
       "      <th>(multiple_rfe_k=, 2)</th>\n",
       "      <th>(multiple_rfe_k=, 3)</th>\n",
       "      <th>(multiple_rfe_k=, 4)</th>\n",
       "      <th>(multiple_rfe_k=, 5)</th>\n",
       "      <th>(multiple_rfe_k=, 6)</th>\n",
       "      <th>(multiple_rfe_k=, 7)</th>\n",
       "    </tr>\n",
       "  </thead>\n",
       "  <tbody>\n",
       "    <tr>\n",
       "      <th>12296</th>\n",
       "      <td>312,195.00</td>\n",
       "      <td>336,926.27</td>\n",
       "      <td>304,208.06</td>\n",
       "      <td>302,288.82</td>\n",
       "      <td>340,423.06</td>\n",
       "      <td>333,856.22</td>\n",
       "      <td>335,418.30</td>\n",
       "    </tr>\n",
       "    <tr>\n",
       "      <th>15891</th>\n",
       "      <td>468,104.00</td>\n",
       "      <td>657,805.68</td>\n",
       "      <td>642,285.69</td>\n",
       "      <td>647,422.88</td>\n",
       "      <td>610,245.49</td>\n",
       "      <td>592,285.05</td>\n",
       "      <td>588,586.23</td>\n",
       "    </tr>\n",
       "    <tr>\n",
       "      <th>35944</th>\n",
       "      <td>415,247.00</td>\n",
       "      <td>276,661.57</td>\n",
       "      <td>268,318.86</td>\n",
       "      <td>253,749.24</td>\n",
       "      <td>238,723.59</td>\n",
       "      <td>235,782.03</td>\n",
       "      <td>233,499.44</td>\n",
       "    </tr>\n",
       "    <tr>\n",
       "      <th>43195</th>\n",
       "      <td>435,545.00</td>\n",
       "      <td>290,693.84</td>\n",
       "      <td>284,262.89</td>\n",
       "      <td>292,506.36</td>\n",
       "      <td>332,139.11</td>\n",
       "      <td>329,150.38</td>\n",
       "      <td>328,363.98</td>\n",
       "    </tr>\n",
       "    <tr>\n",
       "      <th>19130</th>\n",
       "      <td>87,774.00</td>\n",
       "      <td>287,226.96</td>\n",
       "      <td>315,060.54</td>\n",
       "      <td>303,365.03</td>\n",
       "      <td>290,085.33</td>\n",
       "      <td>287,845.56</td>\n",
       "      <td>294,278.69</td>\n",
       "    </tr>\n",
       "  </tbody>\n",
       "</table>\n",
       "</div>"
      ],
      "text/plain": [
       "          actual  (multiple_rfe_k=, 2)  (multiple_rfe_k=, 3)  \\\n",
       "12296 312,195.00            336,926.27            304,208.06   \n",
       "15891 468,104.00            657,805.68            642,285.69   \n",
       "35944 415,247.00            276,661.57            268,318.86   \n",
       "43195 435,545.00            290,693.84            284,262.89   \n",
       "19130  87,774.00            287,226.96            315,060.54   \n",
       "\n",
       "       (multiple_rfe_k=, 4)  (multiple_rfe_k=, 5)  (multiple_rfe_k=, 6)  \\\n",
       "12296            302,288.82            340,423.06            333,856.22   \n",
       "15891            647,422.88            610,245.49            592,285.05   \n",
       "35944            253,749.24            238,723.59            235,782.03   \n",
       "43195            292,506.36            332,139.11            329,150.38   \n",
       "19130            303,365.03            290,085.33            287,845.56   \n",
       "\n",
       "       (multiple_rfe_k=, 7)  \n",
       "12296            335,418.30  \n",
       "15891            588,586.23  \n",
       "35944            233,499.44  \n",
       "43195            328,363.98  \n",
       "19130            294,278.69  "
      ]
     },
     "execution_count": 20,
     "metadata": {},
     "output_type": "execute_result"
    }
   ],
   "source": [
    "train_predictions.head()"
   ]
  },
  {
   "cell_type": "code",
   "execution_count": 21,
   "id": "eafca593",
   "metadata": {},
   "outputs": [],
   "source": [
    "train_predictions['baseline'] = y_train.mean()"
   ]
  },
  {
   "cell_type": "code",
   "execution_count": 22,
   "id": "d82fc51b",
   "metadata": {},
   "outputs": [
    {
     "data": {
      "text/plain": [
       "actual                       0.00\n",
       "(multiple_rfe_k=, 7)   209,435.57\n",
       "(multiple_rfe_k=, 6)   209,464.70\n",
       "(multiple_rfe_k=, 5)   209,929.72\n",
       "(multiple_rfe_k=, 4)   211,671.46\n",
       "(multiple_rfe_k=, 3)   211,965.62\n",
       "(multiple_rfe_k=, 2)   213,212.12\n",
       "baseline               241,278.42\n",
       "dtype: float64"
      ]
     },
     "execution_count": 22,
     "metadata": {},
     "output_type": "execute_result"
    }
   ],
   "source": [
    "def calculate_rmse(y_predicted):\n",
    "    return mean_squared_error(train_predictions.actual, y_predicted, squared = False)\n",
    "\n",
    "train_predictions.apply(calculate_rmse).sort_values()"
   ]
  },
  {
   "cell_type": "code",
   "execution_count": 23,
   "id": "7b7e78e3",
   "metadata": {},
   "outputs": [],
   "source": [
    "validate_predictions['baseline'] = y_validate.mean()"
   ]
  },
  {
   "cell_type": "code",
   "execution_count": 24,
   "id": "ee84c782",
   "metadata": {
    "scrolled": true
   },
   "outputs": [
    {
     "data": {
      "text/html": [
       "<div>\n",
       "<style scoped>\n",
       "    .dataframe tbody tr th:only-of-type {\n",
       "        vertical-align: middle;\n",
       "    }\n",
       "\n",
       "    .dataframe tbody tr th {\n",
       "        vertical-align: top;\n",
       "    }\n",
       "\n",
       "    .dataframe thead th {\n",
       "        text-align: right;\n",
       "    }\n",
       "</style>\n",
       "<table border=\"1\" class=\"dataframe\">\n",
       "  <thead>\n",
       "    <tr style=\"text-align: right;\">\n",
       "      <th></th>\n",
       "      <th>actual</th>\n",
       "      <th>(multiple_rfe_k=, 2)</th>\n",
       "      <th>(multiple_rfe_k=, 3)</th>\n",
       "      <th>(multiple_rfe_k=, 4)</th>\n",
       "      <th>(multiple_rfe_k=, 5)</th>\n",
       "      <th>(multiple_rfe_k=, 6)</th>\n",
       "      <th>(multiple_rfe_k=, 7)</th>\n",
       "      <th>baseline</th>\n",
       "    </tr>\n",
       "  </thead>\n",
       "  <tbody>\n",
       "    <tr>\n",
       "      <th>9695</th>\n",
       "      <td>409,034.00</td>\n",
       "      <td>230,864.67</td>\n",
       "      <td>249,667.25</td>\n",
       "      <td>244,430.52</td>\n",
       "      <td>233,151.28</td>\n",
       "      <td>232,372.35</td>\n",
       "      <td>231,569.69</td>\n",
       "      <td>381,705.28</td>\n",
       "    </tr>\n",
       "    <tr>\n",
       "      <th>14622</th>\n",
       "      <td>651,348.00</td>\n",
       "      <td>485,591.30</td>\n",
       "      <td>476,096.95</td>\n",
       "      <td>481,820.20</td>\n",
       "      <td>510,815.77</td>\n",
       "      <td>500,822.66</td>\n",
       "      <td>496,399.76</td>\n",
       "      <td>381,705.28</td>\n",
       "    </tr>\n",
       "    <tr>\n",
       "      <th>47991</th>\n",
       "      <td>312,139.00</td>\n",
       "      <td>399,467.23</td>\n",
       "      <td>375,799.52</td>\n",
       "      <td>379,717.71</td>\n",
       "      <td>411,771.40</td>\n",
       "      <td>404,994.26</td>\n",
       "      <td>401,297.98</td>\n",
       "      <td>381,705.28</td>\n",
       "    </tr>\n",
       "    <tr>\n",
       "      <th>8932</th>\n",
       "      <td>91,589.00</td>\n",
       "      <td>239,270.75</td>\n",
       "      <td>259,343.04</td>\n",
       "      <td>277,307.43</td>\n",
       "      <td>263,360.00</td>\n",
       "      <td>261,864.30</td>\n",
       "      <td>254,945.59</td>\n",
       "      <td>381,705.28</td>\n",
       "    </tr>\n",
       "    <tr>\n",
       "      <th>29805</th>\n",
       "      <td>120,280.00</td>\n",
       "      <td>360,687.14</td>\n",
       "      <td>368,512.18</td>\n",
       "      <td>365,726.12</td>\n",
       "      <td>353,334.85</td>\n",
       "      <td>380,507.05</td>\n",
       "      <td>381,606.78</td>\n",
       "      <td>381,705.28</td>\n",
       "    </tr>\n",
       "  </tbody>\n",
       "</table>\n",
       "</div>"
      ],
      "text/plain": [
       "          actual  (multiple_rfe_k=, 2)  (multiple_rfe_k=, 3)  \\\n",
       "9695  409,034.00            230,864.67            249,667.25   \n",
       "14622 651,348.00            485,591.30            476,096.95   \n",
       "47991 312,139.00            399,467.23            375,799.52   \n",
       "8932   91,589.00            239,270.75            259,343.04   \n",
       "29805 120,280.00            360,687.14            368,512.18   \n",
       "\n",
       "       (multiple_rfe_k=, 4)  (multiple_rfe_k=, 5)  (multiple_rfe_k=, 6)  \\\n",
       "9695             244,430.52            233,151.28            232,372.35   \n",
       "14622            481,820.20            510,815.77            500,822.66   \n",
       "47991            379,717.71            411,771.40            404,994.26   \n",
       "8932             277,307.43            263,360.00            261,864.30   \n",
       "29805            365,726.12            353,334.85            380,507.05   \n",
       "\n",
       "       (multiple_rfe_k=, 7)   baseline  \n",
       "9695             231,569.69 381,705.28  \n",
       "14622            496,399.76 381,705.28  \n",
       "47991            401,297.98 381,705.28  \n",
       "8932             254,945.59 381,705.28  \n",
       "29805            381,606.78 381,705.28  "
      ]
     },
     "execution_count": 24,
     "metadata": {},
     "output_type": "execute_result"
    }
   ],
   "source": [
    "validate_predictions.head()\n"
   ]
  },
  {
   "cell_type": "code",
   "execution_count": 25,
   "id": "0f758cbb",
   "metadata": {},
   "outputs": [
    {
     "data": {
      "text/plain": [
       "actual                       0.00\n",
       "(multiple_rfe_k=, 6)   209,698.04\n",
       "(multiple_rfe_k=, 7)   209,713.40\n",
       "(multiple_rfe_k=, 5)   210,002.87\n",
       "(multiple_rfe_k=, 4)   212,225.99\n",
       "(multiple_rfe_k=, 3)   212,648.76\n",
       "(multiple_rfe_k=, 2)   213,620.47\n",
       "baseline               238,353.52\n",
       "dtype: float64"
      ]
     },
     "execution_count": 25,
     "metadata": {},
     "output_type": "execute_result"
    }
   ],
   "source": [
    "def calculate_rmse(y_predicted):\n",
    "    return mean_squared_error(validate_predictions.actual, y_predicted, squared = False)\n",
    "\n",
    "validate_predictions.apply(calculate_rmse).sort_values()"
   ]
  },
  {
   "cell_type": "code",
   "execution_count": 1,
   "id": "a33aa633",
   "metadata": {},
   "outputs": [
    {
     "data": {
      "text/plain": [
       "1328"
      ]
     },
     "execution_count": 1,
     "metadata": {},
     "output_type": "execute_result"
    }
   ],
   "source": [
    "# k=7 is the best\n",
    "\n",
    "228490-227162"
   ]
  },
  {
   "cell_type": "markdown",
   "id": "3e1eff53",
   "metadata": {},
   "source": [
    "**K=7 has the lowest rmse, highest performance**"
   ]
  },
  {
   "cell_type": "code",
   "execution_count": 26,
   "id": "45f381a2",
   "metadata": {},
   "outputs": [
    {
     "ename": "NameError",
     "evalue": "name 'final_train_predictions' is not defined",
     "output_type": "error",
     "traceback": [
      "\u001b[0;31m---------------------------------------------------------------------------\u001b[0m",
      "\u001b[0;31mNameError\u001b[0m                                 Traceback (most recent call last)",
      "Input \u001b[0;32mIn [26]\u001b[0m, in \u001b[0;36m<cell line: 14>\u001b[0;34m()\u001b[0m\n\u001b[1;32m     11\u001b[0m lm\u001b[38;5;241m.\u001b[39mfit(X_train_rfe, y_train)\n\u001b[1;32m     13\u001b[0m \u001b[38;5;66;03m# Make predictions\u001b[39;00m\n\u001b[0;32m---> 14\u001b[0m \u001b[43mfinal_train_predictions\u001b[49m[\u001b[38;5;124m'\u001b[39m\u001b[38;5;124mmultiple_rfe_k=7\u001b[39m\u001b[38;5;124m'\u001b[39m] \u001b[38;5;241m=\u001b[39m lm\u001b[38;5;241m.\u001b[39mpredict(X_train_rfe)\n\u001b[1;32m     15\u001b[0m final_validate_predictions[\u001b[38;5;124m'\u001b[39m\u001b[38;5;124mmultiple_rfe_k=7\u001b[39m\u001b[38;5;124m'\u001b[39m] \u001b[38;5;241m=\u001b[39m lm\u001b[38;5;241m.\u001b[39mpredict(X_validate_rfe)\n\u001b[1;32m     16\u001b[0m final_test_predictions[\u001b[38;5;124m'\u001b[39m\u001b[38;5;124mmultiple_rfe_k=7\u001b[39m\u001b[38;5;124m'\u001b[39m]\u001b[38;5;241m=\u001b[39mlm\u001b[38;5;241m.\u001b[39mpredict(X_test_rfe)\n",
      "\u001b[0;31mNameError\u001b[0m: name 'final_train_predictions' is not defined"
     ]
    }
   ],
   "source": [
    "# Adding k=7 to final table\n",
    "lm = LinearRegression()\n",
    " # 1. Transform our X\n",
    "    \n",
    "rfe = RFE(lm, n_features_to_select=7)\n",
    "rfe.fit(X_train, y_train)\n",
    "# 2. Use the transformed x in our model\n",
    "X_train_rfe = rfe.transform(X_train)\n",
    "X_validate_rfe = rfe.transform(X_validate)\n",
    "X_test_rfe = rfe.transform(X_test)\n",
    "lm.fit(X_train_rfe, y_train)\n",
    "    \n",
    "# Make predictions\n",
    "final_train_predictions['multiple_rfe_k=7'] = lm.predict(X_train_rfe)\n",
    "final_validate_predictions['multiple_rfe_k=7'] = lm.predict(X_validate_rfe)\n",
    "final_test_predictions['multiple_rfe_k=7']=lm.predict(X_test_rfe)"
   ]
  },
  {
   "cell_type": "markdown",
   "id": "8fa8b876",
   "metadata": {},
   "source": [
    "## Polynomial Features"
   ]
  },
  {
   "cell_type": "code",
   "execution_count": 26,
   "id": "d73c5a05",
   "metadata": {},
   "outputs": [],
   "source": [
    "train_pred = pd.DataFrame({\n",
    "    'actual': s_train.assessed_value\n",
    "}) \n",
    "validate_pred = pd.DataFrame({\n",
    "    'actual': s_validate.assessed_value\n",
    "}) "
   ]
  },
  {
   "cell_type": "code",
   "execution_count": 27,
   "id": "fb701aae",
   "metadata": {},
   "outputs": [],
   "source": [
    "from sklearn.preprocessing import PolynomialFeatures\n",
    "\n",
    "# 1. Generate Polynomial Features, k=2\n",
    "poly = PolynomialFeatures(degree=2, include_bias=False, interaction_only=False)\n",
    "poly.fit(X_train)\n",
    "X_train_poly = pd.DataFrame(\n",
    "    poly.transform(X_train),\n",
    "    columns=poly.get_feature_names(X_train.columns),\n",
    "    index=X_train.index,\n",
    ")"
   ]
  },
  {
   "cell_type": "code",
   "execution_count": 28,
   "id": "7d87eb5a",
   "metadata": {},
   "outputs": [
    {
     "data": {
      "text/html": [
       "<div>\n",
       "<style scoped>\n",
       "    .dataframe tbody tr th:only-of-type {\n",
       "        vertical-align: middle;\n",
       "    }\n",
       "\n",
       "    .dataframe tbody tr th {\n",
       "        vertical-align: top;\n",
       "    }\n",
       "\n",
       "    .dataframe thead th {\n",
       "        text-align: right;\n",
       "    }\n",
       "</style>\n",
       "<table border=\"1\" class=\"dataframe\">\n",
       "  <thead>\n",
       "    <tr style=\"text-align: right;\">\n",
       "      <th></th>\n",
       "      <th>actual</th>\n",
       "      <th>baseline</th>\n",
       "      <th>polynomial degree 2</th>\n",
       "    </tr>\n",
       "  </thead>\n",
       "  <tbody>\n",
       "    <tr>\n",
       "      <th>12296</th>\n",
       "      <td>312,195.00</td>\n",
       "      <td>382,793.76</td>\n",
       "      <td>319,076.55</td>\n",
       "    </tr>\n",
       "    <tr>\n",
       "      <th>15891</th>\n",
       "      <td>468,104.00</td>\n",
       "      <td>382,793.76</td>\n",
       "      <td>587,729.19</td>\n",
       "    </tr>\n",
       "    <tr>\n",
       "      <th>35944</th>\n",
       "      <td>415,247.00</td>\n",
       "      <td>382,793.76</td>\n",
       "      <td>236,436.07</td>\n",
       "    </tr>\n",
       "    <tr>\n",
       "      <th>43195</th>\n",
       "      <td>435,545.00</td>\n",
       "      <td>382,793.76</td>\n",
       "      <td>324,396.88</td>\n",
       "    </tr>\n",
       "    <tr>\n",
       "      <th>19130</th>\n",
       "      <td>87,774.00</td>\n",
       "      <td>382,793.76</td>\n",
       "      <td>370,423.44</td>\n",
       "    </tr>\n",
       "  </tbody>\n",
       "</table>\n",
       "</div>"
      ],
      "text/plain": [
       "          actual   baseline  polynomial degree 2\n",
       "12296 312,195.00 382,793.76           319,076.55\n",
       "15891 468,104.00 382,793.76           587,729.19\n",
       "35944 415,247.00 382,793.76           236,436.07\n",
       "43195 435,545.00 382,793.76           324,396.88\n",
       "19130  87,774.00 382,793.76           370,423.44"
      ]
     },
     "execution_count": 28,
     "metadata": {},
     "output_type": "execute_result"
    }
   ],
   "source": [
    "lm = LinearRegression()\n",
    "lm.fit(X_train_poly, y_train)\n",
    "X_validate_poly = poly.transform(X_validate)\n",
    "train_pred['baseline'] = y_train.mean()\n",
    "validate_pred['baseline'] = y_validate.mean()\n",
    "train_pred['polynomial degree 2'] = lm.predict(X_train_poly)\n",
    "validate_pred['polynomial degree 2'] = lm.predict(X_validate_poly)\n",
    "train_pred.head()"
   ]
  },
  {
   "cell_type": "code",
   "execution_count": 29,
   "id": "f7b49b88",
   "metadata": {},
   "outputs": [
    {
     "data": {
      "text/html": [
       "<div>\n",
       "<style scoped>\n",
       "    .dataframe tbody tr th:only-of-type {\n",
       "        vertical-align: middle;\n",
       "    }\n",
       "\n",
       "    .dataframe tbody tr th {\n",
       "        vertical-align: top;\n",
       "    }\n",
       "\n",
       "    .dataframe thead th {\n",
       "        text-align: right;\n",
       "    }\n",
       "</style>\n",
       "<table border=\"1\" class=\"dataframe\">\n",
       "  <thead>\n",
       "    <tr style=\"text-align: right;\">\n",
       "      <th></th>\n",
       "      <th>actual</th>\n",
       "      <th>baseline</th>\n",
       "      <th>polynomial degree 2</th>\n",
       "    </tr>\n",
       "  </thead>\n",
       "  <tbody>\n",
       "    <tr>\n",
       "      <th>9695</th>\n",
       "      <td>409,034.00</td>\n",
       "      <td>381,705.28</td>\n",
       "      <td>242,689.39</td>\n",
       "    </tr>\n",
       "    <tr>\n",
       "      <th>14622</th>\n",
       "      <td>651,348.00</td>\n",
       "      <td>381,705.28</td>\n",
       "      <td>561,333.18</td>\n",
       "    </tr>\n",
       "    <tr>\n",
       "      <th>47991</th>\n",
       "      <td>312,139.00</td>\n",
       "      <td>381,705.28</td>\n",
       "      <td>485,694.73</td>\n",
       "    </tr>\n",
       "    <tr>\n",
       "      <th>8932</th>\n",
       "      <td>91,589.00</td>\n",
       "      <td>381,705.28</td>\n",
       "      <td>158,113.06</td>\n",
       "    </tr>\n",
       "    <tr>\n",
       "      <th>29805</th>\n",
       "      <td>120,280.00</td>\n",
       "      <td>381,705.28</td>\n",
       "      <td>411,849.42</td>\n",
       "    </tr>\n",
       "  </tbody>\n",
       "</table>\n",
       "</div>"
      ],
      "text/plain": [
       "          actual   baseline  polynomial degree 2\n",
       "9695  409,034.00 381,705.28           242,689.39\n",
       "14622 651,348.00 381,705.28           561,333.18\n",
       "47991 312,139.00 381,705.28           485,694.73\n",
       "8932   91,589.00 381,705.28           158,113.06\n",
       "29805 120,280.00 381,705.28           411,849.42"
      ]
     },
     "execution_count": 29,
     "metadata": {},
     "output_type": "execute_result"
    }
   ],
   "source": [
    "validate_pred.head()"
   ]
  },
  {
   "cell_type": "code",
   "execution_count": 30,
   "id": "3e5f922c",
   "metadata": {},
   "outputs": [],
   "source": [
    "train_rmse = mean_squared_error(train_pred.actual,train_pred['polynomial degree 2'], squared = False)\n",
    "validate_rmse = mean_squared_error(validate_pred.actual,validate_pred['polynomial degree 2'], squared = False)"
   ]
  },
  {
   "cell_type": "code",
   "execution_count": 31,
   "id": "4faa00c7",
   "metadata": {},
   "outputs": [],
   "source": [
    "train_rmse_b = mean_squared_error(train_pred.actual,train_pred['baseline'], squared = False)\n",
    "validate_rmse_b = mean_squared_error(validate_pred.actual,validate_pred['baseline'], squared = False)"
   ]
  },
  {
   "cell_type": "code",
   "execution_count": 32,
   "id": "ecf01de7",
   "metadata": {},
   "outputs": [
    {
     "data": {
      "text/plain": [
       "(203503.35735250247, 203562.76427455657)"
      ]
     },
     "execution_count": 32,
     "metadata": {},
     "output_type": "execute_result"
    }
   ],
   "source": [
    "train_rmse, validate_rmse"
   ]
  },
  {
   "cell_type": "code",
   "execution_count": 33,
   "id": "0f88bd2e",
   "metadata": {},
   "outputs": [
    {
     "data": {
      "text/plain": [
       "59.406922054098686"
      ]
     },
     "execution_count": 33,
     "metadata": {},
     "output_type": "execute_result"
    }
   ],
   "source": [
    "validate_rmse-train_rmse"
   ]
  },
  {
   "cell_type": "code",
   "execution_count": 34,
   "id": "4e9643ca",
   "metadata": {},
   "outputs": [
    {
     "data": {
      "text/plain": [
       "(241278.41687336648, 238353.5244766119)"
      ]
     },
     "execution_count": 34,
     "metadata": {},
     "output_type": "execute_result"
    }
   ],
   "source": [
    "train_rmse_b, validate_rmse_b"
   ]
  },
  {
   "cell_type": "code",
   "execution_count": 35,
   "id": "b7f03c26",
   "metadata": {},
   "outputs": [
    {
     "data": {
      "text/html": [
       "<div>\n",
       "<style scoped>\n",
       "    .dataframe tbody tr th:only-of-type {\n",
       "        vertical-align: middle;\n",
       "    }\n",
       "\n",
       "    .dataframe tbody tr th {\n",
       "        vertical-align: top;\n",
       "    }\n",
       "\n",
       "    .dataframe thead th {\n",
       "        text-align: right;\n",
       "    }\n",
       "</style>\n",
       "<table border=\"1\" class=\"dataframe\">\n",
       "  <thead>\n",
       "    <tr style=\"text-align: right;\">\n",
       "      <th></th>\n",
       "      <th>actual</th>\n",
       "      <th>baseline</th>\n",
       "      <th>polynomial degree 2</th>\n",
       "      <th>polynomial degree 2 only interaction</th>\n",
       "    </tr>\n",
       "  </thead>\n",
       "  <tbody>\n",
       "    <tr>\n",
       "      <th>12296</th>\n",
       "      <td>312,195.00</td>\n",
       "      <td>382,793.76</td>\n",
       "      <td>319,076.55</td>\n",
       "      <td>324,733.33</td>\n",
       "    </tr>\n",
       "    <tr>\n",
       "      <th>15891</th>\n",
       "      <td>468,104.00</td>\n",
       "      <td>382,793.76</td>\n",
       "      <td>587,729.19</td>\n",
       "      <td>587,189.50</td>\n",
       "    </tr>\n",
       "    <tr>\n",
       "      <th>35944</th>\n",
       "      <td>415,247.00</td>\n",
       "      <td>382,793.76</td>\n",
       "      <td>236,436.07</td>\n",
       "      <td>226,640.74</td>\n",
       "    </tr>\n",
       "    <tr>\n",
       "      <th>43195</th>\n",
       "      <td>435,545.00</td>\n",
       "      <td>382,793.76</td>\n",
       "      <td>324,396.88</td>\n",
       "      <td>329,935.08</td>\n",
       "    </tr>\n",
       "    <tr>\n",
       "      <th>19130</th>\n",
       "      <td>87,774.00</td>\n",
       "      <td>382,793.76</td>\n",
       "      <td>370,423.44</td>\n",
       "      <td>376,580.54</td>\n",
       "    </tr>\n",
       "  </tbody>\n",
       "</table>\n",
       "</div>"
      ],
      "text/plain": [
       "          actual   baseline  polynomial degree 2  \\\n",
       "12296 312,195.00 382,793.76           319,076.55   \n",
       "15891 468,104.00 382,793.76           587,729.19   \n",
       "35944 415,247.00 382,793.76           236,436.07   \n",
       "43195 435,545.00 382,793.76           324,396.88   \n",
       "19130  87,774.00 382,793.76           370,423.44   \n",
       "\n",
       "       polynomial degree 2 only interaction  \n",
       "12296                            324,733.33  \n",
       "15891                            587,189.50  \n",
       "35944                            226,640.74  \n",
       "43195                            329,935.08  \n",
       "19130                            376,580.54  "
      ]
     },
     "execution_count": 35,
     "metadata": {},
     "output_type": "execute_result"
    }
   ],
   "source": [
    "# Interaction terms only\n",
    "\n",
    "poly = PolynomialFeatures(degree=2, include_bias=False, interaction_only=True)\n",
    "poly.fit(X_train)\n",
    "X_train_poly = pd.DataFrame(\n",
    "    poly.transform(X_train),\n",
    "    columns=poly.get_feature_names(X_train.columns),\n",
    "    index=X_train.index,\n",
    ")\n",
    "lm = LinearRegression()\n",
    "lm.fit(X_train_poly, y_train)\n",
    "\n",
    "X_validate_poly = poly.transform(X_validate)\n",
    "train_pred['polynomial degree 2 only interaction'] = lm.predict(X_train_poly)\n",
    "validate_pred['polynomial degree 2 only interaction'] = lm.predict(X_validate_poly)\n",
    "train_pred.head()"
   ]
  },
  {
   "cell_type": "code",
   "execution_count": 36,
   "id": "f066316d",
   "metadata": {},
   "outputs": [
    {
     "data": {
      "text/plain": [
       "(203729.70656880626, 203809.65022936126)"
      ]
     },
     "execution_count": 36,
     "metadata": {},
     "output_type": "execute_result"
    }
   ],
   "source": [
    "train_rmse = mean_squared_error(train_pred.actual,train_pred['polynomial degree 2 only interaction'], squared = False)\n",
    "validate_rmse = mean_squared_error(validate_pred.actual,validate_pred['polynomial degree 2 only interaction'], squared = False)\n",
    "train_rmse, validate_rmse"
   ]
  },
  {
   "cell_type": "code",
   "execution_count": 37,
   "id": "f8a87e55",
   "metadata": {},
   "outputs": [
    {
     "data": {
      "text/plain": [
       "79.94366055499995"
      ]
     },
     "execution_count": 37,
     "metadata": {},
     "output_type": "execute_result"
    }
   ],
   "source": [
    "validate_rmse-train_rmse"
   ]
  },
  {
   "cell_type": "code",
   "execution_count": 38,
   "id": "72d009fe",
   "metadata": {},
   "outputs": [],
   "source": [
    "# k=3\n",
    "poly = PolynomialFeatures(degree=3, include_bias=False, interaction_only=False)\n",
    "poly.fit(X_train)\n",
    "X_train_poly = pd.DataFrame(\n",
    "    poly.transform(X_train),\n",
    "    columns=poly.get_feature_names(X_train.columns),\n",
    "    index=X_train.index,\n",
    ")"
   ]
  },
  {
   "cell_type": "code",
   "execution_count": 39,
   "id": "82f791ef",
   "metadata": {},
   "outputs": [
    {
     "data": {
      "text/html": [
       "<div>\n",
       "<style scoped>\n",
       "    .dataframe tbody tr th:only-of-type {\n",
       "        vertical-align: middle;\n",
       "    }\n",
       "\n",
       "    .dataframe tbody tr th {\n",
       "        vertical-align: top;\n",
       "    }\n",
       "\n",
       "    .dataframe thead th {\n",
       "        text-align: right;\n",
       "    }\n",
       "</style>\n",
       "<table border=\"1\" class=\"dataframe\">\n",
       "  <thead>\n",
       "    <tr style=\"text-align: right;\">\n",
       "      <th></th>\n",
       "      <th>actual</th>\n",
       "      <th>baseline</th>\n",
       "      <th>polynomial degree 2</th>\n",
       "      <th>polynomial degree 2 only interaction</th>\n",
       "      <th>polynomial degree 3</th>\n",
       "    </tr>\n",
       "  </thead>\n",
       "  <tbody>\n",
       "    <tr>\n",
       "      <th>12296</th>\n",
       "      <td>312,195.00</td>\n",
       "      <td>382,793.76</td>\n",
       "      <td>319,076.55</td>\n",
       "      <td>324,733.33</td>\n",
       "      <td>308,778.11</td>\n",
       "    </tr>\n",
       "    <tr>\n",
       "      <th>15891</th>\n",
       "      <td>468,104.00</td>\n",
       "      <td>382,793.76</td>\n",
       "      <td>587,729.19</td>\n",
       "      <td>587,189.50</td>\n",
       "      <td>555,691.16</td>\n",
       "    </tr>\n",
       "    <tr>\n",
       "      <th>35944</th>\n",
       "      <td>415,247.00</td>\n",
       "      <td>382,793.76</td>\n",
       "      <td>236,436.07</td>\n",
       "      <td>226,640.74</td>\n",
       "      <td>244,421.69</td>\n",
       "    </tr>\n",
       "    <tr>\n",
       "      <th>43195</th>\n",
       "      <td>435,545.00</td>\n",
       "      <td>382,793.76</td>\n",
       "      <td>324,396.88</td>\n",
       "      <td>329,935.08</td>\n",
       "      <td>315,351.57</td>\n",
       "    </tr>\n",
       "    <tr>\n",
       "      <th>19130</th>\n",
       "      <td>87,774.00</td>\n",
       "      <td>382,793.76</td>\n",
       "      <td>370,423.44</td>\n",
       "      <td>376,580.54</td>\n",
       "      <td>311,337.67</td>\n",
       "    </tr>\n",
       "  </tbody>\n",
       "</table>\n",
       "</div>"
      ],
      "text/plain": [
       "          actual   baseline  polynomial degree 2  \\\n",
       "12296 312,195.00 382,793.76           319,076.55   \n",
       "15891 468,104.00 382,793.76           587,729.19   \n",
       "35944 415,247.00 382,793.76           236,436.07   \n",
       "43195 435,545.00 382,793.76           324,396.88   \n",
       "19130  87,774.00 382,793.76           370,423.44   \n",
       "\n",
       "       polynomial degree 2 only interaction  polynomial degree 3  \n",
       "12296                            324,733.33           308,778.11  \n",
       "15891                            587,189.50           555,691.16  \n",
       "35944                            226,640.74           244,421.69  \n",
       "43195                            329,935.08           315,351.57  \n",
       "19130                            376,580.54           311,337.67  "
      ]
     },
     "execution_count": 39,
     "metadata": {},
     "output_type": "execute_result"
    }
   ],
   "source": [
    "lm = LinearRegression()\n",
    "lm.fit(X_train_poly, y_train)\n",
    "X_validate_poly = poly.transform(X_validate)\n",
    "train_pred['baseline'] = y_train.mean()\n",
    "validate_pred['baseline'] = y_validate.mean()\n",
    "train_pred['polynomial degree 3'] = lm.predict(X_train_poly)\n",
    "validate_pred['polynomial degree 3'] = lm.predict(X_validate_poly)\n",
    "train_pred.head()"
   ]
  },
  {
   "cell_type": "code",
   "execution_count": 40,
   "id": "a302d1db",
   "metadata": {},
   "outputs": [
    {
     "data": {
      "text/plain": [
       "(201678.07158130204, 202821.9322561396)"
      ]
     },
     "execution_count": 40,
     "metadata": {},
     "output_type": "execute_result"
    }
   ],
   "source": [
    "train_rmse = mean_squared_error(train_pred.actual,train_pred['polynomial degree 3'], squared = False)\n",
    "validate_rmse = mean_squared_error(validate_pred.actual,validate_pred['polynomial degree 3'], squared = False)\n",
    "train_rmse, validate_rmse"
   ]
  },
  {
   "cell_type": "code",
   "execution_count": 41,
   "id": "0d23ec1a",
   "metadata": {},
   "outputs": [],
   "source": [
    "# k=4\n",
    "poly = PolynomialFeatures(degree=4, include_bias=False, interaction_only=False)\n",
    "poly.fit(X_train)\n",
    "X_train_poly = pd.DataFrame(\n",
    "    poly.transform(X_train),\n",
    "    columns=poly.get_feature_names(X_train.columns),\n",
    "    index=X_train.index,\n",
    ")"
   ]
  },
  {
   "cell_type": "code",
   "execution_count": 42,
   "id": "e411a8c7",
   "metadata": {},
   "outputs": [
    {
     "data": {
      "text/html": [
       "<div>\n",
       "<style scoped>\n",
       "    .dataframe tbody tr th:only-of-type {\n",
       "        vertical-align: middle;\n",
       "    }\n",
       "\n",
       "    .dataframe tbody tr th {\n",
       "        vertical-align: top;\n",
       "    }\n",
       "\n",
       "    .dataframe thead th {\n",
       "        text-align: right;\n",
       "    }\n",
       "</style>\n",
       "<table border=\"1\" class=\"dataframe\">\n",
       "  <thead>\n",
       "    <tr style=\"text-align: right;\">\n",
       "      <th></th>\n",
       "      <th>actual</th>\n",
       "      <th>baseline</th>\n",
       "      <th>polynomial degree 2</th>\n",
       "      <th>polynomial degree 2 only interaction</th>\n",
       "      <th>polynomial degree 3</th>\n",
       "      <th>polynomial degree 4</th>\n",
       "    </tr>\n",
       "  </thead>\n",
       "  <tbody>\n",
       "    <tr>\n",
       "      <th>12296</th>\n",
       "      <td>312,195.00</td>\n",
       "      <td>382,793.76</td>\n",
       "      <td>319,076.55</td>\n",
       "      <td>324,733.33</td>\n",
       "      <td>308,778.11</td>\n",
       "      <td>313,475.12</td>\n",
       "    </tr>\n",
       "    <tr>\n",
       "      <th>15891</th>\n",
       "      <td>468,104.00</td>\n",
       "      <td>382,793.76</td>\n",
       "      <td>587,729.19</td>\n",
       "      <td>587,189.50</td>\n",
       "      <td>555,691.16</td>\n",
       "      <td>539,370.33</td>\n",
       "    </tr>\n",
       "    <tr>\n",
       "      <th>35944</th>\n",
       "      <td>415,247.00</td>\n",
       "      <td>382,793.76</td>\n",
       "      <td>236,436.07</td>\n",
       "      <td>226,640.74</td>\n",
       "      <td>244,421.69</td>\n",
       "      <td>237,501.60</td>\n",
       "    </tr>\n",
       "    <tr>\n",
       "      <th>43195</th>\n",
       "      <td>435,545.00</td>\n",
       "      <td>382,793.76</td>\n",
       "      <td>324,396.88</td>\n",
       "      <td>329,935.08</td>\n",
       "      <td>315,351.57</td>\n",
       "      <td>319,187.51</td>\n",
       "    </tr>\n",
       "    <tr>\n",
       "      <th>19130</th>\n",
       "      <td>87,774.00</td>\n",
       "      <td>382,793.76</td>\n",
       "      <td>370,423.44</td>\n",
       "      <td>376,580.54</td>\n",
       "      <td>311,337.67</td>\n",
       "      <td>296,429.99</td>\n",
       "    </tr>\n",
       "  </tbody>\n",
       "</table>\n",
       "</div>"
      ],
      "text/plain": [
       "          actual   baseline  polynomial degree 2  \\\n",
       "12296 312,195.00 382,793.76           319,076.55   \n",
       "15891 468,104.00 382,793.76           587,729.19   \n",
       "35944 415,247.00 382,793.76           236,436.07   \n",
       "43195 435,545.00 382,793.76           324,396.88   \n",
       "19130  87,774.00 382,793.76           370,423.44   \n",
       "\n",
       "       polynomial degree 2 only interaction  polynomial degree 3  \\\n",
       "12296                            324,733.33           308,778.11   \n",
       "15891                            587,189.50           555,691.16   \n",
       "35944                            226,640.74           244,421.69   \n",
       "43195                            329,935.08           315,351.57   \n",
       "19130                            376,580.54           311,337.67   \n",
       "\n",
       "       polynomial degree 4  \n",
       "12296           313,475.12  \n",
       "15891           539,370.33  \n",
       "35944           237,501.60  \n",
       "43195           319,187.51  \n",
       "19130           296,429.99  "
      ]
     },
     "execution_count": 42,
     "metadata": {},
     "output_type": "execute_result"
    }
   ],
   "source": [
    "lm = LinearRegression()\n",
    "lm.fit(X_train_poly, y_train)\n",
    "X_validate_poly = poly.transform(X_validate)\n",
    "train_pred['baseline'] = y_train.mean()\n",
    "validate_pred['baseline'] = y_validate.mean()\n",
    "train_pred['polynomial degree 4'] = lm.predict(X_train_poly)\n",
    "validate_pred['polynomial degree 4'] = lm.predict(X_validate_poly)\n",
    "train_pred.head()"
   ]
  },
  {
   "cell_type": "code",
   "execution_count": 43,
   "id": "0ea40a74",
   "metadata": {},
   "outputs": [
    {
     "data": {
      "text/plain": [
       "(200148.06059221626, 203379.43563270045)"
      ]
     },
     "execution_count": 43,
     "metadata": {},
     "output_type": "execute_result"
    }
   ],
   "source": [
    "train_rmse = mean_squared_error(train_pred.actual,train_pred['polynomial degree 4'], squared = False)\n",
    "validate_rmse = mean_squared_error(validate_pred.actual,validate_pred['polynomial degree 4'], squared = False)\n",
    "train_rmse, validate_rmse"
   ]
  },
  {
   "cell_type": "code",
   "execution_count": 44,
   "id": "873349d5",
   "metadata": {},
   "outputs": [],
   "source": [
    "# k=5\n",
    "poly = PolynomialFeatures(degree=5, include_bias=False, interaction_only=False)\n",
    "poly.fit(X_train)\n",
    "X_train_poly = pd.DataFrame(\n",
    "    poly.transform(X_train),\n",
    "    columns=poly.get_feature_names(X_train.columns),\n",
    "    index=X_train.index,\n",
    ")"
   ]
  },
  {
   "cell_type": "code",
   "execution_count": 45,
   "id": "1dc043a7",
   "metadata": {},
   "outputs": [
    {
     "data": {
      "text/html": [
       "<div>\n",
       "<style scoped>\n",
       "    .dataframe tbody tr th:only-of-type {\n",
       "        vertical-align: middle;\n",
       "    }\n",
       "\n",
       "    .dataframe tbody tr th {\n",
       "        vertical-align: top;\n",
       "    }\n",
       "\n",
       "    .dataframe thead th {\n",
       "        text-align: right;\n",
       "    }\n",
       "</style>\n",
       "<table border=\"1\" class=\"dataframe\">\n",
       "  <thead>\n",
       "    <tr style=\"text-align: right;\">\n",
       "      <th></th>\n",
       "      <th>actual</th>\n",
       "      <th>baseline</th>\n",
       "      <th>polynomial degree 2</th>\n",
       "      <th>polynomial degree 2 only interaction</th>\n",
       "      <th>polynomial degree 3</th>\n",
       "      <th>polynomial degree 4</th>\n",
       "      <th>polynomial degree 5</th>\n",
       "    </tr>\n",
       "  </thead>\n",
       "  <tbody>\n",
       "    <tr>\n",
       "      <th>12296</th>\n",
       "      <td>312,195.00</td>\n",
       "      <td>382,793.76</td>\n",
       "      <td>319,076.55</td>\n",
       "      <td>324,733.33</td>\n",
       "      <td>308,778.11</td>\n",
       "      <td>313,475.12</td>\n",
       "      <td>308,299.51</td>\n",
       "    </tr>\n",
       "    <tr>\n",
       "      <th>15891</th>\n",
       "      <td>468,104.00</td>\n",
       "      <td>382,793.76</td>\n",
       "      <td>587,729.19</td>\n",
       "      <td>587,189.50</td>\n",
       "      <td>555,691.16</td>\n",
       "      <td>539,370.33</td>\n",
       "      <td>537,965.97</td>\n",
       "    </tr>\n",
       "    <tr>\n",
       "      <th>35944</th>\n",
       "      <td>415,247.00</td>\n",
       "      <td>382,793.76</td>\n",
       "      <td>236,436.07</td>\n",
       "      <td>226,640.74</td>\n",
       "      <td>244,421.69</td>\n",
       "      <td>237,501.60</td>\n",
       "      <td>236,969.29</td>\n",
       "    </tr>\n",
       "    <tr>\n",
       "      <th>43195</th>\n",
       "      <td>435,545.00</td>\n",
       "      <td>382,793.76</td>\n",
       "      <td>324,396.88</td>\n",
       "      <td>329,935.08</td>\n",
       "      <td>315,351.57</td>\n",
       "      <td>319,187.51</td>\n",
       "      <td>332,474.52</td>\n",
       "    </tr>\n",
       "    <tr>\n",
       "      <th>19130</th>\n",
       "      <td>87,774.00</td>\n",
       "      <td>382,793.76</td>\n",
       "      <td>370,423.44</td>\n",
       "      <td>376,580.54</td>\n",
       "      <td>311,337.67</td>\n",
       "      <td>296,429.99</td>\n",
       "      <td>312,691.36</td>\n",
       "    </tr>\n",
       "  </tbody>\n",
       "</table>\n",
       "</div>"
      ],
      "text/plain": [
       "          actual   baseline  polynomial degree 2  \\\n",
       "12296 312,195.00 382,793.76           319,076.55   \n",
       "15891 468,104.00 382,793.76           587,729.19   \n",
       "35944 415,247.00 382,793.76           236,436.07   \n",
       "43195 435,545.00 382,793.76           324,396.88   \n",
       "19130  87,774.00 382,793.76           370,423.44   \n",
       "\n",
       "       polynomial degree 2 only interaction  polynomial degree 3  \\\n",
       "12296                            324,733.33           308,778.11   \n",
       "15891                            587,189.50           555,691.16   \n",
       "35944                            226,640.74           244,421.69   \n",
       "43195                            329,935.08           315,351.57   \n",
       "19130                            376,580.54           311,337.67   \n",
       "\n",
       "       polynomial degree 4  polynomial degree 5  \n",
       "12296           313,475.12           308,299.51  \n",
       "15891           539,370.33           537,965.97  \n",
       "35944           237,501.60           236,969.29  \n",
       "43195           319,187.51           332,474.52  \n",
       "19130           296,429.99           312,691.36  "
      ]
     },
     "execution_count": 45,
     "metadata": {},
     "output_type": "execute_result"
    }
   ],
   "source": [
    "lm = LinearRegression()\n",
    "lm.fit(X_train_poly, y_train)\n",
    "X_validate_poly = poly.transform(X_validate)\n",
    "train_pred['baseline'] = y_train.mean()\n",
    "validate_pred['baseline'] = y_validate.mean()\n",
    "train_pred['polynomial degree 5'] = lm.predict(X_train_poly)\n",
    "validate_pred['polynomial degree 5'] = lm.predict(X_validate_poly)\n",
    "train_pred.head()"
   ]
  },
  {
   "cell_type": "code",
   "execution_count": 46,
   "id": "c8c95f17",
   "metadata": {},
   "outputs": [
    {
     "data": {
      "text/plain": [
       "(200148.06059221626, 203379.43563270045)"
      ]
     },
     "execution_count": 46,
     "metadata": {},
     "output_type": "execute_result"
    }
   ],
   "source": [
    "train_rmse = mean_squared_error(train_pred.actual,train_pred['polynomial degree 4'], squared = False)\n",
    "validate_rmse = mean_squared_error(validate_pred.actual,validate_pred['polynomial degree 4'], squared = False)\n",
    "train_rmse, validate_rmse"
   ]
  },
  {
   "cell_type": "markdown",
   "id": "7d1f98d0",
   "metadata": {},
   "source": [
    "**K=3 has the lowest rmse**"
   ]
  },
  {
   "cell_type": "code",
   "execution_count": 88,
   "id": "b9489426",
   "metadata": {},
   "outputs": [],
   "source": [
    "# Adding k=3 to final table\n",
    "poly = PolynomialFeatures(degree=3, include_bias=False, interaction_only=False)\n",
    "poly.fit(X_train)\n",
    "X_train_poly = pd.DataFrame(\n",
    "    poly.transform(X_train),\n",
    "    columns=poly.get_feature_names(X_train.columns),\n",
    "    index=X_train.index,\n",
    ")\n",
    "lm = LinearRegression()\n",
    "lm.fit(X_train_poly, y_train)\n",
    "X_validate_poly = poly.transform(X_validate)\n",
    "X_test_poly = poly.transform(X_test)\n",
    "final_train_predictions['baseline'] = y_train.mean()\n",
    "final_validate_predictions['baseline'] = y_validate.mean()\n",
    "final_test_predictions['baseline'] = y_test.mean()\n",
    "final_train_predictions['polynomial degree 3'] = lm.predict(X_train_poly)\n",
    "final_validate_predictions['polynomial degree 3'] = lm.predict(X_validate_poly)\n",
    "final_test_predictions['polynomial degree 3'] = lm.predict(X_test_poly)"
   ]
  },
  {
   "cell_type": "markdown",
   "id": "30d871ef",
   "metadata": {},
   "source": [
    "## Lasso-Lars"
   ]
  },
  {
   "cell_type": "code",
   "execution_count": 46,
   "id": "3d435a3d",
   "metadata": {},
   "outputs": [
    {
     "data": {
      "text/plain": [
       "bedrooms             -254,508.76\n",
       "lot_size             -176,477.70\n",
       "county_Los Angeles    -53,328.55\n",
       "county_Orange          12,474.60\n",
       "has_pool               37,162.21\n",
       "age                    84,325.44\n",
       "bathrooms             198,331.49\n",
       "square_feet           961,064.22\n",
       "dtype: float64"
      ]
     },
     "execution_count": 46,
     "metadata": {},
     "output_type": "execute_result"
    }
   ],
   "source": [
    "from sklearn.linear_model import LassoLars\n",
    "# create the model object\n",
    "lars = LassoLars(alpha=0)\n",
    "\n",
    "# fit the model to our training data\n",
    "lars.fit(X_train, y_train)\n",
    "\n",
    "# predict validate\n",
    "X_train_pred_lars = lars.predict(X_train)\n",
    "\n",
    "pd.Series(lars.coef_, index=X_train.columns).sort_values()"
   ]
  },
  {
   "cell_type": "code",
   "execution_count": 47,
   "id": "a4a16e5a",
   "metadata": {},
   "outputs": [],
   "source": [
    "# create the model object\n",
    "lars = LassoLars(alpha=1)\n",
    "\n",
    "# fit the model to our training data\n",
    "lars.fit(X_train, y_train)\n",
    "\n",
    "# predict validate\n",
    "X_train_pred_lars = lars.predict(X_train)\n",
    "X_validate_pred_lars = lars.predict(X_validate)\n",
    "# Add lassolars predictions to our predictions DataFrame\n",
    "train_pred['lasso_lars'] = X_train_pred_lars\n",
    "validate_pred['lasso_lars'] = X_validate_pred_lars"
   ]
  },
  {
   "cell_type": "code",
   "execution_count": 48,
   "id": "f790e80c",
   "metadata": {},
   "outputs": [
    {
     "data": {
      "text/plain": [
       "(229427.37534789668, 227596.58856245351)"
      ]
     },
     "execution_count": 48,
     "metadata": {},
     "output_type": "execute_result"
    }
   ],
   "source": [
    "train_rmse = mean_squared_error(train_pred.actual,train_pred['lasso_lars'], squared = False)\n",
    "validate_rmse = mean_squared_error(validate_pred.actual,validate_pred['lasso_lars'], squared = False)\n",
    "train_rmse, validate_rmse"
   ]
  },
  {
   "cell_type": "code",
   "execution_count": 49,
   "id": "3f594aef",
   "metadata": {},
   "outputs": [
    {
     "data": {
      "text/plain": [
       "-1830.786785443168"
      ]
     },
     "execution_count": 49,
     "metadata": {},
     "output_type": "execute_result"
    }
   ],
   "source": [
    "validate_rmse-train_rmse"
   ]
  },
  {
   "cell_type": "code",
   "execution_count": 90,
   "id": "d3f3b81f",
   "metadata": {},
   "outputs": [],
   "source": [
    "# Adding to final table\n",
    "# create the model object\n",
    "lars = LassoLars(alpha=1)\n",
    "\n",
    "# fit the model to our training data\n",
    "lars.fit(X_train, y_train)\n",
    "\n",
    "# predict validate\n",
    "X_train_pred_lars = lars.predict(X_train)\n",
    "X_validate_pred_lars = lars.predict(X_validate)\n",
    "X_test_pred_lars = lars.predict(X_test)\n",
    "# Add lassolars predictions to our predictions DataFrame\n",
    "final_train_predictions['lasso_lars'] = X_train_pred_lars\n",
    "final_validate_predictions['lasso_lars'] = X_validate_pred_lars\n",
    "final_test_predictions['lasso_lars'] = X_test_pred_lars"
   ]
  },
  {
   "cell_type": "markdown",
   "id": "b3ff70d0",
   "metadata": {},
   "source": [
    "## Generalized Linear Model"
   ]
  },
  {
   "cell_type": "code",
   "execution_count": 50,
   "id": "e8fc4610",
   "metadata": {},
   "outputs": [],
   "source": [
    "from sklearn.linear_model import TweedieRegressor\n",
    "\n",
    "# create the model object\n",
    "glm = TweedieRegressor(power=1, alpha=0)\n",
    "\n",
    "# fit the model to our training data\n",
    "glm.fit(X_train, y_train)\n",
    "\n",
    "# predict train\n",
    "X_train_predict_glm = glm.predict(X_train)\n",
    "X_validate_predict_glm = glm.predict(X_validate)\n",
    "# Add lassolars predictions to our predictions DataFrame\n",
    "train_pred['glm'] = X_train_predict_glm\n",
    "validate_pred['glm'] = X_validate_predict_glm"
   ]
  },
  {
   "cell_type": "code",
   "execution_count": 51,
   "id": "e60acca4",
   "metadata": {},
   "outputs": [
    {
     "data": {
      "text/plain": [
       "(230888.78077339692, 230002.83186807355)"
      ]
     },
     "execution_count": 51,
     "metadata": {},
     "output_type": "execute_result"
    }
   ],
   "source": [
    "train_rmse = mean_squared_error(train_pred.actual,train_pred['glm'], squared = False)\n",
    "validate_rmse = mean_squared_error(validate_pred.actual,validate_pred['glm'], squared = False)\n",
    "train_rmse, validate_rmse"
   ]
  },
  {
   "cell_type": "code",
   "execution_count": 52,
   "id": "1493f937",
   "metadata": {},
   "outputs": [
    {
     "data": {
      "text/plain": [
       "-885.9489053233701"
      ]
     },
     "execution_count": 52,
     "metadata": {},
     "output_type": "execute_result"
    }
   ],
   "source": [
    "validate_rmse-train_rmse"
   ]
  },
  {
   "cell_type": "code",
   "execution_count": 91,
   "id": "da49b5ad",
   "metadata": {},
   "outputs": [],
   "source": [
    "# Adding to final table\n",
    "\n",
    "glm = TweedieRegressor(power=1, alpha=0)\n",
    "\n",
    "# fit the model to our training data\n",
    "glm.fit(X_train, y_train)\n",
    "\n",
    "# predict train\n",
    "X_train_predict_glm = glm.predict(X_train)\n",
    "X_validate_predict_glm = glm.predict(X_validate)\n",
    "X_test_predict_glm = glm.predict(X_test)\n",
    "# Add lassolars predictions to our predictions DataFrame\n",
    "final_train_predictions['glm'] = X_train_predict_glm\n",
    "final_validate_predictions['glm'] = X_validate_predict_glm\n",
    "final_test_predictions['glm'] = X_test_predict_glm"
   ]
  },
  {
   "cell_type": "markdown",
   "id": "c27b88c2",
   "metadata": {},
   "source": [
    "## Evaluation"
   ]
  },
  {
   "cell_type": "code",
   "execution_count": 94,
   "id": "3893f7fa",
   "metadata": {},
   "outputs": [
    {
     "data": {
      "text/plain": [
       "actual                      0.00\n",
       "polynomial degree 3   223,633.46\n",
       "lasso_lars            232,745.23\n",
       "multiple_rfe_k=7      232,763.09\n",
       "glm                   235,321.90\n",
       "baseline              274,862.72\n",
       "dtype: float64"
      ]
     },
     "execution_count": 94,
     "metadata": {},
     "output_type": "execute_result"
    }
   ],
   "source": [
    "def calculate_rmse(y_predicted):\n",
    "    return mean_squared_error(final_train_predictions.actual, y_predicted, squared = False)\n",
    "\n",
    "final_train_predictions.apply(calculate_rmse).sort_values()"
   ]
  },
  {
   "cell_type": "code",
   "execution_count": 95,
   "id": "a641b6f0",
   "metadata": {},
   "outputs": [
    {
     "data": {
      "text/plain": [
       "actual                      0.00\n",
       "polynomial degree 3   222,070.92\n",
       "lasso_lars            230,203.61\n",
       "multiple_rfe_k=7      230,221.87\n",
       "glm                   233,617.59\n",
       "baseline              272,468.83\n",
       "dtype: float64"
      ]
     },
     "execution_count": 95,
     "metadata": {},
     "output_type": "execute_result"
    }
   ],
   "source": [
    "def calculate_rmse(y_predicted):\n",
    "    return mean_squared_error(final_validate_predictions.actual, y_predicted, squared = False)\n",
    "\n",
    "final_validate_predictions.apply(calculate_rmse).sort_values()"
   ]
  },
  {
   "cell_type": "code",
   "execution_count": 96,
   "id": "bb151e9b",
   "metadata": {},
   "outputs": [
    {
     "data": {
      "text/plain": [
       "actual                      0.00\n",
       "polynomial degree 3   225,323.49\n",
       "lasso_lars            233,614.86\n",
       "multiple_rfe_k=7      233,644.57\n",
       "glm                   237,682.56\n",
       "baseline              277,387.85\n",
       "dtype: float64"
      ]
     },
     "execution_count": 96,
     "metadata": {},
     "output_type": "execute_result"
    }
   ],
   "source": [
    "def calculate_rmse(y_predicted):\n",
    "    return mean_squared_error(final_test_predictions.actual, y_predicted, squared = False)\n",
    "\n",
    "final_test_predictions.apply(calculate_rmse).sort_values()"
   ]
  },
  {
   "cell_type": "code",
   "execution_count": 97,
   "id": "f806cbec",
   "metadata": {},
   "outputs": [
    {
     "data": {
      "text/plain": [
       "0.18769517121964782"
      ]
     },
     "execution_count": 97,
     "metadata": {},
     "output_type": "execute_result"
    }
   ],
   "source": [
    "(277387.85-225323.49)/277387.85"
   ]
  }
 ],
 "metadata": {
  "kernelspec": {
   "display_name": "Python 3 (ipykernel)",
   "language": "python",
   "name": "python3"
  },
  "language_info": {
   "codemirror_mode": {
    "name": "ipython",
    "version": 3
   },
   "file_extension": ".py",
   "mimetype": "text/x-python",
   "name": "python",
   "nbconvert_exporter": "python",
   "pygments_lexer": "ipython3",
   "version": "3.9.12"
  }
 },
 "nbformat": 4,
 "nbformat_minor": 5
}
