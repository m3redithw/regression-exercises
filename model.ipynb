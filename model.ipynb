{
 "cells": [
  {
   "cell_type": "code",
   "execution_count": 1,
   "id": "942bdb3c",
   "metadata": {},
   "outputs": [],
   "source": [
    "# Ignore warnings\n",
    "import warnings\n",
    "warnings.filterwarnings(\"ignore\")\n",
    "\n",
    "import numpy as np\n",
    "import pandas as pd\n",
    "\n",
    "import matplotlib.pyplot as plt\n",
    "from sklearn.feature_selection import RFE\n",
    "from sklearn.metrics import mean_squared_error\n",
    "from sklearn.preprocessing import MinMaxScaler\n",
    "from sklearn.model_selection import train_test_split\n",
    "import sklearn.preprocessing\n",
    "import acquire\n",
    "import prepare"
   ]
  },
  {
   "cell_type": "code",
   "execution_count": 2,
   "id": "6381c668",
   "metadata": {},
   "outputs": [],
   "source": [
    "pd.options.display.float_format = '{:,.2f}'.format"
   ]
  },
  {
   "cell_type": "code",
   "execution_count": 3,
   "id": "c2a608f5",
   "metadata": {},
   "outputs": [],
   "source": [
    "rawdf = acquire.get_zillow_data()"
   ]
  },
  {
   "cell_type": "code",
   "execution_count": 4,
   "id": "1c31a1f9",
   "metadata": {},
   "outputs": [
    {
     "data": {
      "text/plain": [
       "(52441, 11)"
      ]
     },
     "execution_count": 4,
     "metadata": {},
     "output_type": "execute_result"
    }
   ],
   "source": [
    "rawdf.shape"
   ]
  },
  {
   "cell_type": "code",
   "execution_count": 5,
   "id": "352b2077",
   "metadata": {},
   "outputs": [
    {
     "data": {
      "text/html": [
       "<div>\n",
       "<style scoped>\n",
       "    .dataframe tbody tr th:only-of-type {\n",
       "        vertical-align: middle;\n",
       "    }\n",
       "\n",
       "    .dataframe tbody tr th {\n",
       "        vertical-align: top;\n",
       "    }\n",
       "\n",
       "    .dataframe thead th {\n",
       "        text-align: right;\n",
       "    }\n",
       "</style>\n",
       "<table border=\"1\" class=\"dataframe\">\n",
       "  <thead>\n",
       "    <tr style=\"text-align: right;\">\n",
       "      <th></th>\n",
       "      <th>longitude</th>\n",
       "      <th>latitude</th>\n",
       "      <th>bedrooms</th>\n",
       "      <th>bathrooms</th>\n",
       "      <th>square_feet</th>\n",
       "      <th>lot_size</th>\n",
       "      <th>has_pool</th>\n",
       "      <th>fips_code</th>\n",
       "      <th>age</th>\n",
       "      <th>assessed_value</th>\n",
       "      <th>tax_amount</th>\n",
       "    </tr>\n",
       "  </thead>\n",
       "  <tbody>\n",
       "    <tr>\n",
       "      <th>0</th>\n",
       "      <td>-118,740133</td>\n",
       "      <td>34,251502</td>\n",
       "      <td>4.00</td>\n",
       "      <td>2.00</td>\n",
       "      <td>1,323.00</td>\n",
       "      <td>6,825.00</td>\n",
       "      <td>NaN</td>\n",
       "      <td>06111</td>\n",
       "      <td>53.00</td>\n",
       "      <td>453,000.00</td>\n",
       "      <td>5,235.32</td>\n",
       "    </tr>\n",
       "    <tr>\n",
       "      <th>1</th>\n",
       "      <td>-118,217048</td>\n",
       "      <td>33,798657</td>\n",
       "      <td>4.00</td>\n",
       "      <td>2.00</td>\n",
       "      <td>1,339.00</td>\n",
       "      <td>6,107.00</td>\n",
       "      <td>NaN</td>\n",
       "      <td>06037</td>\n",
       "      <td>40.00</td>\n",
       "      <td>298,371.00</td>\n",
       "      <td>3,714.58</td>\n",
       "    </tr>\n",
       "    <tr>\n",
       "      <th>2</th>\n",
       "      <td>-118,531253</td>\n",
       "      <td>34,039467</td>\n",
       "      <td>2.00</td>\n",
       "      <td>2.00</td>\n",
       "      <td>1,231.00</td>\n",
       "      <td>11,837.00</td>\n",
       "      <td>NaN</td>\n",
       "      <td>06037</td>\n",
       "      <td>67.00</td>\n",
       "      <td>161,897.00</td>\n",
       "      <td>2,031.39</td>\n",
       "    </tr>\n",
       "    <tr>\n",
       "      <th>3</th>\n",
       "      <td>-117,613897</td>\n",
       "      <td>33,663005</td>\n",
       "      <td>5.00</td>\n",
       "      <td>3.00</td>\n",
       "      <td>3,008.00</td>\n",
       "      <td>6,760.00</td>\n",
       "      <td>1.00</td>\n",
       "      <td>06059</td>\n",
       "      <td>22.00</td>\n",
       "      <td>472,384.00</td>\n",
       "      <td>7,234.74</td>\n",
       "    </tr>\n",
       "    <tr>\n",
       "      <th>4</th>\n",
       "      <td>-118,393309</td>\n",
       "      <td>34,227422</td>\n",
       "      <td>2.00</td>\n",
       "      <td>1.00</td>\n",
       "      <td>996.00</td>\n",
       "      <td>7,518.00</td>\n",
       "      <td>NaN</td>\n",
       "      <td>06037</td>\n",
       "      <td>77.00</td>\n",
       "      <td>58,693.00</td>\n",
       "      <td>751.66</td>\n",
       "    </tr>\n",
       "  </tbody>\n",
       "</table>\n",
       "</div>"
      ],
      "text/plain": [
       "     longitude   latitude  bedrooms  bathrooms  square_feet  lot_size  \\\n",
       "0  -118,740133  34,251502      4.00       2.00     1,323.00  6,825.00   \n",
       "1  -118,217048  33,798657      4.00       2.00     1,339.00  6,107.00   \n",
       "2  -118,531253  34,039467      2.00       2.00     1,231.00 11,837.00   \n",
       "3  -117,613897  33,663005      5.00       3.00     3,008.00  6,760.00   \n",
       "4  -118,393309  34,227422      2.00       1.00       996.00  7,518.00   \n",
       "\n",
       "   has_pool fips_code   age  assessed_value  tax_amount  \n",
       "0       NaN     06111 53.00      453,000.00    5,235.32  \n",
       "1       NaN     06037 40.00      298,371.00    3,714.58  \n",
       "2       NaN     06037 67.00      161,897.00    2,031.39  \n",
       "3      1.00     06059 22.00      472,384.00    7,234.74  \n",
       "4       NaN     06037 77.00       58,693.00      751.66  "
      ]
     },
     "execution_count": 5,
     "metadata": {},
     "output_type": "execute_result"
    }
   ],
   "source": [
    "rawdf.head()"
   ]
  },
  {
   "cell_type": "code",
   "execution_count": 6,
   "id": "6888d824",
   "metadata": {},
   "outputs": [],
   "source": [
    "df = prepare.prep_zillow(rawdf)"
   ]
  },
  {
   "cell_type": "code",
   "execution_count": 7,
   "id": "4b9e89ed",
   "metadata": {},
   "outputs": [
    {
     "data": {
      "text/plain": [
       "(45324, 23)"
      ]
     },
     "execution_count": 7,
     "metadata": {},
     "output_type": "execute_result"
    }
   ],
   "source": [
    "df.shape"
   ]
  },
  {
   "cell_type": "code",
   "execution_count": 8,
   "id": "40c6655f",
   "metadata": {},
   "outputs": [
    {
     "data": {
      "text/html": [
       "<div>\n",
       "<style scoped>\n",
       "    .dataframe tbody tr th:only-of-type {\n",
       "        vertical-align: middle;\n",
       "    }\n",
       "\n",
       "    .dataframe tbody tr th {\n",
       "        vertical-align: top;\n",
       "    }\n",
       "\n",
       "    .dataframe thead th {\n",
       "        text-align: right;\n",
       "    }\n",
       "</style>\n",
       "<table border=\"1\" class=\"dataframe\">\n",
       "  <thead>\n",
       "    <tr style=\"text-align: right;\">\n",
       "      <th></th>\n",
       "      <th>longitude</th>\n",
       "      <th>latitude</th>\n",
       "      <th>bedrooms</th>\n",
       "      <th>bathrooms</th>\n",
       "      <th>square_feet</th>\n",
       "      <th>lot_size</th>\n",
       "      <th>has_pool</th>\n",
       "      <th>fips_code</th>\n",
       "      <th>age</th>\n",
       "      <th>assessed_value</th>\n",
       "      <th>...</th>\n",
       "      <th>bathrooms_size</th>\n",
       "      <th>county_Los Angeles</th>\n",
       "      <th>county_Orange</th>\n",
       "      <th>county_Ventura</th>\n",
       "      <th>bedrooms_size_small</th>\n",
       "      <th>bedrooms_size_medium</th>\n",
       "      <th>bedrooms_size_large</th>\n",
       "      <th>bathrooms_size_small</th>\n",
       "      <th>bathrooms_size_medium</th>\n",
       "      <th>bathrooms_size_large</th>\n",
       "    </tr>\n",
       "  </thead>\n",
       "  <tbody>\n",
       "    <tr>\n",
       "      <th>0</th>\n",
       "      <td>-118,740133</td>\n",
       "      <td>34,251502</td>\n",
       "      <td>4.00</td>\n",
       "      <td>2.00</td>\n",
       "      <td>1,323.00</td>\n",
       "      <td>6,825.00</td>\n",
       "      <td>0.00</td>\n",
       "      <td>06111</td>\n",
       "      <td>53</td>\n",
       "      <td>453,000.00</td>\n",
       "      <td>...</td>\n",
       "      <td>small</td>\n",
       "      <td>0</td>\n",
       "      <td>0</td>\n",
       "      <td>1</td>\n",
       "      <td>0</td>\n",
       "      <td>1</td>\n",
       "      <td>0</td>\n",
       "      <td>1</td>\n",
       "      <td>0</td>\n",
       "      <td>0</td>\n",
       "    </tr>\n",
       "    <tr>\n",
       "      <th>1</th>\n",
       "      <td>-118,217048</td>\n",
       "      <td>33,798657</td>\n",
       "      <td>4.00</td>\n",
       "      <td>2.00</td>\n",
       "      <td>1,339.00</td>\n",
       "      <td>6,107.00</td>\n",
       "      <td>0.00</td>\n",
       "      <td>06037</td>\n",
       "      <td>40</td>\n",
       "      <td>298,371.00</td>\n",
       "      <td>...</td>\n",
       "      <td>small</td>\n",
       "      <td>1</td>\n",
       "      <td>0</td>\n",
       "      <td>0</td>\n",
       "      <td>0</td>\n",
       "      <td>1</td>\n",
       "      <td>0</td>\n",
       "      <td>1</td>\n",
       "      <td>0</td>\n",
       "      <td>0</td>\n",
       "    </tr>\n",
       "    <tr>\n",
       "      <th>2</th>\n",
       "      <td>-118,531253</td>\n",
       "      <td>34,039467</td>\n",
       "      <td>2.00</td>\n",
       "      <td>2.00</td>\n",
       "      <td>1,231.00</td>\n",
       "      <td>11,837.00</td>\n",
       "      <td>0.00</td>\n",
       "      <td>06037</td>\n",
       "      <td>67</td>\n",
       "      <td>161,897.00</td>\n",
       "      <td>...</td>\n",
       "      <td>small</td>\n",
       "      <td>1</td>\n",
       "      <td>0</td>\n",
       "      <td>0</td>\n",
       "      <td>1</td>\n",
       "      <td>0</td>\n",
       "      <td>0</td>\n",
       "      <td>1</td>\n",
       "      <td>0</td>\n",
       "      <td>0</td>\n",
       "    </tr>\n",
       "    <tr>\n",
       "      <th>3</th>\n",
       "      <td>-117,613897</td>\n",
       "      <td>33,663005</td>\n",
       "      <td>5.00</td>\n",
       "      <td>3.00</td>\n",
       "      <td>3,008.00</td>\n",
       "      <td>6,760.00</td>\n",
       "      <td>1.00</td>\n",
       "      <td>06059</td>\n",
       "      <td>22</td>\n",
       "      <td>472,384.00</td>\n",
       "      <td>...</td>\n",
       "      <td>medium</td>\n",
       "      <td>0</td>\n",
       "      <td>1</td>\n",
       "      <td>0</td>\n",
       "      <td>0</td>\n",
       "      <td>0</td>\n",
       "      <td>1</td>\n",
       "      <td>0</td>\n",
       "      <td>1</td>\n",
       "      <td>0</td>\n",
       "    </tr>\n",
       "    <tr>\n",
       "      <th>4</th>\n",
       "      <td>-118,393309</td>\n",
       "      <td>34,227422</td>\n",
       "      <td>2.00</td>\n",
       "      <td>1.00</td>\n",
       "      <td>996.00</td>\n",
       "      <td>7,518.00</td>\n",
       "      <td>0.00</td>\n",
       "      <td>06037</td>\n",
       "      <td>77</td>\n",
       "      <td>58,693.00</td>\n",
       "      <td>...</td>\n",
       "      <td>small</td>\n",
       "      <td>1</td>\n",
       "      <td>0</td>\n",
       "      <td>0</td>\n",
       "      <td>1</td>\n",
       "      <td>0</td>\n",
       "      <td>0</td>\n",
       "      <td>1</td>\n",
       "      <td>0</td>\n",
       "      <td>0</td>\n",
       "    </tr>\n",
       "  </tbody>\n",
       "</table>\n",
       "<p>5 rows × 23 columns</p>\n",
       "</div>"
      ],
      "text/plain": [
       "     longitude   latitude  bedrooms  bathrooms  square_feet  lot_size  \\\n",
       "0  -118,740133  34,251502      4.00       2.00     1,323.00  6,825.00   \n",
       "1  -118,217048  33,798657      4.00       2.00     1,339.00  6,107.00   \n",
       "2  -118,531253  34,039467      2.00       2.00     1,231.00 11,837.00   \n",
       "3  -117,613897  33,663005      5.00       3.00     3,008.00  6,760.00   \n",
       "4  -118,393309  34,227422      2.00       1.00       996.00  7,518.00   \n",
       "\n",
       "   has_pool fips_code  age  assessed_value  ...  bathrooms_size  \\\n",
       "0      0.00     06111   53      453,000.00  ...           small   \n",
       "1      0.00     06037   40      298,371.00  ...           small   \n",
       "2      0.00     06037   67      161,897.00  ...           small   \n",
       "3      1.00     06059   22      472,384.00  ...          medium   \n",
       "4      0.00     06037   77       58,693.00  ...           small   \n",
       "\n",
       "  county_Los Angeles county_Orange county_Ventura  bedrooms_size_small  \\\n",
       "0                  0             0              1                    0   \n",
       "1                  1             0              0                    0   \n",
       "2                  1             0              0                    1   \n",
       "3                  0             1              0                    0   \n",
       "4                  1             0              0                    1   \n",
       "\n",
       "   bedrooms_size_medium  bedrooms_size_large  bathrooms_size_small  \\\n",
       "0                     1                    0                     1   \n",
       "1                     1                    0                     1   \n",
       "2                     0                    0                     1   \n",
       "3                     0                    1                     0   \n",
       "4                     0                    0                     1   \n",
       "\n",
       "   bathrooms_size_medium  bathrooms_size_large  \n",
       "0                      0                     0  \n",
       "1                      0                     0  \n",
       "2                      0                     0  \n",
       "3                      1                     0  \n",
       "4                      0                     0  \n",
       "\n",
       "[5 rows x 23 columns]"
      ]
     },
     "execution_count": 8,
     "metadata": {},
     "output_type": "execute_result"
    }
   ],
   "source": [
    "df.head()"
   ]
  },
  {
   "cell_type": "markdown",
   "id": "d5d2b2ff",
   "metadata": {},
   "source": [
    "## Simple Model\n",
    "$$ y = mx + b $$\n",
    "\n",
    "$$y = f(x)$$"
   ]
  },
  {
   "cell_type": "markdown",
   "id": "cb14abb1",
   "metadata": {},
   "source": [
    "Tested out all scalers, and MinMaxScaler performs the best"
   ]
  },
  {
   "cell_type": "code",
   "execution_count": 9,
   "id": "5fc318df",
   "metadata": {},
   "outputs": [],
   "source": [
    "scaled_df = df.copy()"
   ]
  },
  {
   "cell_type": "code",
   "execution_count": 10,
   "id": "a29b58f1",
   "metadata": {},
   "outputs": [],
   "source": [
    "scaler = MinMaxScaler()"
   ]
  },
  {
   "cell_type": "code",
   "execution_count": null,
   "id": "e87a8d90",
   "metadata": {},
   "outputs": [],
   "source": [
    "# scaler = sklearn.preprocessing.RobustScaler()"
   ]
  },
  {
   "cell_type": "code",
   "execution_count": null,
   "id": "f3441396",
   "metadata": {},
   "outputs": [],
   "source": [
    "# # Quantile scaler\n",
    "# qt = sklearn.preprocessing.QuantileTransformer(n_quantiles=10, output_distribution='normal', random_state=0)"
   ]
  },
  {
   "cell_type": "code",
   "execution_count": null,
   "id": "f0220793",
   "metadata": {},
   "outputs": [],
   "source": [
    "# qt.fit(scaled_df[['square_feet', 'lot_size', 'age', 'bedrooms', 'bathrooms']])"
   ]
  },
  {
   "cell_type": "code",
   "execution_count": null,
   "id": "e64ae2ea",
   "metadata": {},
   "outputs": [],
   "source": [
    "# scaled_df[['square_feet', 'lot_size', 'age', 'bedrooms', 'bathrooms']] = qt.transform(scaled_df[['square_feet', 'lot_size', 'age', 'bedrooms', 'bathrooms']])"
   ]
  },
  {
   "cell_type": "code",
   "execution_count": 11,
   "id": "935df864",
   "metadata": {},
   "outputs": [
    {
     "data": {
      "text/plain": [
       "MinMaxScaler()"
      ]
     },
     "execution_count": 11,
     "metadata": {},
     "output_type": "execute_result"
    }
   ],
   "source": [
    "scaler.fit(scaled_df[['square_feet', 'lot_size', 'age', 'bedrooms', 'bathrooms']])"
   ]
  },
  {
   "cell_type": "code",
   "execution_count": 12,
   "id": "7ff599d4",
   "metadata": {},
   "outputs": [],
   "source": [
    "scaled_df[['square_feet', 'lot_size', 'age', 'bedrooms', 'bathrooms']] = scaler.transform(scaled_df[['square_feet', 'lot_size', 'age', 'bedrooms', 'bathrooms']])"
   ]
  },
  {
   "cell_type": "code",
   "execution_count": 13,
   "id": "14f9625a",
   "metadata": {},
   "outputs": [
    {
     "data": {
      "text/html": [
       "<div>\n",
       "<style scoped>\n",
       "    .dataframe tbody tr th:only-of-type {\n",
       "        vertical-align: middle;\n",
       "    }\n",
       "\n",
       "    .dataframe tbody tr th {\n",
       "        vertical-align: top;\n",
       "    }\n",
       "\n",
       "    .dataframe thead th {\n",
       "        text-align: right;\n",
       "    }\n",
       "</style>\n",
       "<table border=\"1\" class=\"dataframe\">\n",
       "  <thead>\n",
       "    <tr style=\"text-align: right;\">\n",
       "      <th></th>\n",
       "      <th>longitude</th>\n",
       "      <th>latitude</th>\n",
       "      <th>bedrooms</th>\n",
       "      <th>bathrooms</th>\n",
       "      <th>square_feet</th>\n",
       "      <th>lot_size</th>\n",
       "      <th>has_pool</th>\n",
       "      <th>fips_code</th>\n",
       "      <th>age</th>\n",
       "      <th>assessed_value</th>\n",
       "      <th>...</th>\n",
       "      <th>bathrooms_size</th>\n",
       "      <th>county_Los Angeles</th>\n",
       "      <th>county_Orange</th>\n",
       "      <th>county_Ventura</th>\n",
       "      <th>bedrooms_size_small</th>\n",
       "      <th>bedrooms_size_medium</th>\n",
       "      <th>bedrooms_size_large</th>\n",
       "      <th>bathrooms_size_small</th>\n",
       "      <th>bathrooms_size_medium</th>\n",
       "      <th>bathrooms_size_large</th>\n",
       "    </tr>\n",
       "  </thead>\n",
       "  <tbody>\n",
       "    <tr>\n",
       "      <th>0</th>\n",
       "      <td>-118,740133</td>\n",
       "      <td>34,251502</td>\n",
       "      <td>0.60</td>\n",
       "      <td>0.20</td>\n",
       "      <td>0.19</td>\n",
       "      <td>0.06</td>\n",
       "      <td>0.00</td>\n",
       "      <td>06111</td>\n",
       "      <td>0.38</td>\n",
       "      <td>453,000.00</td>\n",
       "      <td>...</td>\n",
       "      <td>small</td>\n",
       "      <td>0</td>\n",
       "      <td>0</td>\n",
       "      <td>1</td>\n",
       "      <td>0</td>\n",
       "      <td>1</td>\n",
       "      <td>0</td>\n",
       "      <td>1</td>\n",
       "      <td>0</td>\n",
       "      <td>0</td>\n",
       "    </tr>\n",
       "    <tr>\n",
       "      <th>1</th>\n",
       "      <td>-118,217048</td>\n",
       "      <td>33,798657</td>\n",
       "      <td>0.60</td>\n",
       "      <td>0.20</td>\n",
       "      <td>0.20</td>\n",
       "      <td>0.05</td>\n",
       "      <td>0.00</td>\n",
       "      <td>06037</td>\n",
       "      <td>0.28</td>\n",
       "      <td>298,371.00</td>\n",
       "      <td>...</td>\n",
       "      <td>small</td>\n",
       "      <td>1</td>\n",
       "      <td>0</td>\n",
       "      <td>0</td>\n",
       "      <td>0</td>\n",
       "      <td>1</td>\n",
       "      <td>0</td>\n",
       "      <td>1</td>\n",
       "      <td>0</td>\n",
       "      <td>0</td>\n",
       "    </tr>\n",
       "    <tr>\n",
       "      <th>2</th>\n",
       "      <td>-118,531253</td>\n",
       "      <td>34,039467</td>\n",
       "      <td>0.20</td>\n",
       "      <td>0.20</td>\n",
       "      <td>0.17</td>\n",
       "      <td>0.11</td>\n",
       "      <td>0.00</td>\n",
       "      <td>06037</td>\n",
       "      <td>0.48</td>\n",
       "      <td>161,897.00</td>\n",
       "      <td>...</td>\n",
       "      <td>small</td>\n",
       "      <td>1</td>\n",
       "      <td>0</td>\n",
       "      <td>0</td>\n",
       "      <td>1</td>\n",
       "      <td>0</td>\n",
       "      <td>0</td>\n",
       "      <td>1</td>\n",
       "      <td>0</td>\n",
       "      <td>0</td>\n",
       "    </tr>\n",
       "    <tr>\n",
       "      <th>3</th>\n",
       "      <td>-117,613897</td>\n",
       "      <td>33,663005</td>\n",
       "      <td>0.80</td>\n",
       "      <td>0.40</td>\n",
       "      <td>0.58</td>\n",
       "      <td>0.06</td>\n",
       "      <td>1.00</td>\n",
       "      <td>06059</td>\n",
       "      <td>0.15</td>\n",
       "      <td>472,384.00</td>\n",
       "      <td>...</td>\n",
       "      <td>medium</td>\n",
       "      <td>0</td>\n",
       "      <td>1</td>\n",
       "      <td>0</td>\n",
       "      <td>0</td>\n",
       "      <td>0</td>\n",
       "      <td>1</td>\n",
       "      <td>0</td>\n",
       "      <td>1</td>\n",
       "      <td>0</td>\n",
       "    </tr>\n",
       "    <tr>\n",
       "      <th>4</th>\n",
       "      <td>-118,393309</td>\n",
       "      <td>34,227422</td>\n",
       "      <td>0.20</td>\n",
       "      <td>0.00</td>\n",
       "      <td>0.12</td>\n",
       "      <td>0.07</td>\n",
       "      <td>0.00</td>\n",
       "      <td>06037</td>\n",
       "      <td>0.55</td>\n",
       "      <td>58,693.00</td>\n",
       "      <td>...</td>\n",
       "      <td>small</td>\n",
       "      <td>1</td>\n",
       "      <td>0</td>\n",
       "      <td>0</td>\n",
       "      <td>1</td>\n",
       "      <td>0</td>\n",
       "      <td>0</td>\n",
       "      <td>1</td>\n",
       "      <td>0</td>\n",
       "      <td>0</td>\n",
       "    </tr>\n",
       "  </tbody>\n",
       "</table>\n",
       "<p>5 rows × 23 columns</p>\n",
       "</div>"
      ],
      "text/plain": [
       "     longitude   latitude  bedrooms  bathrooms  square_feet  lot_size  \\\n",
       "0  -118,740133  34,251502      0.60       0.20         0.19      0.06   \n",
       "1  -118,217048  33,798657      0.60       0.20         0.20      0.05   \n",
       "2  -118,531253  34,039467      0.20       0.20         0.17      0.11   \n",
       "3  -117,613897  33,663005      0.80       0.40         0.58      0.06   \n",
       "4  -118,393309  34,227422      0.20       0.00         0.12      0.07   \n",
       "\n",
       "   has_pool fips_code  age  assessed_value  ...  bathrooms_size  \\\n",
       "0      0.00     06111 0.38      453,000.00  ...           small   \n",
       "1      0.00     06037 0.28      298,371.00  ...           small   \n",
       "2      0.00     06037 0.48      161,897.00  ...           small   \n",
       "3      1.00     06059 0.15      472,384.00  ...          medium   \n",
       "4      0.00     06037 0.55       58,693.00  ...           small   \n",
       "\n",
       "  county_Los Angeles county_Orange county_Ventura  bedrooms_size_small  \\\n",
       "0                  0             0              1                    0   \n",
       "1                  1             0              0                    0   \n",
       "2                  1             0              0                    1   \n",
       "3                  0             1              0                    0   \n",
       "4                  1             0              0                    1   \n",
       "\n",
       "   bedrooms_size_medium  bedrooms_size_large  bathrooms_size_small  \\\n",
       "0                     1                    0                     1   \n",
       "1                     1                    0                     1   \n",
       "2                     0                    0                     1   \n",
       "3                     0                    1                     0   \n",
       "4                     0                    0                     1   \n",
       "\n",
       "   bathrooms_size_medium  bathrooms_size_large  \n",
       "0                      0                     0  \n",
       "1                      0                     0  \n",
       "2                      0                     0  \n",
       "3                      1                     0  \n",
       "4                      0                     0  \n",
       "\n",
       "[5 rows x 23 columns]"
      ]
     },
     "execution_count": 13,
     "metadata": {},
     "output_type": "execute_result"
    }
   ],
   "source": [
    "scaled_df.head()"
   ]
  },
  {
   "cell_type": "code",
   "execution_count": 14,
   "id": "3794ed98",
   "metadata": {},
   "outputs": [],
   "source": [
    "s_train, s_validate, s_test = prepare.split(scaled_df)"
   ]
  },
  {
   "cell_type": "code",
   "execution_count": 15,
   "id": "9bfa2aa2",
   "metadata": {},
   "outputs": [],
   "source": [
    "pd.set_option('display.max_columns', None)"
   ]
  },
  {
   "cell_type": "code",
   "execution_count": 16,
   "id": "f6558ee0",
   "metadata": {},
   "outputs": [],
   "source": [
    "cols = ['square_feet', 'lot_size', 'has_pool', 'age', 'county_Los Angeles', 'county_Orange', 'bedrooms', 'bathrooms']\n",
    "\n",
    "X_train = s_train[cols]\n",
    "y_train = s_train.assessed_value\n",
    "\n",
    "X_validate = s_validate[cols]\n",
    "y_validate = s_validate.assessed_value\n",
    "\n",
    "X_test = s_test[cols]\n",
    "y_test = s_test.assessed_value"
   ]
  },
  {
   "cell_type": "code",
   "execution_count": 17,
   "id": "a90b6ea7",
   "metadata": {},
   "outputs": [],
   "source": [
    "train_predictions = pd.DataFrame({\n",
    "    'actual': s_train.assessed_value\n",
    "}) \n",
    "validate_predictions = pd.DataFrame({\n",
    "    'actual': s_validate.assessed_value\n",
    "}) "
   ]
  },
  {
   "cell_type": "code",
   "execution_count": 18,
   "id": "d4d14fc2",
   "metadata": {},
   "outputs": [],
   "source": [
    "final_train_predictions = pd.DataFrame({\n",
    "    'actual': s_train.assessed_value\n",
    "}) \n",
    "final_validate_predictions = pd.DataFrame({\n",
    "    'actual': s_validate.assessed_value\n",
    "}) \n",
    "final_test_predictions = pd.DataFrame({\n",
    "    'actual': s_test.assessed_value\n",
    "})"
   ]
  },
  {
   "cell_type": "markdown",
   "id": "3f3b0073",
   "metadata": {},
   "source": [
    "## Multiple  Regression + RFE"
   ]
  },
  {
   "cell_type": "code",
   "execution_count": 19,
   "id": "614fba42",
   "metadata": {},
   "outputs": [
    {
     "name": "stdout",
     "output_type": "stream",
     "text": [
      "selected top 8 features: Index(['square_feet', 'lot_size', 'has_pool', 'county_Los Angeles', 'bedrooms',\n",
      "       'bathrooms'],\n",
      "      dtype='object')\n"
     ]
    }
   ],
   "source": [
    "from sklearn.linear_model import LinearRegression\n",
    "lm = LinearRegression()\n",
    "k = 6\n",
    "\n",
    "# 1. Transform our X\n",
    "rfe = RFE(lm, n_features_to_select=6)\n",
    "rfe.fit(X_train, y_train)\n",
    "print('selected top 8 features:', X_train.columns[rfe.support_])\n",
    "X_train_rfe = rfe.transform(X_train)"
   ]
  },
  {
   "cell_type": "markdown",
   "id": "9aa68427",
   "metadata": {},
   "source": [
    "### Looping through k"
   ]
  },
  {
   "cell_type": "code",
   "execution_count": 20,
   "id": "fa76426a",
   "metadata": {},
   "outputs": [],
   "source": [
    "for k in range(2,8):\n",
    "    lm = LinearRegression()\n",
    "    # 1. Transform our X\n",
    "    rfe = RFE(lm, n_features_to_select=k)\n",
    "    rfe.fit(X_train, y_train)\n",
    "    # 2. Use the transformed x in our model\n",
    "    X_train_rfe = rfe.transform(X_train)\n",
    "    X_validate_rfe = rfe.transform(X_validate)\n",
    "    lm.fit(X_train_rfe, y_train)\n",
    "    \n",
    "    # Make predictions\n",
    "    train_predictions['multiple_rfe_k=', k] = lm.predict(X_train_rfe)\n",
    "    validate_predictions['multiple_rfe_k=', k] = lm.predict(X_validate_rfe)\n",
    "    k+=1"
   ]
  },
  {
   "cell_type": "code",
   "execution_count": 21,
   "id": "0a031a9a",
   "metadata": {},
   "outputs": [
    {
     "data": {
      "text/html": [
       "<div>\n",
       "<style scoped>\n",
       "    .dataframe tbody tr th:only-of-type {\n",
       "        vertical-align: middle;\n",
       "    }\n",
       "\n",
       "    .dataframe tbody tr th {\n",
       "        vertical-align: top;\n",
       "    }\n",
       "\n",
       "    .dataframe thead th {\n",
       "        text-align: right;\n",
       "    }\n",
       "</style>\n",
       "<table border=\"1\" class=\"dataframe\">\n",
       "  <thead>\n",
       "    <tr style=\"text-align: right;\">\n",
       "      <th></th>\n",
       "      <th>actual</th>\n",
       "      <th>(multiple_rfe_k=, 2)</th>\n",
       "      <th>(multiple_rfe_k=, 3)</th>\n",
       "      <th>(multiple_rfe_k=, 4)</th>\n",
       "      <th>(multiple_rfe_k=, 5)</th>\n",
       "      <th>(multiple_rfe_k=, 6)</th>\n",
       "      <th>(multiple_rfe_k=, 7)</th>\n",
       "    </tr>\n",
       "  </thead>\n",
       "  <tbody>\n",
       "    <tr>\n",
       "      <th>36490</th>\n",
       "      <td>702,091.00</td>\n",
       "      <td>365,446.15</td>\n",
       "      <td>336,583.84</td>\n",
       "      <td>331,268.49</td>\n",
       "      <td>307,288.35</td>\n",
       "      <td>333,329.05</td>\n",
       "      <td>332,132.09</td>\n",
       "    </tr>\n",
       "    <tr>\n",
       "      <th>19337</th>\n",
       "      <td>442,099.00</td>\n",
       "      <td>362,022.82</td>\n",
       "      <td>367,326.64</td>\n",
       "      <td>366,844.52</td>\n",
       "      <td>407,063.44</td>\n",
       "      <td>402,521.84</td>\n",
       "      <td>402,606.77</td>\n",
       "    </tr>\n",
       "    <tr>\n",
       "      <th>10447</th>\n",
       "      <td>76,613.00</td>\n",
       "      <td>337,243.53</td>\n",
       "      <td>338,393.10</td>\n",
       "      <td>341,151.05</td>\n",
       "      <td>320,630.55</td>\n",
       "      <td>316,125.78</td>\n",
       "      <td>315,559.81</td>\n",
       "    </tr>\n",
       "    <tr>\n",
       "      <th>42559</th>\n",
       "      <td>802,437.00</td>\n",
       "      <td>468,703.54</td>\n",
       "      <td>456,971.93</td>\n",
       "      <td>465,270.27</td>\n",
       "      <td>495,540.45</td>\n",
       "      <td>488,181.68</td>\n",
       "      <td>483,442.41</td>\n",
       "    </tr>\n",
       "    <tr>\n",
       "      <th>34091</th>\n",
       "      <td>188,011.00</td>\n",
       "      <td>635,997.56</td>\n",
       "      <td>585,372.02</td>\n",
       "      <td>587,489.63</td>\n",
       "      <td>550,727.63</td>\n",
       "      <td>565,314.42</td>\n",
       "      <td>568,408.62</td>\n",
       "    </tr>\n",
       "  </tbody>\n",
       "</table>\n",
       "</div>"
      ],
      "text/plain": [
       "          actual  (multiple_rfe_k=, 2)  (multiple_rfe_k=, 3)  \\\n",
       "36490 702,091.00            365,446.15            336,583.84   \n",
       "19337 442,099.00            362,022.82            367,326.64   \n",
       "10447  76,613.00            337,243.53            338,393.10   \n",
       "42559 802,437.00            468,703.54            456,971.93   \n",
       "34091 188,011.00            635,997.56            585,372.02   \n",
       "\n",
       "       (multiple_rfe_k=, 4)  (multiple_rfe_k=, 5)  (multiple_rfe_k=, 6)  \\\n",
       "36490            331,268.49            307,288.35            333,329.05   \n",
       "19337            366,844.52            407,063.44            402,521.84   \n",
       "10447            341,151.05            320,630.55            316,125.78   \n",
       "42559            465,270.27            495,540.45            488,181.68   \n",
       "34091            587,489.63            550,727.63            565,314.42   \n",
       "\n",
       "       (multiple_rfe_k=, 7)  \n",
       "36490            332,132.09  \n",
       "19337            402,606.77  \n",
       "10447            315,559.81  \n",
       "42559            483,442.41  \n",
       "34091            568,408.62  "
      ]
     },
     "execution_count": 21,
     "metadata": {},
     "output_type": "execute_result"
    }
   ],
   "source": [
    "train_predictions.head()"
   ]
  },
  {
   "cell_type": "code",
   "execution_count": 22,
   "id": "f9826977",
   "metadata": {},
   "outputs": [],
   "source": [
    "train_predictions['baseline'] = y_train.mean()"
   ]
  },
  {
   "cell_type": "code",
   "execution_count": 23,
   "id": "3648b28f",
   "metadata": {},
   "outputs": [
    {
     "data": {
      "text/plain": [
       "actual                       0.00\n",
       "(multiple_rfe_k=, 7)   207,896.69\n",
       "(multiple_rfe_k=, 6)   207,913.39\n",
       "(multiple_rfe_k=, 5)   208,248.34\n",
       "(multiple_rfe_k=, 4)   210,238.38\n",
       "(multiple_rfe_k=, 3)   210,605.53\n",
       "(multiple_rfe_k=, 2)   211,872.25\n",
       "baseline               237,872.07\n",
       "dtype: float64"
      ]
     },
     "execution_count": 23,
     "metadata": {},
     "output_type": "execute_result"
    }
   ],
   "source": [
    "def calculate_rmse(y_predicted):\n",
    "    return mean_squared_error(train_predictions.actual, y_predicted, squared = False)\n",
    "\n",
    "train_predictions.apply(calculate_rmse).sort_values()"
   ]
  },
  {
   "cell_type": "code",
   "execution_count": 24,
   "id": "f8e7c281",
   "metadata": {},
   "outputs": [],
   "source": [
    "validate_predictions['baseline'] = y_validate.mean()"
   ]
  },
  {
   "cell_type": "code",
   "execution_count": 25,
   "id": "2520beb1",
   "metadata": {
    "scrolled": true
   },
   "outputs": [
    {
     "data": {
      "text/html": [
       "<div>\n",
       "<style scoped>\n",
       "    .dataframe tbody tr th:only-of-type {\n",
       "        vertical-align: middle;\n",
       "    }\n",
       "\n",
       "    .dataframe tbody tr th {\n",
       "        vertical-align: top;\n",
       "    }\n",
       "\n",
       "    .dataframe thead th {\n",
       "        text-align: right;\n",
       "    }\n",
       "</style>\n",
       "<table border=\"1\" class=\"dataframe\">\n",
       "  <thead>\n",
       "    <tr style=\"text-align: right;\">\n",
       "      <th></th>\n",
       "      <th>actual</th>\n",
       "      <th>(multiple_rfe_k=, 2)</th>\n",
       "      <th>(multiple_rfe_k=, 3)</th>\n",
       "      <th>(multiple_rfe_k=, 4)</th>\n",
       "      <th>(multiple_rfe_k=, 5)</th>\n",
       "      <th>(multiple_rfe_k=, 6)</th>\n",
       "      <th>(multiple_rfe_k=, 7)</th>\n",
       "      <th>baseline</th>\n",
       "    </tr>\n",
       "  </thead>\n",
       "  <tbody>\n",
       "    <tr>\n",
       "      <th>50904</th>\n",
       "      <td>170,700.00</td>\n",
       "      <td>424,588.29</td>\n",
       "      <td>405,834.97</td>\n",
       "      <td>392,597.52</td>\n",
       "      <td>366,442.40</td>\n",
       "      <td>359,170.19</td>\n",
       "      <td>354,588.36</td>\n",
       "      <td>377,092.24</td>\n",
       "    </tr>\n",
       "    <tr>\n",
       "      <th>22280</th>\n",
       "      <td>395,742.00</td>\n",
       "      <td>501,825.12</td>\n",
       "      <td>530,898.33</td>\n",
       "      <td>538,752.58</td>\n",
       "      <td>571,359.34</td>\n",
       "      <td>595,129.29</td>\n",
       "      <td>593,258.35</td>\n",
       "      <td>377,092.24</td>\n",
       "    </tr>\n",
       "    <tr>\n",
       "      <th>16371</th>\n",
       "      <td>222,815.00</td>\n",
       "      <td>226,145.81</td>\n",
       "      <td>243,074.86</td>\n",
       "      <td>238,132.12</td>\n",
       "      <td>225,899.06</td>\n",
       "      <td>225,193.42</td>\n",
       "      <td>225,776.54</td>\n",
       "      <td>377,092.24</td>\n",
       "    </tr>\n",
       "    <tr>\n",
       "      <th>33772</th>\n",
       "      <td>816,260.00</td>\n",
       "      <td>404,804.07</td>\n",
       "      <td>417,595.86</td>\n",
       "      <td>438,151.75</td>\n",
       "      <td>413,479.96</td>\n",
       "      <td>406,814.12</td>\n",
       "      <td>411,092.34</td>\n",
       "      <td>377,092.24</td>\n",
       "    </tr>\n",
       "    <tr>\n",
       "      <th>28672</th>\n",
       "      <td>478,000.00</td>\n",
       "      <td>487,522.62</td>\n",
       "      <td>444,643.04</td>\n",
       "      <td>472,608.76</td>\n",
       "      <td>437,511.13</td>\n",
       "      <td>427,483.55</td>\n",
       "      <td>432,266.64</td>\n",
       "      <td>377,092.24</td>\n",
       "    </tr>\n",
       "  </tbody>\n",
       "</table>\n",
       "</div>"
      ],
      "text/plain": [
       "          actual  (multiple_rfe_k=, 2)  (multiple_rfe_k=, 3)  \\\n",
       "50904 170,700.00            424,588.29            405,834.97   \n",
       "22280 395,742.00            501,825.12            530,898.33   \n",
       "16371 222,815.00            226,145.81            243,074.86   \n",
       "33772 816,260.00            404,804.07            417,595.86   \n",
       "28672 478,000.00            487,522.62            444,643.04   \n",
       "\n",
       "       (multiple_rfe_k=, 4)  (multiple_rfe_k=, 5)  (multiple_rfe_k=, 6)  \\\n",
       "50904            392,597.52            366,442.40            359,170.19   \n",
       "22280            538,752.58            571,359.34            595,129.29   \n",
       "16371            238,132.12            225,899.06            225,193.42   \n",
       "33772            438,151.75            413,479.96            406,814.12   \n",
       "28672            472,608.76            437,511.13            427,483.55   \n",
       "\n",
       "       (multiple_rfe_k=, 7)   baseline  \n",
       "50904            354,588.36 377,092.24  \n",
       "22280            593,258.35 377,092.24  \n",
       "16371            225,776.54 377,092.24  \n",
       "33772            411,092.34 377,092.24  \n",
       "28672            432,266.64 377,092.24  "
      ]
     },
     "execution_count": 25,
     "metadata": {},
     "output_type": "execute_result"
    }
   ],
   "source": [
    "validate_predictions.head()\n"
   ]
  },
  {
   "cell_type": "code",
   "execution_count": 26,
   "id": "63b16374",
   "metadata": {},
   "outputs": [
    {
     "data": {
      "text/plain": [
       "actual                       0.00\n",
       "(multiple_rfe_k=, 7)   205,507.56\n",
       "(multiple_rfe_k=, 6)   205,561.22\n",
       "(multiple_rfe_k=, 5)   205,988.21\n",
       "(multiple_rfe_k=, 4)   207,997.73\n",
       "(multiple_rfe_k=, 3)   208,212.92\n",
       "(multiple_rfe_k=, 2)   209,451.26\n",
       "baseline               235,949.69\n",
       "dtype: float64"
      ]
     },
     "execution_count": 26,
     "metadata": {},
     "output_type": "execute_result"
    }
   ],
   "source": [
    "def calculate_rmse(y_predicted):\n",
    "    return mean_squared_error(validate_predictions.actual, y_predicted, squared = False)\n",
    "\n",
    "validate_predictions.apply(calculate_rmse).sort_values()"
   ]
  },
  {
   "cell_type": "code",
   "execution_count": null,
   "id": "17969917",
   "metadata": {},
   "outputs": [],
   "source": [
    "# k=7 is the best\n",
    "\n",
    "228490-227162"
   ]
  },
  {
   "cell_type": "markdown",
   "id": "965a7506",
   "metadata": {},
   "source": [
    "**K=7 has the lowest rmse, highest performance**"
   ]
  },
  {
   "cell_type": "code",
   "execution_count": null,
   "id": "87f4ef03",
   "metadata": {},
   "outputs": [],
   "source": [
    "# Adding k=7 to final table\n",
    "lm = LinearRegression()\n",
    " # 1. Transform our X\n",
    "    \n",
    "rfe = RFE(lm, n_features_to_select=7)\n",
    "rfe.fit(X_train, y_train)\n",
    "# 2. Use the transformed x in our model\n",
    "X_train_rfe = rfe.transform(X_train)\n",
    "X_validate_rfe = rfe.transform(X_validate)\n",
    "X_test_rfe = rfe.transform(X_test)\n",
    "lm.fit(X_train_rfe, y_train)\n",
    "    \n",
    "# Make predictions\n",
    "final_train_predictions['multiple_rfe_k=7'] = lm.predict(X_train_rfe)\n",
    "final_validate_predictions['multiple_rfe_k=7'] = lm.predict(X_validate_rfe)\n",
    "final_test_predictions['multiple_rfe_k=7']=lm.predict(X_test_rfe)"
   ]
  },
  {
   "cell_type": "markdown",
   "id": "da31686c",
   "metadata": {},
   "source": [
    "## Polynomial Features"
   ]
  },
  {
   "cell_type": "code",
   "execution_count": 27,
   "id": "f6cf1c0c",
   "metadata": {},
   "outputs": [],
   "source": [
    "train_pred = pd.DataFrame({\n",
    "    'actual': s_train.assessed_value\n",
    "}) \n",
    "validate_pred = pd.DataFrame({\n",
    "    'actual': s_validate.assessed_value\n",
    "}) "
   ]
  },
  {
   "cell_type": "code",
   "execution_count": 28,
   "id": "9ea57344",
   "metadata": {},
   "outputs": [],
   "source": [
    "from sklearn.preprocessing import PolynomialFeatures\n",
    "\n",
    "# 1. Generate Polynomial Features, k=2\n",
    "poly = PolynomialFeatures(degree=2, include_bias=False, interaction_only=False)\n",
    "poly.fit(X_train)\n",
    "X_train_poly = pd.DataFrame(\n",
    "    poly.transform(X_train),\n",
    "    columns=poly.get_feature_names(X_train.columns),\n",
    "    index=X_train.index,\n",
    ")"
   ]
  },
  {
   "cell_type": "code",
   "execution_count": 29,
   "id": "b2bf91ba",
   "metadata": {},
   "outputs": [
    {
     "data": {
      "text/html": [
       "<div>\n",
       "<style scoped>\n",
       "    .dataframe tbody tr th:only-of-type {\n",
       "        vertical-align: middle;\n",
       "    }\n",
       "\n",
       "    .dataframe tbody tr th {\n",
       "        vertical-align: top;\n",
       "    }\n",
       "\n",
       "    .dataframe thead th {\n",
       "        text-align: right;\n",
       "    }\n",
       "</style>\n",
       "<table border=\"1\" class=\"dataframe\">\n",
       "  <thead>\n",
       "    <tr style=\"text-align: right;\">\n",
       "      <th></th>\n",
       "      <th>actual</th>\n",
       "      <th>baseline</th>\n",
       "      <th>polynomial degree 2</th>\n",
       "    </tr>\n",
       "  </thead>\n",
       "  <tbody>\n",
       "    <tr>\n",
       "      <th>36490</th>\n",
       "      <td>702,091.00</td>\n",
       "      <td>380,065.99</td>\n",
       "      <td>330,259.81</td>\n",
       "    </tr>\n",
       "    <tr>\n",
       "      <th>19337</th>\n",
       "      <td>442,099.00</td>\n",
       "      <td>380,065.99</td>\n",
       "      <td>388,463.44</td>\n",
       "    </tr>\n",
       "    <tr>\n",
       "      <th>10447</th>\n",
       "      <td>76,613.00</td>\n",
       "      <td>380,065.99</td>\n",
       "      <td>304,541.25</td>\n",
       "    </tr>\n",
       "    <tr>\n",
       "      <th>42559</th>\n",
       "      <td>802,437.00</td>\n",
       "      <td>380,065.99</td>\n",
       "      <td>663,056.97</td>\n",
       "    </tr>\n",
       "    <tr>\n",
       "      <th>34091</th>\n",
       "      <td>188,011.00</td>\n",
       "      <td>380,065.99</td>\n",
       "      <td>558,063.25</td>\n",
       "    </tr>\n",
       "  </tbody>\n",
       "</table>\n",
       "</div>"
      ],
      "text/plain": [
       "          actual   baseline  polynomial degree 2\n",
       "36490 702,091.00 380,065.99           330,259.81\n",
       "19337 442,099.00 380,065.99           388,463.44\n",
       "10447  76,613.00 380,065.99           304,541.25\n",
       "42559 802,437.00 380,065.99           663,056.97\n",
       "34091 188,011.00 380,065.99           558,063.25"
      ]
     },
     "execution_count": 29,
     "metadata": {},
     "output_type": "execute_result"
    }
   ],
   "source": [
    "lm = LinearRegression()\n",
    "lm.fit(X_train_poly, y_train)\n",
    "X_validate_poly = poly.transform(X_validate)\n",
    "train_pred['baseline'] = y_train.mean()\n",
    "validate_pred['baseline'] = y_validate.mean()\n",
    "train_pred['polynomial degree 2'] = lm.predict(X_train_poly)\n",
    "validate_pred['polynomial degree 2'] = lm.predict(X_validate_poly)\n",
    "train_pred.head()"
   ]
  },
  {
   "cell_type": "code",
   "execution_count": 30,
   "id": "fda8d13e",
   "metadata": {},
   "outputs": [
    {
     "data": {
      "text/html": [
       "<div>\n",
       "<style scoped>\n",
       "    .dataframe tbody tr th:only-of-type {\n",
       "        vertical-align: middle;\n",
       "    }\n",
       "\n",
       "    .dataframe tbody tr th {\n",
       "        vertical-align: top;\n",
       "    }\n",
       "\n",
       "    .dataframe thead th {\n",
       "        text-align: right;\n",
       "    }\n",
       "</style>\n",
       "<table border=\"1\" class=\"dataframe\">\n",
       "  <thead>\n",
       "    <tr style=\"text-align: right;\">\n",
       "      <th></th>\n",
       "      <th>actual</th>\n",
       "      <th>baseline</th>\n",
       "      <th>polynomial degree 2</th>\n",
       "    </tr>\n",
       "  </thead>\n",
       "  <tbody>\n",
       "    <tr>\n",
       "      <th>50904</th>\n",
       "      <td>170,700.00</td>\n",
       "      <td>377,092.24</td>\n",
       "      <td>312,777.74</td>\n",
       "    </tr>\n",
       "    <tr>\n",
       "      <th>22280</th>\n",
       "      <td>395,742.00</td>\n",
       "      <td>377,092.24</td>\n",
       "      <td>652,268.35</td>\n",
       "    </tr>\n",
       "    <tr>\n",
       "      <th>16371</th>\n",
       "      <td>222,815.00</td>\n",
       "      <td>377,092.24</td>\n",
       "      <td>258,911.62</td>\n",
       "    </tr>\n",
       "    <tr>\n",
       "      <th>33772</th>\n",
       "      <td>816,260.00</td>\n",
       "      <td>377,092.24</td>\n",
       "      <td>431,382.56</td>\n",
       "    </tr>\n",
       "    <tr>\n",
       "      <th>28672</th>\n",
       "      <td>478,000.00</td>\n",
       "      <td>377,092.24</td>\n",
       "      <td>457,754.49</td>\n",
       "    </tr>\n",
       "  </tbody>\n",
       "</table>\n",
       "</div>"
      ],
      "text/plain": [
       "          actual   baseline  polynomial degree 2\n",
       "50904 170,700.00 377,092.24           312,777.74\n",
       "22280 395,742.00 377,092.24           652,268.35\n",
       "16371 222,815.00 377,092.24           258,911.62\n",
       "33772 816,260.00 377,092.24           431,382.56\n",
       "28672 478,000.00 377,092.24           457,754.49"
      ]
     },
     "execution_count": 30,
     "metadata": {},
     "output_type": "execute_result"
    }
   ],
   "source": [
    "validate_pred.head()"
   ]
  },
  {
   "cell_type": "code",
   "execution_count": 31,
   "id": "b2339e00",
   "metadata": {},
   "outputs": [],
   "source": [
    "train_rmse = mean_squared_error(train_pred.actual,train_pred['polynomial degree 2'], squared = False)\n",
    "validate_rmse = mean_squared_error(validate_pred.actual,validate_pred['polynomial degree 2'], squared = False)"
   ]
  },
  {
   "cell_type": "code",
   "execution_count": 32,
   "id": "276f0096",
   "metadata": {},
   "outputs": [],
   "source": [
    "train_rmse_b = mean_squared_error(train_pred.actual,train_pred['baseline'], squared = False)\n",
    "validate_rmse_b = mean_squared_error(validate_pred.actual,validate_pred['baseline'], squared = False)"
   ]
  },
  {
   "cell_type": "code",
   "execution_count": 33,
   "id": "d579eaa2",
   "metadata": {},
   "outputs": [
    {
     "data": {
      "text/plain": [
       "(202295.3609893082, 199981.93217925238)"
      ]
     },
     "execution_count": 33,
     "metadata": {},
     "output_type": "execute_result"
    }
   ],
   "source": [
    "train_rmse, validate_rmse"
   ]
  },
  {
   "cell_type": "code",
   "execution_count": 34,
   "id": "95919c09",
   "metadata": {},
   "outputs": [
    {
     "data": {
      "text/plain": [
       "-2313.428810055804"
      ]
     },
     "execution_count": 34,
     "metadata": {},
     "output_type": "execute_result"
    }
   ],
   "source": [
    "validate_rmse-train_rmse"
   ]
  },
  {
   "cell_type": "code",
   "execution_count": 35,
   "id": "521a97e9",
   "metadata": {},
   "outputs": [
    {
     "data": {
      "text/plain": [
       "(237872.06885584313, 235949.6867801346)"
      ]
     },
     "execution_count": 35,
     "metadata": {},
     "output_type": "execute_result"
    }
   ],
   "source": [
    "train_rmse_b, validate_rmse_b"
   ]
  },
  {
   "cell_type": "code",
   "execution_count": 36,
   "id": "7a4bac18",
   "metadata": {},
   "outputs": [
    {
     "data": {
      "text/html": [
       "<div>\n",
       "<style scoped>\n",
       "    .dataframe tbody tr th:only-of-type {\n",
       "        vertical-align: middle;\n",
       "    }\n",
       "\n",
       "    .dataframe tbody tr th {\n",
       "        vertical-align: top;\n",
       "    }\n",
       "\n",
       "    .dataframe thead th {\n",
       "        text-align: right;\n",
       "    }\n",
       "</style>\n",
       "<table border=\"1\" class=\"dataframe\">\n",
       "  <thead>\n",
       "    <tr style=\"text-align: right;\">\n",
       "      <th></th>\n",
       "      <th>actual</th>\n",
       "      <th>baseline</th>\n",
       "      <th>polynomial degree 2</th>\n",
       "      <th>polynomial degree 2 only interaction</th>\n",
       "    </tr>\n",
       "  </thead>\n",
       "  <tbody>\n",
       "    <tr>\n",
       "      <th>36490</th>\n",
       "      <td>702,091.00</td>\n",
       "      <td>380,065.99</td>\n",
       "      <td>330,259.81</td>\n",
       "      <td>330,661.04</td>\n",
       "    </tr>\n",
       "    <tr>\n",
       "      <th>19337</th>\n",
       "      <td>442,099.00</td>\n",
       "      <td>380,065.99</td>\n",
       "      <td>388,463.44</td>\n",
       "      <td>386,507.93</td>\n",
       "    </tr>\n",
       "    <tr>\n",
       "      <th>10447</th>\n",
       "      <td>76,613.00</td>\n",
       "      <td>380,065.99</td>\n",
       "      <td>304,541.25</td>\n",
       "      <td>303,762.97</td>\n",
       "    </tr>\n",
       "    <tr>\n",
       "      <th>42559</th>\n",
       "      <td>802,437.00</td>\n",
       "      <td>380,065.99</td>\n",
       "      <td>663,056.97</td>\n",
       "      <td>666,817.90</td>\n",
       "    </tr>\n",
       "    <tr>\n",
       "      <th>34091</th>\n",
       "      <td>188,011.00</td>\n",
       "      <td>380,065.99</td>\n",
       "      <td>558,063.25</td>\n",
       "      <td>565,992.28</td>\n",
       "    </tr>\n",
       "  </tbody>\n",
       "</table>\n",
       "</div>"
      ],
      "text/plain": [
       "          actual   baseline  polynomial degree 2  \\\n",
       "36490 702,091.00 380,065.99           330,259.81   \n",
       "19337 442,099.00 380,065.99           388,463.44   \n",
       "10447  76,613.00 380,065.99           304,541.25   \n",
       "42559 802,437.00 380,065.99           663,056.97   \n",
       "34091 188,011.00 380,065.99           558,063.25   \n",
       "\n",
       "       polynomial degree 2 only interaction  \n",
       "36490                            330,661.04  \n",
       "19337                            386,507.93  \n",
       "10447                            303,762.97  \n",
       "42559                            666,817.90  \n",
       "34091                            565,992.28  "
      ]
     },
     "execution_count": 36,
     "metadata": {},
     "output_type": "execute_result"
    }
   ],
   "source": [
    "# Interaction terms only\n",
    "\n",
    "poly = PolynomialFeatures(degree=2, include_bias=False, interaction_only=True)\n",
    "poly.fit(X_train)\n",
    "X_train_poly = pd.DataFrame(\n",
    "    poly.transform(X_train),\n",
    "    columns=poly.get_feature_names(X_train.columns),\n",
    "    index=X_train.index,\n",
    ")\n",
    "lm = LinearRegression()\n",
    "lm.fit(X_train_poly, y_train)\n",
    "\n",
    "X_validate_poly = poly.transform(X_validate)\n",
    "train_pred['polynomial degree 2 only interaction'] = lm.predict(X_train_poly)\n",
    "validate_pred['polynomial degree 2 only interaction'] = lm.predict(X_validate_poly)\n",
    "train_pred.head()"
   ]
  },
  {
   "cell_type": "code",
   "execution_count": 37,
   "id": "152e0197",
   "metadata": {},
   "outputs": [
    {
     "data": {
      "text/plain": [
       "(202395.46231037687, 200172.90419428024)"
      ]
     },
     "execution_count": 37,
     "metadata": {},
     "output_type": "execute_result"
    }
   ],
   "source": [
    "train_rmse = mean_squared_error(train_pred.actual,train_pred['polynomial degree 2 only interaction'], squared = False)\n",
    "validate_rmse = mean_squared_error(validate_pred.actual,validate_pred['polynomial degree 2 only interaction'], squared = False)\n",
    "train_rmse, validate_rmse"
   ]
  },
  {
   "cell_type": "code",
   "execution_count": 38,
   "id": "e4936ca4",
   "metadata": {},
   "outputs": [
    {
     "data": {
      "text/plain": [
       "-2222.558116096625"
      ]
     },
     "execution_count": 38,
     "metadata": {},
     "output_type": "execute_result"
    }
   ],
   "source": [
    "validate_rmse-train_rmse"
   ]
  },
  {
   "cell_type": "code",
   "execution_count": 39,
   "id": "a75646e2",
   "metadata": {},
   "outputs": [],
   "source": [
    "# k=3\n",
    "poly = PolynomialFeatures(degree=3, include_bias=False, interaction_only=False)\n",
    "poly.fit(X_train)\n",
    "X_train_poly = pd.DataFrame(\n",
    "    poly.transform(X_train),\n",
    "    columns=poly.get_feature_names(X_train.columns),\n",
    "    index=X_train.index,\n",
    ")"
   ]
  },
  {
   "cell_type": "code",
   "execution_count": 40,
   "id": "3a0b19b7",
   "metadata": {},
   "outputs": [
    {
     "data": {
      "text/html": [
       "<div>\n",
       "<style scoped>\n",
       "    .dataframe tbody tr th:only-of-type {\n",
       "        vertical-align: middle;\n",
       "    }\n",
       "\n",
       "    .dataframe tbody tr th {\n",
       "        vertical-align: top;\n",
       "    }\n",
       "\n",
       "    .dataframe thead th {\n",
       "        text-align: right;\n",
       "    }\n",
       "</style>\n",
       "<table border=\"1\" class=\"dataframe\">\n",
       "  <thead>\n",
       "    <tr style=\"text-align: right;\">\n",
       "      <th></th>\n",
       "      <th>actual</th>\n",
       "      <th>baseline</th>\n",
       "      <th>polynomial degree 2</th>\n",
       "      <th>polynomial degree 2 only interaction</th>\n",
       "      <th>polynomial degree 3</th>\n",
       "    </tr>\n",
       "  </thead>\n",
       "  <tbody>\n",
       "    <tr>\n",
       "      <th>36490</th>\n",
       "      <td>702,091.00</td>\n",
       "      <td>380,065.99</td>\n",
       "      <td>330,259.81</td>\n",
       "      <td>330,661.04</td>\n",
       "      <td>324,717.82</td>\n",
       "    </tr>\n",
       "    <tr>\n",
       "      <th>19337</th>\n",
       "      <td>442,099.00</td>\n",
       "      <td>380,065.99</td>\n",
       "      <td>388,463.44</td>\n",
       "      <td>386,507.93</td>\n",
       "      <td>366,797.48</td>\n",
       "    </tr>\n",
       "    <tr>\n",
       "      <th>10447</th>\n",
       "      <td>76,613.00</td>\n",
       "      <td>380,065.99</td>\n",
       "      <td>304,541.25</td>\n",
       "      <td>303,762.97</td>\n",
       "      <td>309,260.45</td>\n",
       "    </tr>\n",
       "    <tr>\n",
       "      <th>42559</th>\n",
       "      <td>802,437.00</td>\n",
       "      <td>380,065.99</td>\n",
       "      <td>663,056.97</td>\n",
       "      <td>666,817.90</td>\n",
       "      <td>785,175.52</td>\n",
       "    </tr>\n",
       "    <tr>\n",
       "      <th>34091</th>\n",
       "      <td>188,011.00</td>\n",
       "      <td>380,065.99</td>\n",
       "      <td>558,063.25</td>\n",
       "      <td>565,992.28</td>\n",
       "      <td>592,092.20</td>\n",
       "    </tr>\n",
       "  </tbody>\n",
       "</table>\n",
       "</div>"
      ],
      "text/plain": [
       "          actual   baseline  polynomial degree 2  \\\n",
       "36490 702,091.00 380,065.99           330,259.81   \n",
       "19337 442,099.00 380,065.99           388,463.44   \n",
       "10447  76,613.00 380,065.99           304,541.25   \n",
       "42559 802,437.00 380,065.99           663,056.97   \n",
       "34091 188,011.00 380,065.99           558,063.25   \n",
       "\n",
       "       polynomial degree 2 only interaction  polynomial degree 3  \n",
       "36490                            330,661.04           324,717.82  \n",
       "19337                            386,507.93           366,797.48  \n",
       "10447                            303,762.97           309,260.45  \n",
       "42559                            666,817.90           785,175.52  \n",
       "34091                            565,992.28           592,092.20  "
      ]
     },
     "execution_count": 40,
     "metadata": {},
     "output_type": "execute_result"
    }
   ],
   "source": [
    "lm = LinearRegression()\n",
    "lm.fit(X_train_poly, y_train)\n",
    "X_validate_poly = poly.transform(X_validate)\n",
    "train_pred['baseline'] = y_train.mean()\n",
    "validate_pred['baseline'] = y_validate.mean()\n",
    "train_pred['polynomial degree 3'] = lm.predict(X_train_poly)\n",
    "validate_pred['polynomial degree 3'] = lm.predict(X_validate_poly)\n",
    "train_pred.head()"
   ]
  },
  {
   "cell_type": "code",
   "execution_count": 41,
   "id": "8b61290e",
   "metadata": {},
   "outputs": [
    {
     "data": {
      "text/plain": [
       "(200429.34706541212, 199529.26893855724)"
      ]
     },
     "execution_count": 41,
     "metadata": {},
     "output_type": "execute_result"
    }
   ],
   "source": [
    "train_rmse = mean_squared_error(train_pred.actual,train_pred['polynomial degree 3'], squared = False)\n",
    "validate_rmse = mean_squared_error(validate_pred.actual,validate_pred['polynomial degree 3'], squared = False)\n",
    "train_rmse, validate_rmse"
   ]
  },
  {
   "cell_type": "code",
   "execution_count": 42,
   "id": "5ecae974",
   "metadata": {},
   "outputs": [],
   "source": [
    "# k=4\n",
    "poly = PolynomialFeatures(degree=4, include_bias=False, interaction_only=False)\n",
    "poly.fit(X_train)\n",
    "X_train_poly = pd.DataFrame(\n",
    "    poly.transform(X_train),\n",
    "    columns=poly.get_feature_names(X_train.columns),\n",
    "    index=X_train.index,\n",
    ")"
   ]
  },
  {
   "cell_type": "code",
   "execution_count": 43,
   "id": "006e5590",
   "metadata": {},
   "outputs": [
    {
     "data": {
      "text/html": [
       "<div>\n",
       "<style scoped>\n",
       "    .dataframe tbody tr th:only-of-type {\n",
       "        vertical-align: middle;\n",
       "    }\n",
       "\n",
       "    .dataframe tbody tr th {\n",
       "        vertical-align: top;\n",
       "    }\n",
       "\n",
       "    .dataframe thead th {\n",
       "        text-align: right;\n",
       "    }\n",
       "</style>\n",
       "<table border=\"1\" class=\"dataframe\">\n",
       "  <thead>\n",
       "    <tr style=\"text-align: right;\">\n",
       "      <th></th>\n",
       "      <th>actual</th>\n",
       "      <th>baseline</th>\n",
       "      <th>polynomial degree 2</th>\n",
       "      <th>polynomial degree 2 only interaction</th>\n",
       "      <th>polynomial degree 3</th>\n",
       "      <th>polynomial degree 4</th>\n",
       "    </tr>\n",
       "  </thead>\n",
       "  <tbody>\n",
       "    <tr>\n",
       "      <th>36490</th>\n",
       "      <td>702,091.00</td>\n",
       "      <td>380,065.99</td>\n",
       "      <td>330,259.81</td>\n",
       "      <td>330,661.04</td>\n",
       "      <td>324,717.82</td>\n",
       "      <td>321,177.35</td>\n",
       "    </tr>\n",
       "    <tr>\n",
       "      <th>19337</th>\n",
       "      <td>442,099.00</td>\n",
       "      <td>380,065.99</td>\n",
       "      <td>388,463.44</td>\n",
       "      <td>386,507.93</td>\n",
       "      <td>366,797.48</td>\n",
       "      <td>361,572.64</td>\n",
       "    </tr>\n",
       "    <tr>\n",
       "      <th>10447</th>\n",
       "      <td>76,613.00</td>\n",
       "      <td>380,065.99</td>\n",
       "      <td>304,541.25</td>\n",
       "      <td>303,762.97</td>\n",
       "      <td>309,260.45</td>\n",
       "      <td>300,658.64</td>\n",
       "    </tr>\n",
       "    <tr>\n",
       "      <th>42559</th>\n",
       "      <td>802,437.00</td>\n",
       "      <td>380,065.99</td>\n",
       "      <td>663,056.97</td>\n",
       "      <td>666,817.90</td>\n",
       "      <td>785,175.52</td>\n",
       "      <td>760,988.45</td>\n",
       "    </tr>\n",
       "    <tr>\n",
       "      <th>34091</th>\n",
       "      <td>188,011.00</td>\n",
       "      <td>380,065.99</td>\n",
       "      <td>558,063.25</td>\n",
       "      <td>565,992.28</td>\n",
       "      <td>592,092.20</td>\n",
       "      <td>575,510.96</td>\n",
       "    </tr>\n",
       "  </tbody>\n",
       "</table>\n",
       "</div>"
      ],
      "text/plain": [
       "          actual   baseline  polynomial degree 2  \\\n",
       "36490 702,091.00 380,065.99           330,259.81   \n",
       "19337 442,099.00 380,065.99           388,463.44   \n",
       "10447  76,613.00 380,065.99           304,541.25   \n",
       "42559 802,437.00 380,065.99           663,056.97   \n",
       "34091 188,011.00 380,065.99           558,063.25   \n",
       "\n",
       "       polynomial degree 2 only interaction  polynomial degree 3  \\\n",
       "36490                            330,661.04           324,717.82   \n",
       "19337                            386,507.93           366,797.48   \n",
       "10447                            303,762.97           309,260.45   \n",
       "42559                            666,817.90           785,175.52   \n",
       "34091                            565,992.28           592,092.20   \n",
       "\n",
       "       polynomial degree 4  \n",
       "36490           321,177.35  \n",
       "19337           361,572.64  \n",
       "10447           300,658.64  \n",
       "42559           760,988.45  \n",
       "34091           575,510.96  "
      ]
     },
     "execution_count": 43,
     "metadata": {},
     "output_type": "execute_result"
    }
   ],
   "source": [
    "lm = LinearRegression()\n",
    "lm.fit(X_train_poly, y_train)\n",
    "X_validate_poly = poly.transform(X_validate)\n",
    "train_pred['baseline'] = y_train.mean()\n",
    "validate_pred['baseline'] = y_validate.mean()\n",
    "train_pred['polynomial degree 4'] = lm.predict(X_train_poly)\n",
    "validate_pred['polynomial degree 4'] = lm.predict(X_validate_poly)\n",
    "train_pred.head()"
   ]
  },
  {
   "cell_type": "code",
   "execution_count": 44,
   "id": "f129efb3",
   "metadata": {},
   "outputs": [
    {
     "data": {
      "text/plain": [
       "(198875.59208328978, 200124.43203787412)"
      ]
     },
     "execution_count": 44,
     "metadata": {},
     "output_type": "execute_result"
    }
   ],
   "source": [
    "train_rmse = mean_squared_error(train_pred.actual,train_pred['polynomial degree 4'], squared = False)\n",
    "validate_rmse = mean_squared_error(validate_pred.actual,validate_pred['polynomial degree 4'], squared = False)\n",
    "train_rmse, validate_rmse"
   ]
  },
  {
   "cell_type": "code",
   "execution_count": 45,
   "id": "5c5fe7f5",
   "metadata": {},
   "outputs": [],
   "source": [
    "# k=5\n",
    "poly = PolynomialFeatures(degree=5, include_bias=False, interaction_only=False)\n",
    "poly.fit(X_train)\n",
    "X_train_poly = pd.DataFrame(\n",
    "    poly.transform(X_train),\n",
    "    columns=poly.get_feature_names(X_train.columns),\n",
    "    index=X_train.index,\n",
    ")"
   ]
  },
  {
   "cell_type": "code",
   "execution_count": 46,
   "id": "3c332c8a",
   "metadata": {},
   "outputs": [
    {
     "data": {
      "text/html": [
       "<div>\n",
       "<style scoped>\n",
       "    .dataframe tbody tr th:only-of-type {\n",
       "        vertical-align: middle;\n",
       "    }\n",
       "\n",
       "    .dataframe tbody tr th {\n",
       "        vertical-align: top;\n",
       "    }\n",
       "\n",
       "    .dataframe thead th {\n",
       "        text-align: right;\n",
       "    }\n",
       "</style>\n",
       "<table border=\"1\" class=\"dataframe\">\n",
       "  <thead>\n",
       "    <tr style=\"text-align: right;\">\n",
       "      <th></th>\n",
       "      <th>actual</th>\n",
       "      <th>baseline</th>\n",
       "      <th>polynomial degree 2</th>\n",
       "      <th>polynomial degree 2 only interaction</th>\n",
       "      <th>polynomial degree 3</th>\n",
       "      <th>polynomial degree 4</th>\n",
       "      <th>polynomial degree 5</th>\n",
       "    </tr>\n",
       "  </thead>\n",
       "  <tbody>\n",
       "    <tr>\n",
       "      <th>36490</th>\n",
       "      <td>702,091.00</td>\n",
       "      <td>380,065.99</td>\n",
       "      <td>330,259.81</td>\n",
       "      <td>330,661.04</td>\n",
       "      <td>324,717.82</td>\n",
       "      <td>321,177.35</td>\n",
       "      <td>307,018.44</td>\n",
       "    </tr>\n",
       "    <tr>\n",
       "      <th>19337</th>\n",
       "      <td>442,099.00</td>\n",
       "      <td>380,065.99</td>\n",
       "      <td>388,463.44</td>\n",
       "      <td>386,507.93</td>\n",
       "      <td>366,797.48</td>\n",
       "      <td>361,572.64</td>\n",
       "      <td>364,794.92</td>\n",
       "    </tr>\n",
       "    <tr>\n",
       "      <th>10447</th>\n",
       "      <td>76,613.00</td>\n",
       "      <td>380,065.99</td>\n",
       "      <td>304,541.25</td>\n",
       "      <td>303,762.97</td>\n",
       "      <td>309,260.45</td>\n",
       "      <td>300,658.64</td>\n",
       "      <td>305,885.55</td>\n",
       "    </tr>\n",
       "    <tr>\n",
       "      <th>42559</th>\n",
       "      <td>802,437.00</td>\n",
       "      <td>380,065.99</td>\n",
       "      <td>663,056.97</td>\n",
       "      <td>666,817.90</td>\n",
       "      <td>785,175.52</td>\n",
       "      <td>760,988.45</td>\n",
       "      <td>744,694.18</td>\n",
       "    </tr>\n",
       "    <tr>\n",
       "      <th>34091</th>\n",
       "      <td>188,011.00</td>\n",
       "      <td>380,065.99</td>\n",
       "      <td>558,063.25</td>\n",
       "      <td>565,992.28</td>\n",
       "      <td>592,092.20</td>\n",
       "      <td>575,510.96</td>\n",
       "      <td>626,801.99</td>\n",
       "    </tr>\n",
       "  </tbody>\n",
       "</table>\n",
       "</div>"
      ],
      "text/plain": [
       "          actual   baseline  polynomial degree 2  \\\n",
       "36490 702,091.00 380,065.99           330,259.81   \n",
       "19337 442,099.00 380,065.99           388,463.44   \n",
       "10447  76,613.00 380,065.99           304,541.25   \n",
       "42559 802,437.00 380,065.99           663,056.97   \n",
       "34091 188,011.00 380,065.99           558,063.25   \n",
       "\n",
       "       polynomial degree 2 only interaction  polynomial degree 3  \\\n",
       "36490                            330,661.04           324,717.82   \n",
       "19337                            386,507.93           366,797.48   \n",
       "10447                            303,762.97           309,260.45   \n",
       "42559                            666,817.90           785,175.52   \n",
       "34091                            565,992.28           592,092.20   \n",
       "\n",
       "       polynomial degree 4  polynomial degree 5  \n",
       "36490           321,177.35           307,018.44  \n",
       "19337           361,572.64           364,794.92  \n",
       "10447           300,658.64           305,885.55  \n",
       "42559           760,988.45           744,694.18  \n",
       "34091           575,510.96           626,801.99  "
      ]
     },
     "execution_count": 46,
     "metadata": {},
     "output_type": "execute_result"
    }
   ],
   "source": [
    "lm = LinearRegression()\n",
    "lm.fit(X_train_poly, y_train)\n",
    "X_validate_poly = poly.transform(X_validate)\n",
    "train_pred['baseline'] = y_train.mean()\n",
    "validate_pred['baseline'] = y_validate.mean()\n",
    "train_pred['polynomial degree 5'] = lm.predict(X_train_poly)\n",
    "validate_pred['polynomial degree 5'] = lm.predict(X_validate_poly)\n",
    "train_pred.head()"
   ]
  },
  {
   "cell_type": "code",
   "execution_count": 47,
   "id": "ba160845",
   "metadata": {},
   "outputs": [
    {
     "data": {
      "text/plain": [
       "(198875.59208328978, 200124.43203787412)"
      ]
     },
     "execution_count": 47,
     "metadata": {},
     "output_type": "execute_result"
    }
   ],
   "source": [
    "train_rmse = mean_squared_error(train_pred.actual,train_pred['polynomial degree 4'], squared = False)\n",
    "validate_rmse = mean_squared_error(validate_pred.actual,validate_pred['polynomial degree 4'], squared = False)\n",
    "train_rmse, validate_rmse"
   ]
  },
  {
   "cell_type": "markdown",
   "id": "8f91b410",
   "metadata": {},
   "source": [
    "**K=3 has the lowest rmse**"
   ]
  },
  {
   "cell_type": "code",
   "execution_count": null,
   "id": "8796a22b",
   "metadata": {},
   "outputs": [],
   "source": [
    "# Adding k=3 to final table\n",
    "poly = PolynomialFeatures(degree=3, include_bias=False, interaction_only=False)\n",
    "poly.fit(X_train)\n",
    "X_train_poly = pd.DataFrame(\n",
    "    poly.transform(X_train),\n",
    "    columns=poly.get_feature_names(X_train.columns),\n",
    "    index=X_train.index,\n",
    ")\n",
    "lm = LinearRegression()\n",
    "lm.fit(X_train_poly, y_train)\n",
    "X_validate_poly = poly.transform(X_validate)\n",
    "X_test_poly = poly.transform(X_test)\n",
    "final_train_predictions['baseline'] = y_train.mean()\n",
    "final_validate_predictions['baseline'] = y_validate.mean()\n",
    "final_test_predictions['baseline'] = y_test.mean()\n",
    "final_train_predictions['polynomial degree 3'] = lm.predict(X_train_poly)\n",
    "final_validate_predictions['polynomial degree 3'] = lm.predict(X_validate_poly)\n",
    "final_test_predictions['polynomial degree 3'] = lm.predict(X_test_poly)"
   ]
  },
  {
   "cell_type": "markdown",
   "id": "669acd53",
   "metadata": {},
   "source": [
    "## Lasso-Lars"
   ]
  },
  {
   "cell_type": "code",
   "execution_count": 48,
   "id": "048f3e7b",
   "metadata": {},
   "outputs": [
    {
     "data": {
      "text/plain": [
       "bedrooms             -203,239.61\n",
       "lot_size             -154,118.26\n",
       "county_Los Angeles    -64,778.51\n",
       "county_Orange            -286.41\n",
       "has_pool               34,416.29\n",
       "age                    40,127.32\n",
       "bathrooms             160,689.93\n",
       "square_feet           770,247.49\n",
       "dtype: float64"
      ]
     },
     "execution_count": 48,
     "metadata": {},
     "output_type": "execute_result"
    }
   ],
   "source": [
    "from sklearn.linear_model import LassoLars\n",
    "# create the model object\n",
    "lars = LassoLars(alpha=0)\n",
    "\n",
    "# fit the model to our training data\n",
    "lars.fit(X_train, y_train)\n",
    "\n",
    "# predict validate\n",
    "X_train_pred_lars = lars.predict(X_train)\n",
    "\n",
    "pd.Series(lars.coef_, index=X_train.columns).sort_values()"
   ]
  },
  {
   "cell_type": "code",
   "execution_count": 49,
   "id": "2b5e4c94",
   "metadata": {},
   "outputs": [],
   "source": [
    "# create the model object\n",
    "lars = LassoLars(alpha=1)\n",
    "\n",
    "# fit the model to our training data\n",
    "lars.fit(X_train, y_train)\n",
    "\n",
    "# predict validate\n",
    "X_train_pred_lars = lars.predict(X_train)\n",
    "X_validate_pred_lars = lars.predict(X_validate)\n",
    "# Add lassolars predictions to our predictions DataFrame\n",
    "train_pred['lasso_lars'] = X_train_pred_lars\n",
    "validate_pred['lasso_lars'] = X_validate_pred_lars"
   ]
  },
  {
   "cell_type": "code",
   "execution_count": 50,
   "id": "de34bef0",
   "metadata": {},
   "outputs": [
    {
     "data": {
      "text/plain": [
       "(208110.17015086598, 205840.74432369764)"
      ]
     },
     "execution_count": 50,
     "metadata": {},
     "output_type": "execute_result"
    }
   ],
   "source": [
    "train_rmse = mean_squared_error(train_pred.actual,train_pred['lasso_lars'], squared = False)\n",
    "validate_rmse = mean_squared_error(validate_pred.actual,validate_pred['lasso_lars'], squared = False)\n",
    "train_rmse, validate_rmse"
   ]
  },
  {
   "cell_type": "code",
   "execution_count": 51,
   "id": "79fe0ad5",
   "metadata": {},
   "outputs": [
    {
     "data": {
      "text/plain": [
       "-2269.4258271683357"
      ]
     },
     "execution_count": 51,
     "metadata": {},
     "output_type": "execute_result"
    }
   ],
   "source": [
    "validate_rmse-train_rmse"
   ]
  },
  {
   "cell_type": "code",
   "execution_count": null,
   "id": "da7877f5",
   "metadata": {},
   "outputs": [],
   "source": [
    "# Adding to final table\n",
    "# create the model object\n",
    "lars = LassoLars(alpha=1)\n",
    "\n",
    "# fit the model to our training data\n",
    "lars.fit(X_train, y_train)\n",
    "\n",
    "# predict validate\n",
    "X_train_pred_lars = lars.predict(X_train)\n",
    "X_validate_pred_lars = lars.predict(X_validate)\n",
    "X_test_pred_lars = lars.predict(X_test)\n",
    "# Add lassolars predictions to our predictions DataFrame\n",
    "final_train_predictions['lasso_lars'] = X_train_pred_lars\n",
    "final_validate_predictions['lasso_lars'] = X_validate_pred_lars\n",
    "final_test_predictions['lasso_lars'] = X_test_pred_lars"
   ]
  },
  {
   "cell_type": "markdown",
   "id": "a0072a42",
   "metadata": {},
   "source": [
    "## Generalized Linear Model"
   ]
  },
  {
   "cell_type": "code",
   "execution_count": 52,
   "id": "856c4691",
   "metadata": {},
   "outputs": [],
   "source": [
    "from sklearn.linear_model import TweedieRegressor\n",
    "\n",
    "# create the model object\n",
    "glm = TweedieRegressor(power=1, alpha=0)\n",
    "\n",
    "# fit the model to our training data\n",
    "glm.fit(X_train, y_train)\n",
    "\n",
    "# predict train\n",
    "X_train_predict_glm = glm.predict(X_train)\n",
    "X_validate_predict_glm = glm.predict(X_validate)\n",
    "# Add lassolars predictions to our predictions DataFrame\n",
    "train_pred['glm'] = X_train_predict_glm\n",
    "validate_pred['glm'] = X_validate_predict_glm"
   ]
  },
  {
   "cell_type": "code",
   "execution_count": 53,
   "id": "b2049dac",
   "metadata": {},
   "outputs": [
    {
     "data": {
      "text/plain": [
       "(209139.56707843233, 206658.25762675548)"
      ]
     },
     "execution_count": 53,
     "metadata": {},
     "output_type": "execute_result"
    }
   ],
   "source": [
    "train_rmse = mean_squared_error(train_pred.actual,train_pred['glm'], squared = False)\n",
    "validate_rmse = mean_squared_error(validate_pred.actual,validate_pred['glm'], squared = False)\n",
    "train_rmse, validate_rmse"
   ]
  },
  {
   "cell_type": "code",
   "execution_count": 54,
   "id": "b59ef8e0",
   "metadata": {},
   "outputs": [
    {
     "data": {
      "text/plain": [
       "-2481.309451676847"
      ]
     },
     "execution_count": 54,
     "metadata": {},
     "output_type": "execute_result"
    }
   ],
   "source": [
    "validate_rmse-train_rmse"
   ]
  },
  {
   "cell_type": "code",
   "execution_count": 55,
   "id": "3ede806f",
   "metadata": {},
   "outputs": [],
   "source": [
    "# Adding to final table\n",
    "\n",
    "glm = TweedieRegressor(power=1, alpha=0)\n",
    "\n",
    "# fit the model to our training data\n",
    "glm.fit(X_train, y_train)\n",
    "\n",
    "# predict train\n",
    "X_train_predict_glm = glm.predict(X_train)\n",
    "X_validate_predict_glm = glm.predict(X_validate)\n",
    "X_test_predict_glm = glm.predict(X_test)\n",
    "# Add lassolars predictions to our predictions DataFrame\n",
    "final_train_predictions['glm'] = X_train_predict_glm\n",
    "final_validate_predictions['glm'] = X_validate_predict_glm\n",
    "final_test_predictions['glm'] = X_test_predict_glm"
   ]
  },
  {
   "cell_type": "markdown",
   "id": "223e39b8",
   "metadata": {},
   "source": [
    "## Evaluation"
   ]
  },
  {
   "cell_type": "code",
   "execution_count": null,
   "id": "657002ed",
   "metadata": {},
   "outputs": [],
   "source": [
    "def calculate_rmse(y_predicted):\n",
    "    return mean_squared_error(final_train_predictions.actual, y_predicted, squared = False)\n",
    "\n",
    "final_train_predictions.apply(calculate_rmse).sort_values()"
   ]
  },
  {
   "cell_type": "code",
   "execution_count": null,
   "id": "44e58cb7",
   "metadata": {},
   "outputs": [],
   "source": [
    "def calculate_rmse(y_predicted):\n",
    "    return mean_squared_error(final_validate_predictions.actual, y_predicted, squared = False)\n",
    "\n",
    "final_validate_predictions.apply(calculate_rmse).sort_values()"
   ]
  },
  {
   "cell_type": "code",
   "execution_count": null,
   "id": "546891b4",
   "metadata": {},
   "outputs": [],
   "source": [
    "def calculate_rmse(y_predicted):\n",
    "    return mean_squared_error(final_test_predictions.actual, y_predicted, squared = False)\n",
    "\n",
    "final_test_predictions.apply(calculate_rmse).sort_values()"
   ]
  },
  {
   "cell_type": "code",
   "execution_count": null,
   "id": "5ed8e61e",
   "metadata": {},
   "outputs": [],
   "source": [
    "(277387.85-225323.49)/277387.85"
   ]
  }
 ],
 "metadata": {
  "kernelspec": {
   "display_name": "Python 3 (ipykernel)",
   "language": "python",
   "name": "python3"
  },
  "language_info": {
   "codemirror_mode": {
    "name": "ipython",
    "version": 3
   },
   "file_extension": ".py",
   "mimetype": "text/x-python",
   "name": "python",
   "nbconvert_exporter": "python",
   "pygments_lexer": "ipython3",
   "version": "3.9.12"
  }
 },
 "nbformat": 4,
 "nbformat_minor": 5
}
