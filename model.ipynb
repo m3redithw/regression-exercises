{
 "cells": [
  {
   "cell_type": "code",
   "execution_count": 1,
   "id": "394a8b46",
   "metadata": {},
   "outputs": [],
   "source": [
    "# Ignore warnings\n",
    "import warnings\n",
    "warnings.filterwarnings(\"ignore\")\n",
    "\n",
    "import numpy as np\n",
    "import pandas as pd\n",
    "\n",
    "import matplotlib.pyplot as plt\n",
    "from sklearn.feature_selection import RFE\n",
    "from sklearn.metrics import mean_squared_error\n",
    "from sklearn.preprocessing import MinMaxScaler\n",
    "from sklearn.model_selection import train_test_split\n",
    "\n",
    "import acquire\n",
    "import prepare"
   ]
  },
  {
   "cell_type": "code",
   "execution_count": 2,
   "id": "c8d85d58",
   "metadata": {},
   "outputs": [],
   "source": [
    "pd.options.display.float_format = '{:,.2f}'.format"
   ]
  },
  {
   "cell_type": "code",
   "execution_count": 3,
   "id": "d769516a",
   "metadata": {},
   "outputs": [],
   "source": [
    "rawdf = acquire.get_zillow_data()"
   ]
  },
  {
   "cell_type": "code",
   "execution_count": 4,
   "id": "38789a1d",
   "metadata": {},
   "outputs": [
    {
     "data": {
      "text/html": [
       "<div>\n",
       "<style scoped>\n",
       "    .dataframe tbody tr th:only-of-type {\n",
       "        vertical-align: middle;\n",
       "    }\n",
       "\n",
       "    .dataframe tbody tr th {\n",
       "        vertical-align: top;\n",
       "    }\n",
       "\n",
       "    .dataframe thead th {\n",
       "        text-align: right;\n",
       "    }\n",
       "</style>\n",
       "<table border=\"1\" class=\"dataframe\">\n",
       "  <thead>\n",
       "    <tr style=\"text-align: right;\">\n",
       "      <th></th>\n",
       "      <th>longitude</th>\n",
       "      <th>latitude</th>\n",
       "      <th>bedrooms</th>\n",
       "      <th>bathrooms</th>\n",
       "      <th>square_feet</th>\n",
       "      <th>lot_size</th>\n",
       "      <th>has_pool</th>\n",
       "      <th>fips_code</th>\n",
       "      <th>age</th>\n",
       "      <th>assessed_value</th>\n",
       "      <th>tax_amount</th>\n",
       "    </tr>\n",
       "  </thead>\n",
       "  <tbody>\n",
       "    <tr>\n",
       "      <th>0</th>\n",
       "      <td>-118,217048</td>\n",
       "      <td>33,798657</td>\n",
       "      <td>4.00</td>\n",
       "      <td>2.00</td>\n",
       "      <td>1,339.00</td>\n",
       "      <td>6,107.00</td>\n",
       "      <td>NaN</td>\n",
       "      <td>06037</td>\n",
       "      <td>40.00</td>\n",
       "      <td>298,371.00</td>\n",
       "      <td>3,714.58</td>\n",
       "    </tr>\n",
       "    <tr>\n",
       "      <th>1</th>\n",
       "      <td>-118,531253</td>\n",
       "      <td>34,039467</td>\n",
       "      <td>2.00</td>\n",
       "      <td>2.00</td>\n",
       "      <td>1,231.00</td>\n",
       "      <td>11,837.00</td>\n",
       "      <td>NaN</td>\n",
       "      <td>06037</td>\n",
       "      <td>67.00</td>\n",
       "      <td>161,897.00</td>\n",
       "      <td>2,031.39</td>\n",
       "    </tr>\n",
       "    <tr>\n",
       "      <th>2</th>\n",
       "      <td>-117,613897</td>\n",
       "      <td>33,663005</td>\n",
       "      <td>5.00</td>\n",
       "      <td>3.00</td>\n",
       "      <td>3,008.00</td>\n",
       "      <td>6,760.00</td>\n",
       "      <td>1.00</td>\n",
       "      <td>06059</td>\n",
       "      <td>22.00</td>\n",
       "      <td>472,384.00</td>\n",
       "      <td>7,234.74</td>\n",
       "    </tr>\n",
       "    <tr>\n",
       "      <th>3</th>\n",
       "      <td>-118,393309</td>\n",
       "      <td>34,227422</td>\n",
       "      <td>2.00</td>\n",
       "      <td>1.00</td>\n",
       "      <td>996.00</td>\n",
       "      <td>7,518.00</td>\n",
       "      <td>NaN</td>\n",
       "      <td>06037</td>\n",
       "      <td>77.00</td>\n",
       "      <td>58,693.00</td>\n",
       "      <td>751.66</td>\n",
       "    </tr>\n",
       "    <tr>\n",
       "      <th>4</th>\n",
       "      <td>-118,306261</td>\n",
       "      <td>33,745855</td>\n",
       "      <td>4.00</td>\n",
       "      <td>2.00</td>\n",
       "      <td>1,329.00</td>\n",
       "      <td>7,005.00</td>\n",
       "      <td>NaN</td>\n",
       "      <td>06037</td>\n",
       "      <td>73.00</td>\n",
       "      <td>62,194.00</td>\n",
       "      <td>886.96</td>\n",
       "    </tr>\n",
       "  </tbody>\n",
       "</table>\n",
       "</div>"
      ],
      "text/plain": [
       "     longitude   latitude  bedrooms  bathrooms  square_feet  lot_size  \\\n",
       "0  -118,217048  33,798657      4.00       2.00     1,339.00  6,107.00   \n",
       "1  -118,531253  34,039467      2.00       2.00     1,231.00 11,837.00   \n",
       "2  -117,613897  33,663005      5.00       3.00     3,008.00  6,760.00   \n",
       "3  -118,393309  34,227422      2.00       1.00       996.00  7,518.00   \n",
       "4  -118,306261  33,745855      4.00       2.00     1,329.00  7,005.00   \n",
       "\n",
       "   has_pool fips_code   age  assessed_value  tax_amount  \n",
       "0       NaN     06037 40.00      298,371.00    3,714.58  \n",
       "1       NaN     06037 67.00      161,897.00    2,031.39  \n",
       "2      1.00     06059 22.00      472,384.00    7,234.74  \n",
       "3       NaN     06037 77.00       58,693.00      751.66  \n",
       "4       NaN     06037 73.00       62,194.00      886.96  "
      ]
     },
     "execution_count": 4,
     "metadata": {},
     "output_type": "execute_result"
    }
   ],
   "source": [
    "rawdf.head()"
   ]
  },
  {
   "cell_type": "code",
   "execution_count": 5,
   "id": "9c2db76d",
   "metadata": {},
   "outputs": [],
   "source": [
    "df = prepare.prep_zillow(rawdf)"
   ]
  },
  {
   "cell_type": "code",
   "execution_count": 6,
   "id": "d5c176a1",
   "metadata": {},
   "outputs": [
    {
     "data": {
      "text/plain": [
       "(47123, 23)"
      ]
     },
     "execution_count": 6,
     "metadata": {},
     "output_type": "execute_result"
    }
   ],
   "source": [
    "df.shape"
   ]
  },
  {
   "cell_type": "code",
   "execution_count": 7,
   "id": "f56b1d61",
   "metadata": {},
   "outputs": [
    {
     "data": {
      "text/html": [
       "<div>\n",
       "<style scoped>\n",
       "    .dataframe tbody tr th:only-of-type {\n",
       "        vertical-align: middle;\n",
       "    }\n",
       "\n",
       "    .dataframe tbody tr th {\n",
       "        vertical-align: top;\n",
       "    }\n",
       "\n",
       "    .dataframe thead th {\n",
       "        text-align: right;\n",
       "    }\n",
       "</style>\n",
       "<table border=\"1\" class=\"dataframe\">\n",
       "  <thead>\n",
       "    <tr style=\"text-align: right;\">\n",
       "      <th></th>\n",
       "      <th>longitude</th>\n",
       "      <th>latitude</th>\n",
       "      <th>bedrooms</th>\n",
       "      <th>bathrooms</th>\n",
       "      <th>square_feet</th>\n",
       "      <th>lot_size</th>\n",
       "      <th>has_pool</th>\n",
       "      <th>fips_code</th>\n",
       "      <th>age</th>\n",
       "      <th>assessed_value</th>\n",
       "      <th>...</th>\n",
       "      <th>bathrooms_size</th>\n",
       "      <th>county_Los Angeles</th>\n",
       "      <th>county_Orange</th>\n",
       "      <th>county_Ventura</th>\n",
       "      <th>bedrooms_size_small</th>\n",
       "      <th>bedrooms_size_medium</th>\n",
       "      <th>bedrooms_size_large</th>\n",
       "      <th>bathrooms_size_small</th>\n",
       "      <th>bathrooms_size_medium</th>\n",
       "      <th>bathrooms_size_large</th>\n",
       "    </tr>\n",
       "  </thead>\n",
       "  <tbody>\n",
       "    <tr>\n",
       "      <th>0</th>\n",
       "      <td>-118,217048</td>\n",
       "      <td>33,798657</td>\n",
       "      <td>4.00</td>\n",
       "      <td>2.00</td>\n",
       "      <td>1,339.00</td>\n",
       "      <td>6,107.00</td>\n",
       "      <td>0.00</td>\n",
       "      <td>06037</td>\n",
       "      <td>40</td>\n",
       "      <td>298,371.00</td>\n",
       "      <td>...</td>\n",
       "      <td>small</td>\n",
       "      <td>1</td>\n",
       "      <td>0</td>\n",
       "      <td>0</td>\n",
       "      <td>0</td>\n",
       "      <td>1</td>\n",
       "      <td>0</td>\n",
       "      <td>1</td>\n",
       "      <td>0</td>\n",
       "      <td>0</td>\n",
       "    </tr>\n",
       "    <tr>\n",
       "      <th>1</th>\n",
       "      <td>-118,531253</td>\n",
       "      <td>34,039467</td>\n",
       "      <td>2.00</td>\n",
       "      <td>2.00</td>\n",
       "      <td>1,231.00</td>\n",
       "      <td>11,837.00</td>\n",
       "      <td>0.00</td>\n",
       "      <td>06037</td>\n",
       "      <td>67</td>\n",
       "      <td>161,897.00</td>\n",
       "      <td>...</td>\n",
       "      <td>small</td>\n",
       "      <td>1</td>\n",
       "      <td>0</td>\n",
       "      <td>0</td>\n",
       "      <td>1</td>\n",
       "      <td>0</td>\n",
       "      <td>0</td>\n",
       "      <td>1</td>\n",
       "      <td>0</td>\n",
       "      <td>0</td>\n",
       "    </tr>\n",
       "    <tr>\n",
       "      <th>2</th>\n",
       "      <td>-117,613897</td>\n",
       "      <td>33,663005</td>\n",
       "      <td>5.00</td>\n",
       "      <td>3.00</td>\n",
       "      <td>3,008.00</td>\n",
       "      <td>6,760.00</td>\n",
       "      <td>1.00</td>\n",
       "      <td>06059</td>\n",
       "      <td>22</td>\n",
       "      <td>472,384.00</td>\n",
       "      <td>...</td>\n",
       "      <td>medium</td>\n",
       "      <td>0</td>\n",
       "      <td>1</td>\n",
       "      <td>0</td>\n",
       "      <td>0</td>\n",
       "      <td>0</td>\n",
       "      <td>1</td>\n",
       "      <td>0</td>\n",
       "      <td>1</td>\n",
       "      <td>0</td>\n",
       "    </tr>\n",
       "    <tr>\n",
       "      <th>3</th>\n",
       "      <td>-118,393309</td>\n",
       "      <td>34,227422</td>\n",
       "      <td>2.00</td>\n",
       "      <td>1.00</td>\n",
       "      <td>996.00</td>\n",
       "      <td>7,518.00</td>\n",
       "      <td>0.00</td>\n",
       "      <td>06037</td>\n",
       "      <td>77</td>\n",
       "      <td>58,693.00</td>\n",
       "      <td>...</td>\n",
       "      <td>small</td>\n",
       "      <td>1</td>\n",
       "      <td>0</td>\n",
       "      <td>0</td>\n",
       "      <td>1</td>\n",
       "      <td>0</td>\n",
       "      <td>0</td>\n",
       "      <td>1</td>\n",
       "      <td>0</td>\n",
       "      <td>0</td>\n",
       "    </tr>\n",
       "    <tr>\n",
       "      <th>4</th>\n",
       "      <td>-118,306261</td>\n",
       "      <td>33,745855</td>\n",
       "      <td>4.00</td>\n",
       "      <td>2.00</td>\n",
       "      <td>1,329.00</td>\n",
       "      <td>7,005.00</td>\n",
       "      <td>0.00</td>\n",
       "      <td>06037</td>\n",
       "      <td>73</td>\n",
       "      <td>62,194.00</td>\n",
       "      <td>...</td>\n",
       "      <td>small</td>\n",
       "      <td>1</td>\n",
       "      <td>0</td>\n",
       "      <td>0</td>\n",
       "      <td>0</td>\n",
       "      <td>1</td>\n",
       "      <td>0</td>\n",
       "      <td>1</td>\n",
       "      <td>0</td>\n",
       "      <td>0</td>\n",
       "    </tr>\n",
       "  </tbody>\n",
       "</table>\n",
       "<p>5 rows × 23 columns</p>\n",
       "</div>"
      ],
      "text/plain": [
       "     longitude   latitude  bedrooms  bathrooms  square_feet  lot_size  \\\n",
       "0  -118,217048  33,798657      4.00       2.00     1,339.00  6,107.00   \n",
       "1  -118,531253  34,039467      2.00       2.00     1,231.00 11,837.00   \n",
       "2  -117,613897  33,663005      5.00       3.00     3,008.00  6,760.00   \n",
       "3  -118,393309  34,227422      2.00       1.00       996.00  7,518.00   \n",
       "4  -118,306261  33,745855      4.00       2.00     1,329.00  7,005.00   \n",
       "\n",
       "   has_pool fips_code  age  assessed_value  ...  bathrooms_size  \\\n",
       "0      0.00     06037   40      298,371.00  ...           small   \n",
       "1      0.00     06037   67      161,897.00  ...           small   \n",
       "2      1.00     06059   22      472,384.00  ...          medium   \n",
       "3      0.00     06037   77       58,693.00  ...           small   \n",
       "4      0.00     06037   73       62,194.00  ...           small   \n",
       "\n",
       "  county_Los Angeles county_Orange county_Ventura  bedrooms_size_small  \\\n",
       "0                  1             0              0                    0   \n",
       "1                  1             0              0                    1   \n",
       "2                  0             1              0                    0   \n",
       "3                  1             0              0                    1   \n",
       "4                  1             0              0                    0   \n",
       "\n",
       "   bedrooms_size_medium  bedrooms_size_large  bathrooms_size_small  \\\n",
       "0                     1                    0                     1   \n",
       "1                     0                    0                     1   \n",
       "2                     0                    1                     0   \n",
       "3                     0                    0                     1   \n",
       "4                     1                    0                     1   \n",
       "\n",
       "   bathrooms_size_medium  bathrooms_size_large  \n",
       "0                      0                     0  \n",
       "1                      0                     0  \n",
       "2                      1                     0  \n",
       "3                      0                     0  \n",
       "4                      0                     0  \n",
       "\n",
       "[5 rows x 23 columns]"
      ]
     },
     "execution_count": 7,
     "metadata": {},
     "output_type": "execute_result"
    }
   ],
   "source": [
    "df.head()"
   ]
  },
  {
   "cell_type": "markdown",
   "id": "5a0528d4",
   "metadata": {},
   "source": [
    "## Simple Model\n",
    "$$ y = mx + b $$\n",
    "\n",
    "$$y = f(x)$$"
   ]
  },
  {
   "cell_type": "code",
   "execution_count": 8,
   "id": "66d27357",
   "metadata": {},
   "outputs": [],
   "source": [
    "scaled_df = df.copy()"
   ]
  },
  {
   "cell_type": "code",
   "execution_count": 9,
   "id": "33ba00c1",
   "metadata": {},
   "outputs": [],
   "source": [
    "scaler = MinMaxScaler()"
   ]
  },
  {
   "cell_type": "code",
   "execution_count": 42,
   "id": "fbd8d04e",
   "metadata": {},
   "outputs": [
    {
     "data": {
      "text/plain": [
       "MinMaxScaler()"
      ]
     },
     "execution_count": 42,
     "metadata": {},
     "output_type": "execute_result"
    }
   ],
   "source": [
    "scaler.fit(scaled_df[['square_feet', 'lot_size', 'age', 'bedrooms', 'bathrooms']])"
   ]
  },
  {
   "cell_type": "code",
   "execution_count": 43,
   "id": "17e7c669",
   "metadata": {},
   "outputs": [],
   "source": [
    "scaled_df[['square_feet', 'lot_size', 'age', 'bedrooms', 'bathrooms']] = scaler.transform(scaled_df[['square_feet', 'lot_size', 'age', 'bedrooms', 'bathrooms']])"
   ]
  },
  {
   "cell_type": "code",
   "execution_count": 44,
   "id": "74996c3e",
   "metadata": {},
   "outputs": [
    {
     "data": {
      "text/html": [
       "<div>\n",
       "<style scoped>\n",
       "    .dataframe tbody tr th:only-of-type {\n",
       "        vertical-align: middle;\n",
       "    }\n",
       "\n",
       "    .dataframe tbody tr th {\n",
       "        vertical-align: top;\n",
       "    }\n",
       "\n",
       "    .dataframe thead th {\n",
       "        text-align: right;\n",
       "    }\n",
       "</style>\n",
       "<table border=\"1\" class=\"dataframe\">\n",
       "  <thead>\n",
       "    <tr style=\"text-align: right;\">\n",
       "      <th></th>\n",
       "      <th>longitude</th>\n",
       "      <th>latitude</th>\n",
       "      <th>bedrooms</th>\n",
       "      <th>bathrooms</th>\n",
       "      <th>square_feet</th>\n",
       "      <th>lot_size</th>\n",
       "      <th>has_pool</th>\n",
       "      <th>fips_code</th>\n",
       "      <th>age</th>\n",
       "      <th>assessed_value</th>\n",
       "      <th>tax_amount</th>\n",
       "      <th>county</th>\n",
       "      <th>bedrooms_size</th>\n",
       "      <th>bathrooms_size</th>\n",
       "      <th>county_Los Angeles</th>\n",
       "      <th>county_Orange</th>\n",
       "      <th>county_Ventura</th>\n",
       "      <th>bedrooms_size_small</th>\n",
       "      <th>bedrooms_size_medium</th>\n",
       "      <th>bedrooms_size_large</th>\n",
       "      <th>bathrooms_size_small</th>\n",
       "      <th>bathrooms_size_medium</th>\n",
       "      <th>bathrooms_size_large</th>\n",
       "    </tr>\n",
       "  </thead>\n",
       "  <tbody>\n",
       "    <tr>\n",
       "      <th>0</th>\n",
       "      <td>-118,217048</td>\n",
       "      <td>33,798657</td>\n",
       "      <td>0.60</td>\n",
       "      <td>0.18</td>\n",
       "      <td>0.13</td>\n",
       "      <td>0.05</td>\n",
       "      <td>0.00</td>\n",
       "      <td>06037</td>\n",
       "      <td>0.28</td>\n",
       "      <td>298,371.00</td>\n",
       "      <td>3,714.58</td>\n",
       "      <td>Los Angeles</td>\n",
       "      <td>medium</td>\n",
       "      <td>small</td>\n",
       "      <td>1</td>\n",
       "      <td>0</td>\n",
       "      <td>0</td>\n",
       "      <td>0</td>\n",
       "      <td>1</td>\n",
       "      <td>0</td>\n",
       "      <td>1</td>\n",
       "      <td>0</td>\n",
       "      <td>0</td>\n",
       "    </tr>\n",
       "    <tr>\n",
       "      <th>1</th>\n",
       "      <td>-118,531253</td>\n",
       "      <td>34,039467</td>\n",
       "      <td>0.20</td>\n",
       "      <td>0.18</td>\n",
       "      <td>0.12</td>\n",
       "      <td>0.11</td>\n",
       "      <td>0.00</td>\n",
       "      <td>06037</td>\n",
       "      <td>0.48</td>\n",
       "      <td>161,897.00</td>\n",
       "      <td>2,031.39</td>\n",
       "      <td>Los Angeles</td>\n",
       "      <td>small</td>\n",
       "      <td>small</td>\n",
       "      <td>1</td>\n",
       "      <td>0</td>\n",
       "      <td>0</td>\n",
       "      <td>1</td>\n",
       "      <td>0</td>\n",
       "      <td>0</td>\n",
       "      <td>1</td>\n",
       "      <td>0</td>\n",
       "      <td>0</td>\n",
       "    </tr>\n",
       "    <tr>\n",
       "      <th>2</th>\n",
       "      <td>-117,613897</td>\n",
       "      <td>33,663005</td>\n",
       "      <td>0.80</td>\n",
       "      <td>0.36</td>\n",
       "      <td>0.40</td>\n",
       "      <td>0.06</td>\n",
       "      <td>1.00</td>\n",
       "      <td>06059</td>\n",
       "      <td>0.15</td>\n",
       "      <td>472,384.00</td>\n",
       "      <td>7,234.74</td>\n",
       "      <td>Orange</td>\n",
       "      <td>large</td>\n",
       "      <td>medium</td>\n",
       "      <td>0</td>\n",
       "      <td>1</td>\n",
       "      <td>0</td>\n",
       "      <td>0</td>\n",
       "      <td>0</td>\n",
       "      <td>1</td>\n",
       "      <td>0</td>\n",
       "      <td>1</td>\n",
       "      <td>0</td>\n",
       "    </tr>\n",
       "    <tr>\n",
       "      <th>3</th>\n",
       "      <td>-118,393309</td>\n",
       "      <td>34,227422</td>\n",
       "      <td>0.20</td>\n",
       "      <td>0.00</td>\n",
       "      <td>0.08</td>\n",
       "      <td>0.06</td>\n",
       "      <td>0.00</td>\n",
       "      <td>06037</td>\n",
       "      <td>0.55</td>\n",
       "      <td>58,693.00</td>\n",
       "      <td>751.66</td>\n",
       "      <td>Los Angeles</td>\n",
       "      <td>small</td>\n",
       "      <td>small</td>\n",
       "      <td>1</td>\n",
       "      <td>0</td>\n",
       "      <td>0</td>\n",
       "      <td>1</td>\n",
       "      <td>0</td>\n",
       "      <td>0</td>\n",
       "      <td>1</td>\n",
       "      <td>0</td>\n",
       "      <td>0</td>\n",
       "    </tr>\n",
       "    <tr>\n",
       "      <th>4</th>\n",
       "      <td>-118,306261</td>\n",
       "      <td>33,745855</td>\n",
       "      <td>0.60</td>\n",
       "      <td>0.18</td>\n",
       "      <td>0.13</td>\n",
       "      <td>0.06</td>\n",
       "      <td>0.00</td>\n",
       "      <td>06037</td>\n",
       "      <td>0.52</td>\n",
       "      <td>62,194.00</td>\n",
       "      <td>886.96</td>\n",
       "      <td>Los Angeles</td>\n",
       "      <td>medium</td>\n",
       "      <td>small</td>\n",
       "      <td>1</td>\n",
       "      <td>0</td>\n",
       "      <td>0</td>\n",
       "      <td>0</td>\n",
       "      <td>1</td>\n",
       "      <td>0</td>\n",
       "      <td>1</td>\n",
       "      <td>0</td>\n",
       "      <td>0</td>\n",
       "    </tr>\n",
       "  </tbody>\n",
       "</table>\n",
       "</div>"
      ],
      "text/plain": [
       "     longitude   latitude  bedrooms  bathrooms  square_feet  lot_size  \\\n",
       "0  -118,217048  33,798657      0.60       0.18         0.13      0.05   \n",
       "1  -118,531253  34,039467      0.20       0.18         0.12      0.11   \n",
       "2  -117,613897  33,663005      0.80       0.36         0.40      0.06   \n",
       "3  -118,393309  34,227422      0.20       0.00         0.08      0.06   \n",
       "4  -118,306261  33,745855      0.60       0.18         0.13      0.06   \n",
       "\n",
       "   has_pool fips_code  age  assessed_value  tax_amount       county  \\\n",
       "0      0.00     06037 0.28      298,371.00    3,714.58  Los Angeles   \n",
       "1      0.00     06037 0.48      161,897.00    2,031.39  Los Angeles   \n",
       "2      1.00     06059 0.15      472,384.00    7,234.74       Orange   \n",
       "3      0.00     06037 0.55       58,693.00      751.66  Los Angeles   \n",
       "4      0.00     06037 0.52       62,194.00      886.96  Los Angeles   \n",
       "\n",
       "  bedrooms_size bathrooms_size  county_Los Angeles  county_Orange  \\\n",
       "0        medium          small                   1              0   \n",
       "1         small          small                   1              0   \n",
       "2         large         medium                   0              1   \n",
       "3         small          small                   1              0   \n",
       "4        medium          small                   1              0   \n",
       "\n",
       "   county_Ventura  bedrooms_size_small  bedrooms_size_medium  \\\n",
       "0               0                    0                     1   \n",
       "1               0                    1                     0   \n",
       "2               0                    0                     0   \n",
       "3               0                    1                     0   \n",
       "4               0                    0                     1   \n",
       "\n",
       "   bedrooms_size_large  bathrooms_size_small  bathrooms_size_medium  \\\n",
       "0                    0                     1                      0   \n",
       "1                    0                     1                      0   \n",
       "2                    1                     0                      1   \n",
       "3                    0                     1                      0   \n",
       "4                    0                     1                      0   \n",
       "\n",
       "   bathrooms_size_large  \n",
       "0                     0  \n",
       "1                     0  \n",
       "2                     0  \n",
       "3                     0  \n",
       "4                     0  "
      ]
     },
     "execution_count": 44,
     "metadata": {},
     "output_type": "execute_result"
    }
   ],
   "source": [
    "scaled_df.head()"
   ]
  },
  {
   "cell_type": "code",
   "execution_count": 45,
   "id": "0a6dad1d",
   "metadata": {},
   "outputs": [],
   "source": [
    "s_train, s_validate, s_test = prepare.split(scaled_df)"
   ]
  },
  {
   "cell_type": "code",
   "execution_count": 46,
   "id": "d1d21bb2",
   "metadata": {},
   "outputs": [],
   "source": [
    "pd.set_option('display.max_columns', None)"
   ]
  },
  {
   "cell_type": "code",
   "execution_count": 47,
   "id": "834b6eda",
   "metadata": {},
   "outputs": [],
   "source": [
    "cols = ['square_feet', 'lot_size', 'has_pool', 'age', 'county_Los Angeles', 'county_Orange', 'bedrooms', 'bathrooms']\n",
    "\n",
    "X_train = s_train[cols]\n",
    "y_train = s_train.assessed_value\n",
    "\n",
    "X_validate = s_validate[cols]\n",
    "y_validate = s_validate.assessed_value\n",
    "\n",
    "X_test = s_test[cols]\n",
    "y_test = s_test.assessed_value"
   ]
  },
  {
   "cell_type": "code",
   "execution_count": 48,
   "id": "a9ad1347",
   "metadata": {},
   "outputs": [],
   "source": [
    "train_predictions = pd.DataFrame({\n",
    "    'actual': s_train.assessed_value\n",
    "}) \n",
    "validate_predictions = pd.DataFrame({\n",
    "    'actual': s_validate.assessed_value\n",
    "}) "
   ]
  },
  {
   "cell_type": "code",
   "execution_count": 84,
   "id": "32185351",
   "metadata": {},
   "outputs": [],
   "source": [
    "final_train_predictions = pd.DataFrame({\n",
    "    'actual': s_train.assessed_value\n",
    "}) \n",
    "final_validate_predictions = pd.DataFrame({\n",
    "    'actual': s_validate.assessed_value\n",
    "}) \n",
    "final_test_predictions = pd.DataFrame({\n",
    "    'actual': s_test.assessed_value\n",
    "})"
   ]
  },
  {
   "cell_type": "markdown",
   "id": "5a241da7",
   "metadata": {},
   "source": [
    "## Multiple  Regression + RFE"
   ]
  },
  {
   "cell_type": "code",
   "execution_count": 49,
   "id": "9dab12f1",
   "metadata": {},
   "outputs": [
    {
     "name": "stdout",
     "output_type": "stream",
     "text": [
      "selected top 8 features: Index(['square_feet', 'lot_size', 'age', 'bedrooms', 'bathrooms'], dtype='object')\n"
     ]
    }
   ],
   "source": [
    "from sklearn.linear_model import LinearRegression\n",
    "lm = LinearRegression()\n",
    "k = 6\n",
    "\n",
    "# 1. Transform our X\n",
    "rfe = RFE(lm, n_features_to_select=5)\n",
    "rfe.fit(X_train, y_train)\n",
    "print('selected top 8 features:', X_train.columns[rfe.support_])\n",
    "X_train_rfe = rfe.transform(X_train)"
   ]
  },
  {
   "cell_type": "markdown",
   "id": "1a3ee157",
   "metadata": {},
   "source": [
    "### Looping through k"
   ]
  },
  {
   "cell_type": "code",
   "execution_count": 50,
   "id": "35ff77f2",
   "metadata": {},
   "outputs": [],
   "source": [
    "for k in range(2,8):\n",
    "    lm = LinearRegression()\n",
    "    # 1. Transform our X\n",
    "    rfe = RFE(lm, n_features_to_select=k)\n",
    "    rfe.fit(X_train, y_train)\n",
    "    # 2. Use the transformed x in our model\n",
    "    X_train_rfe = rfe.transform(X_train)\n",
    "    X_validate_rfe = rfe.transform(X_validate)\n",
    "    lm.fit(X_train_rfe, y_train)\n",
    "    \n",
    "    # Make predictions\n",
    "    train_predictions['multiple_rfe_k=', k] = lm.predict(X_train_rfe)\n",
    "    validate_predictions['multiple_rfe_k=', k] = lm.predict(X_validate_rfe)\n",
    "    k+=1"
   ]
  },
  {
   "cell_type": "code",
   "execution_count": 51,
   "id": "3592a9bc",
   "metadata": {},
   "outputs": [
    {
     "data": {
      "text/html": [
       "<div>\n",
       "<style scoped>\n",
       "    .dataframe tbody tr th:only-of-type {\n",
       "        vertical-align: middle;\n",
       "    }\n",
       "\n",
       "    .dataframe tbody tr th {\n",
       "        vertical-align: top;\n",
       "    }\n",
       "\n",
       "    .dataframe thead th {\n",
       "        text-align: right;\n",
       "    }\n",
       "</style>\n",
       "<table border=\"1\" class=\"dataframe\">\n",
       "  <thead>\n",
       "    <tr style=\"text-align: right;\">\n",
       "      <th></th>\n",
       "      <th>actual</th>\n",
       "      <th>(multiple_rfe_k=, 2)</th>\n",
       "      <th>(multiple_rfe_k=, 3)</th>\n",
       "      <th>(multiple_rfe_k=, 4)</th>\n",
       "      <th>(multiple_rfe_k=, 5)</th>\n",
       "      <th>(multiple_rfe_k=, 6)</th>\n",
       "      <th>(multiple_rfe_k=, 7)</th>\n",
       "    </tr>\n",
       "  </thead>\n",
       "  <tbody>\n",
       "    <tr>\n",
       "      <th>14540</th>\n",
       "      <td>471,024.00</td>\n",
       "      <td>284,478.18</td>\n",
       "      <td>296,936.86</td>\n",
       "      <td>294,389.84</td>\n",
       "      <td>294,708.55</td>\n",
       "      <td>341,281.65</td>\n",
       "      <td>336,950.48</td>\n",
       "    </tr>\n",
       "    <tr>\n",
       "      <th>11215</th>\n",
       "      <td>61,339.00</td>\n",
       "      <td>296,492.45</td>\n",
       "      <td>307,360.21</td>\n",
       "      <td>307,658.37</td>\n",
       "      <td>306,977.58</td>\n",
       "      <td>348,857.74</td>\n",
       "      <td>345,070.64</td>\n",
       "    </tr>\n",
       "    <tr>\n",
       "      <th>27417</th>\n",
       "      <td>75,483.00</td>\n",
       "      <td>358,554.10</td>\n",
       "      <td>373,228.26</td>\n",
       "      <td>372,143.25</td>\n",
       "      <td>371,398.82</td>\n",
       "      <td>415,978.05</td>\n",
       "      <td>412,265.89</td>\n",
       "    </tr>\n",
       "    <tr>\n",
       "      <th>21049</th>\n",
       "      <td>430,000.00</td>\n",
       "      <td>260,668.10</td>\n",
       "      <td>239,544.08</td>\n",
       "      <td>240,170.97</td>\n",
       "      <td>239,692.28</td>\n",
       "      <td>221,087.66</td>\n",
       "      <td>218,623.23</td>\n",
       "    </tr>\n",
       "    <tr>\n",
       "      <th>25174</th>\n",
       "      <td>619,000.00</td>\n",
       "      <td>300,861.27</td>\n",
       "      <td>274,414.91</td>\n",
       "      <td>278,273.31</td>\n",
       "      <td>281,313.47</td>\n",
       "      <td>272,432.94</td>\n",
       "      <td>268,301.14</td>\n",
       "    </tr>\n",
       "  </tbody>\n",
       "</table>\n",
       "</div>"
      ],
      "text/plain": [
       "          actual  (multiple_rfe_k=, 2)  (multiple_rfe_k=, 3)  \\\n",
       "14540 471,024.00            284,478.18            296,936.86   \n",
       "11215  61,339.00            296,492.45            307,360.21   \n",
       "27417  75,483.00            358,554.10            373,228.26   \n",
       "21049 430,000.00            260,668.10            239,544.08   \n",
       "25174 619,000.00            300,861.27            274,414.91   \n",
       "\n",
       "       (multiple_rfe_k=, 4)  (multiple_rfe_k=, 5)  (multiple_rfe_k=, 6)  \\\n",
       "14540            294,389.84            294,708.55            341,281.65   \n",
       "11215            307,658.37            306,977.58            348,857.74   \n",
       "27417            372,143.25            371,398.82            415,978.05   \n",
       "21049            240,170.97            239,692.28            221,087.66   \n",
       "25174            278,273.31            281,313.47            272,432.94   \n",
       "\n",
       "       (multiple_rfe_k=, 7)  \n",
       "14540            336,950.48  \n",
       "11215            345,070.64  \n",
       "27417            412,265.89  \n",
       "21049            218,623.23  \n",
       "25174            268,301.14  "
      ]
     },
     "execution_count": 51,
     "metadata": {},
     "output_type": "execute_result"
    }
   ],
   "source": [
    "train_predictions.head()"
   ]
  },
  {
   "cell_type": "code",
   "execution_count": 52,
   "id": "5d5cf2d6",
   "metadata": {},
   "outputs": [],
   "source": [
    "train_predictions['baseline'] = y_train.mean()"
   ]
  },
  {
   "cell_type": "code",
   "execution_count": 53,
   "id": "b55c877d",
   "metadata": {},
   "outputs": [
    {
     "data": {
      "text/plain": [
       "actual                       0.00\n",
       "(multiple_rfe_k=, 7)   232,763.09\n",
       "(multiple_rfe_k=, 6)   233,166.16\n",
       "(multiple_rfe_k=, 5)   234,858.62\n",
       "(multiple_rfe_k=, 4)   234,875.93\n",
       "(multiple_rfe_k=, 3)   235,076.59\n",
       "(multiple_rfe_k=, 2)   235,705.45\n",
       "baseline               274,862.72\n",
       "dtype: float64"
      ]
     },
     "execution_count": 53,
     "metadata": {},
     "output_type": "execute_result"
    }
   ],
   "source": [
    "def calculate_rmse(y_predicted):\n",
    "    return mean_squared_error(train_predictions.actual, y_predicted, squared = False)\n",
    "\n",
    "train_predictions.apply(calculate_rmse).sort_values()"
   ]
  },
  {
   "cell_type": "code",
   "execution_count": 54,
   "id": "b139e51d",
   "metadata": {},
   "outputs": [],
   "source": [
    "validate_predictions['baseline'] = y_validate.mean()"
   ]
  },
  {
   "cell_type": "code",
   "execution_count": 55,
   "id": "f0cde32a",
   "metadata": {
    "scrolled": true
   },
   "outputs": [
    {
     "data": {
      "text/html": [
       "<div>\n",
       "<style scoped>\n",
       "    .dataframe tbody tr th:only-of-type {\n",
       "        vertical-align: middle;\n",
       "    }\n",
       "\n",
       "    .dataframe tbody tr th {\n",
       "        vertical-align: top;\n",
       "    }\n",
       "\n",
       "    .dataframe thead th {\n",
       "        text-align: right;\n",
       "    }\n",
       "</style>\n",
       "<table border=\"1\" class=\"dataframe\">\n",
       "  <thead>\n",
       "    <tr style=\"text-align: right;\">\n",
       "      <th></th>\n",
       "      <th>actual</th>\n",
       "      <th>(multiple_rfe_k=, 2)</th>\n",
       "      <th>(multiple_rfe_k=, 3)</th>\n",
       "      <th>(multiple_rfe_k=, 4)</th>\n",
       "      <th>(multiple_rfe_k=, 5)</th>\n",
       "      <th>(multiple_rfe_k=, 6)</th>\n",
       "      <th>(multiple_rfe_k=, 7)</th>\n",
       "      <th>baseline</th>\n",
       "    </tr>\n",
       "  </thead>\n",
       "  <tbody>\n",
       "    <tr>\n",
       "      <th>40104</th>\n",
       "      <td>410,538.00</td>\n",
       "      <td>419,474.80</td>\n",
       "      <td>414,057.38</td>\n",
       "      <td>413,000.57</td>\n",
       "      <td>413,635.57</td>\n",
       "      <td>394,462.55</td>\n",
       "      <td>423,705.62</td>\n",
       "      <td>405,736.35</td>\n",
       "    </tr>\n",
       "    <tr>\n",
       "      <th>18167</th>\n",
       "      <td>339,849.00</td>\n",
       "      <td>376,005.02</td>\n",
       "      <td>376,343.82</td>\n",
       "      <td>378,991.27</td>\n",
       "      <td>380,363.94</td>\n",
       "      <td>362,945.37</td>\n",
       "      <td>393,570.22</td>\n",
       "      <td>405,736.35</td>\n",
       "    </tr>\n",
       "    <tr>\n",
       "      <th>7121</th>\n",
       "      <td>222,431.00</td>\n",
       "      <td>360,714.14</td>\n",
       "      <td>363,077.74</td>\n",
       "      <td>364,780.39</td>\n",
       "      <td>362,573.74</td>\n",
       "      <td>397,646.21</td>\n",
       "      <td>393,115.36</td>\n",
       "      <td>405,736.35</td>\n",
       "    </tr>\n",
       "    <tr>\n",
       "      <th>30194</th>\n",
       "      <td>857,504.00</td>\n",
       "      <td>387,825.21</td>\n",
       "      <td>361,887.72</td>\n",
       "      <td>364,578.94</td>\n",
       "      <td>365,770.98</td>\n",
       "      <td>353,101.33</td>\n",
       "      <td>349,126.13</td>\n",
       "      <td>405,736.35</td>\n",
       "    </tr>\n",
       "    <tr>\n",
       "      <th>27143</th>\n",
       "      <td>99,085.00</td>\n",
       "      <td>358,092.85</td>\n",
       "      <td>360,803.55</td>\n",
       "      <td>353,729.52</td>\n",
       "      <td>351,212.51</td>\n",
       "      <td>388,819.46</td>\n",
       "      <td>383,003.17</td>\n",
       "      <td>405,736.35</td>\n",
       "    </tr>\n",
       "  </tbody>\n",
       "</table>\n",
       "</div>"
      ],
      "text/plain": [
       "          actual  (multiple_rfe_k=, 2)  (multiple_rfe_k=, 3)  \\\n",
       "40104 410,538.00            419,474.80            414,057.38   \n",
       "18167 339,849.00            376,005.02            376,343.82   \n",
       "7121  222,431.00            360,714.14            363,077.74   \n",
       "30194 857,504.00            387,825.21            361,887.72   \n",
       "27143  99,085.00            358,092.85            360,803.55   \n",
       "\n",
       "       (multiple_rfe_k=, 4)  (multiple_rfe_k=, 5)  (multiple_rfe_k=, 6)  \\\n",
       "40104            413,000.57            413,635.57            394,462.55   \n",
       "18167            378,991.27            380,363.94            362,945.37   \n",
       "7121             364,780.39            362,573.74            397,646.21   \n",
       "30194            364,578.94            365,770.98            353,101.33   \n",
       "27143            353,729.52            351,212.51            388,819.46   \n",
       "\n",
       "       (multiple_rfe_k=, 7)   baseline  \n",
       "40104            423,705.62 405,736.35  \n",
       "18167            393,570.22 405,736.35  \n",
       "7121             393,115.36 405,736.35  \n",
       "30194            349,126.13 405,736.35  \n",
       "27143            383,003.17 405,736.35  "
      ]
     },
     "execution_count": 55,
     "metadata": {},
     "output_type": "execute_result"
    }
   ],
   "source": [
    "validate_predictions.head()\n"
   ]
  },
  {
   "cell_type": "code",
   "execution_count": 56,
   "id": "053e15b3",
   "metadata": {},
   "outputs": [
    {
     "data": {
      "text/plain": [
       "actual                       0.00\n",
       "(multiple_rfe_k=, 7)   230,221.87\n",
       "(multiple_rfe_k=, 6)   230,727.85\n",
       "(multiple_rfe_k=, 5)   232,270.96\n",
       "(multiple_rfe_k=, 4)   232,304.06\n",
       "(multiple_rfe_k=, 3)   232,661.45\n",
       "(multiple_rfe_k=, 2)   233,345.88\n",
       "baseline               272,468.83\n",
       "dtype: float64"
      ]
     },
     "execution_count": 56,
     "metadata": {},
     "output_type": "execute_result"
    }
   ],
   "source": [
    "def calculate_rmse(y_predicted):\n",
    "    return mean_squared_error(validate_predictions.actual, y_predicted, squared = False)\n",
    "\n",
    "validate_predictions.apply(calculate_rmse).sort_values()"
   ]
  },
  {
   "cell_type": "code",
   "execution_count": 83,
   "id": "59daf49a",
   "metadata": {},
   "outputs": [
    {
     "data": {
      "text/plain": [
       "-2542"
      ]
     },
     "execution_count": 83,
     "metadata": {},
     "output_type": "execute_result"
    }
   ],
   "source": [
    "# k=7 is the best\n",
    "\n",
    "230221-232763"
   ]
  },
  {
   "cell_type": "markdown",
   "id": "6da5df11",
   "metadata": {},
   "source": [
    "**K=7 has the lowest rmse, highest performance**"
   ]
  },
  {
   "cell_type": "code",
   "execution_count": 86,
   "id": "736fde0b",
   "metadata": {},
   "outputs": [],
   "source": [
    "# Adding k=7 to final table\n",
    "lm = LinearRegression()\n",
    " # 1. Transform our X\n",
    "    \n",
    "rfe = RFE(lm, n_features_to_select=7)\n",
    "rfe.fit(X_train, y_train)\n",
    "# 2. Use the transformed x in our model\n",
    "X_train_rfe = rfe.transform(X_train)\n",
    "X_validate_rfe = rfe.transform(X_validate)\n",
    "X_test_rfe = rfe.transform(X_test)\n",
    "lm.fit(X_train_rfe, y_train)\n",
    "    \n",
    "# Make predictions\n",
    "final_train_predictions['multiple_rfe_k=7'] = lm.predict(X_train_rfe)\n",
    "final_validate_predictions['multiple_rfe_k=7'] = lm.predict(X_validate_rfe)\n",
    "final_test_predictions['multiple_rfe_k=7']=lm.predict(X_test_rfe)"
   ]
  },
  {
   "cell_type": "markdown",
   "id": "1ea50ebf",
   "metadata": {},
   "source": [
    "## Polynomial Features"
   ]
  },
  {
   "cell_type": "code",
   "execution_count": 57,
   "id": "83ed190e",
   "metadata": {},
   "outputs": [],
   "source": [
    "train_pred = pd.DataFrame({\n",
    "    'actual': s_train.assessed_value\n",
    "}) \n",
    "validate_pred = pd.DataFrame({\n",
    "    'actual': s_validate.assessed_value\n",
    "}) "
   ]
  },
  {
   "cell_type": "code",
   "execution_count": 58,
   "id": "96dac65a",
   "metadata": {},
   "outputs": [],
   "source": [
    "from sklearn.preprocessing import PolynomialFeatures\n",
    "\n",
    "# 1. Generate Polynomial Features, k=2\n",
    "poly = PolynomialFeatures(degree=2, include_bias=False, interaction_only=False)\n",
    "poly.fit(X_train)\n",
    "X_train_poly = pd.DataFrame(\n",
    "    poly.transform(X_train),\n",
    "    columns=poly.get_feature_names(X_train.columns),\n",
    "    index=X_train.index,\n",
    ")"
   ]
  },
  {
   "cell_type": "code",
   "execution_count": 59,
   "id": "7d5d4e86",
   "metadata": {},
   "outputs": [
    {
     "data": {
      "text/html": [
       "<div>\n",
       "<style scoped>\n",
       "    .dataframe tbody tr th:only-of-type {\n",
       "        vertical-align: middle;\n",
       "    }\n",
       "\n",
       "    .dataframe tbody tr th {\n",
       "        vertical-align: top;\n",
       "    }\n",
       "\n",
       "    .dataframe thead th {\n",
       "        text-align: right;\n",
       "    }\n",
       "</style>\n",
       "<table border=\"1\" class=\"dataframe\">\n",
       "  <thead>\n",
       "    <tr style=\"text-align: right;\">\n",
       "      <th></th>\n",
       "      <th>actual</th>\n",
       "      <th>baseline</th>\n",
       "      <th>polynomial degree 2</th>\n",
       "    </tr>\n",
       "  </thead>\n",
       "  <tbody>\n",
       "    <tr>\n",
       "      <th>14540</th>\n",
       "      <td>471,024.00</td>\n",
       "      <td>409,241.54</td>\n",
       "      <td>285,097.77</td>\n",
       "    </tr>\n",
       "    <tr>\n",
       "      <th>11215</th>\n",
       "      <td>61,339.00</td>\n",
       "      <td>409,241.54</td>\n",
       "      <td>313,418.00</td>\n",
       "    </tr>\n",
       "    <tr>\n",
       "      <th>27417</th>\n",
       "      <td>75,483.00</td>\n",
       "      <td>409,241.54</td>\n",
       "      <td>333,493.35</td>\n",
       "    </tr>\n",
       "    <tr>\n",
       "      <th>21049</th>\n",
       "      <td>430,000.00</td>\n",
       "      <td>409,241.54</td>\n",
       "      <td>243,253.97</td>\n",
       "    </tr>\n",
       "    <tr>\n",
       "      <th>25174</th>\n",
       "      <td>619,000.00</td>\n",
       "      <td>409,241.54</td>\n",
       "      <td>337,785.11</td>\n",
       "    </tr>\n",
       "  </tbody>\n",
       "</table>\n",
       "</div>"
      ],
      "text/plain": [
       "          actual   baseline  polynomial degree 2\n",
       "14540 471,024.00 409,241.54           285,097.77\n",
       "11215  61,339.00 409,241.54           313,418.00\n",
       "27417  75,483.00 409,241.54           333,493.35\n",
       "21049 430,000.00 409,241.54           243,253.97\n",
       "25174 619,000.00 409,241.54           337,785.11"
      ]
     },
     "execution_count": 59,
     "metadata": {},
     "output_type": "execute_result"
    }
   ],
   "source": [
    "lm = LinearRegression()\n",
    "lm.fit(X_train_poly, y_train)\n",
    "X_validate_poly = poly.transform(X_validate)\n",
    "train_pred['baseline'] = y_train.mean()\n",
    "validate_pred['baseline'] = y_validate.mean()\n",
    "train_pred['polynomial degree 2'] = lm.predict(X_train_poly)\n",
    "validate_pred['polynomial degree 2'] = lm.predict(X_validate_poly)\n",
    "train_pred.head()"
   ]
  },
  {
   "cell_type": "code",
   "execution_count": 60,
   "id": "51bb60fa",
   "metadata": {},
   "outputs": [
    {
     "data": {
      "text/html": [
       "<div>\n",
       "<style scoped>\n",
       "    .dataframe tbody tr th:only-of-type {\n",
       "        vertical-align: middle;\n",
       "    }\n",
       "\n",
       "    .dataframe tbody tr th {\n",
       "        vertical-align: top;\n",
       "    }\n",
       "\n",
       "    .dataframe thead th {\n",
       "        text-align: right;\n",
       "    }\n",
       "</style>\n",
       "<table border=\"1\" class=\"dataframe\">\n",
       "  <thead>\n",
       "    <tr style=\"text-align: right;\">\n",
       "      <th></th>\n",
       "      <th>actual</th>\n",
       "      <th>baseline</th>\n",
       "      <th>polynomial degree 2</th>\n",
       "    </tr>\n",
       "  </thead>\n",
       "  <tbody>\n",
       "    <tr>\n",
       "      <th>40104</th>\n",
       "      <td>410,538.00</td>\n",
       "      <td>405,736.35</td>\n",
       "      <td>425,943.78</td>\n",
       "    </tr>\n",
       "    <tr>\n",
       "      <th>18167</th>\n",
       "      <td>339,849.00</td>\n",
       "      <td>405,736.35</td>\n",
       "      <td>401,633.18</td>\n",
       "    </tr>\n",
       "    <tr>\n",
       "      <th>7121</th>\n",
       "      <td>222,431.00</td>\n",
       "      <td>405,736.35</td>\n",
       "      <td>402,310.14</td>\n",
       "    </tr>\n",
       "    <tr>\n",
       "      <th>30194</th>\n",
       "      <td>857,504.00</td>\n",
       "      <td>405,736.35</td>\n",
       "      <td>363,816.89</td>\n",
       "    </tr>\n",
       "    <tr>\n",
       "      <th>27143</th>\n",
       "      <td>99,085.00</td>\n",
       "      <td>405,736.35</td>\n",
       "      <td>370,505.32</td>\n",
       "    </tr>\n",
       "  </tbody>\n",
       "</table>\n",
       "</div>"
      ],
      "text/plain": [
       "          actual   baseline  polynomial degree 2\n",
       "40104 410,538.00 405,736.35           425,943.78\n",
       "18167 339,849.00 405,736.35           401,633.18\n",
       "7121  222,431.00 405,736.35           402,310.14\n",
       "30194 857,504.00 405,736.35           363,816.89\n",
       "27143  99,085.00 405,736.35           370,505.32"
      ]
     },
     "execution_count": 60,
     "metadata": {},
     "output_type": "execute_result"
    }
   ],
   "source": [
    "validate_pred.head()"
   ]
  },
  {
   "cell_type": "code",
   "execution_count": 61,
   "id": "3e9b13b8",
   "metadata": {},
   "outputs": [],
   "source": [
    "train_rmse = mean_squared_error(train_pred.actual,train_pred['polynomial degree 2'], squared = False)\n",
    "validate_rmse = mean_squared_error(validate_pred.actual,validate_pred['polynomial degree 2'], squared = False)"
   ]
  },
  {
   "cell_type": "code",
   "execution_count": 65,
   "id": "44cb8668",
   "metadata": {},
   "outputs": [],
   "source": [
    "train_rmse_b = mean_squared_error(train_pred.actual,train_pred['baseline'], squared = False)\n",
    "validate_rmse_b = mean_squared_error(validate_pred.actual,validate_pred['baseline'], squared = False)"
   ]
  },
  {
   "cell_type": "code",
   "execution_count": 62,
   "id": "5b354fe4",
   "metadata": {},
   "outputs": [
    {
     "data": {
      "text/plain": [
       "(226018.23613893724, 223545.9546342702)"
      ]
     },
     "execution_count": 62,
     "metadata": {},
     "output_type": "execute_result"
    }
   ],
   "source": [
    "train_rmse, validate_rmse"
   ]
  },
  {
   "cell_type": "code",
   "execution_count": 63,
   "id": "e557b9bc",
   "metadata": {},
   "outputs": [
    {
     "data": {
      "text/plain": [
       "-2472.281504667044"
      ]
     },
     "execution_count": 63,
     "metadata": {},
     "output_type": "execute_result"
    }
   ],
   "source": [
    "validate_rmse-train_rmse"
   ]
  },
  {
   "cell_type": "code",
   "execution_count": 66,
   "id": "bddf5923",
   "metadata": {},
   "outputs": [
    {
     "data": {
      "text/plain": [
       "(274862.7167862455, 272468.8282290647)"
      ]
     },
     "execution_count": 66,
     "metadata": {},
     "output_type": "execute_result"
    }
   ],
   "source": [
    "train_rmse_b, validate_rmse_b"
   ]
  },
  {
   "cell_type": "code",
   "execution_count": 67,
   "id": "c2ce238b",
   "metadata": {},
   "outputs": [
    {
     "data": {
      "text/html": [
       "<div>\n",
       "<style scoped>\n",
       "    .dataframe tbody tr th:only-of-type {\n",
       "        vertical-align: middle;\n",
       "    }\n",
       "\n",
       "    .dataframe tbody tr th {\n",
       "        vertical-align: top;\n",
       "    }\n",
       "\n",
       "    .dataframe thead th {\n",
       "        text-align: right;\n",
       "    }\n",
       "</style>\n",
       "<table border=\"1\" class=\"dataframe\">\n",
       "  <thead>\n",
       "    <tr style=\"text-align: right;\">\n",
       "      <th></th>\n",
       "      <th>actual</th>\n",
       "      <th>baseline</th>\n",
       "      <th>polynomial degree 2</th>\n",
       "      <th>polynomial degree 2 only interaction</th>\n",
       "    </tr>\n",
       "  </thead>\n",
       "  <tbody>\n",
       "    <tr>\n",
       "      <th>14540</th>\n",
       "      <td>471,024.00</td>\n",
       "      <td>409,241.54</td>\n",
       "      <td>285,097.77</td>\n",
       "      <td>293,158.68</td>\n",
       "    </tr>\n",
       "    <tr>\n",
       "      <th>11215</th>\n",
       "      <td>61,339.00</td>\n",
       "      <td>409,241.54</td>\n",
       "      <td>313,418.00</td>\n",
       "      <td>319,185.77</td>\n",
       "    </tr>\n",
       "    <tr>\n",
       "      <th>27417</th>\n",
       "      <td>75,483.00</td>\n",
       "      <td>409,241.54</td>\n",
       "      <td>333,493.35</td>\n",
       "      <td>331,075.64</td>\n",
       "    </tr>\n",
       "    <tr>\n",
       "      <th>21049</th>\n",
       "      <td>430,000.00</td>\n",
       "      <td>409,241.54</td>\n",
       "      <td>243,253.97</td>\n",
       "      <td>233,450.18</td>\n",
       "    </tr>\n",
       "    <tr>\n",
       "      <th>25174</th>\n",
       "      <td>619,000.00</td>\n",
       "      <td>409,241.54</td>\n",
       "      <td>337,785.11</td>\n",
       "      <td>328,970.75</td>\n",
       "    </tr>\n",
       "  </tbody>\n",
       "</table>\n",
       "</div>"
      ],
      "text/plain": [
       "          actual   baseline  polynomial degree 2  \\\n",
       "14540 471,024.00 409,241.54           285,097.77   \n",
       "11215  61,339.00 409,241.54           313,418.00   \n",
       "27417  75,483.00 409,241.54           333,493.35   \n",
       "21049 430,000.00 409,241.54           243,253.97   \n",
       "25174 619,000.00 409,241.54           337,785.11   \n",
       "\n",
       "       polynomial degree 2 only interaction  \n",
       "14540                            293,158.68  \n",
       "11215                            319,185.77  \n",
       "27417                            331,075.64  \n",
       "21049                            233,450.18  \n",
       "25174                            328,970.75  "
      ]
     },
     "execution_count": 67,
     "metadata": {},
     "output_type": "execute_result"
    }
   ],
   "source": [
    "# Interaction terms only\n",
    "\n",
    "poly = PolynomialFeatures(degree=2, include_bias=False, interaction_only=True)\n",
    "poly.fit(X_train)\n",
    "X_train_poly = pd.DataFrame(\n",
    "    poly.transform(X_train),\n",
    "    columns=poly.get_feature_names(X_train.columns),\n",
    "    index=X_train.index,\n",
    ")\n",
    "lm = LinearRegression()\n",
    "lm.fit(X_train_poly, y_train)\n",
    "\n",
    "X_validate_poly = poly.transform(X_validate)\n",
    "train_pred['polynomial degree 2 only interaction'] = lm.predict(X_train_poly)\n",
    "validate_pred['polynomial degree 2 only interaction'] = lm.predict(X_validate_poly)\n",
    "train_pred.head()"
   ]
  },
  {
   "cell_type": "code",
   "execution_count": 68,
   "id": "1cf28113",
   "metadata": {},
   "outputs": [
    {
     "data": {
      "text/plain": [
       "(226317.07147912346, 223939.20747348687)"
      ]
     },
     "execution_count": 68,
     "metadata": {},
     "output_type": "execute_result"
    }
   ],
   "source": [
    "train_rmse = mean_squared_error(train_pred.actual,train_pred['polynomial degree 2 only interaction'], squared = False)\n",
    "validate_rmse = mean_squared_error(validate_pred.actual,validate_pred['polynomial degree 2 only interaction'], squared = False)\n",
    "train_rmse, validate_rmse"
   ]
  },
  {
   "cell_type": "code",
   "execution_count": 69,
   "id": "75daccf2",
   "metadata": {},
   "outputs": [
    {
     "data": {
      "text/plain": [
       "-2377.8640056365984"
      ]
     },
     "execution_count": 69,
     "metadata": {},
     "output_type": "execute_result"
    }
   ],
   "source": [
    "validate_rmse-train_rmse"
   ]
  },
  {
   "cell_type": "code",
   "execution_count": 70,
   "id": "2de34448",
   "metadata": {},
   "outputs": [],
   "source": [
    "# k=3\n",
    "poly = PolynomialFeatures(degree=3, include_bias=False, interaction_only=False)\n",
    "poly.fit(X_train)\n",
    "X_train_poly = pd.DataFrame(\n",
    "    poly.transform(X_train),\n",
    "    columns=poly.get_feature_names(X_train.columns),\n",
    "    index=X_train.index,\n",
    ")"
   ]
  },
  {
   "cell_type": "code",
   "execution_count": 71,
   "id": "bc040a2b",
   "metadata": {},
   "outputs": [
    {
     "data": {
      "text/html": [
       "<div>\n",
       "<style scoped>\n",
       "    .dataframe tbody tr th:only-of-type {\n",
       "        vertical-align: middle;\n",
       "    }\n",
       "\n",
       "    .dataframe tbody tr th {\n",
       "        vertical-align: top;\n",
       "    }\n",
       "\n",
       "    .dataframe thead th {\n",
       "        text-align: right;\n",
       "    }\n",
       "</style>\n",
       "<table border=\"1\" class=\"dataframe\">\n",
       "  <thead>\n",
       "    <tr style=\"text-align: right;\">\n",
       "      <th></th>\n",
       "      <th>actual</th>\n",
       "      <th>baseline</th>\n",
       "      <th>polynomial degree 2</th>\n",
       "      <th>polynomial degree 2 only interaction</th>\n",
       "      <th>polynomial degree 3</th>\n",
       "    </tr>\n",
       "  </thead>\n",
       "  <tbody>\n",
       "    <tr>\n",
       "      <th>14540</th>\n",
       "      <td>471,024.00</td>\n",
       "      <td>409,241.54</td>\n",
       "      <td>285,097.77</td>\n",
       "      <td>293,158.68</td>\n",
       "      <td>299,474.65</td>\n",
       "    </tr>\n",
       "    <tr>\n",
       "      <th>11215</th>\n",
       "      <td>61,339.00</td>\n",
       "      <td>409,241.54</td>\n",
       "      <td>313,418.00</td>\n",
       "      <td>319,185.77</td>\n",
       "      <td>308,079.89</td>\n",
       "    </tr>\n",
       "    <tr>\n",
       "      <th>27417</th>\n",
       "      <td>75,483.00</td>\n",
       "      <td>409,241.54</td>\n",
       "      <td>333,493.35</td>\n",
       "      <td>331,075.64</td>\n",
       "      <td>335,684.56</td>\n",
       "    </tr>\n",
       "    <tr>\n",
       "      <th>21049</th>\n",
       "      <td>430,000.00</td>\n",
       "      <td>409,241.54</td>\n",
       "      <td>243,253.97</td>\n",
       "      <td>233,450.18</td>\n",
       "      <td>263,100.74</td>\n",
       "    </tr>\n",
       "    <tr>\n",
       "      <th>25174</th>\n",
       "      <td>619,000.00</td>\n",
       "      <td>409,241.54</td>\n",
       "      <td>337,785.11</td>\n",
       "      <td>328,970.75</td>\n",
       "      <td>337,630.30</td>\n",
       "    </tr>\n",
       "  </tbody>\n",
       "</table>\n",
       "</div>"
      ],
      "text/plain": [
       "          actual   baseline  polynomial degree 2  \\\n",
       "14540 471,024.00 409,241.54           285,097.77   \n",
       "11215  61,339.00 409,241.54           313,418.00   \n",
       "27417  75,483.00 409,241.54           333,493.35   \n",
       "21049 430,000.00 409,241.54           243,253.97   \n",
       "25174 619,000.00 409,241.54           337,785.11   \n",
       "\n",
       "       polynomial degree 2 only interaction  polynomial degree 3  \n",
       "14540                            293,158.68           299,474.65  \n",
       "11215                            319,185.77           308,079.89  \n",
       "27417                            331,075.64           335,684.56  \n",
       "21049                            233,450.18           263,100.74  \n",
       "25174                            328,970.75           337,630.30  "
      ]
     },
     "execution_count": 71,
     "metadata": {},
     "output_type": "execute_result"
    }
   ],
   "source": [
    "lm = LinearRegression()\n",
    "lm.fit(X_train_poly, y_train)\n",
    "X_validate_poly = poly.transform(X_validate)\n",
    "train_pred['baseline'] = y_train.mean()\n",
    "validate_pred['baseline'] = y_validate.mean()\n",
    "train_pred['polynomial degree 3'] = lm.predict(X_train_poly)\n",
    "validate_pred['polynomial degree 3'] = lm.predict(X_validate_poly)\n",
    "train_pred.head()"
   ]
  },
  {
   "cell_type": "code",
   "execution_count": 72,
   "id": "2398fc2a",
   "metadata": {},
   "outputs": [
    {
     "data": {
      "text/plain": [
       "(223633.46235207212, 222070.91872805462)"
      ]
     },
     "execution_count": 72,
     "metadata": {},
     "output_type": "execute_result"
    }
   ],
   "source": [
    "train_rmse = mean_squared_error(train_pred.actual,train_pred['polynomial degree 3'], squared = False)\n",
    "validate_rmse = mean_squared_error(validate_pred.actual,validate_pred['polynomial degree 3'], squared = False)\n",
    "train_rmse, validate_rmse"
   ]
  },
  {
   "cell_type": "code",
   "execution_count": 73,
   "id": "5d9c6025",
   "metadata": {},
   "outputs": [],
   "source": [
    "# k=4\n",
    "poly = PolynomialFeatures(degree=4, include_bias=False, interaction_only=False)\n",
    "poly.fit(X_train)\n",
    "X_train_poly = pd.DataFrame(\n",
    "    poly.transform(X_train),\n",
    "    columns=poly.get_feature_names(X_train.columns),\n",
    "    index=X_train.index,\n",
    ")"
   ]
  },
  {
   "cell_type": "code",
   "execution_count": 74,
   "id": "fa0dc3d3",
   "metadata": {},
   "outputs": [
    {
     "data": {
      "text/html": [
       "<div>\n",
       "<style scoped>\n",
       "    .dataframe tbody tr th:only-of-type {\n",
       "        vertical-align: middle;\n",
       "    }\n",
       "\n",
       "    .dataframe tbody tr th {\n",
       "        vertical-align: top;\n",
       "    }\n",
       "\n",
       "    .dataframe thead th {\n",
       "        text-align: right;\n",
       "    }\n",
       "</style>\n",
       "<table border=\"1\" class=\"dataframe\">\n",
       "  <thead>\n",
       "    <tr style=\"text-align: right;\">\n",
       "      <th></th>\n",
       "      <th>actual</th>\n",
       "      <th>baseline</th>\n",
       "      <th>polynomial degree 2</th>\n",
       "      <th>polynomial degree 2 only interaction</th>\n",
       "      <th>polynomial degree 3</th>\n",
       "      <th>polynomial degree 4</th>\n",
       "    </tr>\n",
       "  </thead>\n",
       "  <tbody>\n",
       "    <tr>\n",
       "      <th>14540</th>\n",
       "      <td>471,024.00</td>\n",
       "      <td>409,241.54</td>\n",
       "      <td>285,097.77</td>\n",
       "      <td>293,158.68</td>\n",
       "      <td>299,474.65</td>\n",
       "      <td>309,613.66</td>\n",
       "    </tr>\n",
       "    <tr>\n",
       "      <th>11215</th>\n",
       "      <td>61,339.00</td>\n",
       "      <td>409,241.54</td>\n",
       "      <td>313,418.00</td>\n",
       "      <td>319,185.77</td>\n",
       "      <td>308,079.89</td>\n",
       "      <td>318,497.96</td>\n",
       "    </tr>\n",
       "    <tr>\n",
       "      <th>27417</th>\n",
       "      <td>75,483.00</td>\n",
       "      <td>409,241.54</td>\n",
       "      <td>333,493.35</td>\n",
       "      <td>331,075.64</td>\n",
       "      <td>335,684.56</td>\n",
       "      <td>302,993.86</td>\n",
       "    </tr>\n",
       "    <tr>\n",
       "      <th>21049</th>\n",
       "      <td>430,000.00</td>\n",
       "      <td>409,241.54</td>\n",
       "      <td>243,253.97</td>\n",
       "      <td>233,450.18</td>\n",
       "      <td>263,100.74</td>\n",
       "      <td>258,815.31</td>\n",
       "    </tr>\n",
       "    <tr>\n",
       "      <th>25174</th>\n",
       "      <td>619,000.00</td>\n",
       "      <td>409,241.54</td>\n",
       "      <td>337,785.11</td>\n",
       "      <td>328,970.75</td>\n",
       "      <td>337,630.30</td>\n",
       "      <td>340,044.95</td>\n",
       "    </tr>\n",
       "  </tbody>\n",
       "</table>\n",
       "</div>"
      ],
      "text/plain": [
       "          actual   baseline  polynomial degree 2  \\\n",
       "14540 471,024.00 409,241.54           285,097.77   \n",
       "11215  61,339.00 409,241.54           313,418.00   \n",
       "27417  75,483.00 409,241.54           333,493.35   \n",
       "21049 430,000.00 409,241.54           243,253.97   \n",
       "25174 619,000.00 409,241.54           337,785.11   \n",
       "\n",
       "       polynomial degree 2 only interaction  polynomial degree 3  \\\n",
       "14540                            293,158.68           299,474.65   \n",
       "11215                            319,185.77           308,079.89   \n",
       "27417                            331,075.64           335,684.56   \n",
       "21049                            233,450.18           263,100.74   \n",
       "25174                            328,970.75           337,630.30   \n",
       "\n",
       "       polynomial degree 4  \n",
       "14540           309,613.66  \n",
       "11215           318,497.96  \n",
       "27417           302,993.86  \n",
       "21049           258,815.31  \n",
       "25174           340,044.95  "
      ]
     },
     "execution_count": 74,
     "metadata": {},
     "output_type": "execute_result"
    }
   ],
   "source": [
    "lm = LinearRegression()\n",
    "lm.fit(X_train_poly, y_train)\n",
    "X_validate_poly = poly.transform(X_validate)\n",
    "train_pred['baseline'] = y_train.mean()\n",
    "validate_pred['baseline'] = y_validate.mean()\n",
    "train_pred['polynomial degree 4'] = lm.predict(X_train_poly)\n",
    "validate_pred['polynomial degree 4'] = lm.predict(X_validate_poly)\n",
    "train_pred.head()"
   ]
  },
  {
   "cell_type": "code",
   "execution_count": 75,
   "id": "7fc16a9e",
   "metadata": {},
   "outputs": [
    {
     "data": {
      "text/plain": [
       "(221616.71599597967, 225548.63048489933)"
      ]
     },
     "execution_count": 75,
     "metadata": {},
     "output_type": "execute_result"
    }
   ],
   "source": [
    "train_rmse = mean_squared_error(train_pred.actual,train_pred['polynomial degree 4'], squared = False)\n",
    "validate_rmse = mean_squared_error(validate_pred.actual,validate_pred['polynomial degree 4'], squared = False)\n",
    "train_rmse, validate_rmse"
   ]
  },
  {
   "cell_type": "markdown",
   "id": "052f6cda",
   "metadata": {},
   "source": [
    "**K=3 has the lowest rmse**"
   ]
  },
  {
   "cell_type": "code",
   "execution_count": 88,
   "id": "977069b6",
   "metadata": {},
   "outputs": [],
   "source": [
    "# Adding k=3 to final table\n",
    "poly = PolynomialFeatures(degree=3, include_bias=False, interaction_only=False)\n",
    "poly.fit(X_train)\n",
    "X_train_poly = pd.DataFrame(\n",
    "    poly.transform(X_train),\n",
    "    columns=poly.get_feature_names(X_train.columns),\n",
    "    index=X_train.index,\n",
    ")\n",
    "lm = LinearRegression()\n",
    "lm.fit(X_train_poly, y_train)\n",
    "X_validate_poly = poly.transform(X_validate)\n",
    "X_test_poly = poly.transform(X_test)\n",
    "final_train_predictions['baseline'] = y_train.mean()\n",
    "final_validate_predictions['baseline'] = y_validate.mean()\n",
    "final_test_predictions['baseline'] = y_test.mean()\n",
    "final_train_predictions['polynomial degree 3'] = lm.predict(X_train_poly)\n",
    "final_validate_predictions['polynomial degree 3'] = lm.predict(X_validate_poly)\n",
    "final_test_predictions['polynomial degree 3'] = lm.predict(X_test_poly)"
   ]
  },
  {
   "cell_type": "markdown",
   "id": "1ab6073e",
   "metadata": {},
   "source": [
    "## Lasso-Lars"
   ]
  },
  {
   "cell_type": "code",
   "execution_count": 76,
   "id": "4fb74b55",
   "metadata": {},
   "outputs": [
    {
     "data": {
      "text/plain": [
       "bedrooms              -269,204.77\n",
       "lot_size              -117,309.33\n",
       "county_Los Angeles     -54,913.82\n",
       "county_Orange           11,562.02\n",
       "has_pool                36,232.93\n",
       "age                     83,563.09\n",
       "bathrooms              219,997.52\n",
       "square_feet          1,170,303.06\n",
       "dtype: float64"
      ]
     },
     "execution_count": 76,
     "metadata": {},
     "output_type": "execute_result"
    }
   ],
   "source": [
    "from sklearn.linear_model import LassoLars\n",
    "# create the model object\n",
    "lars = LassoLars(alpha=0)\n",
    "\n",
    "# fit the model to our training data\n",
    "lars.fit(X_train, y_train)\n",
    "\n",
    "# predict validate\n",
    "X_train_pred_lars = lars.predict(X_train)\n",
    "\n",
    "pd.Series(lars.coef_, index=X_train.columns).sort_values()"
   ]
  },
  {
   "cell_type": "code",
   "execution_count": 77,
   "id": "6630a49f",
   "metadata": {},
   "outputs": [],
   "source": [
    "# create the model object\n",
    "lars = LassoLars(alpha=1)\n",
    "\n",
    "# fit the model to our training data\n",
    "lars.fit(X_train, y_train)\n",
    "\n",
    "# predict validate\n",
    "X_train_pred_lars = lars.predict(X_train)\n",
    "X_validate_pred_lars = lars.predict(X_validate)\n",
    "# Add lassolars predictions to our predictions DataFrame\n",
    "train_pred['lasso_lars'] = X_train_pred_lars\n",
    "validate_pred['lasso_lars'] = X_validate_pred_lars"
   ]
  },
  {
   "cell_type": "code",
   "execution_count": 78,
   "id": "1c5301db",
   "metadata": {},
   "outputs": [
    {
     "data": {
      "text/plain": [
       "(232745.2303032925, 230203.61065288217)"
      ]
     },
     "execution_count": 78,
     "metadata": {},
     "output_type": "execute_result"
    }
   ],
   "source": [
    "train_rmse = mean_squared_error(train_pred.actual,train_pred['lasso_lars'], squared = False)\n",
    "validate_rmse = mean_squared_error(validate_pred.actual,validate_pred['lasso_lars'], squared = False)\n",
    "train_rmse, validate_rmse"
   ]
  },
  {
   "cell_type": "code",
   "execution_count": 79,
   "id": "80e0ae7d",
   "metadata": {},
   "outputs": [
    {
     "data": {
      "text/plain": [
       "-2541.6196504103427"
      ]
     },
     "execution_count": 79,
     "metadata": {},
     "output_type": "execute_result"
    }
   ],
   "source": [
    "validate_rmse-train_rmse"
   ]
  },
  {
   "cell_type": "code",
   "execution_count": 90,
   "id": "508db6c9",
   "metadata": {},
   "outputs": [],
   "source": [
    "# Adding to final table\n",
    "# create the model object\n",
    "lars = LassoLars(alpha=1)\n",
    "\n",
    "# fit the model to our training data\n",
    "lars.fit(X_train, y_train)\n",
    "\n",
    "# predict validate\n",
    "X_train_pred_lars = lars.predict(X_train)\n",
    "X_validate_pred_lars = lars.predict(X_validate)\n",
    "X_test_pred_lars = lars.predict(X_test)\n",
    "# Add lassolars predictions to our predictions DataFrame\n",
    "final_train_predictions['lasso_lars'] = X_train_pred_lars\n",
    "final_validate_predictions['lasso_lars'] = X_validate_pred_lars\n",
    "final_test_predictions['lasso_lars'] = X_test_pred_lars"
   ]
  },
  {
   "cell_type": "markdown",
   "id": "349eec9b",
   "metadata": {},
   "source": [
    "## Generalized Linear Model"
   ]
  },
  {
   "cell_type": "code",
   "execution_count": 80,
   "id": "e9866029",
   "metadata": {},
   "outputs": [],
   "source": [
    "from sklearn.linear_model import TweedieRegressor\n",
    "\n",
    "# create the model object\n",
    "glm = TweedieRegressor(power=1, alpha=0)\n",
    "\n",
    "# fit the model to our training data\n",
    "glm.fit(X_train, y_train)\n",
    "\n",
    "# predict train\n",
    "X_train_predict_glm = glm.predict(X_train)\n",
    "X_validate_predict_glm = glm.predict(X_validate)\n",
    "# Add lassolars predictions to our predictions DataFrame\n",
    "train_pred['glm'] = X_train_predict_glm\n",
    "validate_pred['glm'] = X_validate_predict_glm"
   ]
  },
  {
   "cell_type": "code",
   "execution_count": 81,
   "id": "6bf106d9",
   "metadata": {},
   "outputs": [
    {
     "data": {
      "text/plain": [
       "(235321.89586322848, 233617.59325644202)"
      ]
     },
     "execution_count": 81,
     "metadata": {},
     "output_type": "execute_result"
    }
   ],
   "source": [
    "train_rmse = mean_squared_error(train_pred.actual,train_pred['glm'], squared = False)\n",
    "validate_rmse = mean_squared_error(validate_pred.actual,validate_pred['glm'], squared = False)\n",
    "train_rmse, validate_rmse"
   ]
  },
  {
   "cell_type": "code",
   "execution_count": 82,
   "id": "6c143f25",
   "metadata": {},
   "outputs": [
    {
     "data": {
      "text/plain": [
       "-1704.3026067864557"
      ]
     },
     "execution_count": 82,
     "metadata": {},
     "output_type": "execute_result"
    }
   ],
   "source": [
    "validate_rmse-train_rmse"
   ]
  },
  {
   "cell_type": "code",
   "execution_count": 91,
   "id": "8e32b50a",
   "metadata": {},
   "outputs": [],
   "source": [
    "# Adding to final table\n",
    "\n",
    "glm = TweedieRegressor(power=1, alpha=0)\n",
    "\n",
    "# fit the model to our training data\n",
    "glm.fit(X_train, y_train)\n",
    "\n",
    "# predict train\n",
    "X_train_predict_glm = glm.predict(X_train)\n",
    "X_validate_predict_glm = glm.predict(X_validate)\n",
    "X_test_predict_glm = glm.predict(X_test)\n",
    "# Add lassolars predictions to our predictions DataFrame\n",
    "final_train_predictions['glm'] = X_train_predict_glm\n",
    "final_validate_predictions['glm'] = X_validate_predict_glm\n",
    "final_test_predictions['glm'] = X_test_predict_glm"
   ]
  },
  {
   "cell_type": "markdown",
   "id": "5c4dae7a",
   "metadata": {},
   "source": [
    "## Evaluation"
   ]
  },
  {
   "cell_type": "code",
   "execution_count": 94,
   "id": "b09b3d11",
   "metadata": {},
   "outputs": [
    {
     "data": {
      "text/plain": [
       "actual                      0.00\n",
       "polynomial degree 3   223,633.46\n",
       "lasso_lars            232,745.23\n",
       "multiple_rfe_k=7      232,763.09\n",
       "glm                   235,321.90\n",
       "baseline              274,862.72\n",
       "dtype: float64"
      ]
     },
     "execution_count": 94,
     "metadata": {},
     "output_type": "execute_result"
    }
   ],
   "source": [
    "def calculate_rmse(y_predicted):\n",
    "    return mean_squared_error(final_train_predictions.actual, y_predicted, squared = False)\n",
    "\n",
    "final_train_predictions.apply(calculate_rmse).sort_values()"
   ]
  },
  {
   "cell_type": "code",
   "execution_count": 95,
   "id": "300d96fb",
   "metadata": {},
   "outputs": [
    {
     "data": {
      "text/plain": [
       "actual                      0.00\n",
       "polynomial degree 3   222,070.92\n",
       "lasso_lars            230,203.61\n",
       "multiple_rfe_k=7      230,221.87\n",
       "glm                   233,617.59\n",
       "baseline              272,468.83\n",
       "dtype: float64"
      ]
     },
     "execution_count": 95,
     "metadata": {},
     "output_type": "execute_result"
    }
   ],
   "source": [
    "def calculate_rmse(y_predicted):\n",
    "    return mean_squared_error(final_validate_predictions.actual, y_predicted, squared = False)\n",
    "\n",
    "final_validate_predictions.apply(calculate_rmse).sort_values()"
   ]
  },
  {
   "cell_type": "code",
   "execution_count": 96,
   "id": "1776cf14",
   "metadata": {},
   "outputs": [
    {
     "data": {
      "text/plain": [
       "actual                      0.00\n",
       "polynomial degree 3   225,323.49\n",
       "lasso_lars            233,614.86\n",
       "multiple_rfe_k=7      233,644.57\n",
       "glm                   237,682.56\n",
       "baseline              277,387.85\n",
       "dtype: float64"
      ]
     },
     "execution_count": 96,
     "metadata": {},
     "output_type": "execute_result"
    }
   ],
   "source": [
    "def calculate_rmse(y_predicted):\n",
    "    return mean_squared_error(final_test_predictions.actual, y_predicted, squared = False)\n",
    "\n",
    "final_test_predictions.apply(calculate_rmse).sort_values()"
   ]
  },
  {
   "cell_type": "code",
   "execution_count": 97,
   "id": "ec335959",
   "metadata": {},
   "outputs": [
    {
     "data": {
      "text/plain": [
       "0.18769517121964782"
      ]
     },
     "execution_count": 97,
     "metadata": {},
     "output_type": "execute_result"
    }
   ],
   "source": [
    "(277387.85-225323.49)/277387.85"
   ]
  }
 ],
 "metadata": {
  "kernelspec": {
   "display_name": "Python 3 (ipykernel)",
   "language": "python",
   "name": "python3"
  },
  "language_info": {
   "codemirror_mode": {
    "name": "ipython",
    "version": 3
   },
   "file_extension": ".py",
   "mimetype": "text/x-python",
   "name": "python",
   "nbconvert_exporter": "python",
   "pygments_lexer": "ipython3",
   "version": "3.9.12"
  }
 },
 "nbformat": 4,
 "nbformat_minor": 5
}
