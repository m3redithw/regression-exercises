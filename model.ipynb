{
 "cells": [
  {
   "cell_type": "code",
   "execution_count": 1,
   "id": "d4bf8b96",
   "metadata": {},
   "outputs": [],
   "source": [
    "# Ignore warnings\n",
    "import warnings\n",
    "warnings.filterwarnings(\"ignore\")\n",
    "\n",
    "import numpy as np\n",
    "import pandas as pd\n",
    "\n",
    "import matplotlib.pyplot as plt\n",
    "from sklearn.feature_selection import RFE\n",
    "from sklearn.metrics import mean_squared_error\n",
    "from sklearn.preprocessing import MinMaxScaler\n",
    "from sklearn.model_selection import train_test_split\n",
    "import sklearn.preprocessing\n",
    "import acquire\n",
    "import prepare"
   ]
  },
  {
   "cell_type": "code",
   "execution_count": 2,
   "id": "72006215",
   "metadata": {},
   "outputs": [],
   "source": [
    "pd.options.display.float_format = '{:,.2f}'.format"
   ]
  },
  {
   "cell_type": "code",
   "execution_count": 3,
   "id": "82eba333",
   "metadata": {},
   "outputs": [],
   "source": [
    "rawdf = acquire.get_zillow_data()"
   ]
  },
  {
   "cell_type": "code",
   "execution_count": 4,
   "id": "59e78a2d",
   "metadata": {},
   "outputs": [
    {
     "data": {
      "text/html": [
       "<div>\n",
       "<style scoped>\n",
       "    .dataframe tbody tr th:only-of-type {\n",
       "        vertical-align: middle;\n",
       "    }\n",
       "\n",
       "    .dataframe tbody tr th {\n",
       "        vertical-align: top;\n",
       "    }\n",
       "\n",
       "    .dataframe thead th {\n",
       "        text-align: right;\n",
       "    }\n",
       "</style>\n",
       "<table border=\"1\" class=\"dataframe\">\n",
       "  <thead>\n",
       "    <tr style=\"text-align: right;\">\n",
       "      <th></th>\n",
       "      <th>longitude</th>\n",
       "      <th>latitude</th>\n",
       "      <th>bedrooms</th>\n",
       "      <th>bathrooms</th>\n",
       "      <th>square_feet</th>\n",
       "      <th>lot_size</th>\n",
       "      <th>has_pool</th>\n",
       "      <th>fips_code</th>\n",
       "      <th>age</th>\n",
       "      <th>assessed_value</th>\n",
       "      <th>tax_amount</th>\n",
       "    </tr>\n",
       "  </thead>\n",
       "  <tbody>\n",
       "    <tr>\n",
       "      <th>0</th>\n",
       "      <td>-118,217048</td>\n",
       "      <td>33,798657</td>\n",
       "      <td>4.00</td>\n",
       "      <td>2.00</td>\n",
       "      <td>1,339.00</td>\n",
       "      <td>6,107.00</td>\n",
       "      <td>NaN</td>\n",
       "      <td>06037</td>\n",
       "      <td>40.00</td>\n",
       "      <td>298,371.00</td>\n",
       "      <td>3,714.58</td>\n",
       "    </tr>\n",
       "    <tr>\n",
       "      <th>1</th>\n",
       "      <td>-118,531253</td>\n",
       "      <td>34,039467</td>\n",
       "      <td>2.00</td>\n",
       "      <td>2.00</td>\n",
       "      <td>1,231.00</td>\n",
       "      <td>11,837.00</td>\n",
       "      <td>NaN</td>\n",
       "      <td>06037</td>\n",
       "      <td>67.00</td>\n",
       "      <td>161,897.00</td>\n",
       "      <td>2,031.39</td>\n",
       "    </tr>\n",
       "    <tr>\n",
       "      <th>2</th>\n",
       "      <td>-117,613897</td>\n",
       "      <td>33,663005</td>\n",
       "      <td>5.00</td>\n",
       "      <td>3.00</td>\n",
       "      <td>3,008.00</td>\n",
       "      <td>6,760.00</td>\n",
       "      <td>1.00</td>\n",
       "      <td>06059</td>\n",
       "      <td>22.00</td>\n",
       "      <td>472,384.00</td>\n",
       "      <td>7,234.74</td>\n",
       "    </tr>\n",
       "    <tr>\n",
       "      <th>3</th>\n",
       "      <td>-118,393309</td>\n",
       "      <td>34,227422</td>\n",
       "      <td>2.00</td>\n",
       "      <td>1.00</td>\n",
       "      <td>996.00</td>\n",
       "      <td>7,518.00</td>\n",
       "      <td>NaN</td>\n",
       "      <td>06037</td>\n",
       "      <td>77.00</td>\n",
       "      <td>58,693.00</td>\n",
       "      <td>751.66</td>\n",
       "    </tr>\n",
       "    <tr>\n",
       "      <th>4</th>\n",
       "      <td>-118,306261</td>\n",
       "      <td>33,745855</td>\n",
       "      <td>4.00</td>\n",
       "      <td>2.00</td>\n",
       "      <td>1,329.00</td>\n",
       "      <td>7,005.00</td>\n",
       "      <td>NaN</td>\n",
       "      <td>06037</td>\n",
       "      <td>73.00</td>\n",
       "      <td>62,194.00</td>\n",
       "      <td>886.96</td>\n",
       "    </tr>\n",
       "  </tbody>\n",
       "</table>\n",
       "</div>"
      ],
      "text/plain": [
       "     longitude   latitude  bedrooms  bathrooms  square_feet  lot_size  \\\n",
       "0  -118,217048  33,798657      4.00       2.00     1,339.00  6,107.00   \n",
       "1  -118,531253  34,039467      2.00       2.00     1,231.00 11,837.00   \n",
       "2  -117,613897  33,663005      5.00       3.00     3,008.00  6,760.00   \n",
       "3  -118,393309  34,227422      2.00       1.00       996.00  7,518.00   \n",
       "4  -118,306261  33,745855      4.00       2.00     1,329.00  7,005.00   \n",
       "\n",
       "   has_pool fips_code   age  assessed_value  tax_amount  \n",
       "0       NaN     06037 40.00      298,371.00    3,714.58  \n",
       "1       NaN     06037 67.00      161,897.00    2,031.39  \n",
       "2      1.00     06059 22.00      472,384.00    7,234.74  \n",
       "3       NaN     06037 77.00       58,693.00      751.66  \n",
       "4       NaN     06037 73.00       62,194.00      886.96  "
      ]
     },
     "execution_count": 4,
     "metadata": {},
     "output_type": "execute_result"
    }
   ],
   "source": [
    "rawdf.head()"
   ]
  },
  {
   "cell_type": "code",
   "execution_count": 5,
   "id": "73a60de5",
   "metadata": {},
   "outputs": [],
   "source": [
    "df = prepare.prep_zillow(rawdf)"
   ]
  },
  {
   "cell_type": "code",
   "execution_count": 6,
   "id": "4ef96e1a",
   "metadata": {},
   "outputs": [
    {
     "data": {
      "text/plain": [
       "(46889, 23)"
      ]
     },
     "execution_count": 6,
     "metadata": {},
     "output_type": "execute_result"
    }
   ],
   "source": [
    "df.shape"
   ]
  },
  {
   "cell_type": "code",
   "execution_count": 7,
   "id": "d1f4779d",
   "metadata": {},
   "outputs": [
    {
     "data": {
      "text/html": [
       "<div>\n",
       "<style scoped>\n",
       "    .dataframe tbody tr th:only-of-type {\n",
       "        vertical-align: middle;\n",
       "    }\n",
       "\n",
       "    .dataframe tbody tr th {\n",
       "        vertical-align: top;\n",
       "    }\n",
       "\n",
       "    .dataframe thead th {\n",
       "        text-align: right;\n",
       "    }\n",
       "</style>\n",
       "<table border=\"1\" class=\"dataframe\">\n",
       "  <thead>\n",
       "    <tr style=\"text-align: right;\">\n",
       "      <th></th>\n",
       "      <th>longitude</th>\n",
       "      <th>latitude</th>\n",
       "      <th>bedrooms</th>\n",
       "      <th>bathrooms</th>\n",
       "      <th>square_feet</th>\n",
       "      <th>lot_size</th>\n",
       "      <th>has_pool</th>\n",
       "      <th>fips_code</th>\n",
       "      <th>age</th>\n",
       "      <th>assessed_value</th>\n",
       "      <th>...</th>\n",
       "      <th>bathrooms_size</th>\n",
       "      <th>county_Los Angeles</th>\n",
       "      <th>county_Orange</th>\n",
       "      <th>county_Ventura</th>\n",
       "      <th>bedrooms_size_small</th>\n",
       "      <th>bedrooms_size_medium</th>\n",
       "      <th>bedrooms_size_large</th>\n",
       "      <th>bathrooms_size_small</th>\n",
       "      <th>bathrooms_size_medium</th>\n",
       "      <th>bathrooms_size_large</th>\n",
       "    </tr>\n",
       "  </thead>\n",
       "  <tbody>\n",
       "    <tr>\n",
       "      <th>0</th>\n",
       "      <td>-118,217048</td>\n",
       "      <td>33,798657</td>\n",
       "      <td>4.00</td>\n",
       "      <td>2.00</td>\n",
       "      <td>1,339.00</td>\n",
       "      <td>6,107.00</td>\n",
       "      <td>0.00</td>\n",
       "      <td>06037</td>\n",
       "      <td>40</td>\n",
       "      <td>298,371.00</td>\n",
       "      <td>...</td>\n",
       "      <td>small</td>\n",
       "      <td>1</td>\n",
       "      <td>0</td>\n",
       "      <td>0</td>\n",
       "      <td>0</td>\n",
       "      <td>1</td>\n",
       "      <td>0</td>\n",
       "      <td>1</td>\n",
       "      <td>0</td>\n",
       "      <td>0</td>\n",
       "    </tr>\n",
       "    <tr>\n",
       "      <th>1</th>\n",
       "      <td>-118,531253</td>\n",
       "      <td>34,039467</td>\n",
       "      <td>2.00</td>\n",
       "      <td>2.00</td>\n",
       "      <td>1,231.00</td>\n",
       "      <td>11,837.00</td>\n",
       "      <td>0.00</td>\n",
       "      <td>06037</td>\n",
       "      <td>67</td>\n",
       "      <td>161,897.00</td>\n",
       "      <td>...</td>\n",
       "      <td>small</td>\n",
       "      <td>1</td>\n",
       "      <td>0</td>\n",
       "      <td>0</td>\n",
       "      <td>1</td>\n",
       "      <td>0</td>\n",
       "      <td>0</td>\n",
       "      <td>1</td>\n",
       "      <td>0</td>\n",
       "      <td>0</td>\n",
       "    </tr>\n",
       "    <tr>\n",
       "      <th>2</th>\n",
       "      <td>-117,613897</td>\n",
       "      <td>33,663005</td>\n",
       "      <td>5.00</td>\n",
       "      <td>3.00</td>\n",
       "      <td>3,008.00</td>\n",
       "      <td>6,760.00</td>\n",
       "      <td>1.00</td>\n",
       "      <td>06059</td>\n",
       "      <td>22</td>\n",
       "      <td>472,384.00</td>\n",
       "      <td>...</td>\n",
       "      <td>medium</td>\n",
       "      <td>0</td>\n",
       "      <td>1</td>\n",
       "      <td>0</td>\n",
       "      <td>0</td>\n",
       "      <td>0</td>\n",
       "      <td>1</td>\n",
       "      <td>0</td>\n",
       "      <td>1</td>\n",
       "      <td>0</td>\n",
       "    </tr>\n",
       "    <tr>\n",
       "      <th>3</th>\n",
       "      <td>-118,393309</td>\n",
       "      <td>34,227422</td>\n",
       "      <td>2.00</td>\n",
       "      <td>1.00</td>\n",
       "      <td>996.00</td>\n",
       "      <td>7,518.00</td>\n",
       "      <td>0.00</td>\n",
       "      <td>06037</td>\n",
       "      <td>77</td>\n",
       "      <td>58,693.00</td>\n",
       "      <td>...</td>\n",
       "      <td>small</td>\n",
       "      <td>1</td>\n",
       "      <td>0</td>\n",
       "      <td>0</td>\n",
       "      <td>1</td>\n",
       "      <td>0</td>\n",
       "      <td>0</td>\n",
       "      <td>1</td>\n",
       "      <td>0</td>\n",
       "      <td>0</td>\n",
       "    </tr>\n",
       "    <tr>\n",
       "      <th>4</th>\n",
       "      <td>-118,306261</td>\n",
       "      <td>33,745855</td>\n",
       "      <td>4.00</td>\n",
       "      <td>2.00</td>\n",
       "      <td>1,329.00</td>\n",
       "      <td>7,005.00</td>\n",
       "      <td>0.00</td>\n",
       "      <td>06037</td>\n",
       "      <td>73</td>\n",
       "      <td>62,194.00</td>\n",
       "      <td>...</td>\n",
       "      <td>small</td>\n",
       "      <td>1</td>\n",
       "      <td>0</td>\n",
       "      <td>0</td>\n",
       "      <td>0</td>\n",
       "      <td>1</td>\n",
       "      <td>0</td>\n",
       "      <td>1</td>\n",
       "      <td>0</td>\n",
       "      <td>0</td>\n",
       "    </tr>\n",
       "  </tbody>\n",
       "</table>\n",
       "<p>5 rows × 23 columns</p>\n",
       "</div>"
      ],
      "text/plain": [
       "     longitude   latitude  bedrooms  bathrooms  square_feet  lot_size  \\\n",
       "0  -118,217048  33,798657      4.00       2.00     1,339.00  6,107.00   \n",
       "1  -118,531253  34,039467      2.00       2.00     1,231.00 11,837.00   \n",
       "2  -117,613897  33,663005      5.00       3.00     3,008.00  6,760.00   \n",
       "3  -118,393309  34,227422      2.00       1.00       996.00  7,518.00   \n",
       "4  -118,306261  33,745855      4.00       2.00     1,329.00  7,005.00   \n",
       "\n",
       "   has_pool fips_code  age  assessed_value  ...  bathrooms_size  \\\n",
       "0      0.00     06037   40      298,371.00  ...           small   \n",
       "1      0.00     06037   67      161,897.00  ...           small   \n",
       "2      1.00     06059   22      472,384.00  ...          medium   \n",
       "3      0.00     06037   77       58,693.00  ...           small   \n",
       "4      0.00     06037   73       62,194.00  ...           small   \n",
       "\n",
       "  county_Los Angeles county_Orange county_Ventura  bedrooms_size_small  \\\n",
       "0                  1             0              0                    0   \n",
       "1                  1             0              0                    1   \n",
       "2                  0             1              0                    0   \n",
       "3                  1             0              0                    1   \n",
       "4                  1             0              0                    0   \n",
       "\n",
       "   bedrooms_size_medium  bedrooms_size_large  bathrooms_size_small  \\\n",
       "0                     1                    0                     1   \n",
       "1                     0                    0                     1   \n",
       "2                     0                    1                     0   \n",
       "3                     0                    0                     1   \n",
       "4                     1                    0                     1   \n",
       "\n",
       "   bathrooms_size_medium  bathrooms_size_large  \n",
       "0                      0                     0  \n",
       "1                      0                     0  \n",
       "2                      1                     0  \n",
       "3                      0                     0  \n",
       "4                      0                     0  \n",
       "\n",
       "[5 rows x 23 columns]"
      ]
     },
     "execution_count": 7,
     "metadata": {},
     "output_type": "execute_result"
    }
   ],
   "source": [
    "df.head()"
   ]
  },
  {
   "cell_type": "markdown",
   "id": "429ac6b0",
   "metadata": {},
   "source": [
    "## Simple Model\n",
    "$$ y = mx + b $$\n",
    "\n",
    "$$y = f(x)$$"
   ]
  },
  {
   "cell_type": "code",
   "execution_count": 8,
   "id": "78dd3363",
   "metadata": {},
   "outputs": [],
   "source": [
    "scaled_df = df.copy()"
   ]
  },
  {
   "cell_type": "code",
   "execution_count": 9,
   "id": "454beaaf",
   "metadata": {},
   "outputs": [],
   "source": [
    "scaler = MinMaxScaler()"
   ]
  },
  {
   "cell_type": "code",
   "execution_count": 9,
   "id": "e46cd838",
   "metadata": {},
   "outputs": [],
   "source": [
    "# scaler = sklearn.preprocessing.RobustScaler()"
   ]
  },
  {
   "cell_type": "code",
   "execution_count": 9,
   "id": "87252cda",
   "metadata": {},
   "outputs": [],
   "source": [
    "# # Quantile scaler\n",
    "# qt = sklearn.preprocessing.QuantileTransformer(n_quantiles=10, output_distribution='normal', random_state=0)"
   ]
  },
  {
   "cell_type": "code",
   "execution_count": 10,
   "id": "3c694e17",
   "metadata": {},
   "outputs": [
    {
     "data": {
      "text/plain": [
       "QuantileTransformer(n_quantiles=10, output_distribution='normal',\n",
       "                    random_state=0)"
      ]
     },
     "execution_count": 10,
     "metadata": {},
     "output_type": "execute_result"
    }
   ],
   "source": [
    "# qt.fit(scaled_df[['square_feet', 'lot_size', 'age', 'bedrooms', 'bathrooms']])"
   ]
  },
  {
   "cell_type": "code",
   "execution_count": 11,
   "id": "da8f94d4",
   "metadata": {},
   "outputs": [],
   "source": [
    "# scaled_df[['square_feet', 'lot_size', 'age', 'bedrooms', 'bathrooms']] = qt.transform(scaled_df[['square_feet', 'lot_size', 'age', 'bedrooms', 'bathrooms']])"
   ]
  },
  {
   "cell_type": "code",
   "execution_count": 10,
   "id": "6c07b400",
   "metadata": {},
   "outputs": [
    {
     "data": {
      "text/plain": [
       "MinMaxScaler()"
      ]
     },
     "execution_count": 10,
     "metadata": {},
     "output_type": "execute_result"
    }
   ],
   "source": [
    "scaler.fit(scaled_df[['square_feet', 'lot_size', 'age', 'bedrooms', 'bathrooms']])"
   ]
  },
  {
   "cell_type": "code",
   "execution_count": 11,
   "id": "e7d85cc2",
   "metadata": {},
   "outputs": [],
   "source": [
    "scaled_df[['square_feet', 'lot_size', 'age', 'bedrooms', 'bathrooms']] = scaler.transform(scaled_df[['square_feet', 'lot_size', 'age', 'bedrooms', 'bathrooms']])"
   ]
  },
  {
   "cell_type": "code",
   "execution_count": 12,
   "id": "5734e3db",
   "metadata": {},
   "outputs": [
    {
     "data": {
      "text/html": [
       "<div>\n",
       "<style scoped>\n",
       "    .dataframe tbody tr th:only-of-type {\n",
       "        vertical-align: middle;\n",
       "    }\n",
       "\n",
       "    .dataframe tbody tr th {\n",
       "        vertical-align: top;\n",
       "    }\n",
       "\n",
       "    .dataframe thead th {\n",
       "        text-align: right;\n",
       "    }\n",
       "</style>\n",
       "<table border=\"1\" class=\"dataframe\">\n",
       "  <thead>\n",
       "    <tr style=\"text-align: right;\">\n",
       "      <th></th>\n",
       "      <th>longitude</th>\n",
       "      <th>latitude</th>\n",
       "      <th>bedrooms</th>\n",
       "      <th>bathrooms</th>\n",
       "      <th>square_feet</th>\n",
       "      <th>lot_size</th>\n",
       "      <th>has_pool</th>\n",
       "      <th>fips_code</th>\n",
       "      <th>age</th>\n",
       "      <th>assessed_value</th>\n",
       "      <th>...</th>\n",
       "      <th>bathrooms_size</th>\n",
       "      <th>county_Los Angeles</th>\n",
       "      <th>county_Orange</th>\n",
       "      <th>county_Ventura</th>\n",
       "      <th>bedrooms_size_small</th>\n",
       "      <th>bedrooms_size_medium</th>\n",
       "      <th>bedrooms_size_large</th>\n",
       "      <th>bathrooms_size_small</th>\n",
       "      <th>bathrooms_size_medium</th>\n",
       "      <th>bathrooms_size_large</th>\n",
       "    </tr>\n",
       "  </thead>\n",
       "  <tbody>\n",
       "    <tr>\n",
       "      <th>0</th>\n",
       "      <td>-118,217048</td>\n",
       "      <td>33,798657</td>\n",
       "      <td>0.60</td>\n",
       "      <td>0.18</td>\n",
       "      <td>0.13</td>\n",
       "      <td>0.05</td>\n",
       "      <td>0.00</td>\n",
       "      <td>06037</td>\n",
       "      <td>0.28</td>\n",
       "      <td>298,371.00</td>\n",
       "      <td>...</td>\n",
       "      <td>small</td>\n",
       "      <td>1</td>\n",
       "      <td>0</td>\n",
       "      <td>0</td>\n",
       "      <td>0</td>\n",
       "      <td>1</td>\n",
       "      <td>0</td>\n",
       "      <td>1</td>\n",
       "      <td>0</td>\n",
       "      <td>0</td>\n",
       "    </tr>\n",
       "    <tr>\n",
       "      <th>1</th>\n",
       "      <td>-118,531253</td>\n",
       "      <td>34,039467</td>\n",
       "      <td>0.20</td>\n",
       "      <td>0.18</td>\n",
       "      <td>0.12</td>\n",
       "      <td>0.11</td>\n",
       "      <td>0.00</td>\n",
       "      <td>06037</td>\n",
       "      <td>0.48</td>\n",
       "      <td>161,897.00</td>\n",
       "      <td>...</td>\n",
       "      <td>small</td>\n",
       "      <td>1</td>\n",
       "      <td>0</td>\n",
       "      <td>0</td>\n",
       "      <td>1</td>\n",
       "      <td>0</td>\n",
       "      <td>0</td>\n",
       "      <td>1</td>\n",
       "      <td>0</td>\n",
       "      <td>0</td>\n",
       "    </tr>\n",
       "    <tr>\n",
       "      <th>2</th>\n",
       "      <td>-117,613897</td>\n",
       "      <td>33,663005</td>\n",
       "      <td>0.80</td>\n",
       "      <td>0.36</td>\n",
       "      <td>0.40</td>\n",
       "      <td>0.06</td>\n",
       "      <td>1.00</td>\n",
       "      <td>06059</td>\n",
       "      <td>0.15</td>\n",
       "      <td>472,384.00</td>\n",
       "      <td>...</td>\n",
       "      <td>medium</td>\n",
       "      <td>0</td>\n",
       "      <td>1</td>\n",
       "      <td>0</td>\n",
       "      <td>0</td>\n",
       "      <td>0</td>\n",
       "      <td>1</td>\n",
       "      <td>0</td>\n",
       "      <td>1</td>\n",
       "      <td>0</td>\n",
       "    </tr>\n",
       "    <tr>\n",
       "      <th>3</th>\n",
       "      <td>-118,393309</td>\n",
       "      <td>34,227422</td>\n",
       "      <td>0.20</td>\n",
       "      <td>0.00</td>\n",
       "      <td>0.08</td>\n",
       "      <td>0.06</td>\n",
       "      <td>0.00</td>\n",
       "      <td>06037</td>\n",
       "      <td>0.55</td>\n",
       "      <td>58,693.00</td>\n",
       "      <td>...</td>\n",
       "      <td>small</td>\n",
       "      <td>1</td>\n",
       "      <td>0</td>\n",
       "      <td>0</td>\n",
       "      <td>1</td>\n",
       "      <td>0</td>\n",
       "      <td>0</td>\n",
       "      <td>1</td>\n",
       "      <td>0</td>\n",
       "      <td>0</td>\n",
       "    </tr>\n",
       "    <tr>\n",
       "      <th>4</th>\n",
       "      <td>-118,306261</td>\n",
       "      <td>33,745855</td>\n",
       "      <td>0.60</td>\n",
       "      <td>0.18</td>\n",
       "      <td>0.13</td>\n",
       "      <td>0.06</td>\n",
       "      <td>0.00</td>\n",
       "      <td>06037</td>\n",
       "      <td>0.52</td>\n",
       "      <td>62,194.00</td>\n",
       "      <td>...</td>\n",
       "      <td>small</td>\n",
       "      <td>1</td>\n",
       "      <td>0</td>\n",
       "      <td>0</td>\n",
       "      <td>0</td>\n",
       "      <td>1</td>\n",
       "      <td>0</td>\n",
       "      <td>1</td>\n",
       "      <td>0</td>\n",
       "      <td>0</td>\n",
       "    </tr>\n",
       "  </tbody>\n",
       "</table>\n",
       "<p>5 rows × 23 columns</p>\n",
       "</div>"
      ],
      "text/plain": [
       "     longitude   latitude  bedrooms  bathrooms  square_feet  lot_size  \\\n",
       "0  -118,217048  33,798657      0.60       0.18         0.13      0.05   \n",
       "1  -118,531253  34,039467      0.20       0.18         0.12      0.11   \n",
       "2  -117,613897  33,663005      0.80       0.36         0.40      0.06   \n",
       "3  -118,393309  34,227422      0.20       0.00         0.08      0.06   \n",
       "4  -118,306261  33,745855      0.60       0.18         0.13      0.06   \n",
       "\n",
       "   has_pool fips_code  age  assessed_value  ...  bathrooms_size  \\\n",
       "0      0.00     06037 0.28      298,371.00  ...           small   \n",
       "1      0.00     06037 0.48      161,897.00  ...           small   \n",
       "2      1.00     06059 0.15      472,384.00  ...          medium   \n",
       "3      0.00     06037 0.55       58,693.00  ...           small   \n",
       "4      0.00     06037 0.52       62,194.00  ...           small   \n",
       "\n",
       "  county_Los Angeles county_Orange county_Ventura  bedrooms_size_small  \\\n",
       "0                  1             0              0                    0   \n",
       "1                  1             0              0                    1   \n",
       "2                  0             1              0                    0   \n",
       "3                  1             0              0                    1   \n",
       "4                  1             0              0                    0   \n",
       "\n",
       "   bedrooms_size_medium  bedrooms_size_large  bathrooms_size_small  \\\n",
       "0                     1                    0                     1   \n",
       "1                     0                    0                     1   \n",
       "2                     0                    1                     0   \n",
       "3                     0                    0                     1   \n",
       "4                     1                    0                     1   \n",
       "\n",
       "   bathrooms_size_medium  bathrooms_size_large  \n",
       "0                      0                     0  \n",
       "1                      0                     0  \n",
       "2                      1                     0  \n",
       "3                      0                     0  \n",
       "4                      0                     0  \n",
       "\n",
       "[5 rows x 23 columns]"
      ]
     },
     "execution_count": 12,
     "metadata": {},
     "output_type": "execute_result"
    }
   ],
   "source": [
    "scaled_df.head()"
   ]
  },
  {
   "cell_type": "code",
   "execution_count": 13,
   "id": "d56ec1e7",
   "metadata": {},
   "outputs": [],
   "source": [
    "s_train, s_validate, s_test = prepare.split(scaled_df)"
   ]
  },
  {
   "cell_type": "code",
   "execution_count": 14,
   "id": "f14176c8",
   "metadata": {},
   "outputs": [],
   "source": [
    "pd.set_option('display.max_columns', None)"
   ]
  },
  {
   "cell_type": "code",
   "execution_count": 15,
   "id": "f813ad55",
   "metadata": {},
   "outputs": [],
   "source": [
    "cols = ['square_feet', 'lot_size', 'has_pool', 'age', 'county_Los Angeles', 'county_Orange', 'bedrooms', 'bathrooms']\n",
    "\n",
    "X_train = s_train[cols]\n",
    "y_train = s_train.assessed_value\n",
    "\n",
    "X_validate = s_validate[cols]\n",
    "y_validate = s_validate.assessed_value\n",
    "\n",
    "X_test = s_test[cols]\n",
    "y_test = s_test.assessed_value"
   ]
  },
  {
   "cell_type": "code",
   "execution_count": 16,
   "id": "c07b88ce",
   "metadata": {},
   "outputs": [],
   "source": [
    "train_predictions = pd.DataFrame({\n",
    "    'actual': s_train.assessed_value\n",
    "}) \n",
    "validate_predictions = pd.DataFrame({\n",
    "    'actual': s_validate.assessed_value\n",
    "}) "
   ]
  },
  {
   "cell_type": "code",
   "execution_count": 84,
   "id": "6ec5f98c",
   "metadata": {},
   "outputs": [],
   "source": [
    "final_train_predictions = pd.DataFrame({\n",
    "    'actual': s_train.assessed_value\n",
    "}) \n",
    "final_validate_predictions = pd.DataFrame({\n",
    "    'actual': s_validate.assessed_value\n",
    "}) \n",
    "final_test_predictions = pd.DataFrame({\n",
    "    'actual': s_test.assessed_value\n",
    "})"
   ]
  },
  {
   "cell_type": "markdown",
   "id": "2ee6fdfd",
   "metadata": {},
   "source": [
    "## Multiple  Regression + RFE"
   ]
  },
  {
   "cell_type": "code",
   "execution_count": 18,
   "id": "b5b8698d",
   "metadata": {},
   "outputs": [
    {
     "name": "stdout",
     "output_type": "stream",
     "text": [
      "selected top 8 features: Index(['square_feet', 'lot_size', 'age', 'bedrooms', 'bathrooms'], dtype='object')\n"
     ]
    }
   ],
   "source": [
    "from sklearn.linear_model import LinearRegression\n",
    "lm = LinearRegression()\n",
    "k = 6\n",
    "\n",
    "# 1. Transform our X\n",
    "rfe = RFE(lm, n_features_to_select=5)\n",
    "rfe.fit(X_train, y_train)\n",
    "print('selected top 8 features:', X_train.columns[rfe.support_])\n",
    "X_train_rfe = rfe.transform(X_train)"
   ]
  },
  {
   "cell_type": "markdown",
   "id": "8cd00e9d",
   "metadata": {},
   "source": [
    "### Looping through k"
   ]
  },
  {
   "cell_type": "code",
   "execution_count": 19,
   "id": "44f6ea07",
   "metadata": {},
   "outputs": [],
   "source": [
    "for k in range(2,8):\n",
    "    lm = LinearRegression()\n",
    "    # 1. Transform our X\n",
    "    rfe = RFE(lm, n_features_to_select=k)\n",
    "    rfe.fit(X_train, y_train)\n",
    "    # 2. Use the transformed x in our model\n",
    "    X_train_rfe = rfe.transform(X_train)\n",
    "    X_validate_rfe = rfe.transform(X_validate)\n",
    "    lm.fit(X_train_rfe, y_train)\n",
    "    \n",
    "    # Make predictions\n",
    "    train_predictions['multiple_rfe_k=', k] = lm.predict(X_train_rfe)\n",
    "    validate_predictions['multiple_rfe_k=', k] = lm.predict(X_validate_rfe)\n",
    "    k+=1"
   ]
  },
  {
   "cell_type": "code",
   "execution_count": 20,
   "id": "1617510e",
   "metadata": {},
   "outputs": [
    {
     "data": {
      "text/html": [
       "<div>\n",
       "<style scoped>\n",
       "    .dataframe tbody tr th:only-of-type {\n",
       "        vertical-align: middle;\n",
       "    }\n",
       "\n",
       "    .dataframe tbody tr th {\n",
       "        vertical-align: top;\n",
       "    }\n",
       "\n",
       "    .dataframe thead th {\n",
       "        text-align: right;\n",
       "    }\n",
       "</style>\n",
       "<table border=\"1\" class=\"dataframe\">\n",
       "  <thead>\n",
       "    <tr style=\"text-align: right;\">\n",
       "      <th></th>\n",
       "      <th>actual</th>\n",
       "      <th>(multiple_rfe_k=, 2)</th>\n",
       "      <th>(multiple_rfe_k=, 3)</th>\n",
       "      <th>(multiple_rfe_k=, 4)</th>\n",
       "      <th>(multiple_rfe_k=, 5)</th>\n",
       "      <th>(multiple_rfe_k=, 6)</th>\n",
       "      <th>(multiple_rfe_k=, 7)</th>\n",
       "    </tr>\n",
       "  </thead>\n",
       "  <tbody>\n",
       "    <tr>\n",
       "      <th>40136</th>\n",
       "      <td>391,960.00</td>\n",
       "      <td>616,327.55</td>\n",
       "      <td>663,399.13</td>\n",
       "      <td>646,554.58</td>\n",
       "      <td>645,985.80</td>\n",
       "      <td>676,169.17</td>\n",
       "      <td>700,473.61</td>\n",
       "    </tr>\n",
       "    <tr>\n",
       "      <th>3252</th>\n",
       "      <td>605,000.00</td>\n",
       "      <td>295,062.06</td>\n",
       "      <td>288,149.63</td>\n",
       "      <td>297,795.49</td>\n",
       "      <td>298,488.57</td>\n",
       "      <td>282,605.61</td>\n",
       "      <td>278,743.99</td>\n",
       "    </tr>\n",
       "    <tr>\n",
       "      <th>16376</th>\n",
       "      <td>1,139,000.00</td>\n",
       "      <td>756,778.75</td>\n",
       "      <td>743,093.58</td>\n",
       "      <td>759,505.21</td>\n",
       "      <td>759,181.58</td>\n",
       "      <td>778,780.40</td>\n",
       "      <td>796,795.49</td>\n",
       "    </tr>\n",
       "    <tr>\n",
       "      <th>11892</th>\n",
       "      <td>114,059.00</td>\n",
       "      <td>326,705.33</td>\n",
       "      <td>325,196.16</td>\n",
       "      <td>330,595.41</td>\n",
       "      <td>327,594.38</td>\n",
       "      <td>290,587.23</td>\n",
       "      <td>287,832.67</td>\n",
       "    </tr>\n",
       "    <tr>\n",
       "      <th>11185</th>\n",
       "      <td>645,000.00</td>\n",
       "      <td>368,245.50</td>\n",
       "      <td>373,798.34</td>\n",
       "      <td>373,662.09</td>\n",
       "      <td>374,012.99</td>\n",
       "      <td>419,119.02</td>\n",
       "      <td>413,315.88</td>\n",
       "    </tr>\n",
       "  </tbody>\n",
       "</table>\n",
       "</div>"
      ],
      "text/plain": [
       "            actual  (multiple_rfe_k=, 2)  (multiple_rfe_k=, 3)  \\\n",
       "40136   391,960.00            616,327.55            663,399.13   \n",
       "3252    605,000.00            295,062.06            288,149.63   \n",
       "16376 1,139,000.00            756,778.75            743,093.58   \n",
       "11892   114,059.00            326,705.33            325,196.16   \n",
       "11185   645,000.00            368,245.50            373,798.34   \n",
       "\n",
       "       (multiple_rfe_k=, 4)  (multiple_rfe_k=, 5)  (multiple_rfe_k=, 6)  \\\n",
       "40136            646,554.58            645,985.80            676,169.17   \n",
       "3252             297,795.49            298,488.57            282,605.61   \n",
       "16376            759,505.21            759,181.58            778,780.40   \n",
       "11892            330,595.41            327,594.38            290,587.23   \n",
       "11185            373,662.09            374,012.99            419,119.02   \n",
       "\n",
       "       (multiple_rfe_k=, 7)  \n",
       "40136            700,473.61  \n",
       "3252             278,743.99  \n",
       "16376            796,795.49  \n",
       "11892            287,832.67  \n",
       "11185            413,315.88  "
      ]
     },
     "execution_count": 20,
     "metadata": {},
     "output_type": "execute_result"
    }
   ],
   "source": [
    "train_predictions.head()"
   ]
  },
  {
   "cell_type": "code",
   "execution_count": 21,
   "id": "23fce571",
   "metadata": {},
   "outputs": [],
   "source": [
    "train_predictions['baseline'] = y_train.mean()"
   ]
  },
  {
   "cell_type": "code",
   "execution_count": 22,
   "id": "d99ed179",
   "metadata": {},
   "outputs": [
    {
     "data": {
      "text/plain": [
       "actual                       0.00\n",
       "(multiple_rfe_k=, 7)   227,162.15\n",
       "(multiple_rfe_k=, 6)   227,538.24\n",
       "(multiple_rfe_k=, 5)   229,296.04\n",
       "(multiple_rfe_k=, 4)   229,302.20\n",
       "(multiple_rfe_k=, 3)   229,761.98\n",
       "(multiple_rfe_k=, 2)   231,507.29\n",
       "baseline               268,220.89\n",
       "dtype: float64"
      ]
     },
     "execution_count": 22,
     "metadata": {},
     "output_type": "execute_result"
    }
   ],
   "source": [
    "def calculate_rmse(y_predicted):\n",
    "    return mean_squared_error(train_predictions.actual, y_predicted, squared = False)\n",
    "\n",
    "train_predictions.apply(calculate_rmse).sort_values()"
   ]
  },
  {
   "cell_type": "code",
   "execution_count": 23,
   "id": "cb3b6358",
   "metadata": {},
   "outputs": [],
   "source": [
    "validate_predictions['baseline'] = y_validate.mean()"
   ]
  },
  {
   "cell_type": "code",
   "execution_count": 24,
   "id": "02357828",
   "metadata": {
    "scrolled": true
   },
   "outputs": [
    {
     "data": {
      "text/html": [
       "<div>\n",
       "<style scoped>\n",
       "    .dataframe tbody tr th:only-of-type {\n",
       "        vertical-align: middle;\n",
       "    }\n",
       "\n",
       "    .dataframe tbody tr th {\n",
       "        vertical-align: top;\n",
       "    }\n",
       "\n",
       "    .dataframe thead th {\n",
       "        text-align: right;\n",
       "    }\n",
       "</style>\n",
       "<table border=\"1\" class=\"dataframe\">\n",
       "  <thead>\n",
       "    <tr style=\"text-align: right;\">\n",
       "      <th></th>\n",
       "      <th>actual</th>\n",
       "      <th>(multiple_rfe_k=, 2)</th>\n",
       "      <th>(multiple_rfe_k=, 3)</th>\n",
       "      <th>(multiple_rfe_k=, 4)</th>\n",
       "      <th>(multiple_rfe_k=, 5)</th>\n",
       "      <th>(multiple_rfe_k=, 6)</th>\n",
       "      <th>(multiple_rfe_k=, 7)</th>\n",
       "      <th>baseline</th>\n",
       "    </tr>\n",
       "  </thead>\n",
       "  <tbody>\n",
       "    <tr>\n",
       "      <th>34717</th>\n",
       "      <td>657,000.00</td>\n",
       "      <td>352,216.76</td>\n",
       "      <td>397,112.85</td>\n",
       "      <td>404,487.99</td>\n",
       "      <td>404,068.52</td>\n",
       "      <td>382,078.19</td>\n",
       "      <td>378,406.48</td>\n",
       "      <td>404,167.11</td>\n",
       "    </tr>\n",
       "    <tr>\n",
       "      <th>37478</th>\n",
       "      <td>798,586.00</td>\n",
       "      <td>752,708.12</td>\n",
       "      <td>781,756.76</td>\n",
       "      <td>786,853.08</td>\n",
       "      <td>787,817.37</td>\n",
       "      <td>760,678.25</td>\n",
       "      <td>775,644.81</td>\n",
       "      <td>404,167.11</td>\n",
       "    </tr>\n",
       "    <tr>\n",
       "      <th>10005</th>\n",
       "      <td>432,366.00</td>\n",
       "      <td>375,297.16</td>\n",
       "      <td>339,511.16</td>\n",
       "      <td>333,650.72</td>\n",
       "      <td>333,638.35</td>\n",
       "      <td>308,499.54</td>\n",
       "      <td>302,707.93</td>\n",
       "      <td>404,167.11</td>\n",
       "    </tr>\n",
       "    <tr>\n",
       "      <th>2443</th>\n",
       "      <td>211,080.00</td>\n",
       "      <td>338,414.52</td>\n",
       "      <td>296,668.03</td>\n",
       "      <td>295,332.57</td>\n",
       "      <td>295,855.51</td>\n",
       "      <td>276,273.51</td>\n",
       "      <td>270,357.58</td>\n",
       "      <td>404,167.11</td>\n",
       "    </tr>\n",
       "    <tr>\n",
       "      <th>39228</th>\n",
       "      <td>248,333.00</td>\n",
       "      <td>227,049.95</td>\n",
       "      <td>250,639.37</td>\n",
       "      <td>243,680.44</td>\n",
       "      <td>241,598.56</td>\n",
       "      <td>278,832.42</td>\n",
       "      <td>280,334.97</td>\n",
       "      <td>404,167.11</td>\n",
       "    </tr>\n",
       "  </tbody>\n",
       "</table>\n",
       "</div>"
      ],
      "text/plain": [
       "          actual  (multiple_rfe_k=, 2)  (multiple_rfe_k=, 3)  \\\n",
       "34717 657,000.00            352,216.76            397,112.85   \n",
       "37478 798,586.00            752,708.12            781,756.76   \n",
       "10005 432,366.00            375,297.16            339,511.16   \n",
       "2443  211,080.00            338,414.52            296,668.03   \n",
       "39228 248,333.00            227,049.95            250,639.37   \n",
       "\n",
       "       (multiple_rfe_k=, 4)  (multiple_rfe_k=, 5)  (multiple_rfe_k=, 6)  \\\n",
       "34717            404,487.99            404,068.52            382,078.19   \n",
       "37478            786,853.08            787,817.37            760,678.25   \n",
       "10005            333,650.72            333,638.35            308,499.54   \n",
       "2443             295,332.57            295,855.51            276,273.51   \n",
       "39228            243,680.44            241,598.56            278,832.42   \n",
       "\n",
       "       (multiple_rfe_k=, 7)   baseline  \n",
       "34717            378,406.48 404,167.11  \n",
       "37478            775,644.81 404,167.11  \n",
       "10005            302,707.93 404,167.11  \n",
       "2443             270,357.58 404,167.11  \n",
       "39228            280,334.97 404,167.11  "
      ]
     },
     "execution_count": 24,
     "metadata": {},
     "output_type": "execute_result"
    }
   ],
   "source": [
    "validate_predictions.head()\n"
   ]
  },
  {
   "cell_type": "code",
   "execution_count": 25,
   "id": "140f3895",
   "metadata": {},
   "outputs": [
    {
     "data": {
      "text/plain": [
       "actual                       0.00\n",
       "(multiple_rfe_k=, 7)   228,490.61\n",
       "(multiple_rfe_k=, 6)   228,759.34\n",
       "(multiple_rfe_k=, 5)   230,663.35\n",
       "(multiple_rfe_k=, 4)   230,674.41\n",
       "(multiple_rfe_k=, 3)   231,149.31\n",
       "(multiple_rfe_k=, 2)   232,386.82\n",
       "baseline               268,894.21\n",
       "dtype: float64"
      ]
     },
     "execution_count": 25,
     "metadata": {},
     "output_type": "execute_result"
    }
   ],
   "source": [
    "def calculate_rmse(y_predicted):\n",
    "    return mean_squared_error(validate_predictions.actual, y_predicted, squared = False)\n",
    "\n",
    "validate_predictions.apply(calculate_rmse).sort_values()"
   ]
  },
  {
   "cell_type": "code",
   "execution_count": 26,
   "id": "103f238b",
   "metadata": {},
   "outputs": [
    {
     "data": {
      "text/plain": [
       "1328"
      ]
     },
     "execution_count": 26,
     "metadata": {},
     "output_type": "execute_result"
    }
   ],
   "source": [
    "# k=7 is the best\n",
    "\n",
    "228490-227162"
   ]
  },
  {
   "cell_type": "markdown",
   "id": "3e9049de",
   "metadata": {},
   "source": [
    "**K=7 has the lowest rmse, highest performance**"
   ]
  },
  {
   "cell_type": "code",
   "execution_count": 86,
   "id": "64487ce5",
   "metadata": {},
   "outputs": [],
   "source": [
    "# Adding k=7 to final table\n",
    "lm = LinearRegression()\n",
    " # 1. Transform our X\n",
    "    \n",
    "rfe = RFE(lm, n_features_to_select=7)\n",
    "rfe.fit(X_train, y_train)\n",
    "# 2. Use the transformed x in our model\n",
    "X_train_rfe = rfe.transform(X_train)\n",
    "X_validate_rfe = rfe.transform(X_validate)\n",
    "X_test_rfe = rfe.transform(X_test)\n",
    "lm.fit(X_train_rfe, y_train)\n",
    "    \n",
    "# Make predictions\n",
    "final_train_predictions['multiple_rfe_k=7'] = lm.predict(X_train_rfe)\n",
    "final_validate_predictions['multiple_rfe_k=7'] = lm.predict(X_validate_rfe)\n",
    "final_test_predictions['multiple_rfe_k=7']=lm.predict(X_test_rfe)"
   ]
  },
  {
   "cell_type": "markdown",
   "id": "09c7c558",
   "metadata": {},
   "source": [
    "## Polynomial Features"
   ]
  },
  {
   "cell_type": "code",
   "execution_count": 26,
   "id": "a9ed39fd",
   "metadata": {},
   "outputs": [],
   "source": [
    "train_pred = pd.DataFrame({\n",
    "    'actual': s_train.assessed_value\n",
    "}) \n",
    "validate_pred = pd.DataFrame({\n",
    "    'actual': s_validate.assessed_value\n",
    "}) "
   ]
  },
  {
   "cell_type": "code",
   "execution_count": 27,
   "id": "2a391dc5",
   "metadata": {},
   "outputs": [],
   "source": [
    "from sklearn.preprocessing import PolynomialFeatures\n",
    "\n",
    "# 1. Generate Polynomial Features, k=2\n",
    "poly = PolynomialFeatures(degree=2, include_bias=False, interaction_only=False)\n",
    "poly.fit(X_train)\n",
    "X_train_poly = pd.DataFrame(\n",
    "    poly.transform(X_train),\n",
    "    columns=poly.get_feature_names(X_train.columns),\n",
    "    index=X_train.index,\n",
    ")"
   ]
  },
  {
   "cell_type": "code",
   "execution_count": 28,
   "id": "99e0db02",
   "metadata": {},
   "outputs": [
    {
     "data": {
      "text/html": [
       "<div>\n",
       "<style scoped>\n",
       "    .dataframe tbody tr th:only-of-type {\n",
       "        vertical-align: middle;\n",
       "    }\n",
       "\n",
       "    .dataframe tbody tr th {\n",
       "        vertical-align: top;\n",
       "    }\n",
       "\n",
       "    .dataframe thead th {\n",
       "        text-align: right;\n",
       "    }\n",
       "</style>\n",
       "<table border=\"1\" class=\"dataframe\">\n",
       "  <thead>\n",
       "    <tr style=\"text-align: right;\">\n",
       "      <th></th>\n",
       "      <th>actual</th>\n",
       "      <th>baseline</th>\n",
       "      <th>polynomial degree 2</th>\n",
       "    </tr>\n",
       "  </thead>\n",
       "  <tbody>\n",
       "    <tr>\n",
       "      <th>40136</th>\n",
       "      <td>391,960.00</td>\n",
       "      <td>402,520.26</td>\n",
       "      <td>654,303.73</td>\n",
       "    </tr>\n",
       "    <tr>\n",
       "      <th>3252</th>\n",
       "      <td>605,000.00</td>\n",
       "      <td>402,520.26</td>\n",
       "      <td>290,744.50</td>\n",
       "    </tr>\n",
       "    <tr>\n",
       "      <th>16376</th>\n",
       "      <td>1,139,000.00</td>\n",
       "      <td>402,520.26</td>\n",
       "      <td>891,586.10</td>\n",
       "    </tr>\n",
       "    <tr>\n",
       "      <th>11892</th>\n",
       "      <td>114,059.00</td>\n",
       "      <td>402,520.26</td>\n",
       "      <td>206,289.57</td>\n",
       "    </tr>\n",
       "    <tr>\n",
       "      <th>11185</th>\n",
       "      <td>645,000.00</td>\n",
       "      <td>402,520.26</td>\n",
       "      <td>350,812.70</td>\n",
       "    </tr>\n",
       "  </tbody>\n",
       "</table>\n",
       "</div>"
      ],
      "text/plain": [
       "            actual   baseline  polynomial degree 2\n",
       "40136   391,960.00 402,520.26           654,303.73\n",
       "3252    605,000.00 402,520.26           290,744.50\n",
       "16376 1,139,000.00 402,520.26           891,586.10\n",
       "11892   114,059.00 402,520.26           206,289.57\n",
       "11185   645,000.00 402,520.26           350,812.70"
      ]
     },
     "execution_count": 28,
     "metadata": {},
     "output_type": "execute_result"
    }
   ],
   "source": [
    "lm = LinearRegression()\n",
    "lm.fit(X_train_poly, y_train)\n",
    "X_validate_poly = poly.transform(X_validate)\n",
    "train_pred['baseline'] = y_train.mean()\n",
    "validate_pred['baseline'] = y_validate.mean()\n",
    "train_pred['polynomial degree 2'] = lm.predict(X_train_poly)\n",
    "validate_pred['polynomial degree 2'] = lm.predict(X_validate_poly)\n",
    "train_pred.head()"
   ]
  },
  {
   "cell_type": "code",
   "execution_count": 29,
   "id": "7fca338e",
   "metadata": {},
   "outputs": [
    {
     "data": {
      "text/html": [
       "<div>\n",
       "<style scoped>\n",
       "    .dataframe tbody tr th:only-of-type {\n",
       "        vertical-align: middle;\n",
       "    }\n",
       "\n",
       "    .dataframe tbody tr th {\n",
       "        vertical-align: top;\n",
       "    }\n",
       "\n",
       "    .dataframe thead th {\n",
       "        text-align: right;\n",
       "    }\n",
       "</style>\n",
       "<table border=\"1\" class=\"dataframe\">\n",
       "  <thead>\n",
       "    <tr style=\"text-align: right;\">\n",
       "      <th></th>\n",
       "      <th>actual</th>\n",
       "      <th>baseline</th>\n",
       "      <th>polynomial degree 2</th>\n",
       "    </tr>\n",
       "  </thead>\n",
       "  <tbody>\n",
       "    <tr>\n",
       "      <th>34717</th>\n",
       "      <td>657,000.00</td>\n",
       "      <td>404,167.11</td>\n",
       "      <td>344,361.55</td>\n",
       "    </tr>\n",
       "    <tr>\n",
       "      <th>37478</th>\n",
       "      <td>798,586.00</td>\n",
       "      <td>404,167.11</td>\n",
       "      <td>762,988.00</td>\n",
       "    </tr>\n",
       "    <tr>\n",
       "      <th>10005</th>\n",
       "      <td>432,366.00</td>\n",
       "      <td>404,167.11</td>\n",
       "      <td>290,992.62</td>\n",
       "    </tr>\n",
       "    <tr>\n",
       "      <th>2443</th>\n",
       "      <td>211,080.00</td>\n",
       "      <td>404,167.11</td>\n",
       "      <td>277,518.82</td>\n",
       "    </tr>\n",
       "    <tr>\n",
       "      <th>39228</th>\n",
       "      <td>248,333.00</td>\n",
       "      <td>404,167.11</td>\n",
       "      <td>268,137.72</td>\n",
       "    </tr>\n",
       "  </tbody>\n",
       "</table>\n",
       "</div>"
      ],
      "text/plain": [
       "          actual   baseline  polynomial degree 2\n",
       "34717 657,000.00 404,167.11           344,361.55\n",
       "37478 798,586.00 404,167.11           762,988.00\n",
       "10005 432,366.00 404,167.11           290,992.62\n",
       "2443  211,080.00 404,167.11           277,518.82\n",
       "39228 248,333.00 404,167.11           268,137.72"
      ]
     },
     "execution_count": 29,
     "metadata": {},
     "output_type": "execute_result"
    }
   ],
   "source": [
    "validate_pred.head()"
   ]
  },
  {
   "cell_type": "code",
   "execution_count": 30,
   "id": "f100e7da",
   "metadata": {},
   "outputs": [],
   "source": [
    "train_rmse = mean_squared_error(train_pred.actual,train_pred['polynomial degree 2'], squared = False)\n",
    "validate_rmse = mean_squared_error(validate_pred.actual,validate_pred['polynomial degree 2'], squared = False)"
   ]
  },
  {
   "cell_type": "code",
   "execution_count": 31,
   "id": "641e95ee",
   "metadata": {},
   "outputs": [],
   "source": [
    "train_rmse_b = mean_squared_error(train_pred.actual,train_pred['baseline'], squared = False)\n",
    "validate_rmse_b = mean_squared_error(validate_pred.actual,validate_pred['baseline'], squared = False)"
   ]
  },
  {
   "cell_type": "code",
   "execution_count": 32,
   "id": "5ffa5b17",
   "metadata": {},
   "outputs": [
    {
     "data": {
      "text/plain": [
       "(220526.60861779936, 221704.3813491752)"
      ]
     },
     "execution_count": 32,
     "metadata": {},
     "output_type": "execute_result"
    }
   ],
   "source": [
    "train_rmse, validate_rmse"
   ]
  },
  {
   "cell_type": "code",
   "execution_count": 33,
   "id": "2d0da8f8",
   "metadata": {},
   "outputs": [
    {
     "data": {
      "text/plain": [
       "1177.7727313758514"
      ]
     },
     "execution_count": 33,
     "metadata": {},
     "output_type": "execute_result"
    }
   ],
   "source": [
    "validate_rmse-train_rmse"
   ]
  },
  {
   "cell_type": "code",
   "execution_count": 34,
   "id": "416fe818",
   "metadata": {},
   "outputs": [
    {
     "data": {
      "text/plain": [
       "(268220.89471220394, 268894.21404952626)"
      ]
     },
     "execution_count": 34,
     "metadata": {},
     "output_type": "execute_result"
    }
   ],
   "source": [
    "train_rmse_b, validate_rmse_b"
   ]
  },
  {
   "cell_type": "code",
   "execution_count": 35,
   "id": "32619a4e",
   "metadata": {},
   "outputs": [
    {
     "data": {
      "text/html": [
       "<div>\n",
       "<style scoped>\n",
       "    .dataframe tbody tr th:only-of-type {\n",
       "        vertical-align: middle;\n",
       "    }\n",
       "\n",
       "    .dataframe tbody tr th {\n",
       "        vertical-align: top;\n",
       "    }\n",
       "\n",
       "    .dataframe thead th {\n",
       "        text-align: right;\n",
       "    }\n",
       "</style>\n",
       "<table border=\"1\" class=\"dataframe\">\n",
       "  <thead>\n",
       "    <tr style=\"text-align: right;\">\n",
       "      <th></th>\n",
       "      <th>actual</th>\n",
       "      <th>baseline</th>\n",
       "      <th>polynomial degree 2</th>\n",
       "      <th>polynomial degree 2 only interaction</th>\n",
       "    </tr>\n",
       "  </thead>\n",
       "  <tbody>\n",
       "    <tr>\n",
       "      <th>40136</th>\n",
       "      <td>391,960.00</td>\n",
       "      <td>402,520.26</td>\n",
       "      <td>654,303.73</td>\n",
       "      <td>657,355.97</td>\n",
       "    </tr>\n",
       "    <tr>\n",
       "      <th>3252</th>\n",
       "      <td>605,000.00</td>\n",
       "      <td>402,520.26</td>\n",
       "      <td>290,744.50</td>\n",
       "      <td>292,351.20</td>\n",
       "    </tr>\n",
       "    <tr>\n",
       "      <th>16376</th>\n",
       "      <td>1,139,000.00</td>\n",
       "      <td>402,520.26</td>\n",
       "      <td>891,586.10</td>\n",
       "      <td>881,009.40</td>\n",
       "    </tr>\n",
       "    <tr>\n",
       "      <th>11892</th>\n",
       "      <td>114,059.00</td>\n",
       "      <td>402,520.26</td>\n",
       "      <td>206,289.57</td>\n",
       "      <td>212,273.45</td>\n",
       "    </tr>\n",
       "    <tr>\n",
       "      <th>11185</th>\n",
       "      <td>645,000.00</td>\n",
       "      <td>402,520.26</td>\n",
       "      <td>350,812.70</td>\n",
       "      <td>345,769.21</td>\n",
       "    </tr>\n",
       "  </tbody>\n",
       "</table>\n",
       "</div>"
      ],
      "text/plain": [
       "            actual   baseline  polynomial degree 2  \\\n",
       "40136   391,960.00 402,520.26           654,303.73   \n",
       "3252    605,000.00 402,520.26           290,744.50   \n",
       "16376 1,139,000.00 402,520.26           891,586.10   \n",
       "11892   114,059.00 402,520.26           206,289.57   \n",
       "11185   645,000.00 402,520.26           350,812.70   \n",
       "\n",
       "       polynomial degree 2 only interaction  \n",
       "40136                            657,355.97  \n",
       "3252                             292,351.20  \n",
       "16376                            881,009.40  \n",
       "11892                            212,273.45  \n",
       "11185                            345,769.21  "
      ]
     },
     "execution_count": 35,
     "metadata": {},
     "output_type": "execute_result"
    }
   ],
   "source": [
    "# Interaction terms only\n",
    "\n",
    "poly = PolynomialFeatures(degree=2, include_bias=False, interaction_only=True)\n",
    "poly.fit(X_train)\n",
    "X_train_poly = pd.DataFrame(\n",
    "    poly.transform(X_train),\n",
    "    columns=poly.get_feature_names(X_train.columns),\n",
    "    index=X_train.index,\n",
    ")\n",
    "lm = LinearRegression()\n",
    "lm.fit(X_train_poly, y_train)\n",
    "\n",
    "X_validate_poly = poly.transform(X_validate)\n",
    "train_pred['polynomial degree 2 only interaction'] = lm.predict(X_train_poly)\n",
    "validate_pred['polynomial degree 2 only interaction'] = lm.predict(X_validate_poly)\n",
    "train_pred.head()"
   ]
  },
  {
   "cell_type": "code",
   "execution_count": 36,
   "id": "0f725238",
   "metadata": {},
   "outputs": [
    {
     "data": {
      "text/plain": [
       "(220785.5974969383, 222197.98566867987)"
      ]
     },
     "execution_count": 36,
     "metadata": {},
     "output_type": "execute_result"
    }
   ],
   "source": [
    "train_rmse = mean_squared_error(train_pred.actual,train_pred['polynomial degree 2 only interaction'], squared = False)\n",
    "validate_rmse = mean_squared_error(validate_pred.actual,validate_pred['polynomial degree 2 only interaction'], squared = False)\n",
    "train_rmse, validate_rmse"
   ]
  },
  {
   "cell_type": "code",
   "execution_count": 37,
   "id": "73609cc1",
   "metadata": {},
   "outputs": [
    {
     "data": {
      "text/plain": [
       "1412.3881717415643"
      ]
     },
     "execution_count": 37,
     "metadata": {},
     "output_type": "execute_result"
    }
   ],
   "source": [
    "validate_rmse-train_rmse"
   ]
  },
  {
   "cell_type": "code",
   "execution_count": 38,
   "id": "f30e9a3f",
   "metadata": {},
   "outputs": [],
   "source": [
    "# k=3\n",
    "poly = PolynomialFeatures(degree=3, include_bias=False, interaction_only=False)\n",
    "poly.fit(X_train)\n",
    "X_train_poly = pd.DataFrame(\n",
    "    poly.transform(X_train),\n",
    "    columns=poly.get_feature_names(X_train.columns),\n",
    "    index=X_train.index,\n",
    ")"
   ]
  },
  {
   "cell_type": "code",
   "execution_count": 39,
   "id": "52aa8de8",
   "metadata": {},
   "outputs": [
    {
     "data": {
      "text/html": [
       "<div>\n",
       "<style scoped>\n",
       "    .dataframe tbody tr th:only-of-type {\n",
       "        vertical-align: middle;\n",
       "    }\n",
       "\n",
       "    .dataframe tbody tr th {\n",
       "        vertical-align: top;\n",
       "    }\n",
       "\n",
       "    .dataframe thead th {\n",
       "        text-align: right;\n",
       "    }\n",
       "</style>\n",
       "<table border=\"1\" class=\"dataframe\">\n",
       "  <thead>\n",
       "    <tr style=\"text-align: right;\">\n",
       "      <th></th>\n",
       "      <th>actual</th>\n",
       "      <th>baseline</th>\n",
       "      <th>polynomial degree 2</th>\n",
       "      <th>polynomial degree 2 only interaction</th>\n",
       "      <th>polynomial degree 3</th>\n",
       "    </tr>\n",
       "  </thead>\n",
       "  <tbody>\n",
       "    <tr>\n",
       "      <th>40136</th>\n",
       "      <td>391,960.00</td>\n",
       "      <td>402,520.26</td>\n",
       "      <td>654,303.73</td>\n",
       "      <td>657,355.97</td>\n",
       "      <td>613,698.59</td>\n",
       "    </tr>\n",
       "    <tr>\n",
       "      <th>3252</th>\n",
       "      <td>605,000.00</td>\n",
       "      <td>402,520.26</td>\n",
       "      <td>290,744.50</td>\n",
       "      <td>292,351.20</td>\n",
       "      <td>286,671.88</td>\n",
       "    </tr>\n",
       "    <tr>\n",
       "      <th>16376</th>\n",
       "      <td>1,139,000.00</td>\n",
       "      <td>402,520.26</td>\n",
       "      <td>891,586.10</td>\n",
       "      <td>881,009.40</td>\n",
       "      <td>898,578.92</td>\n",
       "    </tr>\n",
       "    <tr>\n",
       "      <th>11892</th>\n",
       "      <td>114,059.00</td>\n",
       "      <td>402,520.26</td>\n",
       "      <td>206,289.57</td>\n",
       "      <td>212,273.45</td>\n",
       "      <td>206,023.67</td>\n",
       "    </tr>\n",
       "    <tr>\n",
       "      <th>11185</th>\n",
       "      <td>645,000.00</td>\n",
       "      <td>402,520.26</td>\n",
       "      <td>350,812.70</td>\n",
       "      <td>345,769.21</td>\n",
       "      <td>347,243.68</td>\n",
       "    </tr>\n",
       "  </tbody>\n",
       "</table>\n",
       "</div>"
      ],
      "text/plain": [
       "            actual   baseline  polynomial degree 2  \\\n",
       "40136   391,960.00 402,520.26           654,303.73   \n",
       "3252    605,000.00 402,520.26           290,744.50   \n",
       "16376 1,139,000.00 402,520.26           891,586.10   \n",
       "11892   114,059.00 402,520.26           206,289.57   \n",
       "11185   645,000.00 402,520.26           350,812.70   \n",
       "\n",
       "       polynomial degree 2 only interaction  polynomial degree 3  \n",
       "40136                            657,355.97           613,698.59  \n",
       "3252                             292,351.20           286,671.88  \n",
       "16376                            881,009.40           898,578.92  \n",
       "11892                            212,273.45           206,023.67  \n",
       "11185                            345,769.21           347,243.68  "
      ]
     },
     "execution_count": 39,
     "metadata": {},
     "output_type": "execute_result"
    }
   ],
   "source": [
    "lm = LinearRegression()\n",
    "lm.fit(X_train_poly, y_train)\n",
    "X_validate_poly = poly.transform(X_validate)\n",
    "train_pred['baseline'] = y_train.mean()\n",
    "validate_pred['baseline'] = y_validate.mean()\n",
    "train_pred['polynomial degree 3'] = lm.predict(X_train_poly)\n",
    "validate_pred['polynomial degree 3'] = lm.predict(X_validate_poly)\n",
    "train_pred.head()"
   ]
  },
  {
   "cell_type": "code",
   "execution_count": 40,
   "id": "088b2458",
   "metadata": {},
   "outputs": [
    {
     "data": {
      "text/plain": [
       "(218127.2626128267, 220900.0580065712)"
      ]
     },
     "execution_count": 40,
     "metadata": {},
     "output_type": "execute_result"
    }
   ],
   "source": [
    "train_rmse = mean_squared_error(train_pred.actual,train_pred['polynomial degree 3'], squared = False)\n",
    "validate_rmse = mean_squared_error(validate_pred.actual,validate_pred['polynomial degree 3'], squared = False)\n",
    "train_rmse, validate_rmse"
   ]
  },
  {
   "cell_type": "code",
   "execution_count": 41,
   "id": "5a169317",
   "metadata": {},
   "outputs": [],
   "source": [
    "# k=4\n",
    "poly = PolynomialFeatures(degree=4, include_bias=False, interaction_only=False)\n",
    "poly.fit(X_train)\n",
    "X_train_poly = pd.DataFrame(\n",
    "    poly.transform(X_train),\n",
    "    columns=poly.get_feature_names(X_train.columns),\n",
    "    index=X_train.index,\n",
    ")"
   ]
  },
  {
   "cell_type": "code",
   "execution_count": 42,
   "id": "0109ca93",
   "metadata": {},
   "outputs": [
    {
     "data": {
      "text/html": [
       "<div>\n",
       "<style scoped>\n",
       "    .dataframe tbody tr th:only-of-type {\n",
       "        vertical-align: middle;\n",
       "    }\n",
       "\n",
       "    .dataframe tbody tr th {\n",
       "        vertical-align: top;\n",
       "    }\n",
       "\n",
       "    .dataframe thead th {\n",
       "        text-align: right;\n",
       "    }\n",
       "</style>\n",
       "<table border=\"1\" class=\"dataframe\">\n",
       "  <thead>\n",
       "    <tr style=\"text-align: right;\">\n",
       "      <th></th>\n",
       "      <th>actual</th>\n",
       "      <th>baseline</th>\n",
       "      <th>polynomial degree 2</th>\n",
       "      <th>polynomial degree 2 only interaction</th>\n",
       "      <th>polynomial degree 3</th>\n",
       "      <th>polynomial degree 4</th>\n",
       "    </tr>\n",
       "  </thead>\n",
       "  <tbody>\n",
       "    <tr>\n",
       "      <th>40136</th>\n",
       "      <td>391,960.00</td>\n",
       "      <td>402,520.26</td>\n",
       "      <td>654,303.73</td>\n",
       "      <td>657,355.97</td>\n",
       "      <td>613,698.59</td>\n",
       "      <td>559,725.41</td>\n",
       "    </tr>\n",
       "    <tr>\n",
       "      <th>3252</th>\n",
       "      <td>605,000.00</td>\n",
       "      <td>402,520.26</td>\n",
       "      <td>290,744.50</td>\n",
       "      <td>292,351.20</td>\n",
       "      <td>286,671.88</td>\n",
       "      <td>283,815.44</td>\n",
       "    </tr>\n",
       "    <tr>\n",
       "      <th>16376</th>\n",
       "      <td>1,139,000.00</td>\n",
       "      <td>402,520.26</td>\n",
       "      <td>891,586.10</td>\n",
       "      <td>881,009.40</td>\n",
       "      <td>898,578.92</td>\n",
       "      <td>923,946.58</td>\n",
       "    </tr>\n",
       "    <tr>\n",
       "      <th>11892</th>\n",
       "      <td>114,059.00</td>\n",
       "      <td>402,520.26</td>\n",
       "      <td>206,289.57</td>\n",
       "      <td>212,273.45</td>\n",
       "      <td>206,023.67</td>\n",
       "      <td>213,746.70</td>\n",
       "    </tr>\n",
       "    <tr>\n",
       "      <th>11185</th>\n",
       "      <td>645,000.00</td>\n",
       "      <td>402,520.26</td>\n",
       "      <td>350,812.70</td>\n",
       "      <td>345,769.21</td>\n",
       "      <td>347,243.68</td>\n",
       "      <td>343,688.26</td>\n",
       "    </tr>\n",
       "  </tbody>\n",
       "</table>\n",
       "</div>"
      ],
      "text/plain": [
       "            actual   baseline  polynomial degree 2  \\\n",
       "40136   391,960.00 402,520.26           654,303.73   \n",
       "3252    605,000.00 402,520.26           290,744.50   \n",
       "16376 1,139,000.00 402,520.26           891,586.10   \n",
       "11892   114,059.00 402,520.26           206,289.57   \n",
       "11185   645,000.00 402,520.26           350,812.70   \n",
       "\n",
       "       polynomial degree 2 only interaction  polynomial degree 3  \\\n",
       "40136                            657,355.97           613,698.59   \n",
       "3252                             292,351.20           286,671.88   \n",
       "16376                            881,009.40           898,578.92   \n",
       "11892                            212,273.45           206,023.67   \n",
       "11185                            345,769.21           347,243.68   \n",
       "\n",
       "       polynomial degree 4  \n",
       "40136           559,725.41  \n",
       "3252            283,815.44  \n",
       "16376           923,946.58  \n",
       "11892           213,746.70  \n",
       "11185           343,688.26  "
      ]
     },
     "execution_count": 42,
     "metadata": {},
     "output_type": "execute_result"
    }
   ],
   "source": [
    "lm = LinearRegression()\n",
    "lm.fit(X_train_poly, y_train)\n",
    "X_validate_poly = poly.transform(X_validate)\n",
    "train_pred['baseline'] = y_train.mean()\n",
    "validate_pred['baseline'] = y_validate.mean()\n",
    "train_pred['polynomial degree 4'] = lm.predict(X_train_poly)\n",
    "validate_pred['polynomial degree 4'] = lm.predict(X_validate_poly)\n",
    "train_pred.head()"
   ]
  },
  {
   "cell_type": "code",
   "execution_count": 43,
   "id": "27c2090b",
   "metadata": {},
   "outputs": [
    {
     "data": {
      "text/plain": [
       "(216035.16479299436, 226785.16303218642)"
      ]
     },
     "execution_count": 43,
     "metadata": {},
     "output_type": "execute_result"
    }
   ],
   "source": [
    "train_rmse = mean_squared_error(train_pred.actual,train_pred['polynomial degree 4'], squared = False)\n",
    "validate_rmse = mean_squared_error(validate_pred.actual,validate_pred['polynomial degree 4'], squared = False)\n",
    "train_rmse, validate_rmse"
   ]
  },
  {
   "cell_type": "code",
   "execution_count": 44,
   "id": "78e8c66b",
   "metadata": {},
   "outputs": [],
   "source": [
    "# k=5\n",
    "poly = PolynomialFeatures(degree=5, include_bias=False, interaction_only=False)\n",
    "poly.fit(X_train)\n",
    "X_train_poly = pd.DataFrame(\n",
    "    poly.transform(X_train),\n",
    "    columns=poly.get_feature_names(X_train.columns),\n",
    "    index=X_train.index,\n",
    ")"
   ]
  },
  {
   "cell_type": "code",
   "execution_count": 45,
   "id": "f92d29ee",
   "metadata": {},
   "outputs": [
    {
     "data": {
      "text/html": [
       "<div>\n",
       "<style scoped>\n",
       "    .dataframe tbody tr th:only-of-type {\n",
       "        vertical-align: middle;\n",
       "    }\n",
       "\n",
       "    .dataframe tbody tr th {\n",
       "        vertical-align: top;\n",
       "    }\n",
       "\n",
       "    .dataframe thead th {\n",
       "        text-align: right;\n",
       "    }\n",
       "</style>\n",
       "<table border=\"1\" class=\"dataframe\">\n",
       "  <thead>\n",
       "    <tr style=\"text-align: right;\">\n",
       "      <th></th>\n",
       "      <th>actual</th>\n",
       "      <th>baseline</th>\n",
       "      <th>polynomial degree 2</th>\n",
       "      <th>polynomial degree 2 only interaction</th>\n",
       "      <th>polynomial degree 3</th>\n",
       "      <th>polynomial degree 4</th>\n",
       "      <th>polynomial degree 5</th>\n",
       "    </tr>\n",
       "  </thead>\n",
       "  <tbody>\n",
       "    <tr>\n",
       "      <th>40136</th>\n",
       "      <td>391,960.00</td>\n",
       "      <td>402,520.26</td>\n",
       "      <td>654,303.73</td>\n",
       "      <td>657,355.97</td>\n",
       "      <td>613,698.59</td>\n",
       "      <td>559,725.41</td>\n",
       "      <td>553,179.69</td>\n",
       "    </tr>\n",
       "    <tr>\n",
       "      <th>3252</th>\n",
       "      <td>605,000.00</td>\n",
       "      <td>402,520.26</td>\n",
       "      <td>290,744.50</td>\n",
       "      <td>292,351.20</td>\n",
       "      <td>286,671.88</td>\n",
       "      <td>283,815.44</td>\n",
       "      <td>285,341.61</td>\n",
       "    </tr>\n",
       "    <tr>\n",
       "      <th>16376</th>\n",
       "      <td>1,139,000.00</td>\n",
       "      <td>402,520.26</td>\n",
       "      <td>891,586.10</td>\n",
       "      <td>881,009.40</td>\n",
       "      <td>898,578.92</td>\n",
       "      <td>923,946.58</td>\n",
       "      <td>954,109.73</td>\n",
       "    </tr>\n",
       "    <tr>\n",
       "      <th>11892</th>\n",
       "      <td>114,059.00</td>\n",
       "      <td>402,520.26</td>\n",
       "      <td>206,289.57</td>\n",
       "      <td>212,273.45</td>\n",
       "      <td>206,023.67</td>\n",
       "      <td>213,746.70</td>\n",
       "      <td>186,415.18</td>\n",
       "    </tr>\n",
       "    <tr>\n",
       "      <th>11185</th>\n",
       "      <td>645,000.00</td>\n",
       "      <td>402,520.26</td>\n",
       "      <td>350,812.70</td>\n",
       "      <td>345,769.21</td>\n",
       "      <td>347,243.68</td>\n",
       "      <td>343,688.26</td>\n",
       "      <td>340,815.24</td>\n",
       "    </tr>\n",
       "  </tbody>\n",
       "</table>\n",
       "</div>"
      ],
      "text/plain": [
       "            actual   baseline  polynomial degree 2  \\\n",
       "40136   391,960.00 402,520.26           654,303.73   \n",
       "3252    605,000.00 402,520.26           290,744.50   \n",
       "16376 1,139,000.00 402,520.26           891,586.10   \n",
       "11892   114,059.00 402,520.26           206,289.57   \n",
       "11185   645,000.00 402,520.26           350,812.70   \n",
       "\n",
       "       polynomial degree 2 only interaction  polynomial degree 3  \\\n",
       "40136                            657,355.97           613,698.59   \n",
       "3252                             292,351.20           286,671.88   \n",
       "16376                            881,009.40           898,578.92   \n",
       "11892                            212,273.45           206,023.67   \n",
       "11185                            345,769.21           347,243.68   \n",
       "\n",
       "       polynomial degree 4  polynomial degree 5  \n",
       "40136           559,725.41           553,179.69  \n",
       "3252            283,815.44           285,341.61  \n",
       "16376           923,946.58           954,109.73  \n",
       "11892           213,746.70           186,415.18  \n",
       "11185           343,688.26           340,815.24  "
      ]
     },
     "execution_count": 45,
     "metadata": {},
     "output_type": "execute_result"
    }
   ],
   "source": [
    "lm = LinearRegression()\n",
    "lm.fit(X_train_poly, y_train)\n",
    "X_validate_poly = poly.transform(X_validate)\n",
    "train_pred['baseline'] = y_train.mean()\n",
    "validate_pred['baseline'] = y_validate.mean()\n",
    "train_pred['polynomial degree 5'] = lm.predict(X_train_poly)\n",
    "validate_pred['polynomial degree 5'] = lm.predict(X_validate_poly)\n",
    "train_pred.head()"
   ]
  },
  {
   "cell_type": "code",
   "execution_count": 46,
   "id": "89f9464e",
   "metadata": {},
   "outputs": [
    {
     "data": {
      "text/plain": [
       "(216035.16479299436, 226785.16303218642)"
      ]
     },
     "execution_count": 46,
     "metadata": {},
     "output_type": "execute_result"
    }
   ],
   "source": [
    "train_rmse = mean_squared_error(train_pred.actual,train_pred['polynomial degree 4'], squared = False)\n",
    "validate_rmse = mean_squared_error(validate_pred.actual,validate_pred['polynomial degree 4'], squared = False)\n",
    "train_rmse, validate_rmse"
   ]
  },
  {
   "cell_type": "markdown",
   "id": "9d4f2dfa",
   "metadata": {},
   "source": [
    "**K=3 has the lowest rmse**"
   ]
  },
  {
   "cell_type": "code",
   "execution_count": 88,
   "id": "d97f62ad",
   "metadata": {},
   "outputs": [],
   "source": [
    "# Adding k=3 to final table\n",
    "poly = PolynomialFeatures(degree=3, include_bias=False, interaction_only=False)\n",
    "poly.fit(X_train)\n",
    "X_train_poly = pd.DataFrame(\n",
    "    poly.transform(X_train),\n",
    "    columns=poly.get_feature_names(X_train.columns),\n",
    "    index=X_train.index,\n",
    ")\n",
    "lm = LinearRegression()\n",
    "lm.fit(X_train_poly, y_train)\n",
    "X_validate_poly = poly.transform(X_validate)\n",
    "X_test_poly = poly.transform(X_test)\n",
    "final_train_predictions['baseline'] = y_train.mean()\n",
    "final_validate_predictions['baseline'] = y_validate.mean()\n",
    "final_test_predictions['baseline'] = y_test.mean()\n",
    "final_train_predictions['polynomial degree 3'] = lm.predict(X_train_poly)\n",
    "final_validate_predictions['polynomial degree 3'] = lm.predict(X_validate_poly)\n",
    "final_test_predictions['polynomial degree 3'] = lm.predict(X_test_poly)"
   ]
  },
  {
   "cell_type": "markdown",
   "id": "43fe1600",
   "metadata": {},
   "source": [
    "## Lasso-Lars"
   ]
  },
  {
   "cell_type": "code",
   "execution_count": 47,
   "id": "0dbeb8f5",
   "metadata": {},
   "outputs": [
    {
     "data": {
      "text/plain": [
       "bedrooms              -246,716.09\n",
       "lot_size              -169,365.62\n",
       "county_Los Angeles     -55,129.46\n",
       "county_Orange           12,023.31\n",
       "has_pool                34,839.69\n",
       "age                     75,023.00\n",
       "bathrooms              189,541.59\n",
       "square_feet          1,172,709.64\n",
       "dtype: float64"
      ]
     },
     "execution_count": 47,
     "metadata": {},
     "output_type": "execute_result"
    }
   ],
   "source": [
    "from sklearn.linear_model import LassoLars\n",
    "# create the model object\n",
    "lars = LassoLars(alpha=0)\n",
    "\n",
    "# fit the model to our training data\n",
    "lars.fit(X_train, y_train)\n",
    "\n",
    "# predict validate\n",
    "X_train_pred_lars = lars.predict(X_train)\n",
    "\n",
    "pd.Series(lars.coef_, index=X_train.columns).sort_values()"
   ]
  },
  {
   "cell_type": "code",
   "execution_count": 48,
   "id": "4a581ff6",
   "metadata": {},
   "outputs": [],
   "source": [
    "# create the model object\n",
    "lars = LassoLars(alpha=1)\n",
    "\n",
    "# fit the model to our training data\n",
    "lars.fit(X_train, y_train)\n",
    "\n",
    "# predict validate\n",
    "X_train_pred_lars = lars.predict(X_train)\n",
    "X_validate_pred_lars = lars.predict(X_validate)\n",
    "# Add lassolars predictions to our predictions DataFrame\n",
    "train_pred['lasso_lars'] = X_train_pred_lars\n",
    "validate_pred['lasso_lars'] = X_validate_pred_lars"
   ]
  },
  {
   "cell_type": "code",
   "execution_count": 49,
   "id": "64f22c36",
   "metadata": {},
   "outputs": [
    {
     "data": {
      "text/plain": [
       "(227142.4885012844, 228470.26607945873)"
      ]
     },
     "execution_count": 49,
     "metadata": {},
     "output_type": "execute_result"
    }
   ],
   "source": [
    "train_rmse = mean_squared_error(train_pred.actual,train_pred['lasso_lars'], squared = False)\n",
    "validate_rmse = mean_squared_error(validate_pred.actual,validate_pred['lasso_lars'], squared = False)\n",
    "train_rmse, validate_rmse"
   ]
  },
  {
   "cell_type": "code",
   "execution_count": 50,
   "id": "bb7bf312",
   "metadata": {},
   "outputs": [
    {
     "data": {
      "text/plain": [
       "1327.7775781743403"
      ]
     },
     "execution_count": 50,
     "metadata": {},
     "output_type": "execute_result"
    }
   ],
   "source": [
    "validate_rmse-train_rmse"
   ]
  },
  {
   "cell_type": "code",
   "execution_count": 90,
   "id": "90394210",
   "metadata": {},
   "outputs": [],
   "source": [
    "# Adding to final table\n",
    "# create the model object\n",
    "lars = LassoLars(alpha=1)\n",
    "\n",
    "# fit the model to our training data\n",
    "lars.fit(X_train, y_train)\n",
    "\n",
    "# predict validate\n",
    "X_train_pred_lars = lars.predict(X_train)\n",
    "X_validate_pred_lars = lars.predict(X_validate)\n",
    "X_test_pred_lars = lars.predict(X_test)\n",
    "# Add lassolars predictions to our predictions DataFrame\n",
    "final_train_predictions['lasso_lars'] = X_train_pred_lars\n",
    "final_validate_predictions['lasso_lars'] = X_validate_pred_lars\n",
    "final_test_predictions['lasso_lars'] = X_test_pred_lars"
   ]
  },
  {
   "cell_type": "markdown",
   "id": "db9203d8",
   "metadata": {},
   "source": [
    "## Generalized Linear Model"
   ]
  },
  {
   "cell_type": "code",
   "execution_count": 51,
   "id": "b5deaf83",
   "metadata": {},
   "outputs": [],
   "source": [
    "from sklearn.linear_model import TweedieRegressor\n",
    "\n",
    "# create the model object\n",
    "glm = TweedieRegressor(power=1, alpha=0)\n",
    "\n",
    "# fit the model to our training data\n",
    "glm.fit(X_train, y_train)\n",
    "\n",
    "# predict train\n",
    "X_train_predict_glm = glm.predict(X_train)\n",
    "X_validate_predict_glm = glm.predict(X_validate)\n",
    "# Add lassolars predictions to our predictions DataFrame\n",
    "train_pred['glm'] = X_train_predict_glm\n",
    "validate_pred['glm'] = X_validate_predict_glm"
   ]
  },
  {
   "cell_type": "code",
   "execution_count": 52,
   "id": "8f7d0324",
   "metadata": {},
   "outputs": [
    {
     "data": {
      "text/plain": [
       "(229784.92306563476, 232408.9133429264)"
      ]
     },
     "execution_count": 52,
     "metadata": {},
     "output_type": "execute_result"
    }
   ],
   "source": [
    "train_rmse = mean_squared_error(train_pred.actual,train_pred['glm'], squared = False)\n",
    "validate_rmse = mean_squared_error(validate_pred.actual,validate_pred['glm'], squared = False)\n",
    "train_rmse, validate_rmse"
   ]
  },
  {
   "cell_type": "code",
   "execution_count": 53,
   "id": "f1d6dbf2",
   "metadata": {},
   "outputs": [
    {
     "data": {
      "text/plain": [
       "2623.990277291625"
      ]
     },
     "execution_count": 53,
     "metadata": {},
     "output_type": "execute_result"
    }
   ],
   "source": [
    "validate_rmse-train_rmse"
   ]
  },
  {
   "cell_type": "code",
   "execution_count": 91,
   "id": "97b57dcd",
   "metadata": {},
   "outputs": [],
   "source": [
    "# Adding to final table\n",
    "\n",
    "glm = TweedieRegressor(power=1, alpha=0)\n",
    "\n",
    "# fit the model to our training data\n",
    "glm.fit(X_train, y_train)\n",
    "\n",
    "# predict train\n",
    "X_train_predict_glm = glm.predict(X_train)\n",
    "X_validate_predict_glm = glm.predict(X_validate)\n",
    "X_test_predict_glm = glm.predict(X_test)\n",
    "# Add lassolars predictions to our predictions DataFrame\n",
    "final_train_predictions['glm'] = X_train_predict_glm\n",
    "final_validate_predictions['glm'] = X_validate_predict_glm\n",
    "final_test_predictions['glm'] = X_test_predict_glm"
   ]
  },
  {
   "cell_type": "markdown",
   "id": "cca450fc",
   "metadata": {},
   "source": [
    "## Evaluation"
   ]
  },
  {
   "cell_type": "code",
   "execution_count": 94,
   "id": "75822e60",
   "metadata": {},
   "outputs": [
    {
     "data": {
      "text/plain": [
       "actual                      0.00\n",
       "polynomial degree 3   223,633.46\n",
       "lasso_lars            232,745.23\n",
       "multiple_rfe_k=7      232,763.09\n",
       "glm                   235,321.90\n",
       "baseline              274,862.72\n",
       "dtype: float64"
      ]
     },
     "execution_count": 94,
     "metadata": {},
     "output_type": "execute_result"
    }
   ],
   "source": [
    "def calculate_rmse(y_predicted):\n",
    "    return mean_squared_error(final_train_predictions.actual, y_predicted, squared = False)\n",
    "\n",
    "final_train_predictions.apply(calculate_rmse).sort_values()"
   ]
  },
  {
   "cell_type": "code",
   "execution_count": 95,
   "id": "72f73ffc",
   "metadata": {},
   "outputs": [
    {
     "data": {
      "text/plain": [
       "actual                      0.00\n",
       "polynomial degree 3   222,070.92\n",
       "lasso_lars            230,203.61\n",
       "multiple_rfe_k=7      230,221.87\n",
       "glm                   233,617.59\n",
       "baseline              272,468.83\n",
       "dtype: float64"
      ]
     },
     "execution_count": 95,
     "metadata": {},
     "output_type": "execute_result"
    }
   ],
   "source": [
    "def calculate_rmse(y_predicted):\n",
    "    return mean_squared_error(final_validate_predictions.actual, y_predicted, squared = False)\n",
    "\n",
    "final_validate_predictions.apply(calculate_rmse).sort_values()"
   ]
  },
  {
   "cell_type": "code",
   "execution_count": 96,
   "id": "011045d4",
   "metadata": {},
   "outputs": [
    {
     "data": {
      "text/plain": [
       "actual                      0.00\n",
       "polynomial degree 3   225,323.49\n",
       "lasso_lars            233,614.86\n",
       "multiple_rfe_k=7      233,644.57\n",
       "glm                   237,682.56\n",
       "baseline              277,387.85\n",
       "dtype: float64"
      ]
     },
     "execution_count": 96,
     "metadata": {},
     "output_type": "execute_result"
    }
   ],
   "source": [
    "def calculate_rmse(y_predicted):\n",
    "    return mean_squared_error(final_test_predictions.actual, y_predicted, squared = False)\n",
    "\n",
    "final_test_predictions.apply(calculate_rmse).sort_values()"
   ]
  },
  {
   "cell_type": "code",
   "execution_count": 97,
   "id": "721cb734",
   "metadata": {},
   "outputs": [
    {
     "data": {
      "text/plain": [
       "0.18769517121964782"
      ]
     },
     "execution_count": 97,
     "metadata": {},
     "output_type": "execute_result"
    }
   ],
   "source": [
    "(277387.85-225323.49)/277387.85"
   ]
  }
 ],
 "metadata": {
  "kernelspec": {
   "display_name": "Python 3 (ipykernel)",
   "language": "python",
   "name": "python3"
  },
  "language_info": {
   "codemirror_mode": {
    "name": "ipython",
    "version": 3
   },
   "file_extension": ".py",
   "mimetype": "text/x-python",
   "name": "python",
   "nbconvert_exporter": "python",
   "pygments_lexer": "ipython3",
   "version": "3.9.12"
  }
 },
 "nbformat": 4,
 "nbformat_minor": 5
}
