{
 "cells": [
  {
   "cell_type": "code",
   "execution_count": 1,
   "id": "2916bb9a",
   "metadata": {},
   "outputs": [],
   "source": [
    "# Ignore warnings\n",
    "import warnings\n",
    "warnings.filterwarnings(\"ignore\")\n",
    "\n",
    "import numpy as np\n",
    "import pandas as pd\n",
    "\n",
    "import matplotlib.pyplot as plt\n",
    "from sklearn.feature_selection import RFE\n",
    "from sklearn.metrics import mean_squared_error\n",
    "from sklearn.preprocessing import MinMaxScaler\n",
    "from sklearn.model_selection import train_test_split\n",
    "\n",
    "import acquire\n",
    "import prepare"
   ]
  },
  {
   "cell_type": "code",
   "execution_count": 2,
   "id": "200cb2ae",
   "metadata": {},
   "outputs": [],
   "source": [
    "pd.options.display.float_format = '{:,.2f}'.format"
   ]
  },
  {
   "cell_type": "code",
   "execution_count": 3,
   "id": "41362de3",
   "metadata": {},
   "outputs": [],
   "source": [
    "rawdf = acquire.get_zillow_data()"
   ]
  },
  {
   "cell_type": "code",
   "execution_count": 4,
   "id": "c0916edf",
   "metadata": {},
   "outputs": [
    {
     "data": {
      "text/html": [
       "<div>\n",
       "<style scoped>\n",
       "    .dataframe tbody tr th:only-of-type {\n",
       "        vertical-align: middle;\n",
       "    }\n",
       "\n",
       "    .dataframe tbody tr th {\n",
       "        vertical-align: top;\n",
       "    }\n",
       "\n",
       "    .dataframe thead th {\n",
       "        text-align: right;\n",
       "    }\n",
       "</style>\n",
       "<table border=\"1\" class=\"dataframe\">\n",
       "  <thead>\n",
       "    <tr style=\"text-align: right;\">\n",
       "      <th></th>\n",
       "      <th>longitude</th>\n",
       "      <th>latitude</th>\n",
       "      <th>bedrooms</th>\n",
       "      <th>bathrooms</th>\n",
       "      <th>square_feet</th>\n",
       "      <th>lot_size</th>\n",
       "      <th>has_pool</th>\n",
       "      <th>fips_code</th>\n",
       "      <th>age</th>\n",
       "      <th>assessed_value</th>\n",
       "      <th>tax_amount</th>\n",
       "    </tr>\n",
       "  </thead>\n",
       "  <tbody>\n",
       "    <tr>\n",
       "      <th>0</th>\n",
       "      <td>-118,740133</td>\n",
       "      <td>34,251502</td>\n",
       "      <td>4.00</td>\n",
       "      <td>2.00</td>\n",
       "      <td>1,323.00</td>\n",
       "      <td>6,825.00</td>\n",
       "      <td>NaN</td>\n",
       "      <td>06111</td>\n",
       "      <td>53.00</td>\n",
       "      <td>453,000.00</td>\n",
       "      <td>5,235.32</td>\n",
       "    </tr>\n",
       "    <tr>\n",
       "      <th>1</th>\n",
       "      <td>-118,217048</td>\n",
       "      <td>33,798657</td>\n",
       "      <td>4.00</td>\n",
       "      <td>2.00</td>\n",
       "      <td>1,339.00</td>\n",
       "      <td>6,107.00</td>\n",
       "      <td>NaN</td>\n",
       "      <td>06037</td>\n",
       "      <td>40.00</td>\n",
       "      <td>298,371.00</td>\n",
       "      <td>3,714.58</td>\n",
       "    </tr>\n",
       "    <tr>\n",
       "      <th>2</th>\n",
       "      <td>-118,531253</td>\n",
       "      <td>34,039467</td>\n",
       "      <td>2.00</td>\n",
       "      <td>2.00</td>\n",
       "      <td>1,231.00</td>\n",
       "      <td>11,837.00</td>\n",
       "      <td>NaN</td>\n",
       "      <td>06037</td>\n",
       "      <td>67.00</td>\n",
       "      <td>161,897.00</td>\n",
       "      <td>2,031.39</td>\n",
       "    </tr>\n",
       "    <tr>\n",
       "      <th>3</th>\n",
       "      <td>-117,613897</td>\n",
       "      <td>33,663005</td>\n",
       "      <td>5.00</td>\n",
       "      <td>3.00</td>\n",
       "      <td>3,008.00</td>\n",
       "      <td>6,760.00</td>\n",
       "      <td>1.00</td>\n",
       "      <td>06059</td>\n",
       "      <td>22.00</td>\n",
       "      <td>472,384.00</td>\n",
       "      <td>7,234.74</td>\n",
       "    </tr>\n",
       "    <tr>\n",
       "      <th>4</th>\n",
       "      <td>-118,393309</td>\n",
       "      <td>34,227422</td>\n",
       "      <td>2.00</td>\n",
       "      <td>1.00</td>\n",
       "      <td>996.00</td>\n",
       "      <td>7,518.00</td>\n",
       "      <td>NaN</td>\n",
       "      <td>06037</td>\n",
       "      <td>77.00</td>\n",
       "      <td>58,693.00</td>\n",
       "      <td>751.66</td>\n",
       "    </tr>\n",
       "  </tbody>\n",
       "</table>\n",
       "</div>"
      ],
      "text/plain": [
       "     longitude   latitude  bedrooms  bathrooms  square_feet  lot_size  \\\n",
       "0  -118,740133  34,251502      4.00       2.00     1,323.00  6,825.00   \n",
       "1  -118,217048  33,798657      4.00       2.00     1,339.00  6,107.00   \n",
       "2  -118,531253  34,039467      2.00       2.00     1,231.00 11,837.00   \n",
       "3  -117,613897  33,663005      5.00       3.00     3,008.00  6,760.00   \n",
       "4  -118,393309  34,227422      2.00       1.00       996.00  7,518.00   \n",
       "\n",
       "   has_pool fips_code   age  assessed_value  tax_amount  \n",
       "0       NaN     06111 53.00      453,000.00    5,235.32  \n",
       "1       NaN     06037 40.00      298,371.00    3,714.58  \n",
       "2       NaN     06037 67.00      161,897.00    2,031.39  \n",
       "3      1.00     06059 22.00      472,384.00    7,234.74  \n",
       "4       NaN     06037 77.00       58,693.00      751.66  "
      ]
     },
     "execution_count": 4,
     "metadata": {},
     "output_type": "execute_result"
    }
   ],
   "source": [
    "rawdf.head()"
   ]
  },
  {
   "cell_type": "code",
   "execution_count": 5,
   "id": "755daa37",
   "metadata": {},
   "outputs": [],
   "source": [
    "df = prepare.prep_zillow(rawdf)"
   ]
  },
  {
   "cell_type": "code",
   "execution_count": 6,
   "id": "68a14a67",
   "metadata": {},
   "outputs": [
    {
     "data": {
      "text/plain": [
       "(47281, 23)"
      ]
     },
     "execution_count": 6,
     "metadata": {},
     "output_type": "execute_result"
    }
   ],
   "source": [
    "df.shape"
   ]
  },
  {
   "cell_type": "code",
   "execution_count": 11,
   "id": "21080447",
   "metadata": {},
   "outputs": [
    {
     "data": {
      "text/html": [
       "<div>\n",
       "<style scoped>\n",
       "    .dataframe tbody tr th:only-of-type {\n",
       "        vertical-align: middle;\n",
       "    }\n",
       "\n",
       "    .dataframe tbody tr th {\n",
       "        vertical-align: top;\n",
       "    }\n",
       "\n",
       "    .dataframe thead th {\n",
       "        text-align: right;\n",
       "    }\n",
       "</style>\n",
       "<table border=\"1\" class=\"dataframe\">\n",
       "  <thead>\n",
       "    <tr style=\"text-align: right;\">\n",
       "      <th></th>\n",
       "      <th>longitude</th>\n",
       "      <th>latitude</th>\n",
       "      <th>bedrooms</th>\n",
       "      <th>bathrooms</th>\n",
       "      <th>square_feet</th>\n",
       "      <th>lot_size</th>\n",
       "      <th>has_pool</th>\n",
       "      <th>fips_code</th>\n",
       "      <th>age</th>\n",
       "      <th>assessed_value</th>\n",
       "      <th>...</th>\n",
       "      <th>bathrooms_size</th>\n",
       "      <th>county_Los Angeles</th>\n",
       "      <th>county_Orange</th>\n",
       "      <th>county_Ventura</th>\n",
       "      <th>bedrooms_size_small</th>\n",
       "      <th>bedrooms_size_medium</th>\n",
       "      <th>bedrooms_size_large</th>\n",
       "      <th>bathrooms_size_small</th>\n",
       "      <th>bathrooms_size_medium</th>\n",
       "      <th>bathrooms_size_large</th>\n",
       "    </tr>\n",
       "  </thead>\n",
       "  <tbody>\n",
       "    <tr>\n",
       "      <th>0</th>\n",
       "      <td>-118,740133</td>\n",
       "      <td>34,251502</td>\n",
       "      <td>4.0</td>\n",
       "      <td>2.0</td>\n",
       "      <td>1323.0</td>\n",
       "      <td>6825.0</td>\n",
       "      <td>0.0</td>\n",
       "      <td>06111</td>\n",
       "      <td>53</td>\n",
       "      <td>453000.0</td>\n",
       "      <td>...</td>\n",
       "      <td>small</td>\n",
       "      <td>0</td>\n",
       "      <td>0</td>\n",
       "      <td>1</td>\n",
       "      <td>0</td>\n",
       "      <td>1</td>\n",
       "      <td>0</td>\n",
       "      <td>1</td>\n",
       "      <td>0</td>\n",
       "      <td>0</td>\n",
       "    </tr>\n",
       "    <tr>\n",
       "      <th>1</th>\n",
       "      <td>-118,217048</td>\n",
       "      <td>33,798657</td>\n",
       "      <td>4.0</td>\n",
       "      <td>2.0</td>\n",
       "      <td>1339.0</td>\n",
       "      <td>6107.0</td>\n",
       "      <td>0.0</td>\n",
       "      <td>06037</td>\n",
       "      <td>40</td>\n",
       "      <td>298371.0</td>\n",
       "      <td>...</td>\n",
       "      <td>small</td>\n",
       "      <td>1</td>\n",
       "      <td>0</td>\n",
       "      <td>0</td>\n",
       "      <td>0</td>\n",
       "      <td>1</td>\n",
       "      <td>0</td>\n",
       "      <td>1</td>\n",
       "      <td>0</td>\n",
       "      <td>0</td>\n",
       "    </tr>\n",
       "    <tr>\n",
       "      <th>2</th>\n",
       "      <td>-118,531253</td>\n",
       "      <td>34,039467</td>\n",
       "      <td>2.0</td>\n",
       "      <td>2.0</td>\n",
       "      <td>1231.0</td>\n",
       "      <td>11837.0</td>\n",
       "      <td>0.0</td>\n",
       "      <td>06037</td>\n",
       "      <td>67</td>\n",
       "      <td>161897.0</td>\n",
       "      <td>...</td>\n",
       "      <td>small</td>\n",
       "      <td>1</td>\n",
       "      <td>0</td>\n",
       "      <td>0</td>\n",
       "      <td>1</td>\n",
       "      <td>0</td>\n",
       "      <td>0</td>\n",
       "      <td>1</td>\n",
       "      <td>0</td>\n",
       "      <td>0</td>\n",
       "    </tr>\n",
       "    <tr>\n",
       "      <th>3</th>\n",
       "      <td>-117,613897</td>\n",
       "      <td>33,663005</td>\n",
       "      <td>5.0</td>\n",
       "      <td>3.0</td>\n",
       "      <td>3008.0</td>\n",
       "      <td>6760.0</td>\n",
       "      <td>1.0</td>\n",
       "      <td>06059</td>\n",
       "      <td>22</td>\n",
       "      <td>472384.0</td>\n",
       "      <td>...</td>\n",
       "      <td>medium</td>\n",
       "      <td>0</td>\n",
       "      <td>1</td>\n",
       "      <td>0</td>\n",
       "      <td>0</td>\n",
       "      <td>0</td>\n",
       "      <td>1</td>\n",
       "      <td>0</td>\n",
       "      <td>1</td>\n",
       "      <td>0</td>\n",
       "    </tr>\n",
       "    <tr>\n",
       "      <th>6</th>\n",
       "      <td>-118,689128</td>\n",
       "      <td>34,284379</td>\n",
       "      <td>3.0</td>\n",
       "      <td>2.5</td>\n",
       "      <td>1666.0</td>\n",
       "      <td>3301.0</td>\n",
       "      <td>0.0</td>\n",
       "      <td>06111</td>\n",
       "      <td>20</td>\n",
       "      <td>362552.0</td>\n",
       "      <td>...</td>\n",
       "      <td>small</td>\n",
       "      <td>0</td>\n",
       "      <td>0</td>\n",
       "      <td>1</td>\n",
       "      <td>0</td>\n",
       "      <td>1</td>\n",
       "      <td>0</td>\n",
       "      <td>1</td>\n",
       "      <td>0</td>\n",
       "      <td>0</td>\n",
       "    </tr>\n",
       "  </tbody>\n",
       "</table>\n",
       "<p>5 rows × 23 columns</p>\n",
       "</div>"
      ],
      "text/plain": [
       "     longitude   latitude  bedrooms  bathrooms  square_feet  lot_size  \\\n",
       "0  -118,740133  34,251502       4.0        2.0       1323.0    6825.0   \n",
       "1  -118,217048  33,798657       4.0        2.0       1339.0    6107.0   \n",
       "2  -118,531253  34,039467       2.0        2.0       1231.0   11837.0   \n",
       "3  -117,613897  33,663005       5.0        3.0       3008.0    6760.0   \n",
       "6  -118,689128  34,284379       3.0        2.5       1666.0    3301.0   \n",
       "\n",
       "   has_pool fips_code  age  assessed_value  ...  bathrooms_size  \\\n",
       "0       0.0     06111   53        453000.0  ...           small   \n",
       "1       0.0     06037   40        298371.0  ...           small   \n",
       "2       0.0     06037   67        161897.0  ...           small   \n",
       "3       1.0     06059   22        472384.0  ...          medium   \n",
       "6       0.0     06111   20        362552.0  ...           small   \n",
       "\n",
       "  county_Los Angeles county_Orange county_Ventura  bedrooms_size_small  \\\n",
       "0                  0             0              1                    0   \n",
       "1                  1             0              0                    0   \n",
       "2                  1             0              0                    1   \n",
       "3                  0             1              0                    0   \n",
       "6                  0             0              1                    0   \n",
       "\n",
       "   bedrooms_size_medium  bedrooms_size_large  bathrooms_size_small  \\\n",
       "0                     1                    0                     1   \n",
       "1                     1                    0                     1   \n",
       "2                     0                    0                     1   \n",
       "3                     0                    1                     0   \n",
       "6                     1                    0                     1   \n",
       "\n",
       "   bathrooms_size_medium  bathrooms_size_large  \n",
       "0                      0                     0  \n",
       "1                      0                     0  \n",
       "2                      0                     0  \n",
       "3                      1                     0  \n",
       "6                      0                     0  \n",
       "\n",
       "[5 rows x 23 columns]"
      ]
     },
     "execution_count": 11,
     "metadata": {},
     "output_type": "execute_result"
    }
   ],
   "source": [
    "df.head()"
   ]
  },
  {
   "cell_type": "markdown",
   "id": "e1332e52",
   "metadata": {},
   "source": [
    "## Simple Model\n",
    "$$ y = mx + b $$\n",
    "\n",
    "$$y = f(x)$$"
   ]
  },
  {
   "cell_type": "code",
   "execution_count": 8,
   "id": "62ebdb1a",
   "metadata": {},
   "outputs": [],
   "source": [
    "scaled_df = df.copy()"
   ]
  },
  {
   "cell_type": "code",
   "execution_count": 9,
   "id": "9e5b007c",
   "metadata": {},
   "outputs": [],
   "source": [
    "scaler = MinMaxScaler()"
   ]
  },
  {
   "cell_type": "code",
   "execution_count": 10,
   "id": "291aab55",
   "metadata": {},
   "outputs": [
    {
     "data": {
      "text/plain": [
       "MinMaxScaler()"
      ]
     },
     "execution_count": 10,
     "metadata": {},
     "output_type": "execute_result"
    }
   ],
   "source": [
    "scaler.fit(scaled_df[['square_feet', 'lot_size', 'age']])"
   ]
  },
  {
   "cell_type": "code",
   "execution_count": 11,
   "id": "ad67b02e",
   "metadata": {},
   "outputs": [],
   "source": [
    "scaled_df[['square_feet', 'lot_size', 'age']] = scaler.transform(scaled_df[['square_feet', 'lot_size', 'age']])"
   ]
  },
  {
   "cell_type": "code",
   "execution_count": 12,
   "id": "94d4c753",
   "metadata": {},
   "outputs": [
    {
     "data": {
      "text/html": [
       "<div>\n",
       "<style scoped>\n",
       "    .dataframe tbody tr th:only-of-type {\n",
       "        vertical-align: middle;\n",
       "    }\n",
       "\n",
       "    .dataframe tbody tr th {\n",
       "        vertical-align: top;\n",
       "    }\n",
       "\n",
       "    .dataframe thead th {\n",
       "        text-align: right;\n",
       "    }\n",
       "</style>\n",
       "<table border=\"1\" class=\"dataframe\">\n",
       "  <thead>\n",
       "    <tr style=\"text-align: right;\">\n",
       "      <th></th>\n",
       "      <th>longitude</th>\n",
       "      <th>latitude</th>\n",
       "      <th>bedrooms</th>\n",
       "      <th>bathrooms</th>\n",
       "      <th>square_feet</th>\n",
       "      <th>lot_size</th>\n",
       "      <th>has_pool</th>\n",
       "      <th>fips_code</th>\n",
       "      <th>age</th>\n",
       "      <th>assessed_value</th>\n",
       "      <th>...</th>\n",
       "      <th>bathrooms_size</th>\n",
       "      <th>county_Los Angeles</th>\n",
       "      <th>county_Orange</th>\n",
       "      <th>county_Ventura</th>\n",
       "      <th>bedrooms_size_small</th>\n",
       "      <th>bedrooms_size_medium</th>\n",
       "      <th>bedrooms_size_large</th>\n",
       "      <th>bathrooms_size_small</th>\n",
       "      <th>bathrooms_size_medium</th>\n",
       "      <th>bathrooms_size_large</th>\n",
       "    </tr>\n",
       "  </thead>\n",
       "  <tbody>\n",
       "    <tr>\n",
       "      <th>0</th>\n",
       "      <td>-118,740133</td>\n",
       "      <td>34,251502</td>\n",
       "      <td>4.00</td>\n",
       "      <td>2.00</td>\n",
       "      <td>0.13</td>\n",
       "      <td>0.05</td>\n",
       "      <td>0.00</td>\n",
       "      <td>06111</td>\n",
       "      <td>0.38</td>\n",
       "      <td>453,000.00</td>\n",
       "      <td>...</td>\n",
       "      <td>small</td>\n",
       "      <td>0</td>\n",
       "      <td>0</td>\n",
       "      <td>1</td>\n",
       "      <td>0</td>\n",
       "      <td>1</td>\n",
       "      <td>0</td>\n",
       "      <td>1</td>\n",
       "      <td>0</td>\n",
       "      <td>0</td>\n",
       "    </tr>\n",
       "    <tr>\n",
       "      <th>1</th>\n",
       "      <td>-118,217048</td>\n",
       "      <td>33,798657</td>\n",
       "      <td>4.00</td>\n",
       "      <td>2.00</td>\n",
       "      <td>0.13</td>\n",
       "      <td>0.04</td>\n",
       "      <td>0.00</td>\n",
       "      <td>06037</td>\n",
       "      <td>0.28</td>\n",
       "      <td>298,371.00</td>\n",
       "      <td>...</td>\n",
       "      <td>small</td>\n",
       "      <td>1</td>\n",
       "      <td>0</td>\n",
       "      <td>0</td>\n",
       "      <td>0</td>\n",
       "      <td>1</td>\n",
       "      <td>0</td>\n",
       "      <td>1</td>\n",
       "      <td>0</td>\n",
       "      <td>0</td>\n",
       "    </tr>\n",
       "    <tr>\n",
       "      <th>2</th>\n",
       "      <td>-118,531253</td>\n",
       "      <td>34,039467</td>\n",
       "      <td>2.00</td>\n",
       "      <td>2.00</td>\n",
       "      <td>0.12</td>\n",
       "      <td>0.09</td>\n",
       "      <td>0.00</td>\n",
       "      <td>06037</td>\n",
       "      <td>0.48</td>\n",
       "      <td>161,897.00</td>\n",
       "      <td>...</td>\n",
       "      <td>small</td>\n",
       "      <td>1</td>\n",
       "      <td>0</td>\n",
       "      <td>0</td>\n",
       "      <td>1</td>\n",
       "      <td>0</td>\n",
       "      <td>0</td>\n",
       "      <td>1</td>\n",
       "      <td>0</td>\n",
       "      <td>0</td>\n",
       "    </tr>\n",
       "    <tr>\n",
       "      <th>3</th>\n",
       "      <td>-117,613897</td>\n",
       "      <td>33,663005</td>\n",
       "      <td>5.00</td>\n",
       "      <td>3.00</td>\n",
       "      <td>0.40</td>\n",
       "      <td>0.05</td>\n",
       "      <td>1.00</td>\n",
       "      <td>06059</td>\n",
       "      <td>0.15</td>\n",
       "      <td>472,384.00</td>\n",
       "      <td>...</td>\n",
       "      <td>medium</td>\n",
       "      <td>0</td>\n",
       "      <td>1</td>\n",
       "      <td>0</td>\n",
       "      <td>0</td>\n",
       "      <td>0</td>\n",
       "      <td>1</td>\n",
       "      <td>0</td>\n",
       "      <td>1</td>\n",
       "      <td>0</td>\n",
       "    </tr>\n",
       "    <tr>\n",
       "      <th>4</th>\n",
       "      <td>-118,393309</td>\n",
       "      <td>34,227422</td>\n",
       "      <td>2.00</td>\n",
       "      <td>1.00</td>\n",
       "      <td>0.08</td>\n",
       "      <td>0.06</td>\n",
       "      <td>0.00</td>\n",
       "      <td>06037</td>\n",
       "      <td>0.55</td>\n",
       "      <td>58,693.00</td>\n",
       "      <td>...</td>\n",
       "      <td>small</td>\n",
       "      <td>1</td>\n",
       "      <td>0</td>\n",
       "      <td>0</td>\n",
       "      <td>1</td>\n",
       "      <td>0</td>\n",
       "      <td>0</td>\n",
       "      <td>1</td>\n",
       "      <td>0</td>\n",
       "      <td>0</td>\n",
       "    </tr>\n",
       "  </tbody>\n",
       "</table>\n",
       "<p>5 rows × 23 columns</p>\n",
       "</div>"
      ],
      "text/plain": [
       "     longitude   latitude  bedrooms  bathrooms  square_feet  lot_size  \\\n",
       "0  -118,740133  34,251502      4.00       2.00         0.13      0.05   \n",
       "1  -118,217048  33,798657      4.00       2.00         0.13      0.04   \n",
       "2  -118,531253  34,039467      2.00       2.00         0.12      0.09   \n",
       "3  -117,613897  33,663005      5.00       3.00         0.40      0.05   \n",
       "4  -118,393309  34,227422      2.00       1.00         0.08      0.06   \n",
       "\n",
       "   has_pool fips_code  age  assessed_value  ...  bathrooms_size  \\\n",
       "0      0.00     06111 0.38      453,000.00  ...           small   \n",
       "1      0.00     06037 0.28      298,371.00  ...           small   \n",
       "2      0.00     06037 0.48      161,897.00  ...           small   \n",
       "3      1.00     06059 0.15      472,384.00  ...          medium   \n",
       "4      0.00     06037 0.55       58,693.00  ...           small   \n",
       "\n",
       "  county_Los Angeles county_Orange county_Ventura  bedrooms_size_small  \\\n",
       "0                  0             0              1                    0   \n",
       "1                  1             0              0                    0   \n",
       "2                  1             0              0                    1   \n",
       "3                  0             1              0                    0   \n",
       "4                  1             0              0                    1   \n",
       "\n",
       "   bedrooms_size_medium  bedrooms_size_large  bathrooms_size_small  \\\n",
       "0                     1                    0                     1   \n",
       "1                     1                    0                     1   \n",
       "2                     0                    0                     1   \n",
       "3                     0                    1                     0   \n",
       "4                     0                    0                     1   \n",
       "\n",
       "   bathrooms_size_medium  bathrooms_size_large  \n",
       "0                      0                     0  \n",
       "1                      0                     0  \n",
       "2                      0                     0  \n",
       "3                      1                     0  \n",
       "4                      0                     0  \n",
       "\n",
       "[5 rows x 23 columns]"
      ]
     },
     "execution_count": 12,
     "metadata": {},
     "output_type": "execute_result"
    }
   ],
   "source": [
    "scaled_df.head()"
   ]
  },
  {
   "cell_type": "code",
   "execution_count": 13,
   "id": "d342b6e9",
   "metadata": {},
   "outputs": [],
   "source": [
    "s_train, s_validate, s_test = prepare.split(scaled_df)"
   ]
  },
  {
   "cell_type": "code",
   "execution_count": 14,
   "id": "74002dc5",
   "metadata": {},
   "outputs": [],
   "source": [
    "pd.set_option('display.max_columns', None)"
   ]
  },
  {
   "cell_type": "code",
   "execution_count": 17,
   "id": "9bec9106",
   "metadata": {},
   "outputs": [],
   "source": [
    "cols = ['square_feet', 'lot_size', 'has_pool', 'age', 'county_Los Angeles', 'county_Orange', 'bedrooms', 'bathrooms']\n",
    "\n",
    "X_train = s_train[cols]\n",
    "y_train = s_train.assessed_value\n",
    "\n",
    "X_validate = s_validate[cols]\n",
    "y_validate = s_validate.assessed_value\n",
    "\n",
    "X_test = s_test[cols]\n",
    "y_test = s_test.assessed_value"
   ]
  },
  {
   "cell_type": "code",
   "execution_count": 21,
   "id": "d2b92d78",
   "metadata": {},
   "outputs": [],
   "source": [
    "train_predictions = pd.DataFrame({\n",
    "    'actual': s_train.assessed_value\n",
    "}) \n",
    "validate_predictions = pd.DataFrame({\n",
    "    'actual': s_validate.assessed_value\n",
    "}) "
   ]
  },
  {
   "cell_type": "markdown",
   "id": "603b6812",
   "metadata": {},
   "source": [
    "## Multiple  Regression + RFE"
   ]
  },
  {
   "cell_type": "code",
   "execution_count": 19,
   "id": "437dd05e",
   "metadata": {},
   "outputs": [
    {
     "name": "stdout",
     "output_type": "stream",
     "text": [
      "selected top 8 features: Index(['square_feet', 'lot_size', 'age', 'county_Los Angeles', 'bedrooms'], dtype='object')\n"
     ]
    }
   ],
   "source": [
    "from sklearn.linear_model import LinearRegression\n",
    "lm = LinearRegression()\n",
    "k = 6\n",
    "\n",
    "# 1. Transform our X\n",
    "rfe = RFE(lm, n_features_to_select=5)\n",
    "rfe.fit(X_train, y_train)\n",
    "print('selected top 8 features:', X_train.columns[rfe.support_])\n",
    "X_train_rfe = rfe.transform(X_train)"
   ]
  },
  {
   "cell_type": "markdown",
   "id": "305b166c",
   "metadata": {},
   "source": [
    "### Looping through k"
   ]
  },
  {
   "cell_type": "code",
   "execution_count": 22,
   "id": "ef68a2c9",
   "metadata": {},
   "outputs": [],
   "source": [
    "for k in range(2,8):\n",
    "    lm = LinearRegression()\n",
    "    # 1. Transform our X\n",
    "    rfe = RFE(lm, n_features_to_select=k)\n",
    "    rfe.fit(X_train, y_train)\n",
    "    # 2. Use the transformed x in our model\n",
    "    X_train_rfe = rfe.transform(X_train)\n",
    "    X_validate_rfe = rfe.transform(X_validate)\n",
    "    lm.fit(X_train_rfe, y_train)\n",
    "    \n",
    "    # Make predictions\n",
    "    train_predictions['multiple_rfe_k=', k] = lm.predict(X_train_rfe)\n",
    "    validate_predictions['multiple_rfe_k=', k] = lm.predict(X_validate_rfe)\n",
    "    k+=1"
   ]
  },
  {
   "cell_type": "code",
   "execution_count": 23,
   "id": "20f966e5",
   "metadata": {},
   "outputs": [
    {
     "data": {
      "text/html": [
       "<div>\n",
       "<style scoped>\n",
       "    .dataframe tbody tr th:only-of-type {\n",
       "        vertical-align: middle;\n",
       "    }\n",
       "\n",
       "    .dataframe tbody tr th {\n",
       "        vertical-align: top;\n",
       "    }\n",
       "\n",
       "    .dataframe thead th {\n",
       "        text-align: right;\n",
       "    }\n",
       "</style>\n",
       "<table border=\"1\" class=\"dataframe\">\n",
       "  <thead>\n",
       "    <tr style=\"text-align: right;\">\n",
       "      <th></th>\n",
       "      <th>actual</th>\n",
       "      <th>(multiple_rfe_k=, 2)</th>\n",
       "      <th>(multiple_rfe_k=, 3)</th>\n",
       "      <th>(multiple_rfe_k=, 4)</th>\n",
       "      <th>(multiple_rfe_k=, 5)</th>\n",
       "      <th>(multiple_rfe_k=, 6)</th>\n",
       "      <th>(multiple_rfe_k=, 7)</th>\n",
       "    </tr>\n",
       "  </thead>\n",
       "  <tbody>\n",
       "    <tr>\n",
       "      <th>27797</th>\n",
       "      <td>339,675.00</td>\n",
       "      <td>427,543.61</td>\n",
       "      <td>457,229.19</td>\n",
       "      <td>429,248.28</td>\n",
       "      <td>421,741.62</td>\n",
       "      <td>417,489.23</td>\n",
       "      <td>411,993.11</td>\n",
       "    </tr>\n",
       "    <tr>\n",
       "      <th>18599</th>\n",
       "      <td>913,000.00</td>\n",
       "      <td>562,177.81</td>\n",
       "      <td>592,701.08</td>\n",
       "      <td>682,423.31</td>\n",
       "      <td>680,160.04</td>\n",
       "      <td>669,224.02</td>\n",
       "      <td>658,384.19</td>\n",
       "    </tr>\n",
       "    <tr>\n",
       "      <th>512</th>\n",
       "      <td>543,000.00</td>\n",
       "      <td>170,947.34</td>\n",
       "      <td>161,485.15</td>\n",
       "      <td>223,216.51</td>\n",
       "      <td>230,087.86</td>\n",
       "      <td>244,580.55</td>\n",
       "      <td>244,224.00</td>\n",
       "    </tr>\n",
       "    <tr>\n",
       "      <th>18002</th>\n",
       "      <td>547,000.00</td>\n",
       "      <td>348,856.82</td>\n",
       "      <td>382,724.94</td>\n",
       "      <td>387,402.68</td>\n",
       "      <td>384,078.60</td>\n",
       "      <td>383,429.19</td>\n",
       "      <td>379,395.83</td>\n",
       "    </tr>\n",
       "    <tr>\n",
       "      <th>44818</th>\n",
       "      <td>397,288.00</td>\n",
       "      <td>330,636.74</td>\n",
       "      <td>365,378.25</td>\n",
       "      <td>366,886.52</td>\n",
       "      <td>367,149.54</td>\n",
       "      <td>373,503.19</td>\n",
       "      <td>404,321.63</td>\n",
       "    </tr>\n",
       "  </tbody>\n",
       "</table>\n",
       "</div>"
      ],
      "text/plain": [
       "          actual  (multiple_rfe_k=, 2)  (multiple_rfe_k=, 3)  \\\n",
       "27797 339,675.00            427,543.61            457,229.19   \n",
       "18599 913,000.00            562,177.81            592,701.08   \n",
       "512   543,000.00            170,947.34            161,485.15   \n",
       "18002 547,000.00            348,856.82            382,724.94   \n",
       "44818 397,288.00            330,636.74            365,378.25   \n",
       "\n",
       "       (multiple_rfe_k=, 4)  (multiple_rfe_k=, 5)  (multiple_rfe_k=, 6)  \\\n",
       "27797            429,248.28            421,741.62            417,489.23   \n",
       "18599            682,423.31            680,160.04            669,224.02   \n",
       "512              223,216.51            230,087.86            244,580.55   \n",
       "18002            387,402.68            384,078.60            383,429.19   \n",
       "44818            366,886.52            367,149.54            373,503.19   \n",
       "\n",
       "       (multiple_rfe_k=, 7)  \n",
       "27797            411,993.11  \n",
       "18599            658,384.19  \n",
       "512              244,224.00  \n",
       "18002            379,395.83  \n",
       "44818            404,321.63  "
      ]
     },
     "execution_count": 23,
     "metadata": {},
     "output_type": "execute_result"
    }
   ],
   "source": [
    "train_predictions.head()"
   ]
  },
  {
   "cell_type": "code",
   "execution_count": 24,
   "id": "92a2e756",
   "metadata": {},
   "outputs": [],
   "source": [
    "train_predictions['baseline'] = y_train.mean()"
   ]
  },
  {
   "cell_type": "code",
   "execution_count": 25,
   "id": "d8a26534",
   "metadata": {},
   "outputs": [
    {
     "data": {
      "text/plain": [
       "actual                       0.00\n",
       "(multiple_rfe_k=, 7)   232,439.10\n",
       "(multiple_rfe_k=, 6)   232,815.36\n",
       "(multiple_rfe_k=, 5)   233,566.15\n",
       "(multiple_rfe_k=, 4)   233,620.68\n",
       "(multiple_rfe_k=, 3)   235,668.09\n",
       "(multiple_rfe_k=, 2)   236,841.47\n",
       "baseline               274,767.86\n",
       "dtype: float64"
      ]
     },
     "execution_count": 25,
     "metadata": {},
     "output_type": "execute_result"
    }
   ],
   "source": [
    "def calculate_rmse(y_predicted):\n",
    "    return mean_squared_error(train_predictions.actual, y_predicted, squared = False)\n",
    "\n",
    "train_predictions.apply(calculate_rmse).sort_values()"
   ]
  },
  {
   "cell_type": "code",
   "execution_count": 27,
   "id": "b1d580a0",
   "metadata": {},
   "outputs": [],
   "source": [
    "validate_predictions['baseline'] = y_validate.mean()"
   ]
  },
  {
   "cell_type": "code",
   "execution_count": 28,
   "id": "0449873a",
   "metadata": {
    "scrolled": true
   },
   "outputs": [
    {
     "data": {
      "text/html": [
       "<div>\n",
       "<style scoped>\n",
       "    .dataframe tbody tr th:only-of-type {\n",
       "        vertical-align: middle;\n",
       "    }\n",
       "\n",
       "    .dataframe tbody tr th {\n",
       "        vertical-align: top;\n",
       "    }\n",
       "\n",
       "    .dataframe thead th {\n",
       "        text-align: right;\n",
       "    }\n",
       "</style>\n",
       "<table border=\"1\" class=\"dataframe\">\n",
       "  <thead>\n",
       "    <tr style=\"text-align: right;\">\n",
       "      <th></th>\n",
       "      <th>actual</th>\n",
       "      <th>(multiple_rfe_k=, 2)</th>\n",
       "      <th>(multiple_rfe_k=, 3)</th>\n",
       "      <th>(multiple_rfe_k=, 4)</th>\n",
       "      <th>(multiple_rfe_k=, 5)</th>\n",
       "      <th>(multiple_rfe_k=, 6)</th>\n",
       "      <th>(multiple_rfe_k=, 7)</th>\n",
       "      <th>baseline</th>\n",
       "    </tr>\n",
       "  </thead>\n",
       "  <tbody>\n",
       "    <tr>\n",
       "      <th>46740</th>\n",
       "      <td>629,682.00</td>\n",
       "      <td>321,471.41</td>\n",
       "      <td>304,925.54</td>\n",
       "      <td>346,627.95</td>\n",
       "      <td>339,405.72</td>\n",
       "      <td>347,812.14</td>\n",
       "      <td>346,171.45</td>\n",
       "      <td>406,783.72</td>\n",
       "    </tr>\n",
       "    <tr>\n",
       "      <th>18140</th>\n",
       "      <td>187,026.00</td>\n",
       "      <td>469,130.60</td>\n",
       "      <td>498,559.38</td>\n",
       "      <td>478,239.42</td>\n",
       "      <td>481,696.22</td>\n",
       "      <td>481,770.43</td>\n",
       "      <td>472,452.04</td>\n",
       "      <td>406,783.72</td>\n",
       "    </tr>\n",
       "    <tr>\n",
       "      <th>1508</th>\n",
       "      <td>768,308.00</td>\n",
       "      <td>819,603.59</td>\n",
       "      <td>786,081.38</td>\n",
       "      <td>777,394.88</td>\n",
       "      <td>779,554.62</td>\n",
       "      <td>732,972.62</td>\n",
       "      <td>749,730.97</td>\n",
       "      <td>406,783.72</td>\n",
       "    </tr>\n",
       "    <tr>\n",
       "      <th>7139</th>\n",
       "      <td>188,466.00</td>\n",
       "      <td>403,396.11</td>\n",
       "      <td>384,394.31</td>\n",
       "      <td>394,463.66</td>\n",
       "      <td>386,548.95</td>\n",
       "      <td>414,469.99</td>\n",
       "      <td>409,149.96</td>\n",
       "      <td>406,783.72</td>\n",
       "    </tr>\n",
       "    <tr>\n",
       "      <th>30114</th>\n",
       "      <td>73,980.00</td>\n",
       "      <td>262,122.37</td>\n",
       "      <td>248,808.16</td>\n",
       "      <td>280,281.54</td>\n",
       "      <td>285,707.84</td>\n",
       "      <td>276,369.40</td>\n",
       "      <td>273,728.21</td>\n",
       "      <td>406,783.72</td>\n",
       "    </tr>\n",
       "  </tbody>\n",
       "</table>\n",
       "</div>"
      ],
      "text/plain": [
       "          actual  (multiple_rfe_k=, 2)  (multiple_rfe_k=, 3)  \\\n",
       "46740 629,682.00            321,471.41            304,925.54   \n",
       "18140 187,026.00            469,130.60            498,559.38   \n",
       "1508  768,308.00            819,603.59            786,081.38   \n",
       "7139  188,466.00            403,396.11            384,394.31   \n",
       "30114  73,980.00            262,122.37            248,808.16   \n",
       "\n",
       "       (multiple_rfe_k=, 4)  (multiple_rfe_k=, 5)  (multiple_rfe_k=, 6)  \\\n",
       "46740            346,627.95            339,405.72            347,812.14   \n",
       "18140            478,239.42            481,696.22            481,770.43   \n",
       "1508             777,394.88            779,554.62            732,972.62   \n",
       "7139             394,463.66            386,548.95            414,469.99   \n",
       "30114            280,281.54            285,707.84            276,369.40   \n",
       "\n",
       "       (multiple_rfe_k=, 7)   baseline  \n",
       "46740            346,171.45 406,783.72  \n",
       "18140            472,452.04 406,783.72  \n",
       "1508             749,730.97 406,783.72  \n",
       "7139             409,149.96 406,783.72  \n",
       "30114            273,728.21 406,783.72  "
      ]
     },
     "execution_count": 28,
     "metadata": {},
     "output_type": "execute_result"
    }
   ],
   "source": [
    "validate_predictions.head()"
   ]
  },
  {
   "cell_type": "code",
   "execution_count": 29,
   "id": "ef26578c",
   "metadata": {},
   "outputs": [
    {
     "data": {
      "text/plain": [
       "actual                       0.00\n",
       "(multiple_rfe_k=, 7)   231,828.39\n",
       "(multiple_rfe_k=, 6)   232,008.57\n",
       "(multiple_rfe_k=, 5)   232,843.79\n",
       "(multiple_rfe_k=, 4)   233,020.30\n",
       "(multiple_rfe_k=, 3)   234,724.57\n",
       "(multiple_rfe_k=, 2)   236,085.70\n",
       "baseline               273,944.34\n",
       "dtype: float64"
      ]
     },
     "execution_count": 29,
     "metadata": {},
     "output_type": "execute_result"
    }
   ],
   "source": [
    "def calculate_rmse(y_predicted):\n",
    "    return mean_squared_error(validate_predictions.actual, y_predicted, squared = False)\n",
    "\n",
    "validate_predictions.apply(calculate_rmse).sort_values()"
   ]
  },
  {
   "cell_type": "code",
   "execution_count": 30,
   "id": "de2e352c",
   "metadata": {},
   "outputs": [
    {
     "data": {
      "text/plain": [
       "-611"
      ]
     },
     "execution_count": 30,
     "metadata": {},
     "output_type": "execute_result"
    }
   ],
   "source": [
    "# k=7 is the best\n",
    "\n",
    "231828-232439"
   ]
  },
  {
   "cell_type": "markdown",
   "id": "ace65707",
   "metadata": {},
   "source": [
    "**K=7 has the lowest rmse, highest performance**"
   ]
  },
  {
   "cell_type": "markdown",
   "id": "ba0e755d",
   "metadata": {},
   "source": [
    "## Polynomial Features"
   ]
  },
  {
   "cell_type": "code",
   "execution_count": 31,
   "id": "10135e99",
   "metadata": {},
   "outputs": [],
   "source": [
    "train_pred = pd.DataFrame({\n",
    "    'actual': s_train.assessed_value\n",
    "}) \n",
    "validate_pred = pd.DataFrame({\n",
    "    'actual': s_validate.assessed_value\n",
    "}) "
   ]
  },
  {
   "cell_type": "code",
   "execution_count": 48,
   "id": "3fabc9e5",
   "metadata": {},
   "outputs": [],
   "source": [
    "from sklearn.preprocessing import PolynomialFeatures\n",
    "\n",
    "# 1. Generate Polynomial Features, k=2\n",
    "poly = PolynomialFeatures(degree=2, include_bias=False, interaction_only=False)\n",
    "poly.fit(X_train)\n",
    "X_train_poly = pd.DataFrame(\n",
    "    poly.transform(X_train),\n",
    "    columns=poly.get_feature_names(X_train.columns),\n",
    "    index=X_train.index,\n",
    ")"
   ]
  },
  {
   "cell_type": "code",
   "execution_count": 49,
   "id": "66a9cc98",
   "metadata": {},
   "outputs": [
    {
     "data": {
      "text/html": [
       "<div>\n",
       "<style scoped>\n",
       "    .dataframe tbody tr th:only-of-type {\n",
       "        vertical-align: middle;\n",
       "    }\n",
       "\n",
       "    .dataframe tbody tr th {\n",
       "        vertical-align: top;\n",
       "    }\n",
       "\n",
       "    .dataframe thead th {\n",
       "        text-align: right;\n",
       "    }\n",
       "</style>\n",
       "<table border=\"1\" class=\"dataframe\">\n",
       "  <thead>\n",
       "    <tr style=\"text-align: right;\">\n",
       "      <th></th>\n",
       "      <th>actual</th>\n",
       "      <th>baseline</th>\n",
       "      <th>polynomial degree 2</th>\n",
       "      <th>polynomial degree 2 only interaction</th>\n",
       "    </tr>\n",
       "  </thead>\n",
       "  <tbody>\n",
       "    <tr>\n",
       "      <th>27797</th>\n",
       "      <td>339,675.00</td>\n",
       "      <td>407,658.98</td>\n",
       "      <td>533,287.61</td>\n",
       "      <td>537,645.58</td>\n",
       "    </tr>\n",
       "    <tr>\n",
       "      <th>18599</th>\n",
       "      <td>913,000.00</td>\n",
       "      <td>407,658.98</td>\n",
       "      <td>636,001.73</td>\n",
       "      <td>665,864.73</td>\n",
       "    </tr>\n",
       "    <tr>\n",
       "      <th>512</th>\n",
       "      <td>543,000.00</td>\n",
       "      <td>407,658.98</td>\n",
       "      <td>337,269.36</td>\n",
       "      <td>352,657.34</td>\n",
       "    </tr>\n",
       "    <tr>\n",
       "      <th>18002</th>\n",
       "      <td>547,000.00</td>\n",
       "      <td>407,658.98</td>\n",
       "      <td>410,062.86</td>\n",
       "      <td>410,121.81</td>\n",
       "    </tr>\n",
       "    <tr>\n",
       "      <th>44818</th>\n",
       "      <td>397,288.00</td>\n",
       "      <td>407,658.98</td>\n",
       "      <td>373,780.36</td>\n",
       "      <td>380,158.07</td>\n",
       "    </tr>\n",
       "  </tbody>\n",
       "</table>\n",
       "</div>"
      ],
      "text/plain": [
       "          actual   baseline  polynomial degree 2  \\\n",
       "27797 339,675.00 407,658.98           533,287.61   \n",
       "18599 913,000.00 407,658.98           636,001.73   \n",
       "512   543,000.00 407,658.98           337,269.36   \n",
       "18002 547,000.00 407,658.98           410,062.86   \n",
       "44818 397,288.00 407,658.98           373,780.36   \n",
       "\n",
       "       polynomial degree 2 only interaction  \n",
       "27797                            537,645.58  \n",
       "18599                            665,864.73  \n",
       "512                              352,657.34  \n",
       "18002                            410,121.81  \n",
       "44818                            380,158.07  "
      ]
     },
     "execution_count": 49,
     "metadata": {},
     "output_type": "execute_result"
    }
   ],
   "source": [
    "lm = LinearRegression()\n",
    "lm.fit(X_train_poly, y_train)\n",
    "X_validate_poly = poly.transform(X_validate)\n",
    "train_pred['baseline'] = y_train.mean()\n",
    "validate_pred['baseline'] = y_validate.mean()\n",
    "train_pred['polynomial degree 2'] = lm.predict(X_train_poly)\n",
    "validate_pred['polynomial degree 2'] = lm.predict(X_validate_poly)\n",
    "train_pred.head()"
   ]
  },
  {
   "cell_type": "code",
   "execution_count": 35,
   "id": "e0dabc89",
   "metadata": {},
   "outputs": [
    {
     "data": {
      "text/html": [
       "<div>\n",
       "<style scoped>\n",
       "    .dataframe tbody tr th:only-of-type {\n",
       "        vertical-align: middle;\n",
       "    }\n",
       "\n",
       "    .dataframe tbody tr th {\n",
       "        vertical-align: top;\n",
       "    }\n",
       "\n",
       "    .dataframe thead th {\n",
       "        text-align: right;\n",
       "    }\n",
       "</style>\n",
       "<table border=\"1\" class=\"dataframe\">\n",
       "  <thead>\n",
       "    <tr style=\"text-align: right;\">\n",
       "      <th></th>\n",
       "      <th>actual</th>\n",
       "      <th>baseline</th>\n",
       "      <th>polynomial degree 2</th>\n",
       "    </tr>\n",
       "  </thead>\n",
       "  <tbody>\n",
       "    <tr>\n",
       "      <th>46740</th>\n",
       "      <td>629,682.00</td>\n",
       "      <td>406,783.72</td>\n",
       "      <td>287,334.63</td>\n",
       "    </tr>\n",
       "    <tr>\n",
       "      <th>18140</th>\n",
       "      <td>187,026.00</td>\n",
       "      <td>406,783.72</td>\n",
       "      <td>430,215.98</td>\n",
       "    </tr>\n",
       "    <tr>\n",
       "      <th>1508</th>\n",
       "      <td>768,308.00</td>\n",
       "      <td>406,783.72</td>\n",
       "      <td>696,422.90</td>\n",
       "    </tr>\n",
       "    <tr>\n",
       "      <th>7139</th>\n",
       "      <td>188,466.00</td>\n",
       "      <td>406,783.72</td>\n",
       "      <td>373,457.15</td>\n",
       "    </tr>\n",
       "    <tr>\n",
       "      <th>30114</th>\n",
       "      <td>73,980.00</td>\n",
       "      <td>406,783.72</td>\n",
       "      <td>334,905.86</td>\n",
       "    </tr>\n",
       "  </tbody>\n",
       "</table>\n",
       "</div>"
      ],
      "text/plain": [
       "          actual   baseline  polynomial degree 2\n",
       "46740 629,682.00 406,783.72           287,334.63\n",
       "18140 187,026.00 406,783.72           430,215.98\n",
       "1508  768,308.00 406,783.72           696,422.90\n",
       "7139  188,466.00 406,783.72           373,457.15\n",
       "30114  73,980.00 406,783.72           334,905.86"
      ]
     },
     "execution_count": 35,
     "metadata": {},
     "output_type": "execute_result"
    }
   ],
   "source": [
    "validate_pred.head()"
   ]
  },
  {
   "cell_type": "code",
   "execution_count": 40,
   "id": "e7b95f95",
   "metadata": {},
   "outputs": [],
   "source": [
    "train_rmse = mean_squared_error(train_pred.actual,train_pred['polynomial degree 2'], squared = False)\n",
    "validate_rmse = mean_squared_error(validate_pred.actual,validate_pred['polynomial degree 2'], squared = False)"
   ]
  },
  {
   "cell_type": "code",
   "execution_count": 38,
   "id": "b592f5c7",
   "metadata": {},
   "outputs": [],
   "source": [
    "train_rmse_b = mean_squared_error(train_pred.actual,train_pred['baseline'], squared = False)\n",
    "validate_rmse_b = mean_squared_error(validate_pred.actual,validate_pred['baseline'], squared = False)"
   ]
  },
  {
   "cell_type": "code",
   "execution_count": 41,
   "id": "cdb5fd8f",
   "metadata": {},
   "outputs": [
    {
     "data": {
      "text/plain": [
       "(225563.1468062608, 224965.8539400748)"
      ]
     },
     "execution_count": 41,
     "metadata": {},
     "output_type": "execute_result"
    }
   ],
   "source": [
    "train_rmse, validate_rmse"
   ]
  },
  {
   "cell_type": "code",
   "execution_count": 42,
   "id": "85307bad",
   "metadata": {},
   "outputs": [
    {
     "data": {
      "text/plain": [
       "-597.292866186006"
      ]
     },
     "execution_count": 42,
     "metadata": {},
     "output_type": "execute_result"
    }
   ],
   "source": [
    "validate_rmse-train_rmse"
   ]
  },
  {
   "cell_type": "code",
   "execution_count": 39,
   "id": "6d72472f",
   "metadata": {},
   "outputs": [
    {
     "data": {
      "text/plain": [
       "(274767.8629314713, 273944.3392279506)"
      ]
     },
     "execution_count": 39,
     "metadata": {},
     "output_type": "execute_result"
    }
   ],
   "source": [
    "train_rmse_b, validate_rmse_b"
   ]
  },
  {
   "cell_type": "code",
   "execution_count": 50,
   "id": "9b1bd630",
   "metadata": {},
   "outputs": [
    {
     "data": {
      "text/html": [
       "<div>\n",
       "<style scoped>\n",
       "    .dataframe tbody tr th:only-of-type {\n",
       "        vertical-align: middle;\n",
       "    }\n",
       "\n",
       "    .dataframe tbody tr th {\n",
       "        vertical-align: top;\n",
       "    }\n",
       "\n",
       "    .dataframe thead th {\n",
       "        text-align: right;\n",
       "    }\n",
       "</style>\n",
       "<table border=\"1\" class=\"dataframe\">\n",
       "  <thead>\n",
       "    <tr style=\"text-align: right;\">\n",
       "      <th></th>\n",
       "      <th>actual</th>\n",
       "      <th>baseline</th>\n",
       "      <th>polynomial degree 2</th>\n",
       "      <th>polynomial degree 2 only interaction</th>\n",
       "    </tr>\n",
       "  </thead>\n",
       "  <tbody>\n",
       "    <tr>\n",
       "      <th>27797</th>\n",
       "      <td>339,675.00</td>\n",
       "      <td>407,658.98</td>\n",
       "      <td>533,287.61</td>\n",
       "      <td>537,645.58</td>\n",
       "    </tr>\n",
       "    <tr>\n",
       "      <th>18599</th>\n",
       "      <td>913,000.00</td>\n",
       "      <td>407,658.98</td>\n",
       "      <td>636,001.73</td>\n",
       "      <td>665,864.73</td>\n",
       "    </tr>\n",
       "    <tr>\n",
       "      <th>512</th>\n",
       "      <td>543,000.00</td>\n",
       "      <td>407,658.98</td>\n",
       "      <td>337,269.36</td>\n",
       "      <td>352,657.34</td>\n",
       "    </tr>\n",
       "    <tr>\n",
       "      <th>18002</th>\n",
       "      <td>547,000.00</td>\n",
       "      <td>407,658.98</td>\n",
       "      <td>410,062.86</td>\n",
       "      <td>410,121.81</td>\n",
       "    </tr>\n",
       "    <tr>\n",
       "      <th>44818</th>\n",
       "      <td>397,288.00</td>\n",
       "      <td>407,658.98</td>\n",
       "      <td>373,780.36</td>\n",
       "      <td>380,158.07</td>\n",
       "    </tr>\n",
       "  </tbody>\n",
       "</table>\n",
       "</div>"
      ],
      "text/plain": [
       "          actual   baseline  polynomial degree 2  \\\n",
       "27797 339,675.00 407,658.98           533,287.61   \n",
       "18599 913,000.00 407,658.98           636,001.73   \n",
       "512   543,000.00 407,658.98           337,269.36   \n",
       "18002 547,000.00 407,658.98           410,062.86   \n",
       "44818 397,288.00 407,658.98           373,780.36   \n",
       "\n",
       "       polynomial degree 2 only interaction  \n",
       "27797                            537,645.58  \n",
       "18599                            665,864.73  \n",
       "512                              352,657.34  \n",
       "18002                            410,121.81  \n",
       "44818                            380,158.07  "
      ]
     },
     "execution_count": 50,
     "metadata": {},
     "output_type": "execute_result"
    }
   ],
   "source": [
    "# Interaction terms only\n",
    "\n",
    "poly = PolynomialFeatures(degree=2, include_bias=False, interaction_only=True)\n",
    "poly.fit(X_train)\n",
    "X_train_poly = pd.DataFrame(\n",
    "    poly.transform(X_train),\n",
    "    columns=poly.get_feature_names(X_train.columns),\n",
    "    index=X_train.index,\n",
    ")\n",
    "lm = LinearRegression()\n",
    "lm.fit(X_train_poly, y_train)\n",
    "\n",
    "X_validate_poly = poly.transform(X_validate)\n",
    "train_pred['polynomial degree 2 only interaction'] = lm.predict(X_train_poly)\n",
    "validate_pred['polynomial degree 2 only interaction'] = lm.predict(X_validate_poly)\n",
    "train_pred.head()"
   ]
  },
  {
   "cell_type": "code",
   "execution_count": 51,
   "id": "e2f4092a",
   "metadata": {},
   "outputs": [
    {
     "data": {
      "text/plain": [
       "(225829.11823267405, 225167.73661349496)"
      ]
     },
     "execution_count": 51,
     "metadata": {},
     "output_type": "execute_result"
    }
   ],
   "source": [
    "train_rmse = mean_squared_error(train_pred.actual,train_pred['polynomial degree 2 only interaction'], squared = False)\n",
    "validate_rmse = mean_squared_error(validate_pred.actual,validate_pred['polynomial degree 2 only interaction'], squared = False)\n",
    "train_rmse, validate_rmse"
   ]
  },
  {
   "cell_type": "code",
   "execution_count": 52,
   "id": "3d3e768c",
   "metadata": {},
   "outputs": [
    {
     "data": {
      "text/plain": [
       "-661.3816191790975"
      ]
     },
     "execution_count": 52,
     "metadata": {},
     "output_type": "execute_result"
    }
   ],
   "source": [
    "validate_rmse-train_rmse"
   ]
  },
  {
   "cell_type": "code",
   "execution_count": 53,
   "id": "1a4e639e",
   "metadata": {},
   "outputs": [],
   "source": [
    "# k=3\n",
    "poly = PolynomialFeatures(degree=3, include_bias=False, interaction_only=False)\n",
    "poly.fit(X_train)\n",
    "X_train_poly = pd.DataFrame(\n",
    "    poly.transform(X_train),\n",
    "    columns=poly.get_feature_names(X_train.columns),\n",
    "    index=X_train.index,\n",
    ")"
   ]
  },
  {
   "cell_type": "code",
   "execution_count": 54,
   "id": "02e2821e",
   "metadata": {},
   "outputs": [
    {
     "data": {
      "text/html": [
       "<div>\n",
       "<style scoped>\n",
       "    .dataframe tbody tr th:only-of-type {\n",
       "        vertical-align: middle;\n",
       "    }\n",
       "\n",
       "    .dataframe tbody tr th {\n",
       "        vertical-align: top;\n",
       "    }\n",
       "\n",
       "    .dataframe thead th {\n",
       "        text-align: right;\n",
       "    }\n",
       "</style>\n",
       "<table border=\"1\" class=\"dataframe\">\n",
       "  <thead>\n",
       "    <tr style=\"text-align: right;\">\n",
       "      <th></th>\n",
       "      <th>actual</th>\n",
       "      <th>baseline</th>\n",
       "      <th>polynomial degree 2</th>\n",
       "      <th>polynomial degree 2 only interaction</th>\n",
       "      <th>polynomial degree 3</th>\n",
       "    </tr>\n",
       "  </thead>\n",
       "  <tbody>\n",
       "    <tr>\n",
       "      <th>27797</th>\n",
       "      <td>339,675.00</td>\n",
       "      <td>407,658.98</td>\n",
       "      <td>533,287.61</td>\n",
       "      <td>537,645.58</td>\n",
       "      <td>582,286.17</td>\n",
       "    </tr>\n",
       "    <tr>\n",
       "      <th>18599</th>\n",
       "      <td>913,000.00</td>\n",
       "      <td>407,658.98</td>\n",
       "      <td>636,001.73</td>\n",
       "      <td>665,864.73</td>\n",
       "      <td>638,633.23</td>\n",
       "    </tr>\n",
       "    <tr>\n",
       "      <th>512</th>\n",
       "      <td>543,000.00</td>\n",
       "      <td>407,658.98</td>\n",
       "      <td>337,269.36</td>\n",
       "      <td>352,657.34</td>\n",
       "      <td>271,184.30</td>\n",
       "    </tr>\n",
       "    <tr>\n",
       "      <th>18002</th>\n",
       "      <td>547,000.00</td>\n",
       "      <td>407,658.98</td>\n",
       "      <td>410,062.86</td>\n",
       "      <td>410,121.81</td>\n",
       "      <td>383,339.48</td>\n",
       "    </tr>\n",
       "    <tr>\n",
       "      <th>44818</th>\n",
       "      <td>397,288.00</td>\n",
       "      <td>407,658.98</td>\n",
       "      <td>373,780.36</td>\n",
       "      <td>380,158.07</td>\n",
       "      <td>362,223.42</td>\n",
       "    </tr>\n",
       "  </tbody>\n",
       "</table>\n",
       "</div>"
      ],
      "text/plain": [
       "          actual   baseline  polynomial degree 2  \\\n",
       "27797 339,675.00 407,658.98           533,287.61   \n",
       "18599 913,000.00 407,658.98           636,001.73   \n",
       "512   543,000.00 407,658.98           337,269.36   \n",
       "18002 547,000.00 407,658.98           410,062.86   \n",
       "44818 397,288.00 407,658.98           373,780.36   \n",
       "\n",
       "       polynomial degree 2 only interaction  polynomial degree 3  \n",
       "27797                            537,645.58           582,286.17  \n",
       "18599                            665,864.73           638,633.23  \n",
       "512                              352,657.34           271,184.30  \n",
       "18002                            410,121.81           383,339.48  \n",
       "44818                            380,158.07           362,223.42  "
      ]
     },
     "execution_count": 54,
     "metadata": {},
     "output_type": "execute_result"
    }
   ],
   "source": [
    "lm = LinearRegression()\n",
    "lm.fit(X_train_poly, y_train)\n",
    "X_validate_poly = poly.transform(X_validate)\n",
    "train_pred['baseline'] = y_train.mean()\n",
    "validate_pred['baseline'] = y_validate.mean()\n",
    "train_pred['polynomial degree 3'] = lm.predict(X_train_poly)\n",
    "validate_pred['polynomial degree 3'] = lm.predict(X_validate_poly)\n",
    "train_pred.head()"
   ]
  },
  {
   "cell_type": "code",
   "execution_count": 55,
   "id": "139ca319",
   "metadata": {},
   "outputs": [
    {
     "data": {
      "text/plain": [
       "(222833.2843929147, 223820.32945259503)"
      ]
     },
     "execution_count": 55,
     "metadata": {},
     "output_type": "execute_result"
    }
   ],
   "source": [
    "train_rmse = mean_squared_error(train_pred.actual,train_pred['polynomial degree 3'], squared = False)\n",
    "validate_rmse = mean_squared_error(validate_pred.actual,validate_pred['polynomial degree 3'], squared = False)\n",
    "train_rmse, validate_rmse"
   ]
  },
  {
   "cell_type": "code",
   "execution_count": 56,
   "id": "1566dc0d",
   "metadata": {},
   "outputs": [],
   "source": [
    "# k=4\n",
    "poly = PolynomialFeatures(degree=4, include_bias=False, interaction_only=False)\n",
    "poly.fit(X_train)\n",
    "X_train_poly = pd.DataFrame(\n",
    "    poly.transform(X_train),\n",
    "    columns=poly.get_feature_names(X_train.columns),\n",
    "    index=X_train.index,\n",
    ")"
   ]
  },
  {
   "cell_type": "code",
   "execution_count": 57,
   "id": "fa44902c",
   "metadata": {},
   "outputs": [
    {
     "data": {
      "text/html": [
       "<div>\n",
       "<style scoped>\n",
       "    .dataframe tbody tr th:only-of-type {\n",
       "        vertical-align: middle;\n",
       "    }\n",
       "\n",
       "    .dataframe tbody tr th {\n",
       "        vertical-align: top;\n",
       "    }\n",
       "\n",
       "    .dataframe thead th {\n",
       "        text-align: right;\n",
       "    }\n",
       "</style>\n",
       "<table border=\"1\" class=\"dataframe\">\n",
       "  <thead>\n",
       "    <tr style=\"text-align: right;\">\n",
       "      <th></th>\n",
       "      <th>actual</th>\n",
       "      <th>baseline</th>\n",
       "      <th>polynomial degree 2</th>\n",
       "      <th>polynomial degree 2 only interaction</th>\n",
       "      <th>polynomial degree 3</th>\n",
       "      <th>polynomial degree 4</th>\n",
       "    </tr>\n",
       "  </thead>\n",
       "  <tbody>\n",
       "    <tr>\n",
       "      <th>27797</th>\n",
       "      <td>339,675.00</td>\n",
       "      <td>407,658.98</td>\n",
       "      <td>533,287.61</td>\n",
       "      <td>537,645.58</td>\n",
       "      <td>582,286.17</td>\n",
       "      <td>583,336.55</td>\n",
       "    </tr>\n",
       "    <tr>\n",
       "      <th>18599</th>\n",
       "      <td>913,000.00</td>\n",
       "      <td>407,658.98</td>\n",
       "      <td>636,001.73</td>\n",
       "      <td>665,864.73</td>\n",
       "      <td>638,633.23</td>\n",
       "      <td>719,444.55</td>\n",
       "    </tr>\n",
       "    <tr>\n",
       "      <th>512</th>\n",
       "      <td>543,000.00</td>\n",
       "      <td>407,658.98</td>\n",
       "      <td>337,269.36</td>\n",
       "      <td>352,657.34</td>\n",
       "      <td>271,184.30</td>\n",
       "      <td>189,598.25</td>\n",
       "    </tr>\n",
       "    <tr>\n",
       "      <th>18002</th>\n",
       "      <td>547,000.00</td>\n",
       "      <td>407,658.98</td>\n",
       "      <td>410,062.86</td>\n",
       "      <td>410,121.81</td>\n",
       "      <td>383,339.48</td>\n",
       "      <td>386,924.89</td>\n",
       "    </tr>\n",
       "    <tr>\n",
       "      <th>44818</th>\n",
       "      <td>397,288.00</td>\n",
       "      <td>407,658.98</td>\n",
       "      <td>373,780.36</td>\n",
       "      <td>380,158.07</td>\n",
       "      <td>362,223.42</td>\n",
       "      <td>391,558.28</td>\n",
       "    </tr>\n",
       "  </tbody>\n",
       "</table>\n",
       "</div>"
      ],
      "text/plain": [
       "          actual   baseline  polynomial degree 2  \\\n",
       "27797 339,675.00 407,658.98           533,287.61   \n",
       "18599 913,000.00 407,658.98           636,001.73   \n",
       "512   543,000.00 407,658.98           337,269.36   \n",
       "18002 547,000.00 407,658.98           410,062.86   \n",
       "44818 397,288.00 407,658.98           373,780.36   \n",
       "\n",
       "       polynomial degree 2 only interaction  polynomial degree 3  \\\n",
       "27797                            537,645.58           582,286.17   \n",
       "18599                            665,864.73           638,633.23   \n",
       "512                              352,657.34           271,184.30   \n",
       "18002                            410,121.81           383,339.48   \n",
       "44818                            380,158.07           362,223.42   \n",
       "\n",
       "       polynomial degree 4  \n",
       "27797           583,336.55  \n",
       "18599           719,444.55  \n",
       "512             189,598.25  \n",
       "18002           386,924.89  \n",
       "44818           391,558.28  "
      ]
     },
     "execution_count": 57,
     "metadata": {},
     "output_type": "execute_result"
    }
   ],
   "source": [
    "lm = LinearRegression()\n",
    "lm.fit(X_train_poly, y_train)\n",
    "X_validate_poly = poly.transform(X_validate)\n",
    "train_pred['baseline'] = y_train.mean()\n",
    "validate_pred['baseline'] = y_validate.mean()\n",
    "train_pred['polynomial degree 4'] = lm.predict(X_train_poly)\n",
    "validate_pred['polynomial degree 4'] = lm.predict(X_validate_poly)\n",
    "train_pred.head()"
   ]
  },
  {
   "cell_type": "code",
   "execution_count": 58,
   "id": "7a77d5c2",
   "metadata": {},
   "outputs": [
    {
     "data": {
      "text/plain": [
       "(220599.9432621597, 228423.90903466812)"
      ]
     },
     "execution_count": 58,
     "metadata": {},
     "output_type": "execute_result"
    }
   ],
   "source": [
    "train_rmse = mean_squared_error(train_pred.actual,train_pred['polynomial degree 4'], squared = False)\n",
    "validate_rmse = mean_squared_error(validate_pred.actual,validate_pred['polynomial degree 4'], squared = False)\n",
    "train_rmse, validate_rmse"
   ]
  },
  {
   "cell_type": "markdown",
   "id": "1703b849",
   "metadata": {},
   "source": [
    "**K=3 has the lowest rmse**"
   ]
  },
  {
   "cell_type": "markdown",
   "id": "197ef064",
   "metadata": {},
   "source": [
    "## Lasso-Lars"
   ]
  },
  {
   "cell_type": "code",
   "execution_count": 59,
   "id": "71502fb9",
   "metadata": {},
   "outputs": [
    {
     "data": {
      "text/plain": [
       "lot_size              -156,273.52\n",
       "bedrooms               -52,310.25\n",
       "county_Los Angeles     -50,624.11\n",
       "county_Ventura               0.00\n",
       "county_Orange           12,648.51\n",
       "has_pool                34,981.79\n",
       "bathrooms               40,450.36\n",
       "age                     71,769.57\n",
       "square_feet          1,166,547.13\n",
       "dtype: float64"
      ]
     },
     "execution_count": 59,
     "metadata": {},
     "output_type": "execute_result"
    }
   ],
   "source": [
    "from sklearn.linear_model import LassoLars\n",
    "# create the model object\n",
    "lars = LassoLars(alpha=0)\n",
    "\n",
    "# fit the model to our training data\n",
    "lars.fit(X_train, y_train)\n",
    "\n",
    "# predict validate\n",
    "X_train_pred_lars = lars.predict(X_train)\n",
    "\n",
    "pd.Series(lars.coef_, index=X_train.columns).sort_values()"
   ]
  },
  {
   "cell_type": "code",
   "execution_count": 60,
   "id": "c376bf92",
   "metadata": {},
   "outputs": [],
   "source": [
    "# create the model object\n",
    "lars = LassoLars(alpha=1)\n",
    "\n",
    "# fit the model to our training data\n",
    "lars.fit(X_train, y_train)\n",
    "\n",
    "# predict validate\n",
    "X_train_pred_lars = lars.predict(X_train)\n",
    "X_validate_pred_lars = lars.predict(X_validate)\n",
    "# Add lassolars predictions to our predictions DataFrame\n",
    "train_pred['lasso_lars'] = X_train_pred_lars\n",
    "validate_pred['lasso_lars'] = X_validate_pred_lars"
   ]
  },
  {
   "cell_type": "code",
   "execution_count": 61,
   "id": "46a95655",
   "metadata": {},
   "outputs": [
    {
     "data": {
      "text/plain": [
       "(232417.49582058165, 231827.48777021127)"
      ]
     },
     "execution_count": 61,
     "metadata": {},
     "output_type": "execute_result"
    }
   ],
   "source": [
    "train_rmse = mean_squared_error(train_pred.actual,train_pred['lasso_lars'], squared = False)\n",
    "validate_rmse = mean_squared_error(validate_pred.actual,validate_pred['lasso_lars'], squared = False)\n",
    "train_rmse, validate_rmse"
   ]
  },
  {
   "cell_type": "code",
   "execution_count": 62,
   "id": "3b44a27f",
   "metadata": {},
   "outputs": [
    {
     "data": {
      "text/plain": [
       "-590.0080503703794"
      ]
     },
     "execution_count": 62,
     "metadata": {},
     "output_type": "execute_result"
    }
   ],
   "source": [
    "validate_rmse-train_rmse"
   ]
  },
  {
   "cell_type": "markdown",
   "id": "5001b834",
   "metadata": {},
   "source": [
    "## Generalized Linear Model"
   ]
  },
  {
   "cell_type": "code",
   "execution_count": 63,
   "id": "e7574808",
   "metadata": {},
   "outputs": [],
   "source": [
    "from sklearn.linear_model import TweedieRegressor\n",
    "\n",
    "# create the model object\n",
    "glm = TweedieRegressor(power=1, alpha=0)\n",
    "\n",
    "# fit the model to our training data\n",
    "glm.fit(X_train, y_train)\n",
    "\n",
    "# predict train\n",
    "X_train_predict_glm = glm.predict(X_train)\n",
    "X_validate_predict_glm = glm.predict(X_validate)\n",
    "# Add lassolars predictions to our predictions DataFrame\n",
    "train_pred['glm'] = X_train_predict_glm\n",
    "validate_pred['glm'] = X_validate_predict_glm"
   ]
  },
  {
   "cell_type": "code",
   "execution_count": 64,
   "id": "c4b0e80f",
   "metadata": {},
   "outputs": [
    {
     "data": {
      "text/plain": [
       "(235324.13823328284, 234667.38804766495)"
      ]
     },
     "execution_count": 64,
     "metadata": {},
     "output_type": "execute_result"
    }
   ],
   "source": [
    "train_rmse = mean_squared_error(train_pred.actual,train_pred['glm'], squared = False)\n",
    "validate_rmse = mean_squared_error(validate_pred.actual,validate_pred['glm'], squared = False)\n",
    "train_rmse, validate_rmse"
   ]
  },
  {
   "cell_type": "code",
   "execution_count": 65,
   "id": "5c3b8c7e",
   "metadata": {},
   "outputs": [
    {
     "data": {
      "text/plain": [
       "-656.750185617886"
      ]
     },
     "execution_count": 65,
     "metadata": {},
     "output_type": "execute_result"
    }
   ],
   "source": [
    "validate_rmse-train_rmse"
   ]
  },
  {
   "cell_type": "markdown",
   "id": "8230684a",
   "metadata": {},
   "source": [
    "## Evaluation"
   ]
  },
  {
   "cell_type": "code",
   "execution_count": null,
   "id": "e372918e",
   "metadata": {},
   "outputs": [],
   "source": []
  }
 ],
 "metadata": {
  "kernelspec": {
   "display_name": "Python 3 (ipykernel)",
   "language": "python",
   "name": "python3"
  },
  "language_info": {
   "codemirror_mode": {
    "name": "ipython",
    "version": 3
   },
   "file_extension": ".py",
   "mimetype": "text/x-python",
   "name": "python",
   "nbconvert_exporter": "python",
   "pygments_lexer": "ipython3",
   "version": "3.9.12"
  }
 },
 "nbformat": 4,
 "nbformat_minor": 5
}
