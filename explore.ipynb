{
 "cells": [
  {
   "cell_type": "markdown",
   "id": "5c76c743",
   "metadata": {},
   "source": [
    "### Our Zillow scenario continues:\n",
    "\n",
    "#### As a Codeup data science graduate, you want to show off your skills to the Zillow data science team in hopes of getting an interview for a position you saw pop up on LinkedIn. You thought it might look impressive to build an end-to-end project in which you use some of their Kaggle data to predict property values using some of their available features; who knows, you might even do some feature engineering to blow them away. Your goal is to predict the values of single unit properties using the observations from 2017.\n",
    "\n",
    "#### In these exercises, you will run through the stages of exploration as you continue to work toward the above goal."
   ]
  },
  {
   "cell_type": "markdown",
   "id": "d3f4c4e7",
   "metadata": {},
   "source": [
    "### 1. As with encoded vs. unencoded data, we recommend exploring un-scaled data in your EDA process."
   ]
  },
  {
   "cell_type": "markdown",
   "id": "9363a28d",
   "metadata": {},
   "source": [
    "Note: This notebook will be dedicated exploring data for the final zillow regression project.\n",
    "Meaningful columns for data acquisition:"
   ]
  },
  {
   "cell_type": "markdown",
   "id": "45e36bc7",
   "metadata": {},
   "source": [
    "#### Acquire"
   ]
  },
  {
   "cell_type": "code",
   "execution_count": null,
   "id": "1432f2cc",
   "metadata": {},
   "outputs": [],
   "source": [
    "'bathroomcnt'\n",
    "'bedroomcnt'\n",
    "'calculatedfinishedsquarefeet'\n",
    "'fips'\n",
    "'lotsizesquarefeet' # maybe?\n",
    "'rawcensustractandblock' # maybe?\n",
    "'regionidcounty'\n",
    "'yearbuilt'\n",
    "'taxvaluedollarcnt'\n",
    "'taxamount'"
   ]
  },
  {
   "cell_type": "code",
   "execution_count": 2,
   "id": "3698cb6b",
   "metadata": {},
   "outputs": [],
   "source": [
    "# Importing libraries\n",
    "\n",
    "import pandas as pd\n",
    "import numpy as np\n",
    "import requests\n",
    "import os\n",
    "import matplotlib.pyplot as plt\n",
    "import seaborn as sns\n",
    "import warnings\n",
    "warnings.filterwarnings(\"ignore\")\n",
    "\n",
    "from sklearn.model_selection import train_test_split\n",
    "from scipy.stats import pearsonr, spearmanr\n",
    "\n",
    "import env"
   ]
  },
  {
   "cell_type": "code",
   "execution_count": 18,
   "id": "8f66e6c7",
   "metadata": {},
   "outputs": [],
   "source": [
    "# Getting conncection to mySQL database, and acquiring data\n",
    "\n",
    "def get_connection(db, user=env.user, host=env.host, password=env.password):\n",
    "    return f'mysql+pymysql://{user}:{password}@{host}/{db}'\n",
    "\n",
    "# Loading raw data from Zillow database\n",
    "def new_zillow_data():\n",
    "    '''\n",
    "    This function reads the Zillow data from the mySQL database into a df.\n",
    "    '''\n",
    "    # Create SQL query.\n",
    "    sql_query = '''\n",
    "    SELECT bedroomcnt as bedrooms, bathroomcnt as bathrooms, calculatedfinishedsquarefeet as square_feet, fips as fips_code, regionidcounty as county_id, yearbuilt as year_built, taxvaluedollarcnt as assessed_value, taxamount as tax_amount\n",
    "FROM properties_2017 as p JOIN predictions_2017 as pred USING(parcelid) JOIN\n",
    "propertylandusetype as ptype using (propertylandusetypeid)\n",
    "WHERE ptype.propertylandusedesc LIKE '%%Single%%' and pred.transactiondate LIKE '2017%%';\n",
    "    '''\n",
    "    # Read in DataFrame from Codeup db.\n",
    "    df = pd.read_sql(sql_query, get_connection('zillow'))\n",
    "    \n",
    "    return df"
   ]
  },
  {
   "cell_type": "code",
   "execution_count": 19,
   "id": "95dd0aa8",
   "metadata": {},
   "outputs": [],
   "source": [
    "# load raw, messy data\n",
    "\n",
    "rawdf = new_zillow_data()"
   ]
  },
  {
   "cell_type": "code",
   "execution_count": 20,
   "id": "9f0ebeb8",
   "metadata": {},
   "outputs": [
    {
     "data": {
      "text/plain": [
       "(52441, 8)"
      ]
     },
     "execution_count": 20,
     "metadata": {},
     "output_type": "execute_result"
    }
   ],
   "source": [
    "rawdf.shape"
   ]
  },
  {
   "cell_type": "markdown",
   "id": "c7092468",
   "metadata": {},
   "source": [
    "#### Prepare\n",
    "Create functions to clean data and split data into train, validate, test."
   ]
  },
  {
   "cell_type": "code",
   "execution_count": 21,
   "id": "e96e4131",
   "metadata": {},
   "outputs": [
    {
     "data": {
      "text/plain": [
       "bedrooms            0\n",
       "bathrooms           0\n",
       "square_feet        82\n",
       "fips_code           0\n",
       "county_id           0\n",
       "year_built        116\n",
       "assessed_value      1\n",
       "tax_amount          4\n",
       "dtype: int64"
      ]
     },
     "execution_count": 21,
     "metadata": {},
     "output_type": "execute_result"
    }
   ],
   "source": [
    "rawdf.isnull().sum()"
   ]
  },
  {
   "cell_type": "code",
   "execution_count": 22,
   "id": "1e48ce60",
   "metadata": {},
   "outputs": [],
   "source": [
    "# Dropping null values\n",
    "\n",
    "df = rawdf.dropna()"
   ]
  },
  {
   "cell_type": "code",
   "execution_count": 23,
   "id": "f8ee6a1f",
   "metadata": {},
   "outputs": [
    {
     "data": {
      "text/plain": [
       "(52315, 8)"
      ]
     },
     "execution_count": 23,
     "metadata": {},
     "output_type": "execute_result"
    }
   ],
   "source": [
    "df.shape"
   ]
  },
  {
   "cell_type": "markdown",
   "id": "4c482adc",
   "metadata": {},
   "source": [
    "### 2. Make sure to perform a train, validate, test split before and use only your train dataset to explore the relationships between independent variables with other independent variables or independent variables with your target variable."
   ]
  },
  {
   "cell_type": "markdown",
   "id": "b594cc9a",
   "metadata": {},
   "source": [
    "### 3. Write a function named plot_variable_pairs that accepts a dataframe as input and plots all of the pairwise relationships along with the regression line for each pair."
   ]
  },
  {
   "cell_type": "markdown",
   "id": "b5672945",
   "metadata": {},
   "source": [
    "### 4. Write a function named plot_categorical_and_continuous_vars that accepts your dataframe and the name of the columns that hold the continuous and categorical features and outputs 3 different plots for visualizing a categorical variable and a continuous variable."
   ]
  },
  {
   "cell_type": "markdown",
   "id": "5ffc2a69",
   "metadata": {},
   "source": [
    "### 5. Save the functions you have written to create visualizations in your explore.py file. Rewrite your notebook code so that you are using the functions imported from this file."
   ]
  },
  {
   "cell_type": "markdown",
   "id": "051e842c",
   "metadata": {},
   "source": [
    "### 6. Use the functions you created above to explore your Zillow train dataset in your explore.ipynb notebook."
   ]
  },
  {
   "cell_type": "markdown",
   "id": "13b1d2a9",
   "metadata": {},
   "source": [
    "### 7. Come up with some initial hypotheses based on your goal of predicting property value."
   ]
  },
  {
   "cell_type": "markdown",
   "id": "b22fe5f7",
   "metadata": {},
   "source": [
    "### 8. Visualize all combinations of variables in some way."
   ]
  },
  {
   "cell_type": "markdown",
   "id": "0ed9524c",
   "metadata": {},
   "source": [
    "### 9. Run the appropriate statistical tests where needed."
   ]
  },
  {
   "cell_type": "markdown",
   "id": "aa0a505e",
   "metadata": {},
   "source": [
    "### 10. What independent variables are correlated with the dependent variable, home value?"
   ]
  },
  {
   "cell_type": "markdown",
   "id": "6a660d69",
   "metadata": {},
   "source": [
    "### 11. Which independent variables are correlated with other independent variables (bedrooms, bathrooms, year built, square feet)?"
   ]
  },
  {
   "cell_type": "markdown",
   "id": "b5498713",
   "metadata": {},
   "source": [
    "### 12. Make sure to document your takeaways from visualizations and statistical tests as well as the decisions you make throughout your process."
   ]
  },
  {
   "cell_type": "markdown",
   "id": "71b620dd",
   "metadata": {},
   "source": [
    "### 13. Explore your dataset with any other visualizations you think will be helpful."
   ]
  },
  {
   "cell_type": "code",
   "execution_count": null,
   "id": "c072b9d6",
   "metadata": {},
   "outputs": [],
   "source": []
  }
 ],
 "metadata": {
  "kernelspec": {
   "display_name": "Python 3 (ipykernel)",
   "language": "python",
   "name": "python3"
  },
  "language_info": {
   "codemirror_mode": {
    "name": "ipython",
    "version": 3
   },
   "file_extension": ".py",
   "mimetype": "text/x-python",
   "name": "python",
   "nbconvert_exporter": "python",
   "pygments_lexer": "ipython3",
   "version": "3.9.12"
  }
 },
 "nbformat": 4,
 "nbformat_minor": 5
}
