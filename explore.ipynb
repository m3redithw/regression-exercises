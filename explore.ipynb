{
 "cells": [
  {
   "cell_type": "markdown",
   "id": "5c76c743",
   "metadata": {},
   "source": [
    "### Our Zillow scenario continues:\n",
    "\n",
    "#### As a Codeup data science graduate, you want to show off your skills to the Zillow data science team in hopes of getting an interview for a position you saw pop up on LinkedIn. You thought it might look impressive to build an end-to-end project in which you use some of their Kaggle data to predict property values using some of their available features; who knows, you might even do some feature engineering to blow them away. Your goal is to predict the values of single unit properties using the observations from 2017.\n",
    "\n",
    "#### In these exercises, you will run through the stages of exploration as you continue to work toward the above goal."
   ]
  },
  {
   "cell_type": "markdown",
   "id": "d3f4c4e7",
   "metadata": {},
   "source": [
    "## 1. As with encoded vs. unencoded data, we recommend exploring un-scaled data in your EDA process."
   ]
  },
  {
   "cell_type": "markdown",
   "id": "9363a28d",
   "metadata": {},
   "source": [
    "Note: This notebook will be dedicated exploring data for the final zillow regression project.\n",
    "Meaningful columns for data acquisition:"
   ]
  },
  {
   "cell_type": "markdown",
   "id": "d476dcb2",
   "metadata": {},
   "source": [
    "### Acquire"
   ]
  },
  {
   "cell_type": "code",
   "execution_count": null,
   "id": "c2f1f264",
   "metadata": {},
   "outputs": [],
   "source": [
    "'bathroomcnt'\n",
    "'bedroomcnt'\n",
    "'calculatedfinishedsquarefeet'\n",
    "'fips'\n",
    "'lotsizesquarefeet' # maybe?\n",
    "'rawcensustractandblock' # maybe?\n",
    "'regionidcounty'\n",
    "'yearbuilt'\n",
    "'taxvaluedollarcnt'\n",
    "'taxamount'"
   ]
  },
  {
   "cell_type": "code",
   "execution_count": 56,
   "id": "a6c1421d",
   "metadata": {},
   "outputs": [],
   "source": [
    "# Importing libraries\n",
    "\n",
    "import pandas as pd\n",
    "import numpy as np\n",
    "import requests\n",
    "import os\n",
    "import matplotlib.pyplot as plt\n",
    "import seaborn as sns\n",
    "import warnings\n",
    "warnings.filterwarnings(\"ignore\")\n",
    "\n",
    "from sklearn.model_selection import train_test_split\n",
    "from scipy.stats import pearsonr, spearmanr\n",
    "import statistics as s\n",
    "import env"
   ]
  },
  {
   "cell_type": "code",
   "execution_count": 97,
   "id": "159306cd",
   "metadata": {},
   "outputs": [],
   "source": [
    "# Getting conncection to mySQL database, and acquiring data\n",
    "\n",
    "def get_connection(db, user=env.user, host=env.host, password=env.password):\n",
    "    return f'mysql+pymysql://{user}:{password}@{host}/{db}'\n",
    "\n",
    "# Loading raw data from Zillow database\n",
    "def new_zillow_data():\n",
    "    '''\n",
    "    This function reads the Zillow data from the mySQL database into a df.\n",
    "    '''\n",
    "    # Create SQL query.\n",
    "    sql_query = '''\n",
    "    SELECT latitude, longitude, bedroomcnt as bedrooms, bathroomcnt as bathrooms, calculatedfinishedsquarefeet as square_feet, lotsizesquarefeet as lot_size, fips as fips_code, regionidcounty as county_id, yearbuilt as year_built, taxvaluedollarcnt as assessed_value, taxamount as tax_amount\n",
    "FROM properties_2017 as p JOIN predictions_2017 as pred USING(parcelid) JOIN\n",
    "propertylandusetype as ptype using (propertylandusetypeid)\n",
    "WHERE ptype.propertylandusedesc LIKE '%%Single%%' and pred.transactiondate LIKE '2017%%';\n",
    "    '''\n",
    "    # Read in DataFrame from Codeup db.\n",
    "    df = pd.read_sql(sql_query, get_connection('zillow'))\n",
    "    \n",
    "    return df"
   ]
  },
  {
   "cell_type": "code",
   "execution_count": 98,
   "id": "6945fe2e",
   "metadata": {},
   "outputs": [],
   "source": [
    "# load raw, messy data\n",
    "\n",
    "rawdf = new_zillow_data()"
   ]
  },
  {
   "cell_type": "code",
   "execution_count": 99,
   "id": "f6e23160",
   "metadata": {},
   "outputs": [
    {
     "data": {
      "text/plain": [
       "(52441, 11)"
      ]
     },
     "execution_count": 99,
     "metadata": {},
     "output_type": "execute_result"
    }
   ],
   "source": [
    "rawdf.shape"
   ]
  },
  {
   "cell_type": "markdown",
   "id": "bc30c2b3",
   "metadata": {},
   "source": [
    "### Prepare"
   ]
  },
  {
   "cell_type": "markdown",
   "id": "9217fdd2",
   "metadata": {},
   "source": [
    "#### Drop null values"
   ]
  },
  {
   "cell_type": "code",
   "execution_count": 100,
   "id": "a9ae287c",
   "metadata": {},
   "outputs": [
    {
     "data": {
      "text/plain": [
       "latitude            0\n",
       "longitude           0\n",
       "bedrooms            0\n",
       "bathrooms           0\n",
       "square_feet        82\n",
       "lot_size          369\n",
       "fips_code           0\n",
       "county_id           0\n",
       "year_built        116\n",
       "assessed_value      1\n",
       "tax_amount          4\n",
       "dtype: int64"
      ]
     },
     "execution_count": 100,
     "metadata": {},
     "output_type": "execute_result"
    }
   ],
   "source": [
    "rawdf.isnull().sum()"
   ]
  },
  {
   "cell_type": "code",
   "execution_count": 101,
   "id": "f464cede",
   "metadata": {},
   "outputs": [],
   "source": [
    "# Dropping null values\n",
    "\n",
    "df = rawdf.dropna()"
   ]
  },
  {
   "cell_type": "code",
   "execution_count": 102,
   "id": "2e0e7ae1",
   "metadata": {},
   "outputs": [
    {
     "data": {
      "text/plain": [
       "(51956, 11)"
      ]
     },
     "execution_count": 102,
     "metadata": {},
     "output_type": "execute_result"
    }
   ],
   "source": [
    "df.shape"
   ]
  },
  {
   "cell_type": "markdown",
   "id": "72a2162b",
   "metadata": {},
   "source": [
    "#### Data types"
   ]
  },
  {
   "cell_type": "code",
   "execution_count": 162,
   "id": "3b2daee7",
   "metadata": {
    "scrolled": true
   },
   "outputs": [
    {
     "data": {
      "text/plain": [
       "latitude          float64\n",
       "longitude         float64\n",
       "bedrooms          float64\n",
       "bathrooms         float64\n",
       "square_feet       float64\n",
       "lot_size          float64\n",
       "fips_code         float64\n",
       "county_id         float64\n",
       "year_built        float64\n",
       "assessed_value    float64\n",
       "tax_amount        float64\n",
       "dtype: object"
      ]
     },
     "execution_count": 162,
     "metadata": {},
     "output_type": "execute_result"
    }
   ],
   "source": [
    "df.dtypes"
   ]
  },
  {
   "cell_type": "code",
   "execution_count": 163,
   "id": "7c65c9b4",
   "metadata": {},
   "outputs": [],
   "source": [
    "df['fips_code'] = df['fips_code'].astype(int)\n",
    "df['year_built'] = df['year_built'].astype(int)\n",
    "df['county_id'] = df['county_id'].astype(int)"
   ]
  },
  {
   "cell_type": "code",
   "execution_count": 164,
   "id": "3af264da",
   "metadata": {},
   "outputs": [
    {
     "data": {
      "text/plain": [
       "latitude          float64\n",
       "longitude         float64\n",
       "bedrooms          float64\n",
       "bathrooms         float64\n",
       "square_feet       float64\n",
       "lot_size          float64\n",
       "fips_code           int64\n",
       "county_id           int64\n",
       "year_built          int64\n",
       "assessed_value    float64\n",
       "tax_amount        float64\n",
       "dtype: object"
      ]
     },
     "execution_count": 164,
     "metadata": {},
     "output_type": "execute_result"
    }
   ],
   "source": [
    "df.dtypes"
   ]
  },
  {
   "cell_type": "markdown",
   "id": "812ac6f5",
   "metadata": {},
   "source": [
    "#### Outliers"
   ]
  },
  {
   "cell_type": "code",
   "execution_count": 103,
   "id": "b815e69d",
   "metadata": {},
   "outputs": [],
   "source": [
    "# Display format\n",
    "pd.options.display.float_format = '{:,.2f}'.format"
   ]
  },
  {
   "cell_type": "code",
   "execution_count": 104,
   "id": "ce320a29",
   "metadata": {},
   "outputs": [
    {
     "data": {
      "text/plain": [
       "<seaborn.axisgrid.FacetGrid at 0x7ff2813e8880>"
      ]
     },
     "execution_count": 104,
     "metadata": {},
     "output_type": "execute_result"
    },
    {
     "data": {
      "text/plain": [
       "<Figure size 432x432 with 0 Axes>"
      ]
     },
     "metadata": {},
     "output_type": "display_data"
    },
    {
     "data": {
      "image/png": "[encoded data removed]",
      "text/plain": [
       "<Figure size 360x360 with 1 Axes>"
      ]
     },
     "metadata": {
      "needs_background": "light"
     },
     "output_type": "display_data"
    }
   ],
   "source": [
    "plt.figure(figsize = (6, 6))\n",
    "\n",
    "sns.displot(x='bedrooms', data=df)"
   ]
  },
  {
   "cell_type": "code",
   "execution_count": 106,
   "id": "24de51a0",
   "metadata": {},
   "outputs": [
    {
     "data": {
      "image/png": "[encoded data removed]",
      "text/plain": [
       "<Figure size 1152x576 with 6 Axes>"
      ]
     },
     "metadata": {
      "needs_background": "light"
     },
     "output_type": "display_data"
    }
   ],
   "source": [
    "plt.figure(figsize = (16,8))\n",
    "\n",
    "# List of columns\n",
    "cols = ['bedrooms', 'bathrooms', 'square_feet','lot_size','assessed_value', 'tax_amount']\n",
    "\n",
    "for i, col in enumerate(cols):\n",
    "    \n",
    "    # i starts at 0, but plot nos should start at 1\n",
    "    plot_number = i + 1 \n",
    "    \n",
    "    # Create subplot.\n",
    "    plt.subplot(1,6, plot_number)\n",
    "    \n",
    "    # Title with column name.\n",
    "    plt.title(col)\n",
    "    \n",
    "    # Display histogram for column.\n",
    "    sns.boxplot(data = df[col])\n"
   ]
  },
  {
   "cell_type": "markdown",
   "id": "3b2c2ccf",
   "metadata": {},
   "source": [
    "#### General rules:\n",
    "\n",
    "lower bound: Q1 – (1.5 * IQR)\n",
    "upper bound: Q3 + (1.5 * IQR)"
   ]
  },
  {
   "cell_type": "markdown",
   "id": "896b1c65",
   "metadata": {},
   "source": [
    "##### bedrooms"
   ]
  },
  {
   "cell_type": "code",
   "execution_count": 107,
   "id": "44b8a269",
   "metadata": {},
   "outputs": [
    {
     "data": {
      "text/plain": [
       "count   51,956.00\n",
       "mean         3.30\n",
       "std          0.93\n",
       "min          0.00\n",
       "25%          3.00\n",
       "50%          3.00\n",
       "75%          4.00\n",
       "max         11.00\n",
       "Name: bedrooms, dtype: float64"
      ]
     },
     "execution_count": 107,
     "metadata": {},
     "output_type": "execute_result"
    }
   ],
   "source": [
    "df.bedrooms.describe()"
   ]
  },
  {
   "cell_type": "code",
   "execution_count": 168,
   "id": "14057ea5",
   "metadata": {},
   "outputs": [
    {
     "name": "stdout",
     "output_type": "stream",
     "text": [
      "IQR equals: 1.0\n"
     ]
    }
   ],
   "source": [
    "q1 = np.percentile(df.bedrooms, 25)\n",
    "q3 = np.percentile(df.bedrooms, 75)\n",
    "iqr = q3 - q1\n",
    "print(\"IQR equals: \" + str(iqr))"
   ]
  },
  {
   "cell_type": "code",
   "execution_count": 176,
   "id": "6b13bed5",
   "metadata": {},
   "outputs": [
    {
     "name": "stdout",
     "output_type": "stream",
     "text": [
      "Upper bond for bedrooms:  6.5\n",
      "Lower bond for bedrooms:  1.0\n"
     ]
    }
   ],
   "source": [
    "print(\"Upper bond for bedrooms: \", q3 + 2.5*iqr)\n",
    "print(\"Lower bond for bedrooms: \", q1 - 2*iqr)"
   ]
  },
  {
   "cell_type": "code",
   "execution_count": 177,
   "id": "6d3c5b37",
   "metadata": {},
   "outputs": [
    {
     "data": {
      "text/plain": [
       "(138, 11)"
      ]
     },
     "execution_count": 177,
     "metadata": {},
     "output_type": "execute_result"
    }
   ],
   "source": [
    "df[df.bedrooms>6.5].shape"
   ]
  },
  {
   "cell_type": "markdown",
   "id": "4ff005f9",
   "metadata": {},
   "source": [
    "##### bathrooms"
   ]
  },
  {
   "cell_type": "code",
   "execution_count": 110,
   "id": "01e90626",
   "metadata": {},
   "outputs": [
    {
     "data": {
      "text/plain": [
       "count   51,956.00\n",
       "mean         2.30\n",
       "std          1.01\n",
       "min          0.00\n",
       "25%          2.00\n",
       "50%          2.00\n",
       "75%          3.00\n",
       "max         13.00\n",
       "Name: bathrooms, dtype: float64"
      ]
     },
     "execution_count": 110,
     "metadata": {},
     "output_type": "execute_result"
    }
   ],
   "source": [
    "df.bathrooms.describe()"
   ]
  },
  {
   "cell_type": "code",
   "execution_count": 179,
   "id": "d5f3af30",
   "metadata": {},
   "outputs": [
    {
     "name": "stdout",
     "output_type": "stream",
     "text": [
      "IQR equals: 1.0\n"
     ]
    }
   ],
   "source": [
    "q1 = np.percentile(df.bathrooms, 25)\n",
    "q3 = np.percentile(df.bathrooms, 75)\n",
    "iqr = q3 - q1\n",
    "print(\"IQR equals: \" + str(iqr))"
   ]
  },
  {
   "cell_type": "code",
   "execution_count": 182,
   "id": "4b7c20ca",
   "metadata": {
    "scrolled": true
   },
   "outputs": [
    {
     "name": "stdout",
     "output_type": "stream",
     "text": [
      "Upper bond for bedrooms:  6.5\n",
      "Lower bond for bedrooms:  0.5\n"
     ]
    }
   ],
   "source": [
    "print(\"Upper bond for bedrooms: \", q3 + 3.5*iqr)\n",
    "print(\"Lower bond for bedrooms: \", q1 - 1.5*iqr)"
   ]
  },
  {
   "cell_type": "code",
   "execution_count": 183,
   "id": "8a479e86",
   "metadata": {},
   "outputs": [
    {
     "data": {
      "text/plain": [
       "(178, 11)"
      ]
     },
     "execution_count": 183,
     "metadata": {},
     "output_type": "execute_result"
    }
   ],
   "source": [
    "df[df.bathrooms>6.5].shape"
   ]
  },
  {
   "cell_type": "markdown",
   "id": "c32aa263",
   "metadata": {},
   "source": [
    "##### square_feet"
   ]
  },
  {
   "cell_type": "code",
   "execution_count": 113,
   "id": "c42bd6c2",
   "metadata": {},
   "outputs": [
    {
     "data": {
      "text/plain": [
       "count   51,956.00\n",
       "mean     1,918.27\n",
       "std        994.32\n",
       "min        128.00\n",
       "25%      1,268.00\n",
       "50%      1,657.00\n",
       "75%      2,301.00\n",
       "max     21,929.00\n",
       "Name: square_feet, dtype: float64"
      ]
     },
     "execution_count": 113,
     "metadata": {},
     "output_type": "execute_result"
    }
   ],
   "source": [
    "df.square_feet.describe()"
   ]
  },
  {
   "cell_type": "code",
   "execution_count": 184,
   "id": "a2bba93a",
   "metadata": {},
   "outputs": [
    {
     "name": "stdout",
     "output_type": "stream",
     "text": [
      "IQR equals: 1033.0\n"
     ]
    }
   ],
   "source": [
    "q1 = np.percentile(df.square_feet, 25)\n",
    "q3 = np.percentile(df.square_feet, 75)\n",
    "iqr = q3 - q1\n",
    "print(\"IQR equals: \" + str(iqr))"
   ]
  },
  {
   "cell_type": "code",
   "execution_count": 187,
   "id": "d7aa1b89",
   "metadata": {},
   "outputs": [
    {
     "name": "stdout",
     "output_type": "stream",
     "text": [
      "Upper bond for square_feet:  7982.5\n",
      "Lower bond for square_feet:  493.25\n"
     ]
    }
   ],
   "source": [
    "print(\"Upper bond for square_feet: \", q3 + 5.5*iqr)\n",
    "print(\"Lower bond for square_feet: \", q1 - 0.75*iqr)"
   ]
  },
  {
   "cell_type": "code",
   "execution_count": 188,
   "id": "a5892428",
   "metadata": {},
   "outputs": [
    {
     "data": {
      "text/plain": [
       "(102, 11)"
      ]
     },
     "execution_count": 188,
     "metadata": {},
     "output_type": "execute_result"
    }
   ],
   "source": [
    "df[df.square_feet>7982].shape"
   ]
  },
  {
   "cell_type": "code",
   "execution_count": 190,
   "id": "70628f6e",
   "metadata": {},
   "outputs": [
    {
     "data": {
      "text/plain": [
       "(73, 11)"
      ]
     },
     "execution_count": 190,
     "metadata": {},
     "output_type": "execute_result"
    }
   ],
   "source": [
    "df[df.square_feet<493].shape"
   ]
  },
  {
   "cell_type": "markdown",
   "id": "7a67f7b3",
   "metadata": {},
   "source": [
    "##### lot_size"
   ]
  },
  {
   "cell_type": "code",
   "execution_count": 132,
   "id": "7f768bad",
   "metadata": {},
   "outputs": [
    {
     "data": {
      "text/plain": [
       "count      51,956.00\n",
       "mean       11,251.78\n",
       "std        86,643.13\n",
       "min           236.00\n",
       "25%         5,581.00\n",
       "50%         6,838.00\n",
       "75%         8,777.00\n",
       "max     6,971,010.00\n",
       "Name: lot_size, dtype: float64"
      ]
     },
     "execution_count": 132,
     "metadata": {},
     "output_type": "execute_result"
    }
   ],
   "source": [
    "df.lot_size.describe()"
   ]
  },
  {
   "cell_type": "code",
   "execution_count": 191,
   "id": "98816b42",
   "metadata": {},
   "outputs": [
    {
     "name": "stdout",
     "output_type": "stream",
     "text": [
      "IQR equals: 3196.0\n"
     ]
    }
   ],
   "source": [
    "q1 = np.percentile(df.lot_size, 25)\n",
    "q3 = np.percentile(df.lot_size, 75)\n",
    "iqr = q3 - q1\n",
    "print(\"IQR equals: \" + str(iqr))"
   ]
  },
  {
   "cell_type": "code",
   "execution_count": 203,
   "id": "956721e8",
   "metadata": {},
   "outputs": [
    {
     "name": "stdout",
     "output_type": "stream",
     "text": [
      "Upper bond for square_feet:  152597.0\n",
      "Lower bond for square_feet:  787.0\n"
     ]
    }
   ],
   "source": [
    "print(\"Upper bond for square_feet: \", q3 + 45*iqr)\n",
    "print(\"Lower bond for square_feet: \", q1 - 1.5*iqr)"
   ]
  },
  {
   "cell_type": "code",
   "execution_count": 204,
   "id": "a8b52472",
   "metadata": {},
   "outputs": [
    {
     "data": {
      "text/plain": [
       "(171, 11)"
      ]
     },
     "execution_count": 204,
     "metadata": {},
     "output_type": "execute_result"
    }
   ],
   "source": [
    "df[df.lot_size>152597].shape"
   ]
  },
  {
   "cell_type": "code",
   "execution_count": 194,
   "id": "ffc44da6",
   "metadata": {},
   "outputs": [
    {
     "data": {
      "text/plain": [
       "(55, 11)"
      ]
     },
     "execution_count": 194,
     "metadata": {},
     "output_type": "execute_result"
    }
   ],
   "source": [
    "df[df.lot_size<787].shape"
   ]
  },
  {
   "cell_type": "markdown",
   "id": "4141406b",
   "metadata": {},
   "source": [
    "##### assessed_value"
   ]
  },
  {
   "cell_type": "code",
   "execution_count": 120,
   "id": "cf07706d",
   "metadata": {},
   "outputs": [
    {
     "data": {
      "text/plain": [
       "count       51,956.00\n",
       "mean       525,518.65\n",
       "std        716,429.97\n",
       "min          1,000.00\n",
       "25%        193,478.50\n",
       "50%        372,791.00\n",
       "75%        616,656.25\n",
       "max     25,381,250.00\n",
       "Name: assessed_value, dtype: float64"
      ]
     },
     "execution_count": 120,
     "metadata": {},
     "output_type": "execute_result"
    }
   ],
   "source": [
    "df.assessed_value.describe()"
   ]
  },
  {
   "cell_type": "code",
   "execution_count": 208,
   "id": "2f0b0469",
   "metadata": {},
   "outputs": [
    {
     "name": "stdout",
     "output_type": "stream",
     "text": [
      "IQR equals: 423177.75\n"
     ]
    }
   ],
   "source": [
    "q1 = np.percentile(df.assessed_value, 25)\n",
    "q3 = np.percentile(df.assessed_value, 75)\n",
    "iqr = q3 - q1\n",
    "print(\"IQR equals: \" + str(iqr))"
   ]
  },
  {
   "cell_type": "code",
   "execution_count": 212,
   "id": "4caf13ee",
   "metadata": {},
   "outputs": [
    {
     "name": "stdout",
     "output_type": "stream",
     "text": [
      "Upper bond for assessed_value:  2520956.125\n",
      "Lower bond for assessed_value:  45366.287500000006\n"
     ]
    }
   ],
   "source": [
    "print(\"Upper bond for assessed_value: \", q3 + 4.5*iqr)\n",
    "print(\"Lower bond for assessed_value: \", q1 - 0.35 *iqr)"
   ]
  },
  {
   "cell_type": "code",
   "execution_count": 213,
   "id": "832801d8",
   "metadata": {},
   "outputs": [
    {
     "data": {
      "text/plain": [
       "0.019478019862960966"
      ]
     },
     "execution_count": 213,
     "metadata": {},
     "output_type": "execute_result"
    }
   ],
   "source": [
    "df[df.assessed_value<45366].shape[0]/df.shape[0]"
   ]
  },
  {
   "cell_type": "code",
   "execution_count": 206,
   "id": "586c5944",
   "metadata": {},
   "outputs": [
    {
     "data": {
      "text/plain": [
       "0.016206020478866733"
      ]
     },
     "execution_count": 206,
     "metadata": {},
     "output_type": "execute_result"
    }
   ],
   "source": [
    "df[df.assessed_value>2520956].shape[0]/df.shape[0]"
   ]
  },
  {
   "cell_type": "markdown",
   "id": "f6a0dab3",
   "metadata": {},
   "source": [
    "##### outliers summary"
   ]
  },
  {
   "cell_type": "code",
   "execution_count": 214,
   "id": "1fd800b2",
   "metadata": {},
   "outputs": [],
   "source": [
    "df = df[df.bedrooms <= 6.5]\n",
    "df = df[df.bedrooms >= 1]\n",
    "\n",
    "df = df[df.bathrooms <= 6.5]\n",
    "df = df[df.bathrooms >= 0.5]\n",
    "\n",
    "df = df[df.square_feet <= 7982]\n",
    "df = df[df.square_feet >= 493]\n",
    "\n",
    "df = df[df.lot_size <= 152597]\n",
    "df = df[df.lot_size >= 787]\n",
    "\n",
    "df = df[df.assessed_value <= 2520956]\n",
    "df = df[df.assessed_value >= 45366]"
   ]
  },
  {
   "cell_type": "code",
   "execution_count": 215,
   "id": "47f55692",
   "metadata": {},
   "outputs": [
    {
     "data": {
      "text/plain": [
       "(49633, 11)"
      ]
     },
     "execution_count": 215,
     "metadata": {},
     "output_type": "execute_result"
    }
   ],
   "source": [
    "df.shape"
   ]
  },
  {
   "cell_type": "markdown",
   "id": "58165ee0",
   "metadata": {},
   "source": [
    "#### Split data"
   ]
  },
  {
   "cell_type": "code",
   "execution_count": 216,
   "id": "962fd6dd",
   "metadata": {},
   "outputs": [],
   "source": [
    "def split(df):\n",
    "    '''\n",
    "    This function drops the customer_id column and then splits a dataframe into \n",
    "    train, validate, and test in order to explore the data and to create and validate models. \n",
    "    It takes in a dataframe and contains an integer for setting a seed for replication. \n",
    "    Test is 20% of the original dataset. The remaining 80% of the dataset is \n",
    "    divided between valiidate and train, with validate being .30*.80= 24% of \n",
    "    the original dataset, and train being .70*.80= 56% of the original dataset. \n",
    "    The function returns, train, validate and test dataframes. \n",
    "    '''\n",
    "    train, test = train_test_split(df, test_size = .2, random_state=123)   \n",
    "    train, validate = train_test_split(train, test_size=.3, random_state=123)\n",
    "    \n",
    "    return train, validate, test"
   ]
  },
  {
   "cell_type": "code",
   "execution_count": 217,
   "id": "eb5a7333",
   "metadata": {},
   "outputs": [],
   "source": [
    "train, validate, test = split(df)"
   ]
  },
  {
   "cell_type": "code",
   "execution_count": 218,
   "id": "48849886",
   "metadata": {
    "scrolled": true
   },
   "outputs": [
    {
     "data": {
      "text/plain": [
       "((27794, 11), (11912, 11), (9927, 11))"
      ]
     },
     "execution_count": 218,
     "metadata": {},
     "output_type": "execute_result"
    }
   ],
   "source": [
    "train.shape, validate.shape, test.shape"
   ]
  },
  {
   "cell_type": "code",
   "execution_count": 219,
   "id": "88730b09",
   "metadata": {},
   "outputs": [],
   "source": [
    "# Prepare.py functions:\n",
    "\n",
    "def prep_zillow(df):\n",
    "    # Drop outliers\n",
    "    df = df.dropna()\n",
    "    \n",
    "    # Change data type\n",
    "    df['fips_code'] = df['fips_code'].astype(int)\n",
    "    df['year_built'] = df['year_built'].astype(int)\n",
    "    df['county_id'] = df['county_id'].astype(int)\n",
    "    \n",
    "    # Handle Outliers:\n",
    "    # The general rule for outliers are:\n",
    "    ## Upper bond: Q3 + 1.5*IQR\n",
    "    ## Lower bund: Q1 - 1.5*IQR\n",
    "    # Bonds are manually adjusted for each feature\n",
    "    df = df[df.bedrooms <= 6.5]\n",
    "    df = df[df.bedrooms >= 1]\n",
    "\n",
    "    df = df[df.bathrooms <= 6.5]\n",
    "    df = df[df.bathrooms >= 0.5]\n",
    "\n",
    "    df = df[df.square_feet <= 7982]\n",
    "    df = df[df.square_feet >= 493]\n",
    "\n",
    "    df = df[df.lot_size <= 152597]\n",
    "    df = df[df.lot_size >= 787]\n",
    "\n",
    "    df = df[df.assessed_value <= 2520956]\n",
    "    df = df[df.assessed_value >= 45366]\n",
    "\n",
    "def split(df):\n",
    "    '''\n",
    "    This function drops the customer_id column and then splits a dataframe into \n",
    "    train, validate, and test in order to explore the data and to create and validate models. \n",
    "    It takes in a dataframe and contains an integer for setting a seed for replication. \n",
    "    Test is 20% of the original dataset. The remaining 80% of the dataset is \n",
    "    divided between valiidate and train, with validate being .30*.80= 24% of \n",
    "    the original dataset, and train being .70*.80= 56% of the original dataset. \n",
    "    The function returns, train, validate and test dataframes. \n",
    "    '''\n",
    "    train, test = train_test_split(df, test_size = .2, random_state=123)   \n",
    "    train, validate = train_test_split(train, test_size=.3, random_state=123)\n",
    "    \n",
    "    return train, validate, test"
   ]
  },
  {
   "cell_type": "markdown",
   "id": "4c482adc",
   "metadata": {},
   "source": [
    "## 2. Make sure to perform a train, validate, test split before and use only your train dataset to explore the relationships between independent variables with other independent variables or independent variables with your target variable."
   ]
  },
  {
   "cell_type": "code",
   "execution_count": null,
   "id": "0a6bd3ec",
   "metadata": {},
   "outputs": [],
   "source": []
  },
  {
   "cell_type": "markdown",
   "id": "b594cc9a",
   "metadata": {},
   "source": [
    "## 3. Write a function named plot_variable_pairs that accepts a dataframe as input and plots all of the pairwise relationships along with the regression line for each pair."
   ]
  },
  {
   "cell_type": "markdown",
   "id": "b5672945",
   "metadata": {},
   "source": [
    "## 4. Write a function named plot_categorical_and_continuous_vars that accepts your dataframe and the name of the columns that hold the continuous and categorical features and outputs 3 different plots for visualizing a categorical variable and a continuous variable."
   ]
  },
  {
   "cell_type": "markdown",
   "id": "5ffc2a69",
   "metadata": {},
   "source": [
    "## 5. Save the functions you have written to create visualizations in your explore.py file. Rewrite your notebook code so that you are using the functions imported from this file."
   ]
  },
  {
   "cell_type": "markdown",
   "id": "051e842c",
   "metadata": {},
   "source": [
    "## 6. Use the functions you created above to explore your Zillow train dataset in your explore.ipynb notebook."
   ]
  },
  {
   "cell_type": "markdown",
   "id": "13b1d2a9",
   "metadata": {},
   "source": [
    "## 7. Come up with some initial hypotheses based on your goal of predicting property value."
   ]
  },
  {
   "cell_type": "markdown",
   "id": "b22fe5f7",
   "metadata": {},
   "source": [
    "## 8. Visualize all combinations of variables in some way."
   ]
  },
  {
   "cell_type": "markdown",
   "id": "0ed9524c",
   "metadata": {},
   "source": [
    "## 9. Run the appropriate statistical tests where needed."
   ]
  },
  {
   "cell_type": "markdown",
   "id": "aa0a505e",
   "metadata": {},
   "source": [
    "## 10. What independent variables are correlated with the dependent variable, home value?"
   ]
  },
  {
   "cell_type": "markdown",
   "id": "6a660d69",
   "metadata": {},
   "source": [
    "## 11. Which independent variables are correlated with other independent variables (bedrooms, bathrooms, year built, square feet)?"
   ]
  },
  {
   "cell_type": "markdown",
   "id": "b5498713",
   "metadata": {},
   "source": [
    "## 12. Make sure to document your takeaways from visualizations and statistical tests as well as the decisions you make throughout your process."
   ]
  },
  {
   "cell_type": "markdown",
   "id": "71b620dd",
   "metadata": {},
   "source": [
    "## 13. Explore your dataset with any other visualizations you think will be helpful."
   ]
  },
  {
   "cell_type": "code",
   "execution_count": null,
   "id": "c072b9d6",
   "metadata": {},
   "outputs": [],
   "source": []
  }
 ],
 "metadata": {
  "kernelspec": {
   "display_name": "Python 3 (ipykernel)",
   "language": "python",
   "name": "python3"
  },
  "language_info": {
   "codemirror_mode": {
    "name": "ipython",
    "version": 3
   },
   "file_extension": ".py",
   "mimetype": "text/x-python",
   "name": "python",
   "nbconvert_exporter": "python",
   "pygments_lexer": "ipython3",
   "version": "3.9.12"
  }
 },
 "nbformat": 4,
 "nbformat_minor": 5
}
