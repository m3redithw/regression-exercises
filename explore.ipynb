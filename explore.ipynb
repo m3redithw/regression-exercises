{
 "cells": [
  {
   "cell_type": "markdown",
   "id": "5c76c743",
   "metadata": {},
   "source": [
    "### Our Zillow scenario continues:\n",
    "\n",
    "#### As a Codeup data science graduate, you want to show off your skills to the Zillow data science team in hopes of getting an interview for a position you saw pop up on LinkedIn. You thought it might look impressive to build an end-to-end project in which you use some of their Kaggle data to predict property values using some of their available features; who knows, you might even do some feature engineering to blow them away. Your goal is to predict the values of single unit properties using the observations from 2017.\n",
    "\n",
    "#### In these exercises, you will run through the stages of exploration as you continue to work toward the above goal."
   ]
  },
  {
   "cell_type": "markdown",
   "id": "d3f4c4e7",
   "metadata": {},
   "source": [
    "## 1. As with encoded vs. unencoded data, we recommend exploring un-scaled data in your EDA process."
   ]
  },
  {
   "cell_type": "markdown",
   "id": "9363a28d",
   "metadata": {},
   "source": [
    "Note: This notebook will be dedicated exploring data for the final zillow regression project.\n",
    "Meaningful columns for data acquisition:"
   ]
  },
  {
   "cell_type": "markdown",
   "id": "888d8908",
   "metadata": {},
   "source": [
    "### Acquire"
   ]
  },
  {
   "cell_type": "code",
   "execution_count": null,
   "id": "af410bfd",
   "metadata": {},
   "outputs": [],
   "source": [
    "'bathroomcnt'\n",
    "'bedroomcnt'\n",
    "'calculatedfinishedsquarefeet'\n",
    "'fips'\n",
    "'lotsizesquarefeet' # maybe?\n",
    "'rawcensustractandblock' # maybe?\n",
    "'regionidcounty'\n",
    "'yearbuilt'\n",
    "'taxvaluedollarcnt'\n",
    "'taxamount'"
   ]
  },
  {
   "cell_type": "code",
   "execution_count": 2,
   "id": "1efd863e",
   "metadata": {},
   "outputs": [],
   "source": [
    "# Importing libraries\n",
    "\n",
    "import pandas as pd\n",
    "import numpy as np\n",
    "import requests\n",
    "import os\n",
    "import matplotlib.pyplot as plt\n",
    "import seaborn as sns\n",
    "import warnings\n",
    "warnings.filterwarnings(\"ignore\")\n",
    "\n",
    "from sklearn.model_selection import train_test_split\n",
    "from scipy.stats import pearsonr, spearmanr\n",
    "import statistics as s\n",
    "import env"
   ]
  },
  {
   "cell_type": "code",
   "execution_count": 3,
   "id": "a1a7ec7b",
   "metadata": {},
   "outputs": [],
   "source": [
    "# Getting conncection to mySQL database, and acquiring data\n",
    "\n",
    "def get_connection(db, user=env.user, host=env.host, password=env.password):\n",
    "    return f'mysql+pymysql://{user}:{password}@{host}/{db}'\n",
    "\n",
    "# Loading raw data from Zillow database\n",
    "def new_zillow_data():\n",
    "    '''\n",
    "    This function reads the Zillow data from the mySQL database into a df.\n",
    "    '''\n",
    "    # Create SQL query.\n",
    "    sql_query = '''\n",
    "    SELECT latitude, longitude, bedroomcnt as bedrooms, bathroomcnt as bathrooms, calculatedfinishedsquarefeet as square_feet, lotsizesquarefeet as lot_size, fips as fips_code, yearbuilt as year_built, taxvaluedollarcnt as assessed_value, taxamount as tax_amount\n",
    "FROM properties_2017 as p JOIN predictions_2017 as pred USING(parcelid) JOIN\n",
    "propertylandusetype as ptype using (propertylandusetypeid)\n",
    "WHERE ptype.propertylandusedesc LIKE '%%Single%%' and pred.transactiondate LIKE '2017%%';\n",
    "    '''\n",
    "    # Read in DataFrame from Codeup db.\n",
    "    df = pd.read_sql(sql_query, get_connection('zillow'))\n",
    "    \n",
    "    return df"
   ]
  },
  {
   "cell_type": "code",
   "execution_count": 4,
   "id": "52c32e8c",
   "metadata": {},
   "outputs": [],
   "source": [
    "# load raw, messy data\n",
    "\n",
    "rawdf = new_zillow_data()"
   ]
  },
  {
   "cell_type": "code",
   "execution_count": 5,
   "id": "4be35f3a",
   "metadata": {},
   "outputs": [
    {
     "data": {
      "text/plain": [
       "(52441, 10)"
      ]
     },
     "execution_count": 5,
     "metadata": {},
     "output_type": "execute_result"
    }
   ],
   "source": [
    "rawdf.shape"
   ]
  },
  {
   "cell_type": "markdown",
   "id": "0a0116a7",
   "metadata": {},
   "source": [
    "### Prepare"
   ]
  },
  {
   "cell_type": "markdown",
   "id": "fb7eba71",
   "metadata": {},
   "source": [
    "#### Drop null values"
   ]
  },
  {
   "cell_type": "code",
   "execution_count": 6,
   "id": "88b370ba",
   "metadata": {},
   "outputs": [
    {
     "data": {
      "text/plain": [
       "latitude            0\n",
       "longitude           0\n",
       "bedrooms            0\n",
       "bathrooms           0\n",
       "square_feet        82\n",
       "lot_size          369\n",
       "fips_code           0\n",
       "year_built        116\n",
       "assessed_value      1\n",
       "tax_amount          4\n",
       "dtype: int64"
      ]
     },
     "execution_count": 6,
     "metadata": {},
     "output_type": "execute_result"
    }
   ],
   "source": [
    "rawdf.isnull().sum()"
   ]
  },
  {
   "cell_type": "code",
   "execution_count": 7,
   "id": "28aad192",
   "metadata": {},
   "outputs": [],
   "source": [
    "# Dropping null values\n",
    "\n",
    "df = rawdf.dropna()"
   ]
  },
  {
   "cell_type": "code",
   "execution_count": 8,
   "id": "7d890d21",
   "metadata": {},
   "outputs": [
    {
     "data": {
      "text/plain": [
       "(51956, 10)"
      ]
     },
     "execution_count": 8,
     "metadata": {},
     "output_type": "execute_result"
    }
   ],
   "source": [
    "df.shape"
   ]
  },
  {
   "cell_type": "markdown",
   "id": "12a422e2",
   "metadata": {},
   "source": [
    "#### Data types"
   ]
  },
  {
   "cell_type": "code",
   "execution_count": null,
   "id": "27b7bf84",
   "metadata": {
    "scrolled": true
   },
   "outputs": [],
   "source": [
    "df.dtypes"
   ]
  },
  {
   "cell_type": "code",
   "execution_count": 9,
   "id": "636adc53",
   "metadata": {},
   "outputs": [],
   "source": [
    "df['fips_code'] = df['fips_code'].astype(int)\n",
    "df['year_built'] = df['year_built'].astype(int)"
   ]
  },
  {
   "cell_type": "code",
   "execution_count": 10,
   "id": "4acf900c",
   "metadata": {},
   "outputs": [
    {
     "data": {
      "text/plain": [
       "latitude          float64\n",
       "longitude         float64\n",
       "bedrooms          float64\n",
       "bathrooms         float64\n",
       "square_feet       float64\n",
       "lot_size          float64\n",
       "fips_code           int64\n",
       "year_built          int64\n",
       "assessed_value    float64\n",
       "tax_amount        float64\n",
       "dtype: object"
      ]
     },
     "execution_count": 10,
     "metadata": {},
     "output_type": "execute_result"
    }
   ],
   "source": [
    "df.dtypes"
   ]
  },
  {
   "cell_type": "markdown",
   "id": "8b7681ec",
   "metadata": {},
   "source": [
    "#### Data mapping?\n",
    "\n",
    "##### Fips code:\n",
    "- 6037 Los Angeles\n",
    "- 6059 Orange\n",
    "- 6111 Ventura\n"
   ]
  },
  {
   "cell_type": "code",
   "execution_count": 11,
   "id": "ba933c1c",
   "metadata": {},
   "outputs": [],
   "source": [
    "df['county'] = df.fips_code.map({6037: 'Los Angeles', 6059: 'Orange', 6111: 'Ventura'})"
   ]
  },
  {
   "cell_type": "code",
   "execution_count": 12,
   "id": "15fab939",
   "metadata": {},
   "outputs": [
    {
     "data": {
      "text/html": [
       "<div>\n",
       "<style scoped>\n",
       "    .dataframe tbody tr th:only-of-type {\n",
       "        vertical-align: middle;\n",
       "    }\n",
       "\n",
       "    .dataframe tbody tr th {\n",
       "        vertical-align: top;\n",
       "    }\n",
       "\n",
       "    .dataframe thead th {\n",
       "        text-align: right;\n",
       "    }\n",
       "</style>\n",
       "<table border=\"1\" class=\"dataframe\">\n",
       "  <thead>\n",
       "    <tr style=\"text-align: right;\">\n",
       "      <th></th>\n",
       "      <th>latitude</th>\n",
       "      <th>longitude</th>\n",
       "      <th>bedrooms</th>\n",
       "      <th>bathrooms</th>\n",
       "      <th>square_feet</th>\n",
       "      <th>lot_size</th>\n",
       "      <th>fips_code</th>\n",
       "      <th>year_built</th>\n",
       "      <th>assessed_value</th>\n",
       "      <th>tax_amount</th>\n",
       "      <th>county</th>\n",
       "    </tr>\n",
       "  </thead>\n",
       "  <tbody>\n",
       "    <tr>\n",
       "      <th>0</th>\n",
       "      <td>34184517.0</td>\n",
       "      <td>-118221043.0</td>\n",
       "      <td>3.0</td>\n",
       "      <td>3.0</td>\n",
       "      <td>2538.0</td>\n",
       "      <td>39238.0</td>\n",
       "      <td>6037</td>\n",
       "      <td>1966</td>\n",
       "      <td>878288.0</td>\n",
       "      <td>9635.37</td>\n",
       "      <td>Los Angeles</td>\n",
       "    </tr>\n",
       "    <tr>\n",
       "      <th>1</th>\n",
       "      <td>33644714.0</td>\n",
       "      <td>-117616376.0</td>\n",
       "      <td>4.0</td>\n",
       "      <td>2.5</td>\n",
       "      <td>2761.0</td>\n",
       "      <td>5800.0</td>\n",
       "      <td>6059</td>\n",
       "      <td>1998</td>\n",
       "      <td>556255.0</td>\n",
       "      <td>8381.04</td>\n",
       "      <td>Orange</td>\n",
       "    </tr>\n",
       "    <tr>\n",
       "      <th>2</th>\n",
       "      <td>34262618.0</td>\n",
       "      <td>-118737528.0</td>\n",
       "      <td>3.0</td>\n",
       "      <td>2.5</td>\n",
       "      <td>1371.0</td>\n",
       "      <td>4321.0</td>\n",
       "      <td>6111</td>\n",
       "      <td>2012</td>\n",
       "      <td>404542.0</td>\n",
       "      <td>4705.74</td>\n",
       "      <td>Ventura</td>\n",
       "    </tr>\n",
       "    <tr>\n",
       "      <th>3</th>\n",
       "      <td>34181076.0</td>\n",
       "      <td>-118336609.0</td>\n",
       "      <td>3.0</td>\n",
       "      <td>2.0</td>\n",
       "      <td>1676.0</td>\n",
       "      <td>7025.0</td>\n",
       "      <td>6037</td>\n",
       "      <td>1940</td>\n",
       "      <td>283892.0</td>\n",
       "      <td>3151.85</td>\n",
       "      <td>Los Angeles</td>\n",
       "    </tr>\n",
       "    <tr>\n",
       "      <th>4</th>\n",
       "      <td>33814856.0</td>\n",
       "      <td>-118294446.0</td>\n",
       "      <td>4.0</td>\n",
       "      <td>3.0</td>\n",
       "      <td>2352.0</td>\n",
       "      <td>5398.0</td>\n",
       "      <td>6037</td>\n",
       "      <td>1989</td>\n",
       "      <td>293034.0</td>\n",
       "      <td>3839.25</td>\n",
       "      <td>Los Angeles</td>\n",
       "    </tr>\n",
       "  </tbody>\n",
       "</table>\n",
       "</div>"
      ],
      "text/plain": [
       "     latitude    longitude  bedrooms  bathrooms  square_feet  lot_size  \\\n",
       "0  34184517.0 -118221043.0       3.0        3.0       2538.0   39238.0   \n",
       "1  33644714.0 -117616376.0       4.0        2.5       2761.0    5800.0   \n",
       "2  34262618.0 -118737528.0       3.0        2.5       1371.0    4321.0   \n",
       "3  34181076.0 -118336609.0       3.0        2.0       1676.0    7025.0   \n",
       "4  33814856.0 -118294446.0       4.0        3.0       2352.0    5398.0   \n",
       "\n",
       "   fips_code  year_built  assessed_value  tax_amount       county  \n",
       "0       6037        1966        878288.0     9635.37  Los Angeles  \n",
       "1       6059        1998        556255.0     8381.04       Orange  \n",
       "2       6111        2012        404542.0     4705.74      Ventura  \n",
       "3       6037        1940        283892.0     3151.85  Los Angeles  \n",
       "4       6037        1989        293034.0     3839.25  Los Angeles  "
      ]
     },
     "execution_count": 12,
     "metadata": {},
     "output_type": "execute_result"
    }
   ],
   "source": [
    "df.head()"
   ]
  },
  {
   "cell_type": "code",
   "execution_count": 14,
   "id": "f5a8da76",
   "metadata": {},
   "outputs": [],
   "source": [
    "df = df.drop(['fips_code'], axis=1)"
   ]
  },
  {
   "cell_type": "code",
   "execution_count": 16,
   "id": "592e6467",
   "metadata": {},
   "outputs": [
    {
     "data": {
      "text/plain": [
       "latitude          float64\n",
       "longitude         float64\n",
       "bedrooms          float64\n",
       "bathrooms         float64\n",
       "square_feet       float64\n",
       "lot_size          float64\n",
       "year_built          int64\n",
       "assessed_value    float64\n",
       "tax_amount        float64\n",
       "county             object\n",
       "dtype: object"
      ]
     },
     "execution_count": 16,
     "metadata": {},
     "output_type": "execute_result"
    }
   ],
   "source": [
    "df.dtypes"
   ]
  },
  {
   "cell_type": "markdown",
   "id": "921ef905",
   "metadata": {},
   "source": [
    "#### Outliers"
   ]
  },
  {
   "cell_type": "code",
   "execution_count": 13,
   "id": "65a0f2c9",
   "metadata": {},
   "outputs": [],
   "source": [
    "# Display format\n",
    "pd.options.display.float_format = '{:,.2f}'.format"
   ]
  },
  {
   "cell_type": "code",
   "execution_count": 17,
   "id": "39e9b00f",
   "metadata": {},
   "outputs": [
    {
     "data": {
      "text/plain": [
       "<seaborn.axisgrid.FacetGrid at 0x7fd2f1452f70>"
      ]
     },
     "execution_count": 17,
     "metadata": {},
     "output_type": "execute_result"
    },
    {
     "data": {
      "text/plain": [
       "<Figure size 432x432 with 0 Axes>"
      ]
     },
     "metadata": {},
     "output_type": "display_data"
    },
    {
     "data": {
      "image/png": "[encoded data removed]",
      "text/plain": [
       "<Figure size 360x360 with 1 Axes>"
      ]
     },
     "metadata": {
      "needs_background": "light"
     },
     "output_type": "display_data"
    }
   ],
   "source": [
    "plt.figure(figsize = (6, 6))\n",
    "\n",
    "sns.displot(x='bedrooms', data=df)"
   ]
  },
  {
   "cell_type": "code",
   "execution_count": 18,
   "id": "df6859a7",
   "metadata": {},
   "outputs": [
    {
     "data": {
      "image/png": "[encoded data removed]",
      "text/plain": [
       "<Figure size 1152x576 with 6 Axes>"
      ]
     },
     "metadata": {
      "needs_background": "light"
     },
     "output_type": "display_data"
    }
   ],
   "source": [
    "plt.figure(figsize = (16,8))\n",
    "\n",
    "# List of columns\n",
    "cols = ['bedrooms', 'bathrooms', 'square_feet','lot_size','assessed_value', 'tax_amount']\n",
    "\n",
    "for i, col in enumerate(cols):\n",
    "    \n",
    "    # i starts at 0, but plot nos should start at 1\n",
    "    plot_number = i + 1 \n",
    "    \n",
    "    # Create subplot.\n",
    "    plt.subplot(1,6, plot_number)\n",
    "    \n",
    "    # Title with column name.\n",
    "    plt.title(col)\n",
    "    \n",
    "    # Display histogram for column.\n",
    "    sns.boxplot(data = df[col])\n"
   ]
  },
  {
   "cell_type": "markdown",
   "id": "e23e7867",
   "metadata": {},
   "source": [
    "#### General rules:\n",
    "\n",
    "lower bound: Q1 – (1.5 * IQR)\n",
    "upper bound: Q3 + (1.5 * IQR)"
   ]
  },
  {
   "cell_type": "markdown",
   "id": "d16ee3b6",
   "metadata": {},
   "source": [
    "##### bedrooms"
   ]
  },
  {
   "cell_type": "code",
   "execution_count": 19,
   "id": "7df2f3bc",
   "metadata": {},
   "outputs": [
    {
     "data": {
      "text/plain": [
       "count   51,956.00\n",
       "mean         3.30\n",
       "std          0.93\n",
       "min          0.00\n",
       "25%          3.00\n",
       "50%          3.00\n",
       "75%          4.00\n",
       "max         11.00\n",
       "Name: bedrooms, dtype: float64"
      ]
     },
     "execution_count": 19,
     "metadata": {},
     "output_type": "execute_result"
    }
   ],
   "source": [
    "df.bedrooms.describe()"
   ]
  },
  {
   "cell_type": "code",
   "execution_count": 20,
   "id": "f75b7b38",
   "metadata": {},
   "outputs": [
    {
     "name": "stdout",
     "output_type": "stream",
     "text": [
      "IQR equals: 1.0\n"
     ]
    }
   ],
   "source": [
    "q1 = np.percentile(df.bedrooms, 25)\n",
    "q3 = np.percentile(df.bedrooms, 75)\n",
    "iqr = q3 - q1\n",
    "print(\"IQR equals: \" + str(iqr))"
   ]
  },
  {
   "cell_type": "code",
   "execution_count": 21,
   "id": "c6fea9ff",
   "metadata": {},
   "outputs": [
    {
     "name": "stdout",
     "output_type": "stream",
     "text": [
      "Upper bond for bedrooms:  6.5\n",
      "Lower bond for bedrooms:  1.0\n"
     ]
    }
   ],
   "source": [
    "print(\"Upper bond for bedrooms: \", q3 + 2.5*iqr)\n",
    "print(\"Lower bond for bedrooms: \", q1 - 2*iqr)"
   ]
  },
  {
   "cell_type": "code",
   "execution_count": 22,
   "id": "5904a213",
   "metadata": {},
   "outputs": [
    {
     "data": {
      "text/plain": [
       "(138, 10)"
      ]
     },
     "execution_count": 22,
     "metadata": {},
     "output_type": "execute_result"
    }
   ],
   "source": [
    "df[df.bedrooms>6.5].shape"
   ]
  },
  {
   "cell_type": "markdown",
   "id": "836881b7",
   "metadata": {},
   "source": [
    "##### bathrooms"
   ]
  },
  {
   "cell_type": "code",
   "execution_count": 23,
   "id": "4213509b",
   "metadata": {},
   "outputs": [
    {
     "data": {
      "text/plain": [
       "count   51,956.00\n",
       "mean         2.30\n",
       "std          1.01\n",
       "min          0.00\n",
       "25%          2.00\n",
       "50%          2.00\n",
       "75%          3.00\n",
       "max         13.00\n",
       "Name: bathrooms, dtype: float64"
      ]
     },
     "execution_count": 23,
     "metadata": {},
     "output_type": "execute_result"
    }
   ],
   "source": [
    "df.bathrooms.describe()"
   ]
  },
  {
   "cell_type": "code",
   "execution_count": 24,
   "id": "ab7c2d18",
   "metadata": {},
   "outputs": [
    {
     "name": "stdout",
     "output_type": "stream",
     "text": [
      "IQR equals: 1.0\n"
     ]
    }
   ],
   "source": [
    "q1 = np.percentile(df.bathrooms, 25)\n",
    "q3 = np.percentile(df.bathrooms, 75)\n",
    "iqr = q3 - q1\n",
    "print(\"IQR equals: \" + str(iqr))"
   ]
  },
  {
   "cell_type": "code",
   "execution_count": 25,
   "id": "e40d52ed",
   "metadata": {
    "scrolled": true
   },
   "outputs": [
    {
     "name": "stdout",
     "output_type": "stream",
     "text": [
      "Upper bond for bedrooms:  6.5\n",
      "Lower bond for bedrooms:  0.5\n"
     ]
    }
   ],
   "source": [
    "print(\"Upper bond for bedrooms: \", q3 + 3.5*iqr)\n",
    "print(\"Lower bond for bedrooms: \", q1 - 1.5*iqr)"
   ]
  },
  {
   "cell_type": "code",
   "execution_count": 26,
   "id": "ef5210d1",
   "metadata": {},
   "outputs": [
    {
     "data": {
      "text/plain": [
       "(178, 10)"
      ]
     },
     "execution_count": 26,
     "metadata": {},
     "output_type": "execute_result"
    }
   ],
   "source": [
    "df[df.bathrooms>6.5].shape"
   ]
  },
  {
   "cell_type": "markdown",
   "id": "bf0b570c",
   "metadata": {},
   "source": [
    "##### square_feet"
   ]
  },
  {
   "cell_type": "code",
   "execution_count": 27,
   "id": "fe0fc438",
   "metadata": {},
   "outputs": [
    {
     "data": {
      "text/plain": [
       "count   51,956.00\n",
       "mean     1,918.27\n",
       "std        994.32\n",
       "min        128.00\n",
       "25%      1,268.00\n",
       "50%      1,657.00\n",
       "75%      2,301.00\n",
       "max     21,929.00\n",
       "Name: square_feet, dtype: float64"
      ]
     },
     "execution_count": 27,
     "metadata": {},
     "output_type": "execute_result"
    }
   ],
   "source": [
    "df.square_feet.describe()"
   ]
  },
  {
   "cell_type": "code",
   "execution_count": 28,
   "id": "2e30e815",
   "metadata": {},
   "outputs": [
    {
     "name": "stdout",
     "output_type": "stream",
     "text": [
      "IQR equals: 1033.0\n"
     ]
    }
   ],
   "source": [
    "q1 = np.percentile(df.square_feet, 25)\n",
    "q3 = np.percentile(df.square_feet, 75)\n",
    "iqr = q3 - q1\n",
    "print(\"IQR equals: \" + str(iqr))"
   ]
  },
  {
   "cell_type": "code",
   "execution_count": 29,
   "id": "297a7b25",
   "metadata": {},
   "outputs": [
    {
     "name": "stdout",
     "output_type": "stream",
     "text": [
      "Upper bond for square_feet:  7982.5\n",
      "Lower bond for square_feet:  493.25\n"
     ]
    }
   ],
   "source": [
    "print(\"Upper bond for square_feet: \", q3 + 5.5*iqr)\n",
    "print(\"Lower bond for square_feet: \", q1 - 0.75*iqr)"
   ]
  },
  {
   "cell_type": "code",
   "execution_count": 30,
   "id": "5045e52e",
   "metadata": {},
   "outputs": [
    {
     "data": {
      "text/plain": [
       "(102, 10)"
      ]
     },
     "execution_count": 30,
     "metadata": {},
     "output_type": "execute_result"
    }
   ],
   "source": [
    "df[df.square_feet>7982].shape"
   ]
  },
  {
   "cell_type": "code",
   "execution_count": 31,
   "id": "2944e498",
   "metadata": {},
   "outputs": [
    {
     "data": {
      "text/plain": [
       "(73, 10)"
      ]
     },
     "execution_count": 31,
     "metadata": {},
     "output_type": "execute_result"
    }
   ],
   "source": [
    "df[df.square_feet<493].shape"
   ]
  },
  {
   "cell_type": "markdown",
   "id": "ca0b23b5",
   "metadata": {},
   "source": [
    "##### lot_size"
   ]
  },
  {
   "cell_type": "code",
   "execution_count": 32,
   "id": "4e5825bc",
   "metadata": {},
   "outputs": [
    {
     "data": {
      "text/plain": [
       "count      51,956.00\n",
       "mean       11,251.78\n",
       "std        86,643.13\n",
       "min           236.00\n",
       "25%         5,581.00\n",
       "50%         6,838.00\n",
       "75%         8,777.00\n",
       "max     6,971,010.00\n",
       "Name: lot_size, dtype: float64"
      ]
     },
     "execution_count": 32,
     "metadata": {},
     "output_type": "execute_result"
    }
   ],
   "source": [
    "df.lot_size.describe()"
   ]
  },
  {
   "cell_type": "code",
   "execution_count": 33,
   "id": "c0926dc3",
   "metadata": {},
   "outputs": [
    {
     "name": "stdout",
     "output_type": "stream",
     "text": [
      "IQR equals: 3196.0\n"
     ]
    }
   ],
   "source": [
    "q1 = np.percentile(df.lot_size, 25)\n",
    "q3 = np.percentile(df.lot_size, 75)\n",
    "iqr = q3 - q1\n",
    "print(\"IQR equals: \" + str(iqr))"
   ]
  },
  {
   "cell_type": "code",
   "execution_count": 34,
   "id": "f12bfe71",
   "metadata": {},
   "outputs": [
    {
     "name": "stdout",
     "output_type": "stream",
     "text": [
      "Upper bond for square_feet:  152597.0\n",
      "Lower bond for square_feet:  787.0\n"
     ]
    }
   ],
   "source": [
    "print(\"Upper bond for square_feet: \", q3 + 45*iqr)\n",
    "print(\"Lower bond for square_feet: \", q1 - 1.5*iqr)"
   ]
  },
  {
   "cell_type": "code",
   "execution_count": 35,
   "id": "716251e3",
   "metadata": {},
   "outputs": [
    {
     "data": {
      "text/plain": [
       "(171, 10)"
      ]
     },
     "execution_count": 35,
     "metadata": {},
     "output_type": "execute_result"
    }
   ],
   "source": [
    "df[df.lot_size>152597].shape"
   ]
  },
  {
   "cell_type": "code",
   "execution_count": 36,
   "id": "3f919d9c",
   "metadata": {},
   "outputs": [
    {
     "data": {
      "text/plain": [
       "(55, 10)"
      ]
     },
     "execution_count": 36,
     "metadata": {},
     "output_type": "execute_result"
    }
   ],
   "source": [
    "df[df.lot_size<787].shape"
   ]
  },
  {
   "cell_type": "markdown",
   "id": "d4caf44d",
   "metadata": {},
   "source": [
    "##### assessed_value"
   ]
  },
  {
   "cell_type": "code",
   "execution_count": 37,
   "id": "ba456a75",
   "metadata": {},
   "outputs": [
    {
     "data": {
      "text/plain": [
       "count       51,956.00\n",
       "mean       525,518.65\n",
       "std        716,429.97\n",
       "min          1,000.00\n",
       "25%        193,478.50\n",
       "50%        372,791.00\n",
       "75%        616,656.25\n",
       "max     25,381,250.00\n",
       "Name: assessed_value, dtype: float64"
      ]
     },
     "execution_count": 37,
     "metadata": {},
     "output_type": "execute_result"
    }
   ],
   "source": [
    "df.assessed_value.describe()"
   ]
  },
  {
   "cell_type": "code",
   "execution_count": 38,
   "id": "c739ac2e",
   "metadata": {},
   "outputs": [
    {
     "name": "stdout",
     "output_type": "stream",
     "text": [
      "IQR equals: 423177.75\n"
     ]
    }
   ],
   "source": [
    "q1 = np.percentile(df.assessed_value, 25)\n",
    "q3 = np.percentile(df.assessed_value, 75)\n",
    "iqr = q3 - q1\n",
    "print(\"IQR equals: \" + str(iqr))"
   ]
  },
  {
   "cell_type": "code",
   "execution_count": 39,
   "id": "f101bd01",
   "metadata": {},
   "outputs": [
    {
     "name": "stdout",
     "output_type": "stream",
     "text": [
      "Upper bond for assessed_value:  2520956.125\n",
      "Lower bond for assessed_value:  45366.287500000006\n"
     ]
    }
   ],
   "source": [
    "print(\"Upper bond for assessed_value: \", q3 + 4.5*iqr)\n",
    "print(\"Lower bond for assessed_value: \", q1 - 0.35 *iqr)"
   ]
  },
  {
   "cell_type": "code",
   "execution_count": 40,
   "id": "08b417dd",
   "metadata": {},
   "outputs": [
    {
     "data": {
      "text/plain": [
       "0.019478019862960966"
      ]
     },
     "execution_count": 40,
     "metadata": {},
     "output_type": "execute_result"
    }
   ],
   "source": [
    "df[df.assessed_value<45366].shape[0]/df.shape[0]"
   ]
  },
  {
   "cell_type": "code",
   "execution_count": 41,
   "id": "ae5a17e6",
   "metadata": {},
   "outputs": [
    {
     "data": {
      "text/plain": [
       "0.016206020478866733"
      ]
     },
     "execution_count": 41,
     "metadata": {},
     "output_type": "execute_result"
    }
   ],
   "source": [
    "df[df.assessed_value>2520956].shape[0]/df.shape[0]"
   ]
  },
  {
   "cell_type": "markdown",
   "id": "a59056ed",
   "metadata": {},
   "source": [
    "##### outliers summary"
   ]
  },
  {
   "cell_type": "code",
   "execution_count": 42,
   "id": "07f715f6",
   "metadata": {},
   "outputs": [],
   "source": [
    "df = df[df.bedrooms <= 6.5]\n",
    "df = df[df.bedrooms >= 1]\n",
    "\n",
    "df = df[df.bathrooms <= 6.5]\n",
    "df = df[df.bathrooms >= 0.5]\n",
    "\n",
    "df = df[df.square_feet <= 7982]\n",
    "df = df[df.square_feet >= 493]\n",
    "\n",
    "df = df[df.lot_size <= 152597]\n",
    "df = df[df.lot_size >= 787]\n",
    "\n",
    "df = df[df.assessed_value <= 2520956]\n",
    "df = df[df.assessed_value >= 45366]"
   ]
  },
  {
   "cell_type": "code",
   "execution_count": 43,
   "id": "0c2874c1",
   "metadata": {
    "scrolled": true
   },
   "outputs": [
    {
     "data": {
      "text/plain": [
       "(49633, 10)"
      ]
     },
     "execution_count": 43,
     "metadata": {},
     "output_type": "execute_result"
    }
   ],
   "source": [
    "df.shape"
   ]
  },
  {
   "cell_type": "markdown",
   "id": "97413ab3",
   "metadata": {},
   "source": [
    "#### Split data"
   ]
  },
  {
   "cell_type": "code",
   "execution_count": 44,
   "id": "3bcd86f6",
   "metadata": {},
   "outputs": [],
   "source": [
    "def split(df):\n",
    "    '''\n",
    "    This function drops the customer_id column and then splits a dataframe into \n",
    "    train, validate, and test in order to explore the data and to create and validate models. \n",
    "    It takes in a dataframe and contains an integer for setting a seed for replication. \n",
    "    Test is 20% of the original dataset. The remaining 80% of the dataset is \n",
    "    divided between valiidate and train, with validate being .30*.80= 24% of \n",
    "    the original dataset, and train being .70*.80= 56% of the original dataset. \n",
    "    The function returns, train, validate and test dataframes. \n",
    "    '''\n",
    "    train, test = train_test_split(df, test_size = .2, random_state=123)   \n",
    "    train, validate = train_test_split(train, test_size=.3, random_state=123)\n",
    "    \n",
    "    return train, validate, test"
   ]
  },
  {
   "cell_type": "code",
   "execution_count": 45,
   "id": "0b4db044",
   "metadata": {},
   "outputs": [],
   "source": [
    "train, validate, test = split(df)"
   ]
  },
  {
   "cell_type": "code",
   "execution_count": 46,
   "id": "1b65b0dc",
   "metadata": {
    "scrolled": true
   },
   "outputs": [
    {
     "data": {
      "text/plain": [
       "((27794, 10), (11912, 10), (9927, 10))"
      ]
     },
     "execution_count": 46,
     "metadata": {},
     "output_type": "execute_result"
    }
   ],
   "source": [
    "train.shape, validate.shape, test.shape"
   ]
  },
  {
   "cell_type": "code",
   "execution_count": null,
   "id": "c4cfd6b3",
   "metadata": {},
   "outputs": [],
   "source": [
    "# Prepare.py functions:\n",
    "\n",
    "def prep_zillow(df):\n",
    "    # Drop outliers\n",
    "    df = df.dropna()\n",
    "    \n",
    "    # Change data type\n",
    "    df['fips_code'] = df['fips_code'].astype(int)\n",
    "    df['year_built'] = df['year_built'].astype(int)\n",
    "    \n",
    "    # Data mapping\n",
    "    df['county'] = df.fips_code.map({6037: 'Los Angeles', 6059: 'Orange', 6111: 'Ventura'})\n",
    "    \n",
    "    # Drop column\n",
    "    df = df.drop(['fips_code'], axis=1)\n",
    "    \n",
    "    # Handle Outliers:\n",
    "    # The general rule for outliers are:\n",
    "    ## Upper bond: Q3 + 1.5*IQR\n",
    "    ## Lower bund: Q1 - 1.5*IQR\n",
    "    # Bonds are manually adjusted for each feature\n",
    "    df = df[df.bedrooms <= 6.5]\n",
    "    df = df[df.bedrooms >= 1]\n",
    "\n",
    "    df = df[df.bathrooms <= 6.5]\n",
    "    df = df[df.bathrooms >= 0.5]\n",
    "\n",
    "    df = df[df.square_feet <= 7982]\n",
    "    df = df[df.square_feet >= 493]\n",
    "\n",
    "    df = df[df.lot_size <= 152597]\n",
    "    df = df[df.lot_size >= 787]\n",
    "\n",
    "    df = df[df.assessed_value <= 2520956]\n",
    "    df = df[df.assessed_value >= 45366]\n",
    "\n",
    "def split(df):\n",
    "    '''\n",
    "    This function drops the customer_id column and then splits a dataframe into \n",
    "    train, validate, and test in order to explore the data and to create and validate models. \n",
    "    It takes in a dataframe and contains an integer for setting a seed for replication. \n",
    "    Test is 20% of the original dataset. The remaining 80% of the dataset is \n",
    "    divided between valiidate and train, with validate being .30*.80= 24% of \n",
    "    the original dataset, and train being .70*.80= 56% of the original dataset. \n",
    "    The function returns, train, validate and test dataframes. \n",
    "    '''\n",
    "    train, test = train_test_split(df, test_size = .2, random_state=123)   \n",
    "    train, validate = train_test_split(train, test_size=.3, random_state=123)\n",
    "    \n",
    "    return train, validate, test"
   ]
  },
  {
   "cell_type": "markdown",
   "id": "4c482adc",
   "metadata": {},
   "source": [
    "## 2. Make sure to perform a train, validate, test split before and use only your train dataset to explore the relationships between independent variables with other independent variables or independent variables with your target variable."
   ]
  },
  {
   "cell_type": "code",
   "execution_count": 47,
   "id": "f869f438",
   "metadata": {},
   "outputs": [
    {
     "data": {
      "text/html": [
       "<div>\n",
       "<style scoped>\n",
       "    .dataframe tbody tr th:only-of-type {\n",
       "        vertical-align: middle;\n",
       "    }\n",
       "\n",
       "    .dataframe tbody tr th {\n",
       "        vertical-align: top;\n",
       "    }\n",
       "\n",
       "    .dataframe thead th {\n",
       "        text-align: right;\n",
       "    }\n",
       "</style>\n",
       "<table border=\"1\" class=\"dataframe\">\n",
       "  <thead>\n",
       "    <tr style=\"text-align: right;\">\n",
       "      <th></th>\n",
       "      <th>latitude</th>\n",
       "      <th>longitude</th>\n",
       "      <th>bedrooms</th>\n",
       "      <th>bathrooms</th>\n",
       "      <th>square_feet</th>\n",
       "      <th>lot_size</th>\n",
       "      <th>year_built</th>\n",
       "      <th>assessed_value</th>\n",
       "      <th>tax_amount</th>\n",
       "      <th>county</th>\n",
       "    </tr>\n",
       "  </thead>\n",
       "  <tbody>\n",
       "    <tr>\n",
       "      <th>37569</th>\n",
       "      <td>33,863,169.00</td>\n",
       "      <td>-118,076,077.00</td>\n",
       "      <td>2.00</td>\n",
       "      <td>1.00</td>\n",
       "      <td>752.00</td>\n",
       "      <td>4,578.00</td>\n",
       "      <td>1945</td>\n",
       "      <td>344,000.00</td>\n",
       "      <td>4,288.63</td>\n",
       "      <td>Los Angeles</td>\n",
       "    </tr>\n",
       "    <tr>\n",
       "      <th>34742</th>\n",
       "      <td>34,229,579.00</td>\n",
       "      <td>-118,605,717.00</td>\n",
       "      <td>4.00</td>\n",
       "      <td>2.00</td>\n",
       "      <td>1,795.00</td>\n",
       "      <td>13,305.00</td>\n",
       "      <td>1963</td>\n",
       "      <td>79,896.00</td>\n",
       "      <td>1,190.07</td>\n",
       "      <td>Los Angeles</td>\n",
       "    </tr>\n",
       "    <tr>\n",
       "      <th>17160</th>\n",
       "      <td>34,137,359.00</td>\n",
       "      <td>-118,406,170.00</td>\n",
       "      <td>3.00</td>\n",
       "      <td>2.00</td>\n",
       "      <td>1,458.00</td>\n",
       "      <td>13,304.00</td>\n",
       "      <td>1950</td>\n",
       "      <td>527,847.00</td>\n",
       "      <td>6,478.29</td>\n",
       "      <td>Los Angeles</td>\n",
       "    </tr>\n",
       "    <tr>\n",
       "      <th>37728</th>\n",
       "      <td>34,311,526.00</td>\n",
       "      <td>-118,421,146.00</td>\n",
       "      <td>3.00</td>\n",
       "      <td>2.00</td>\n",
       "      <td>1,173.00</td>\n",
       "      <td>7,337.00</td>\n",
       "      <td>1957</td>\n",
       "      <td>342,234.00</td>\n",
       "      <td>4,137.93</td>\n",
       "      <td>Los Angeles</td>\n",
       "    </tr>\n",
       "    <tr>\n",
       "      <th>22416</th>\n",
       "      <td>33,554,928.00</td>\n",
       "      <td>-117,631,141.00</td>\n",
       "      <td>3.00</td>\n",
       "      <td>2.50</td>\n",
       "      <td>1,828.00</td>\n",
       "      <td>2,414.00</td>\n",
       "      <td>2002</td>\n",
       "      <td>600,609.00</td>\n",
       "      <td>8,503.78</td>\n",
       "      <td>Orange</td>\n",
       "    </tr>\n",
       "  </tbody>\n",
       "</table>\n",
       "</div>"
      ],
      "text/plain": [
       "           latitude       longitude  bedrooms  bathrooms  square_feet  \\\n",
       "37569 33,863,169.00 -118,076,077.00      2.00       1.00       752.00   \n",
       "34742 34,229,579.00 -118,605,717.00      4.00       2.00     1,795.00   \n",
       "17160 34,137,359.00 -118,406,170.00      3.00       2.00     1,458.00   \n",
       "37728 34,311,526.00 -118,421,146.00      3.00       2.00     1,173.00   \n",
       "22416 33,554,928.00 -117,631,141.00      3.00       2.50     1,828.00   \n",
       "\n",
       "       lot_size  year_built  assessed_value  tax_amount       county  \n",
       "37569  4,578.00        1945      344,000.00    4,288.63  Los Angeles  \n",
       "34742 13,305.00        1963       79,896.00    1,190.07  Los Angeles  \n",
       "17160 13,304.00        1950      527,847.00    6,478.29  Los Angeles  \n",
       "37728  7,337.00        1957      342,234.00    4,137.93  Los Angeles  \n",
       "22416  2,414.00        2002      600,609.00    8,503.78       Orange  "
      ]
     },
     "execution_count": 47,
     "metadata": {},
     "output_type": "execute_result"
    }
   ],
   "source": [
    "train.head()"
   ]
  },
  {
   "cell_type": "markdown",
   "id": "b594cc9a",
   "metadata": {},
   "source": [
    "## 3. Write a function named `plot_variable_pairs` that accepts a dataframe as input and plots all of the pairwise relationships along with the regression line for each pair."
   ]
  },
  {
   "cell_type": "code",
   "execution_count": null,
   "id": "c28c0477",
   "metadata": {},
   "outputs": [],
   "source": [
    "train.head()"
   ]
  },
  {
   "cell_type": "code",
   "execution_count": null,
   "id": "8d4140c8",
   "metadata": {},
   "outputs": [],
   "source": [
    "def plot_variable_pairs(df):\n",
    "    return sns.pairplot(df, corner = True, kind='reg', plot_kws={'line_kws':{'color':'red'}, 'scatter_kws':{'s': 1, 'alpha': 0.5}})"
   ]
  },
  {
   "cell_type": "code",
   "execution_count": null,
   "id": "85c0cd1f",
   "metadata": {},
   "outputs": [],
   "source": [
    "# ploting pairplot\n",
    "plt.figure(figsize= (20,20))\n",
    "sns.pairplot(train, corner = True, kind='reg', plot_kws={'line_kws':{'color':'red'}, 'scatter_kws':{'s': 1, 'alpha': 0.5}})"
   ]
  },
  {
   "cell_type": "markdown",
   "id": "b5672945",
   "metadata": {},
   "source": [
    "## 4. Write a function named `plot_categorical`_and_`continuous_vars` that accepts your dataframe and the name of the columns that hold the continuous and categorical features and outputs 3 different plots for visualizing a categorical variable and a continuous variable."
   ]
  },
  {
   "cell_type": "code",
   "execution_count": null,
   "id": "535881e5",
   "metadata": {},
   "outputs": [],
   "source": [
    "def plot_categorical_vars(df, cols)\n",
    "def plot_continuous_vars\n"
   ]
  },
  {
   "cell_type": "code",
   "execution_count": null,
   "id": "ec66d936",
   "metadata": {},
   "outputs": [],
   "source": [
    "categorical_cols = ['fips_code', 'county_id', 'year_built']\n",
    "continuous_cols = ['latitude','longitude', 'bedrooms', 'bathrooms', 'square_feet', \n",
    "                  'lot_size', 'assessed_value', 'tax_amount']"
   ]
  },
  {
   "cell_type": "code",
   "execution_count": null,
   "id": "87023aac",
   "metadata": {},
   "outputs": [],
   "source": [
    "plt.figure(figsize=(16, 3))\n",
    "\n",
    "for i, col in enumerate(categorical_cols):\n",
    "    \n",
    "    # i starts at 0, but plot nos should start at 1\n",
    "    plot_number = i + 1\n",
    "    \n",
    "    # Create subplot.\n",
    "    # plt.subplot(row X col, where?)\n",
    "    plt.subplot(1,3,plot_number)\n",
    "    \n",
    "    # Title with column name.\n",
    "    plt.title(col)\n",
    "    \n",
    "    # Display histogram for column.\n",
    "    train[col].hist(bins=5, edgecolor='black')\n",
    "    \n",
    "    # Hide gridlines.\n",
    "    plt.grid(False)"
   ]
  },
  {
   "cell_type": "markdown",
   "id": "5e53de28",
   "metadata": {},
   "source": []
  },
  {
   "cell_type": "markdown",
   "id": "5ffc2a69",
   "metadata": {},
   "source": [
    "## 5. Save the functions you have written to create visualizations in your explore.py file. Rewrite your notebook code so that you are using the functions imported from this file."
   ]
  },
  {
   "cell_type": "markdown",
   "id": "051e842c",
   "metadata": {},
   "source": [
    "## 6. Use the functions you created above to explore your Zillow train dataset in your explore.ipynb notebook."
   ]
  },
  {
   "cell_type": "markdown",
   "id": "13b1d2a9",
   "metadata": {},
   "source": [
    "## 7. Come up with some initial hypotheses based on your goal of predicting property value."
   ]
  },
  {
   "cell_type": "markdown",
   "id": "b22fe5f7",
   "metadata": {},
   "source": [
    "## 8. Visualize all combinations of variables in some way."
   ]
  },
  {
   "cell_type": "markdown",
   "id": "0ed9524c",
   "metadata": {},
   "source": [
    "## 9. Run the appropriate statistical tests where needed."
   ]
  },
  {
   "cell_type": "markdown",
   "id": "aa0a505e",
   "metadata": {},
   "source": [
    "## 10. What independent variables are correlated with the dependent variable, home value?"
   ]
  },
  {
   "cell_type": "markdown",
   "id": "6a660d69",
   "metadata": {},
   "source": [
    "## 11. Which independent variables are correlated with other independent variables (bedrooms, bathrooms, year built, square feet)?"
   ]
  },
  {
   "cell_type": "markdown",
   "id": "b5498713",
   "metadata": {},
   "source": [
    "## 12. Make sure to document your takeaways from visualizations and statistical tests as well as the decisions you make throughout your process."
   ]
  },
  {
   "cell_type": "markdown",
   "id": "71b620dd",
   "metadata": {},
   "source": [
    "## 13. Explore your dataset with any other visualizations you think will be helpful."
   ]
  },
  {
   "cell_type": "code",
   "execution_count": null,
   "id": "c072b9d6",
   "metadata": {},
   "outputs": [],
   "source": []
  }
 ],
 "metadata": {
  "kernelspec": {
   "display_name": "Python 3 (ipykernel)",
   "language": "python",
   "name": "python3"
  },
  "language_info": {
   "codemirror_mode": {
    "name": "ipython",
    "version": 3
   },
   "file_extension": ".py",
   "mimetype": "text/x-python",
   "name": "python",
   "nbconvert_exporter": "python",
   "pygments_lexer": "ipython3",
   "version": "3.9.12"
  }
 },
 "nbformat": 4,
 "nbformat_minor": 5
}
