{
 "cells": [
  {
   "cell_type": "markdown",
   "id": "95c7e272",
   "metadata": {},
   "source": [
    "# Regression Evaluation Exercises\n",
    "Do you work for this exercise in either a jupyter notebook named evaluate within your regression-exercises repository. By the end of this exercise you will also create a python script named evaluate, so the overall deliverables for this exercise are the python script and jupyter notebook both with the name evaluate within your regression-exercises repo."
   ]
  },
  {
   "cell_type": "markdown",
   "id": "2286fa99",
   "metadata": {},
   "source": [
    "## 1. Load your zillow dataset."
   ]
  },
  {
   "cell_type": "code",
   "execution_count": 1,
   "id": "394542c3",
   "metadata": {},
   "outputs": [],
   "source": [
    "import pandas as pd\n",
    "import numpy as np\n",
    "import matplotlib.pyplot as plt\n",
    "import seaborn as sns\n",
    "from scipy import stats\n",
    "from sklearn.metrics import mean_squared_error, r2_score\n",
    "from sklearn.linear_model import LinearRegression\n",
    "from sklearn.feature_selection import f_regression \n",
    "from math import sqrt\n",
    "import prepare\n",
    "import acquire\n",
    "import warnings\n",
    "warnings.filterwarnings('ignore')"
   ]
  },
  {
   "cell_type": "code",
   "execution_count": 2,
   "id": "ed804b40",
   "metadata": {},
   "outputs": [],
   "source": [
    "rawdf = acquire.get_zillow_data()"
   ]
  },
  {
   "cell_type": "code",
   "execution_count": 3,
   "id": "85404609",
   "metadata": {},
   "outputs": [
    {
     "data": {
      "text/html": [
       "<div>\n",
       "<style scoped>\n",
       "    .dataframe tbody tr th:only-of-type {\n",
       "        vertical-align: middle;\n",
       "    }\n",
       "\n",
       "    .dataframe tbody tr th {\n",
       "        vertical-align: top;\n",
       "    }\n",
       "\n",
       "    .dataframe thead th {\n",
       "        text-align: right;\n",
       "    }\n",
       "</style>\n",
       "<table border=\"1\" class=\"dataframe\">\n",
       "  <thead>\n",
       "    <tr style=\"text-align: right;\">\n",
       "      <th></th>\n",
       "      <th>latitude</th>\n",
       "      <th>longitude</th>\n",
       "      <th>bedrooms</th>\n",
       "      <th>bathrooms</th>\n",
       "      <th>square_feet</th>\n",
       "      <th>lot_size</th>\n",
       "      <th>fips_code</th>\n",
       "      <th>year_built</th>\n",
       "      <th>assessed_value</th>\n",
       "      <th>tax_amount</th>\n",
       "    </tr>\n",
       "  </thead>\n",
       "  <tbody>\n",
       "    <tr>\n",
       "      <th>0</th>\n",
       "      <td>34184517.0</td>\n",
       "      <td>-118221043.0</td>\n",
       "      <td>3.0</td>\n",
       "      <td>3.0</td>\n",
       "      <td>2538.0</td>\n",
       "      <td>39238.0</td>\n",
       "      <td>6037.0</td>\n",
       "      <td>1966.0</td>\n",
       "      <td>878288.0</td>\n",
       "      <td>9635.37</td>\n",
       "    </tr>\n",
       "    <tr>\n",
       "      <th>1</th>\n",
       "      <td>33644714.0</td>\n",
       "      <td>-117616376.0</td>\n",
       "      <td>4.0</td>\n",
       "      <td>2.5</td>\n",
       "      <td>2761.0</td>\n",
       "      <td>5800.0</td>\n",
       "      <td>6059.0</td>\n",
       "      <td>1998.0</td>\n",
       "      <td>556255.0</td>\n",
       "      <td>8381.04</td>\n",
       "    </tr>\n",
       "    <tr>\n",
       "      <th>2</th>\n",
       "      <td>34262618.0</td>\n",
       "      <td>-118737528.0</td>\n",
       "      <td>3.0</td>\n",
       "      <td>2.5</td>\n",
       "      <td>1371.0</td>\n",
       "      <td>4321.0</td>\n",
       "      <td>6111.0</td>\n",
       "      <td>2012.0</td>\n",
       "      <td>404542.0</td>\n",
       "      <td>4705.74</td>\n",
       "    </tr>\n",
       "    <tr>\n",
       "      <th>3</th>\n",
       "      <td>34181076.0</td>\n",
       "      <td>-118336609.0</td>\n",
       "      <td>3.0</td>\n",
       "      <td>2.0</td>\n",
       "      <td>1676.0</td>\n",
       "      <td>7025.0</td>\n",
       "      <td>6037.0</td>\n",
       "      <td>1940.0</td>\n",
       "      <td>283892.0</td>\n",
       "      <td>3151.85</td>\n",
       "    </tr>\n",
       "    <tr>\n",
       "      <th>4</th>\n",
       "      <td>33814856.0</td>\n",
       "      <td>-118294446.0</td>\n",
       "      <td>4.0</td>\n",
       "      <td>3.0</td>\n",
       "      <td>2352.0</td>\n",
       "      <td>5398.0</td>\n",
       "      <td>6037.0</td>\n",
       "      <td>1989.0</td>\n",
       "      <td>293034.0</td>\n",
       "      <td>3839.25</td>\n",
       "    </tr>\n",
       "  </tbody>\n",
       "</table>\n",
       "</div>"
      ],
      "text/plain": [
       "     latitude    longitude  bedrooms  bathrooms  square_feet  lot_size  \\\n",
       "0  34184517.0 -118221043.0       3.0        3.0       2538.0   39238.0   \n",
       "1  33644714.0 -117616376.0       4.0        2.5       2761.0    5800.0   \n",
       "2  34262618.0 -118737528.0       3.0        2.5       1371.0    4321.0   \n",
       "3  34181076.0 -118336609.0       3.0        2.0       1676.0    7025.0   \n",
       "4  33814856.0 -118294446.0       4.0        3.0       2352.0    5398.0   \n",
       "\n",
       "   fips_code  year_built  assessed_value  tax_amount  \n",
       "0     6037.0      1966.0        878288.0     9635.37  \n",
       "1     6059.0      1998.0        556255.0     8381.04  \n",
       "2     6111.0      2012.0        404542.0     4705.74  \n",
       "3     6037.0      1940.0        283892.0     3151.85  \n",
       "4     6037.0      1989.0        293034.0     3839.25  "
      ]
     },
     "execution_count": 3,
     "metadata": {},
     "output_type": "execute_result"
    }
   ],
   "source": [
    "rawdf.head()"
   ]
  },
  {
   "cell_type": "code",
   "execution_count": 4,
   "id": "433efe8a",
   "metadata": {},
   "outputs": [],
   "source": [
    "df = prepare.prep_zillow(rawdf)"
   ]
  },
  {
   "cell_type": "code",
   "execution_count": 5,
   "id": "a49ba7e1",
   "metadata": {},
   "outputs": [
    {
     "data": {
      "text/html": [
       "<div>\n",
       "<style scoped>\n",
       "    .dataframe tbody tr th:only-of-type {\n",
       "        vertical-align: middle;\n",
       "    }\n",
       "\n",
       "    .dataframe tbody tr th {\n",
       "        vertical-align: top;\n",
       "    }\n",
       "\n",
       "    .dataframe thead th {\n",
       "        text-align: right;\n",
       "    }\n",
       "</style>\n",
       "<table border=\"1\" class=\"dataframe\">\n",
       "  <thead>\n",
       "    <tr style=\"text-align: right;\">\n",
       "      <th></th>\n",
       "      <th>latitude</th>\n",
       "      <th>longitude</th>\n",
       "      <th>bedrooms</th>\n",
       "      <th>bathrooms</th>\n",
       "      <th>square_feet</th>\n",
       "      <th>lot_size</th>\n",
       "      <th>year_built</th>\n",
       "      <th>assessed_value</th>\n",
       "      <th>tax_amount</th>\n",
       "      <th>county</th>\n",
       "    </tr>\n",
       "  </thead>\n",
       "  <tbody>\n",
       "    <tr>\n",
       "      <th>0</th>\n",
       "      <td>34184517.0</td>\n",
       "      <td>-118221043.0</td>\n",
       "      <td>3.0</td>\n",
       "      <td>3.0</td>\n",
       "      <td>2538.0</td>\n",
       "      <td>39238.0</td>\n",
       "      <td>1966</td>\n",
       "      <td>878288.0</td>\n",
       "      <td>9635.37</td>\n",
       "      <td>Los Angeles</td>\n",
       "    </tr>\n",
       "    <tr>\n",
       "      <th>1</th>\n",
       "      <td>33644714.0</td>\n",
       "      <td>-117616376.0</td>\n",
       "      <td>4.0</td>\n",
       "      <td>2.5</td>\n",
       "      <td>2761.0</td>\n",
       "      <td>5800.0</td>\n",
       "      <td>1998</td>\n",
       "      <td>556255.0</td>\n",
       "      <td>8381.04</td>\n",
       "      <td>Orange</td>\n",
       "    </tr>\n",
       "    <tr>\n",
       "      <th>2</th>\n",
       "      <td>34262618.0</td>\n",
       "      <td>-118737528.0</td>\n",
       "      <td>3.0</td>\n",
       "      <td>2.5</td>\n",
       "      <td>1371.0</td>\n",
       "      <td>4321.0</td>\n",
       "      <td>2012</td>\n",
       "      <td>404542.0</td>\n",
       "      <td>4705.74</td>\n",
       "      <td>Ventura</td>\n",
       "    </tr>\n",
       "    <tr>\n",
       "      <th>3</th>\n",
       "      <td>34181076.0</td>\n",
       "      <td>-118336609.0</td>\n",
       "      <td>3.0</td>\n",
       "      <td>2.0</td>\n",
       "      <td>1676.0</td>\n",
       "      <td>7025.0</td>\n",
       "      <td>1940</td>\n",
       "      <td>283892.0</td>\n",
       "      <td>3151.85</td>\n",
       "      <td>Los Angeles</td>\n",
       "    </tr>\n",
       "    <tr>\n",
       "      <th>4</th>\n",
       "      <td>33814856.0</td>\n",
       "      <td>-118294446.0</td>\n",
       "      <td>4.0</td>\n",
       "      <td>3.0</td>\n",
       "      <td>2352.0</td>\n",
       "      <td>5398.0</td>\n",
       "      <td>1989</td>\n",
       "      <td>293034.0</td>\n",
       "      <td>3839.25</td>\n",
       "      <td>Los Angeles</td>\n",
       "    </tr>\n",
       "  </tbody>\n",
       "</table>\n",
       "</div>"
      ],
      "text/plain": [
       "     latitude    longitude  bedrooms  bathrooms  square_feet  lot_size  \\\n",
       "0  34184517.0 -118221043.0       3.0        3.0       2538.0   39238.0   \n",
       "1  33644714.0 -117616376.0       4.0        2.5       2761.0    5800.0   \n",
       "2  34262618.0 -118737528.0       3.0        2.5       1371.0    4321.0   \n",
       "3  34181076.0 -118336609.0       3.0        2.0       1676.0    7025.0   \n",
       "4  33814856.0 -118294446.0       4.0        3.0       2352.0    5398.0   \n",
       "\n",
       "   year_built  assessed_value  tax_amount       county  \n",
       "0        1966        878288.0     9635.37  Los Angeles  \n",
       "1        1998        556255.0     8381.04       Orange  \n",
       "2        2012        404542.0     4705.74      Ventura  \n",
       "3        1940        283892.0     3151.85  Los Angeles  \n",
       "4        1989        293034.0     3839.25  Los Angeles  "
      ]
     },
     "execution_count": 5,
     "metadata": {},
     "output_type": "execute_result"
    }
   ],
   "source": [
    "df.head()"
   ]
  },
  {
   "cell_type": "code",
   "execution_count": 6,
   "id": "db33c4c8",
   "metadata": {},
   "outputs": [],
   "source": [
    "train, validate, test = prepare.split(df)"
   ]
  },
  {
   "cell_type": "markdown",
   "id": "60a30602",
   "metadata": {},
   "source": [
    "## 2. Fit a linear regression model (ordinary least squares) and compute yhat, predictions of `taxvaluedollarcnt` using only calfulatedfinishedsqft."
   ]
  },
  {
   "cell_type": "code",
   "execution_count": 10,
   "id": "1a737f7b",
   "metadata": {},
   "outputs": [
    {
     "data": {
      "text/plain": [
       "37569     752.0\n",
       "34742    1795.0\n",
       "17160    1458.0\n",
       "37728    1173.0\n",
       "22416    1828.0\n",
       "          ...  \n",
       "14172    2724.0\n",
       "34628    1278.0\n",
       "14040    2826.0\n",
       "13817    1274.0\n",
       "52025    2039.0\n",
       "Name: square_feet, Length: 27794, dtype: float64"
      ]
     },
     "execution_count": 10,
     "metadata": {},
     "output_type": "execute_result"
    }
   ],
   "source": [
    "train.square_feet"
   ]
  },
  {
   "cell_type": "code",
   "execution_count": 14,
   "id": "a1a5a026",
   "metadata": {},
   "outputs": [
    {
     "data": {
      "text/html": [
       "<div>\n",
       "<style scoped>\n",
       "    .dataframe tbody tr th:only-of-type {\n",
       "        vertical-align: middle;\n",
       "    }\n",
       "\n",
       "    .dataframe tbody tr th {\n",
       "        vertical-align: top;\n",
       "    }\n",
       "\n",
       "    .dataframe thead th {\n",
       "        text-align: right;\n",
       "    }\n",
       "</style>\n",
       "<table border=\"1\" class=\"dataframe\">\n",
       "  <thead>\n",
       "    <tr style=\"text-align: right;\">\n",
       "      <th></th>\n",
       "      <th>square_feet</th>\n",
       "    </tr>\n",
       "  </thead>\n",
       "  <tbody>\n",
       "    <tr>\n",
       "      <th>37569</th>\n",
       "      <td>752.0</td>\n",
       "    </tr>\n",
       "    <tr>\n",
       "      <th>34742</th>\n",
       "      <td>1795.0</td>\n",
       "    </tr>\n",
       "    <tr>\n",
       "      <th>17160</th>\n",
       "      <td>1458.0</td>\n",
       "    </tr>\n",
       "    <tr>\n",
       "      <th>37728</th>\n",
       "      <td>1173.0</td>\n",
       "    </tr>\n",
       "    <tr>\n",
       "      <th>22416</th>\n",
       "      <td>1828.0</td>\n",
       "    </tr>\n",
       "    <tr>\n",
       "      <th>...</th>\n",
       "      <td>...</td>\n",
       "    </tr>\n",
       "    <tr>\n",
       "      <th>14172</th>\n",
       "      <td>2724.0</td>\n",
       "    </tr>\n",
       "    <tr>\n",
       "      <th>34628</th>\n",
       "      <td>1278.0</td>\n",
       "    </tr>\n",
       "    <tr>\n",
       "      <th>14040</th>\n",
       "      <td>2826.0</td>\n",
       "    </tr>\n",
       "    <tr>\n",
       "      <th>13817</th>\n",
       "      <td>1274.0</td>\n",
       "    </tr>\n",
       "    <tr>\n",
       "      <th>52025</th>\n",
       "      <td>2039.0</td>\n",
       "    </tr>\n",
       "  </tbody>\n",
       "</table>\n",
       "<p>27794 rows × 1 columns</p>\n",
       "</div>"
      ],
      "text/plain": [
       "       square_feet\n",
       "37569        752.0\n",
       "34742       1795.0\n",
       "17160       1458.0\n",
       "37728       1173.0\n",
       "22416       1828.0\n",
       "...            ...\n",
       "14172       2724.0\n",
       "34628       1278.0\n",
       "14040       2826.0\n",
       "13817       1274.0\n",
       "52025       2039.0\n",
       "\n",
       "[27794 rows x 1 columns]"
      ]
     },
     "execution_count": 14,
     "metadata": {},
     "output_type": "execute_result"
    }
   ],
   "source": [
    "train[['square_feet']]"
   ]
  },
  {
   "cell_type": "code",
   "execution_count": 12,
   "id": "e5d27570",
   "metadata": {
    "scrolled": true
   },
   "outputs": [
    {
     "data": {
      "text/html": [
       "<div>\n",
       "<style scoped>\n",
       "    .dataframe tbody tr th:only-of-type {\n",
       "        vertical-align: middle;\n",
       "    }\n",
       "\n",
       "    .dataframe tbody tr th {\n",
       "        vertical-align: top;\n",
       "    }\n",
       "\n",
       "    .dataframe thead th {\n",
       "        text-align: right;\n",
       "    }\n",
       "</style>\n",
       "<table border=\"1\" class=\"dataframe\">\n",
       "  <thead>\n",
       "    <tr style=\"text-align: right;\">\n",
       "      <th></th>\n",
       "      <th>latitude</th>\n",
       "      <th>longitude</th>\n",
       "      <th>bedrooms</th>\n",
       "      <th>bathrooms</th>\n",
       "      <th>square_feet</th>\n",
       "      <th>lot_size</th>\n",
       "      <th>year_built</th>\n",
       "      <th>assessed_value</th>\n",
       "      <th>tax_amount</th>\n",
       "      <th>county</th>\n",
       "      <th>yhat</th>\n",
       "    </tr>\n",
       "  </thead>\n",
       "  <tbody>\n",
       "    <tr>\n",
       "      <th>37569</th>\n",
       "      <td>33863169.0</td>\n",
       "      <td>-118076077.0</td>\n",
       "      <td>2.0</td>\n",
       "      <td>1.0</td>\n",
       "      <td>752.0</td>\n",
       "      <td>4578.0</td>\n",
       "      <td>1945</td>\n",
       "      <td>344000.0</td>\n",
       "      <td>4288.63</td>\n",
       "      <td>Los Angeles</td>\n",
       "      <td>167217.134941</td>\n",
       "    </tr>\n",
       "    <tr>\n",
       "      <th>34742</th>\n",
       "      <td>34229579.0</td>\n",
       "      <td>-118605717.0</td>\n",
       "      <td>4.0</td>\n",
       "      <td>2.0</td>\n",
       "      <td>1795.0</td>\n",
       "      <td>13305.0</td>\n",
       "      <td>1963</td>\n",
       "      <td>79896.0</td>\n",
       "      <td>1190.07</td>\n",
       "      <td>Los Angeles</td>\n",
       "      <td>449021.085137</td>\n",
       "    </tr>\n",
       "    <tr>\n",
       "      <th>17160</th>\n",
       "      <td>34137359.0</td>\n",
       "      <td>-118406170.0</td>\n",
       "      <td>3.0</td>\n",
       "      <td>2.0</td>\n",
       "      <td>1458.0</td>\n",
       "      <td>13304.0</td>\n",
       "      <td>1950</td>\n",
       "      <td>527847.0</td>\n",
       "      <td>6478.29</td>\n",
       "      <td>Los Angeles</td>\n",
       "      <td>357968.418583</td>\n",
       "    </tr>\n",
       "    <tr>\n",
       "      <th>37728</th>\n",
       "      <td>34311526.0</td>\n",
       "      <td>-118421146.0</td>\n",
       "      <td>3.0</td>\n",
       "      <td>2.0</td>\n",
       "      <td>1173.0</td>\n",
       "      <td>7337.0</td>\n",
       "      <td>1957</td>\n",
       "      <td>342234.0</td>\n",
       "      <td>4137.93</td>\n",
       "      <td>Los Angeles</td>\n",
       "      <td>280965.421645</td>\n",
       "    </tr>\n",
       "    <tr>\n",
       "      <th>22416</th>\n",
       "      <td>33554928.0</td>\n",
       "      <td>-117631141.0</td>\n",
       "      <td>3.0</td>\n",
       "      <td>2.5</td>\n",
       "      <td>1828.0</td>\n",
       "      <td>2414.0</td>\n",
       "      <td>2002</td>\n",
       "      <td>600609.0</td>\n",
       "      <td>8503.78</td>\n",
       "      <td>Orange</td>\n",
       "      <td>457937.221625</td>\n",
       "    </tr>\n",
       "  </tbody>\n",
       "</table>\n",
       "</div>"
      ],
      "text/plain": [
       "         latitude    longitude  bedrooms  bathrooms  square_feet  lot_size  \\\n",
       "37569  33863169.0 -118076077.0       2.0        1.0        752.0    4578.0   \n",
       "34742  34229579.0 -118605717.0       4.0        2.0       1795.0   13305.0   \n",
       "17160  34137359.0 -118406170.0       3.0        2.0       1458.0   13304.0   \n",
       "37728  34311526.0 -118421146.0       3.0        2.0       1173.0    7337.0   \n",
       "22416  33554928.0 -117631141.0       3.0        2.5       1828.0    2414.0   \n",
       "\n",
       "       year_built  assessed_value  tax_amount       county           yhat  \n",
       "37569        1945        344000.0     4288.63  Los Angeles  167217.134941  \n",
       "34742        1963         79896.0     1190.07  Los Angeles  449021.085137  \n",
       "17160        1950        527847.0     6478.29  Los Angeles  357968.418583  \n",
       "37728        1957        342234.0     4137.93  Los Angeles  280965.421645  \n",
       "22416        2002        600609.0     8503.78       Orange  457937.221625  "
      ]
     },
     "execution_count": 12,
     "metadata": {},
     "output_type": "execute_result"
    }
   ],
   "source": [
    "# Fit a regression model using OLS method.\n",
    "# OLS = ordinary least squares.\n",
    "\n",
    "# create the model object\n",
    "lm = LinearRegression(normalize=True)\n",
    "\n",
    "# fit the model to training data\n",
    "lm.fit(train[['square_feet']], train.assessed_value)\n",
    "\n",
    "# make prediction\n",
    "train['yhat'] = lm.predict(train[['square_feet']])\n",
    "\n",
    "train.head()"
   ]
  },
  {
   "cell_type": "markdown",
   "id": "3555520e",
   "metadata": {},
   "source": [
    "#### Baseline Prediction"
   ]
  },
  {
   "cell_type": "code",
   "execution_count": 21,
   "id": "9770330e",
   "metadata": {},
   "outputs": [],
   "source": [
    "train['baseline'] = train['assessed_value'].mean()"
   ]
  },
  {
   "cell_type": "markdown",
   "id": "6947de33",
   "metadata": {},
   "source": [
    "## 3. Plot the residuals for the linear regression model that you made."
   ]
  },
  {
   "cell_type": "code",
   "execution_count": 15,
   "id": "201b7c74",
   "metadata": {},
   "outputs": [],
   "source": [
    "train['residual'] = train.assessed_value - train.yhat"
   ]
  },
  {
   "cell_type": "code",
   "execution_count": 22,
   "id": "d1c25fb2",
   "metadata": {},
   "outputs": [],
   "source": [
    "train['baseline_residual'] = train.assessed_value - train.baseline"
   ]
  },
  {
   "cell_type": "code",
   "execution_count": 25,
   "id": "1f6193e7",
   "metadata": {},
   "outputs": [
    {
     "data": {
      "text/plain": [
       "Text(0.5, 1.0, 'OLS model residuals')"
      ]
     },
     "execution_count": 25,
     "metadata": {},
     "output_type": "execute_result"
    },
    {
     "data": {
      "image/png": "[encoded data removed]",
      "text/plain": [
       "<Figure size 1152x648 with 2 Axes>"
      ]
     },
     "metadata": {
      "needs_background": "light"
     },
     "output_type": "display_data"
    }
   ],
   "source": [
    "plt.figure(figsize = (16,9))\n",
    "plt.subplot(121)\n",
    "plt.scatter(train.square_feet, train.baseline_residual)\n",
    "plt.axhline(y = 0, ls = ':')\n",
    "plt.xlabel('square_feet')\n",
    "plt.ylabel('baseline_residual')\n",
    "plt.title('OLS model residuals')\n",
    "\n",
    "plt.subplot(122)\n",
    "plt.scatter(train.square_feet, train.residual)\n",
    "plt.axhline(y = 0, ls = ':')\n",
    "plt.xlabel('square_feet')\n",
    "plt.ylabel('residual')\n",
    "plt.title('OLS model residuals')"
   ]
  },
  {
   "cell_type": "markdown",
   "id": "c68d3f80",
   "metadata": {},
   "source": [
    "## 4. Calculate the sum of squared errors, explained sum of squares, total sum of squares, mean squared error, and root mean squared error for your model."
   ]
  },
  {
   "cell_type": "code",
   "execution_count": 51,
   "id": "2e0fe3b1",
   "metadata": {},
   "outputs": [],
   "source": [
    "train['residual^2'] = train.residual**2\n",
    "train['baseline_residual^2'] = train.baseline_residual**2"
   ]
  },
  {
   "cell_type": "code",
   "execution_count": 52,
   "id": "2d45762a",
   "metadata": {},
   "outputs": [
    {
     "name": "stdout",
     "output_type": "stream",
     "text": [
      "SSE = 2825798316298312.0\n"
     ]
    }
   ],
   "source": [
    "SSE = train['residual^2'].sum()\n",
    "print('SSE =', \"{:.1f}\".format(SSE))"
   ]
  },
  {
   "cell_type": "code",
   "execution_count": 53,
   "id": "8ad7302b",
   "metadata": {},
   "outputs": [],
   "source": [
    "MSE = SSE/train.shape[0]"
   ]
  },
  {
   "cell_type": "code",
   "execution_count": 54,
   "id": "a5176449",
   "metadata": {},
   "outputs": [
    {
     "name": "stdout",
     "output_type": "stream",
     "text": [
      "MSE = 101669364477.9\n"
     ]
    }
   ],
   "source": [
    "MSE = mean_squared_error(train.assessed_value, train.yhat)\n",
    "print('MSE =', \"{:.1f}\".format(MSE))"
   ]
  },
  {
   "cell_type": "code",
   "execution_count": 55,
   "id": "072bfe69",
   "metadata": {},
   "outputs": [
    {
     "name": "stdout",
     "output_type": "stream",
     "text": [
      "RMSE = 318856.3\n"
     ]
    }
   ],
   "source": [
    "RMSE = mean_squared_error(train.assessed_value, train.yhat, squared = False)\n",
    "print('RMSE =', \"{:.1f}\".format(RMSE))"
   ]
  },
  {
   "cell_type": "code",
   "execution_count": 56,
   "id": "8f190cd5",
   "metadata": {},
   "outputs": [],
   "source": [
    "TSS = SSE_baseline = train['baseline_residual^2'].sum()"
   ]
  },
  {
   "cell_type": "code",
   "execution_count": 57,
   "id": "c7b74009",
   "metadata": {},
   "outputs": [
    {
     "data": {
      "text/plain": [
       "1427508860715305.5"
      ]
     },
     "execution_count": 57,
     "metadata": {},
     "output_type": "execute_result"
    }
   ],
   "source": [
    "ESS = TSS - SSE\n",
    "ESS"
   ]
  },
  {
   "cell_type": "markdown",
   "id": "a06312d0",
   "metadata": {},
   "source": [
    "## 5. Calculate the sum of squared errors, mean squared error, and root mean squared error for the baseline model (i.e. a model that always predicts the average taxvaluedollarcnt amount)."
   ]
  },
  {
   "cell_type": "code",
   "execution_count": 45,
   "id": "d7ee5e7b",
   "metadata": {},
   "outputs": [
    {
     "name": "stdout",
     "output_type": "stream",
     "text": [
      "Basline SSE = 4253307177013617.5\n"
     ]
    }
   ],
   "source": [
    "# Baseline:\n",
    "baseline_SSE = train['baseline_residual^2'].sum()\n",
    "print('Basline SSE =', \"{:.1f}\".format(baseline_SSE))"
   ]
  },
  {
   "cell_type": "code",
   "execution_count": 46,
   "id": "8bc4b895",
   "metadata": {},
   "outputs": [
    {
     "name": "stdout",
     "output_type": "stream",
     "text": [
      "MSE = 153029689034.1\n"
     ]
    }
   ],
   "source": [
    "baseline_MSE = mean_squared_error(train.assessed_value, train.baseline)\n",
    "print('MSE =', \"{:.1f}\".format(baseline_MSE))"
   ]
  },
  {
   "cell_type": "code",
   "execution_count": 48,
   "id": "ce4a1296",
   "metadata": {},
   "outputs": [
    {
     "name": "stdout",
     "output_type": "stream",
     "text": [
      "RMSE = 391190.1\n"
     ]
    }
   ],
   "source": [
    "baseline_RMSE = mean_squared_error(train.assessed_value, train.baseline, squared = False)\n",
    "print('RMSE =', \"{:.1f}\".format(baseline_RMSE))"
   ]
  },
  {
   "cell_type": "markdown",
   "id": "c1bfebab",
   "metadata": {},
   "source": [
    "## 6. Write python code that compares the sum of squared errors for your model against the sum of squared errors for the baseline model and outputs whether or not your model performs better than the baseline model."
   ]
  },
  {
   "cell_type": "code",
   "execution_count": 58,
   "id": "002aa820",
   "metadata": {},
   "outputs": [
    {
     "name": "stdout",
     "output_type": "stream",
     "text": [
      "model performs better than baseline model\n"
     ]
    }
   ],
   "source": [
    "if SSE < baseline_SSE:\n",
    "    print('model performs better than baseline model')\n",
    "else:\n",
    "    print('model does not perform better than baseline model')"
   ]
  },
  {
   "cell_type": "markdown",
   "id": "4094166b",
   "metadata": {},
   "source": [
    "## 7. What is the amount of variance explained in your model?"
   ]
  },
  {
   "cell_type": "code",
   "execution_count": 61,
   "id": "d4b9c18e",
   "metadata": {
    "scrolled": true
   },
   "outputs": [
    {
     "name": "stdout",
     "output_type": "stream",
     "text": [
      "Explained variance in model 0.34\n"
     ]
    }
   ],
   "source": [
    "R2 = ESS/TSS\n",
    "print('Explained variance in model', \"{:.2f}\".format(R2))"
   ]
  },
  {
   "cell_type": "markdown",
   "id": "08369e00",
   "metadata": {},
   "source": [
    "## 8. Is your model better than the baseline model?"
   ]
  },
  {
   "cell_type": "code",
   "execution_count": 62,
   "id": "3ba35df9",
   "metadata": {},
   "outputs": [],
   "source": [
    "# Yes"
   ]
  },
  {
   "cell_type": "markdown",
   "id": "8893e1be",
   "metadata": {},
   "source": [
    "## 9. Create a file named evaluate.py that contains the following functions."
   ]
  },
  {
   "cell_type": "markdown",
   "id": "f853e291",
   "metadata": {},
   "source": [
    "### `plot_residuals(y, yhat)`: creates a residual plot"
   ]
  },
  {
   "cell_type": "code",
   "execution_count": null,
   "id": "e59fc4c9",
   "metadata": {},
   "outputs": [],
   "source": [
    "def plot_residuals(y, yhat):\n",
    "    plt.figure(figsize = (6,6))\n",
    "    plt.scatter(train.square_feet, train.residual)\n",
    "    plt.axhline(y = 0, ls = ':')\n",
    "    plt.xlabel('square_feet')\n",
    "    plt.ylabel('residual')\n",
    "    plt.title('OLS model residuals')"
   ]
  },
  {
   "cell_type": "markdown",
   "id": "c1f5444f",
   "metadata": {},
   "source": [
    "### `regression_errors(y, yhat)`: returns the following values:\n",
    "- sum of squared errors (SSE)\n",
    "- explained sum of squares (ESS)\n",
    "- total sum of squares (TSS)\n",
    "- mean squared error (MSE)\n",
    "- root mean squared error (RMSE)\n"
   ]
  },
  {
   "cell_type": "markdown",
   "id": "39a973d2",
   "metadata": {},
   "source": [
    "### `baseline_mean_errors(y)`: computes the SSE, MSE, and RMSE for the baseline model"
   ]
  },
  {
   "cell_type": "markdown",
   "id": "6d9178a2",
   "metadata": {},
   "source": [
    "### `better_than_baseline(y, yhat)`: returns true if your model performs better than the baseline, otherwise false`"
   ]
  },
  {
   "cell_type": "code",
   "execution_count": null,
   "id": "d2b7dc6d",
   "metadata": {},
   "outputs": [],
   "source": []
  },
  {
   "cell_type": "code",
   "execution_count": null,
   "id": "ba8af5ee",
   "metadata": {},
   "outputs": [],
   "source": []
  },
  {
   "cell_type": "code",
   "execution_count": null,
   "id": "4378694e",
   "metadata": {},
   "outputs": [],
   "source": []
  }
 ],
 "metadata": {
  "kernelspec": {
   "display_name": "Python 3 (ipykernel)",
   "language": "python",
   "name": "python3"
  },
  "language_info": {
   "codemirror_mode": {
    "name": "ipython",
    "version": 3
   },
   "file_extension": ".py",
   "mimetype": "text/x-python",
   "name": "python",
   "nbconvert_exporter": "python",
   "pygments_lexer": "ipython3",
   "version": "3.9.12"
  }
 },
 "nbformat": 4,
 "nbformat_minor": 5
}
